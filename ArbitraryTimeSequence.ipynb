{
  "nbformat": 4,
  "nbformat_minor": 0,
  "metadata": {
    "colab": {
      "name": "ArbitraryTimeSequence.ipynb",
      "version": "0.3.2",
      "provenance": [],
      "collapsed_sections": [
        "vS_YdSbqFOln",
        "9SJXe6I5JUwF",
        "6l4kvMZQb3z6",
        "r6GW2fwLE042"
      ],
      "toc_visible": true,
      "include_colab_link": true
    },
    "kernelspec": {
      "name": "python3",
      "display_name": "Python 3"
    },
    "accelerator": "GPU"
  },
  "cells": [
    {
      "cell_type": "markdown",
      "metadata": {
        "id": "view-in-github",
        "colab_type": "text"
      },
      "source": [
        "<a href=\"https://colab.research.google.com/github/van-dang/MRI-Cloud/blob/master/ArbitraryTimeSequence.ipynb\" target=\"_parent\"><img src=\"https://colab.research.google.com/assets/colab-badge.svg\" alt=\"Open In Colab\"/></a>"
      ]
    },
    {
      "cell_type": "markdown",
      "metadata": {
        "id": "vS_YdSbqFOln",
        "colab_type": "text"
      },
      "source": [
        "# About the code"
      ]
    },
    {
      "cell_type": "code",
      "metadata": {
        "id": "CiQ9r51xKgWh",
        "colab_type": "code",
        "colab": {}
      },
      "source": [
        "# This program solves the Bloch-Torrey equation applied to computational diffusion MRI using \n",
        "# the finite element method coupled with the theta-method for the spatial discretization.\n",
        "\n",
        "# The scope of usage: \n",
        "# (1) Single domains, Multilayered structures, manifolds\n",
        "# (2) Membrane permeability for internal interfaces\n",
        "#     Artificial permeability at the external interfaces\n",
        "# (3) pure homogeneous Neumann BCs, (4) pseudo-periodic BCs\n",
        "\n",
        "# Copyright (C) 2019 Van-Dang Nguyen (vdnguyen@kth.se)\n",
        "\n",
        "# This file is part of DOLFIN.\n",
        "\n",
        "# DOLFIN is free software: you can redistribute it and/or modify\n",
        "# it under the terms of the GNU Lesser General Public License as published by\n",
        "# the Free Software Foundation, either version 3 of the License, or\n",
        "# (at your option) any later version.\n",
        "\n",
        "# DOLFIN is distributed in the hope that it will be useful,\n",
        "# but WITHOUT ANY WARRANTY; without even the implied warranty of\n",
        "# MERCHANTABILITY or FITNESS FOR A PARTICULAR PURPOSE. See the\n",
        "# GNU Lesser General Public License for more details.\n",
        "\n",
        "# You should have received a copy of the GNU Lesser General Public License\n",
        "# along with DOLFIN. If not, see <http://www.gnu.org/licenses/>.\n",
        "\n",
        "# First added:  2017-10-10\n",
        "# Last changed: 2019-04-25\n",
        "\n",
        "# This demo is maintained by Van-Dang Nguyen\n",
        "# Please report possible problems to vdnguyen@kth.se"
      ],
      "execution_count": 0,
      "outputs": []
    },
    {
      "cell_type": "markdown",
      "metadata": {
        "id": "9SJXe6I5JUwF",
        "colab_type": "text"
      },
      "source": [
        "# Setting a working environment with FEniCS"
      ]
    },
    {
      "cell_type": "code",
      "metadata": {
        "id": "4jWzVxURFVLj",
        "colab_type": "code",
        "outputId": "309c5732-29cd-4dda-e7de-3b203cb7728b",
        "colab": {
          "base_uri": "https://localhost:8080/",
          "height": 63
        }
      },
      "source": [
        "from google.colab import files\n",
        "\n",
        "import platform, sys\n",
        "python_version=platform.python_version()\n",
        "from distutils.version import LooseVersion, StrictVersion\n",
        "\n",
        "if ( LooseVersion(python_version) < LooseVersion(\"3.0.0\")):\n",
        "    print(\"Python3 is needed!\");\n",
        "    print(\"How to fix: Runtime/Change_runtime_type/Python 3\");\n",
        "    sys.exit()\n",
        "    \n",
        "try:\n",
        "    from dolfin import *; from mshr import *\n",
        "except ImportError as e:\n",
        "    !apt-get install -y -qq software-properties-common python-software-properties module-init-tools\n",
        "    !add-apt-repository -y ppa:fenics-packages/fenics\n",
        "    !apt-get update -qq\n",
        "    !apt install -y --no-install-recommends fenics\n",
        "    from dolfin import *; from mshr import *\n",
        "\n",
        "gmsh_dir=!which gmsh\n",
        "if len(gmsh_dir)==0:\n",
        "  !apt-get install gmsh\n",
        "    \n",
        "import matplotlib.pyplot as plt;\n",
        "from IPython.display import clear_output, display; import time; import dolfin.common.plotting as fenicsplot \n",
        "import time\n",
        "\n",
        "import os, sys, shutil\n",
        "\n",
        "clear_output()\n",
        "\n",
        "dolfin_version = dolfin.__version__\n",
        "print ('dolfin version:', dolfin_version)\n",
        "\n",
        "!rm -rf * # clean up all files\n",
        "\n",
        "# Disable warnings\n",
        "import logging\n",
        "logging.basicConfig(level=logging.DEBUG)\n",
        "logger = logging.getLogger(\"rothemain.rothe_utils\")\n",
        "logging.getLogger('UFL').setLevel(logging.WARNING)\n",
        "logging.getLogger('FFC').setLevel(logging.WARNING)\n",
        "\n",
        "import warnings\n",
        "warnings.filterwarnings(\"ignore\")\n"
      ],
      "execution_count": 2,
      "outputs": [
        {
          "output_type": "stream",
          "text": [
            "dolfin version: 2019.1.0\n"
          ],
          "name": "stdout"
        }
      ]
    },
    {
      "cell_type": "markdown",
      "metadata": {
        "id": "6l4kvMZQb3z6",
        "colab_type": "text"
      },
      "source": [
        "#Load pre-defined functions"
      ]
    },
    {
      "cell_type": "code",
      "metadata": {
        "id": "x3L26nGPb7kZ",
        "colab_type": "code",
        "outputId": "5c159697-eabb-4dd5-cad2-fe206dbf668c",
        "colab": {
          "base_uri": "https://localhost:8080/",
          "height": 63
        }
      },
      "source": [
        "import sympy as sp  \n",
        "exists = os.path.isfile('DmriFemBuitInFunc.py')\n",
        "isupdate = False\n",
        "if (exists==False or isupdate==True):\n",
        "    if isupdate==True:\n",
        "        !rm DmriFemBuitInFunc.py\n",
        "    print(\"Load pre-defined functions from GitHub\")\n",
        "    !wget --quiet https://raw.githubusercontent.com/van-dang/MRI-Cloud/master/DmriFemBuitInFunc.py\n",
        "from DmriFemBuitInFunc import *\n",
        "\n",
        "def plot_time_profile(mri_para):\n",
        "    t_vals = [];\n",
        "    f_vals = [];\n",
        "\n",
        "    N = 500;\n",
        "    for i in range(N+1):\n",
        "        t = i*(mri_para.T/N)\n",
        "        t_vals.append(t)\n",
        "        fval = mri_para.fs_sym.subs(mri_para.s, t)\n",
        "        f_vals.append(fval);\n",
        "    plt.figure(50000);\n",
        "    plt.plot(t_vals, f_vals,'-')\n",
        "    plt.title(\"Time sequence\")"
      ],
      "execution_count": 3,
      "outputs": [
        {
          "output_type": "stream",
          "text": [
            "Load pre-defined functions from GitHub\n"
          ],
          "name": "stdout"
        }
      ]
    },
    {
      "cell_type": "markdown",
      "metadata": {
        "id": "r6GW2fwLE042",
        "colab_type": "text"
      },
      "source": [
        "# Working on the mesh"
      ]
    },
    {
      "cell_type": "code",
      "metadata": {
        "id": "ksCOgH6e6d8e",
        "colab_type": "code",
        "outputId": "66d3f449-ab33-4542-eb2f-aa6bee3a8d32",
        "colab": {
          "base_uri": "https://localhost:8080/",
          "height": 462
        }
      },
      "source": [
        "# domain = Circle(Point(0.,0.),5.0,60)\n",
        "# mymesh = generate_mesh(domain, 15, \"cgal\")\n",
        "mymesh = RectangleMesh(Point(-10,-10), Point(10,10), 20, 20, diagonal='right')\n",
        "gdim = mymesh.geometry().dim()\n",
        "tdim = mymesh.topology().dim()\n",
        "\n",
        "print('Topological dimension: ',tdim)\n",
        "print('Geometrical dimension: ',gdim)\n",
        "print('Mesh size: #vertices: '+str(mymesh.num_vertices()) +', #elements: '+str(mymesh.num_cells()) );\n",
        "plot(mymesh)"
      ],
      "execution_count": 4,
      "outputs": [
        {
          "output_type": "stream",
          "text": [
            "Topological dimension:  2\n",
            "Geometrical dimension:  2\n",
            "Mesh size: #vertices: 441, #elements: 800\n"
          ],
          "name": "stdout"
        },
        {
          "output_type": "execute_result",
          "data": {
            "text/plain": [
              "[<matplotlib.lines.Line2D at 0x7f0ec005fc50>,\n",
              " <matplotlib.lines.Line2D at 0x7f0ec005fe48>]"
            ]
          },
          "metadata": {
            "tags": []
          },
          "execution_count": 4
        },
        {
          "output_type": "stream",
          "text": [
            "DEBUG:matplotlib.axes._base:update_title_pos\n",
            "DEBUG:matplotlib.font_manager:findfont: Matching :family=sans-serif:style=normal:variant=normal:weight=normal:stretch=normal:size=10.0 to DejaVu Sans ('/usr/local/lib/python3.6/dist-packages/matplotlib/mpl-data/fonts/ttf/DejaVuSans.ttf') with score of 0.050000.\n",
            "DEBUG:matplotlib.axes._base:update_title_pos\n",
            "DEBUG:matplotlib.axes._base:update_title_pos\n",
            "DEBUG:matplotlib.axes._base:update_title_pos\n"
          ],
          "name": "stderr"
        },
        {
          "output_type": "display_data",
          "data": {
            "image/png": "[encoded data removed]",
            "text/plain": [
              "<Figure size 432x288 with 1 Axes>"
            ]
          },
          "metadata": {
            "tags": []
          }
        }
      ]
    },
    {
      "cell_type": "markdown",
      "metadata": {
        "id": "aFEvif9PF2yH",
        "colab_type": "text"
      },
      "source": [
        "# Solve the Bloch-Torrey equation"
      ]
    },
    {
      "cell_type": "code",
      "metadata": {
        "id": "DYZ5SWlw69tQ",
        "colab_type": "code",
        "outputId": "e6c6796f-0874-4fe8-80a1-6f4501c87940",
        "colab": {
          "base_uri": "https://localhost:8080/",
          "height": 1760
        }
      },
      "source": [
        "mri_simu = MRI_simulation()\n",
        "mri_para = MRI_parameters()\n",
        "\n",
        "#################################################################################\n",
        "#########################  Pre-defined parameters ###############################\n",
        "mri_para.bvalue = 1000;                              # bvalue (s/mm^2)\n",
        "mri_para.delta, mri_para.Delta = 10600, 43100        # time sequence (us)\n",
        "mri_para.set_gradient_dir(mymesh, 0, 1, 0)           # gradient direction\n",
        "\n",
        "'''\n",
        "mri_para.fs_sym = sp.Piecewise(\n",
        "                (  1., mri_para.s < mri_para.delta ),\n",
        "                (  0., mri_para.s < mri_para.Delta ),\n",
        "                ( -1., mri_para.s < mri_para.Delta + mri_para.delta ),\n",
        "                (  0., True )  \n",
        "            ) \n",
        "'''\n",
        "\n",
        "mri_para.T = mri_para.Delta+mri_para.delta\n",
        "\n",
        "mri_para.nperiod = 1\n",
        "omega = 2.0*mri_para.nperiod*pi/mri_para.delta                    \n",
        "mri_para.fs_sym = sp.Piecewise(\n",
        "    (  sp.cos(omega*mri_para.s) ,                     mri_para.s <= mri_para.delta ),\n",
        "    (  0.,                                            mri_para.s <= mri_para.Delta ),\n",
        "    (  -sp.cos(omega*(mri_para.s-2.*mri_para.delta)), mri_para.s <= mri_para.T ),\n",
        "    (  0., True )  \n",
        ")\n",
        "\n",
        "plot_time_profile(mri_para)\n",
        "\n",
        "mri_para.Apply()\n",
        "\n",
        "mri_simu.k = 1000;                                   # time-step size (us)\n",
        "mri_simu.nskip = 1;                                  # frequency to print ouputs\n",
        "mydomain = MyDomain(mymesh, mri_para)\n",
        "mydomain.phase = None\n",
        "mydomain.PeriodicDir = [0, 0, 0];             # Direction of the periodicity\n",
        "mydomain.IsDomainPeriodic = False             # Confirm if the mesh if periodic\n",
        "mydomain.IsDomainMultiple = False             # Confirm if the mesh is multiple\n",
        "mydomain.kappa = 1e-5                         # Permeability (m/s)\n",
        "################################################################################\n",
        "mydomain.Apply()   # Call Apply before setting the diffusion tensor\n",
        "################################################################################\n",
        "# Impose the diffusion coefficient (mm^2/s)\n",
        "mydomain.D0 = 3e-3            \n",
        "mydomain.D = mydomain.D0;\n",
        "#################################################################################\n",
        "\n",
        "mri_simu.solve(mydomain, mri_para, PETScLUSolver(\"mumps\"))\n",
        "\n",
        "Post_processing(mydomain, mri_para, mri_simu)\n",
        "# Post_processing(mydomain, mri_simu,'Extracellular Simulation')"
      ],
      "execution_count": 5,
      "outputs": [
        {
          "output_type": "stream",
          "text": [
            "Function Space for Single Domains has 2 components\n",
            "(ur, ui): r-real, i-imaginary\n",
            "Initialize a standard function space.\n",
            "t:   0.00  T: 53700.00 dt: 1000.0 gnorm: 1.688585e-04 Completed 0.00%\n",
            "t: 1000.00  T: 53700.00 dt: 1000.0 gnorm: 1.688585e-04 Completed 1.83%\n",
            "t: 2000.00  T: 53700.00 dt: 1000.0 gnorm: 1.688585e-04 Completed 3.66%\n",
            "t: 3000.00  T: 53700.00 dt: 1000.0 gnorm: 1.688585e-04 Completed 5.48%\n",
            "t: 4000.00  T: 53700.00 dt: 1000.0 gnorm: 1.688585e-04 Completed 7.31%\n",
            "t: 5000.00  T: 53700.00 dt: 1000.0 gnorm: 1.688585e-04 Completed 9.14%\n",
            "t: 6000.00  T: 53700.00 dt: 1000.0 gnorm: 1.688585e-04 Completed 10.97%\n",
            "t: 7000.00  T: 53700.00 dt: 1000.0 gnorm: 1.688585e-04 Completed 12.80%\n",
            "t: 8000.00  T: 53700.00 dt: 1000.0 gnorm: 1.688585e-04 Completed 14.63%\n",
            "t: 9000.00  T: 53700.00 dt: 1000.0 gnorm: 1.688585e-04 Completed 16.45%\n",
            "t: 10000.00  T: 53700.00 dt: 1000.0 gnorm: 1.688585e-04 Completed 18.28%\n",
            "t: 11000.00  T: 53700.00 dt: 1000.0 gnorm: 1.688585e-04 Completed 20.11%\n",
            "t: 12000.00  T: 53700.00 dt: 1000.0 gnorm: 1.688585e-04 Completed 21.94%\n",
            "t: 13000.00  T: 53700.00 dt: 1000.0 gnorm: 1.688585e-04 Completed 23.77%\n",
            "t: 14000.00  T: 53700.00 dt: 1000.0 gnorm: 1.688585e-04 Completed 25.59%\n",
            "t: 15000.00  T: 53700.00 dt: 1000.0 gnorm: 1.688585e-04 Completed 27.42%\n",
            "t: 16000.00  T: 53700.00 dt: 1000.0 gnorm: 1.688585e-04 Completed 29.25%\n",
            "t: 17000.00  T: 53700.00 dt: 1000.0 gnorm: 1.688585e-04 Completed 31.08%\n",
            "t: 18000.00  T: 53700.00 dt: 1000.0 gnorm: 1.688585e-04 Completed 32.91%\n",
            "t: 19000.00  T: 53700.00 dt: 1000.0 gnorm: 1.688585e-04 Completed 34.73%\n",
            "t: 20000.00  T: 53700.00 dt: 1000.0 gnorm: 1.688585e-04 Completed 36.56%\n",
            "t: 21000.00  T: 53700.00 dt: 1000.0 gnorm: 1.688585e-04 Completed 38.39%\n",
            "t: 22000.00  T: 53700.00 dt: 1000.0 gnorm: 1.688585e-04 Completed 40.22%\n",
            "t: 23000.00  T: 53700.00 dt: 1000.0 gnorm: 1.688585e-04 Completed 42.05%\n",
            "t: 24000.00  T: 53700.00 dt: 1000.0 gnorm: 1.688585e-04 Completed 43.88%\n",
            "t: 25000.00  T: 53700.00 dt: 1000.0 gnorm: 1.688585e-04 Completed 45.70%\n",
            "t: 26000.00  T: 53700.00 dt: 1000.0 gnorm: 1.688585e-04 Completed 47.53%\n",
            "t: 27000.00  T: 53700.00 dt: 1000.0 gnorm: 1.688585e-04 Completed 49.36%\n",
            "t: 28000.00  T: 53700.00 dt: 1000.0 gnorm: 1.688585e-04 Completed 51.19%\n",
            "t: 29000.00  T: 53700.00 dt: 1000.0 gnorm: 1.688585e-04 Completed 53.02%\n",
            "t: 30000.00  T: 53700.00 dt: 1000.0 gnorm: 1.688585e-04 Completed 54.84%\n",
            "t: 31000.00  T: 53700.00 dt: 1000.0 gnorm: 1.688585e-04 Completed 56.67%\n",
            "t: 32000.00  T: 53700.00 dt: 1000.0 gnorm: 1.688585e-04 Completed 58.50%\n",
            "t: 33000.00  T: 53700.00 dt: 1000.0 gnorm: 1.688585e-04 Completed 60.33%\n",
            "t: 34000.00  T: 53700.00 dt: 1000.0 gnorm: 1.688585e-04 Completed 62.16%\n",
            "t: 35000.00  T: 53700.00 dt: 1000.0 gnorm: 1.688585e-04 Completed 63.99%\n",
            "t: 36000.00  T: 53700.00 dt: 1000.0 gnorm: 1.688585e-04 Completed 65.81%\n",
            "t: 37000.00  T: 53700.00 dt: 1000.0 gnorm: 1.688585e-04 Completed 67.64%\n",
            "t: 38000.00  T: 53700.00 dt: 1000.0 gnorm: 1.688585e-04 Completed 69.47%\n",
            "t: 39000.00  T: 53700.00 dt: 1000.0 gnorm: 1.688585e-04 Completed 71.30%\n",
            "t: 40000.00  T: 53700.00 dt: 1000.0 gnorm: 1.688585e-04 Completed 73.13%\n",
            "t: 41000.00  T: 53700.00 dt: 1000.0 gnorm: 1.688585e-04 Completed 74.95%\n",
            "t: 42000.00  T: 53700.00 dt: 1000.0 gnorm: 1.688585e-04 Completed 76.78%\n",
            "t: 43000.00  T: 53700.00 dt: 1000.0 gnorm: 1.688585e-04 Completed 78.61%\n",
            "t: 44000.00  T: 53700.00 dt: 1000.0 gnorm: 1.688585e-04 Completed 80.44%\n",
            "t: 45000.00  T: 53700.00 dt: 1000.0 gnorm: 1.688585e-04 Completed 82.27%\n",
            "t: 46000.00  T: 53700.00 dt: 1000.0 gnorm: 1.688585e-04 Completed 84.10%\n",
            "t: 47000.00  T: 53700.00 dt: 1000.0 gnorm: 1.688585e-04 Completed 85.92%\n",
            "t: 48000.00  T: 53700.00 dt: 1000.0 gnorm: 1.688585e-04 Completed 87.75%\n",
            "t: 49000.00  T: 53700.00 dt: 1000.0 gnorm: 1.688585e-04 Completed 89.58%\n",
            "t: 50000.00  T: 53700.00 dt: 1000.0 gnorm: 1.688585e-04 Completed 91.41%\n",
            "t: 51000.00  T: 53700.00 dt: 1000.0 gnorm: 1.688585e-04 Completed 93.24%\n",
            "t: 52000.00  T: 53700.00 dt: 1000.0 gnorm: 1.688585e-04 Completed 95.06%\n",
            "t: 53000.00  T: 53700.00 dt: 1000.0 gnorm: 1.688585e-04 Completed 96.89%\n",
            "t: 54000.00  T: 53700.00 dt: 1000.0 gnorm: 1.688585e-04 Completed 98.72%\n",
            "Successfully Completed! Elapsed time: 37.583699 seconds\n"
          ],
          "name": "stdout"
        },
        {
          "output_type": "stream",
          "text": [
            "DEBUG:matplotlib.axes._base:update_title_pos\n",
            "DEBUG:matplotlib.font_manager:findfont: Matching :family=sans-serif:style=normal:variant=normal:weight=normal:stretch=normal:size=12.0 to DejaVu Sans ('/usr/local/lib/python3.6/dist-packages/matplotlib/mpl-data/fonts/ttf/DejaVuSans.ttf') with score of 0.050000.\n",
            "DEBUG:matplotlib.axes._base:update_title_pos\n",
            "DEBUG:matplotlib.axes._base:update_title_pos\n",
            "DEBUG:matplotlib.axes._base:update_title_pos\n"
          ],
          "name": "stderr"
        },
        {
          "output_type": "stream",
          "text": [
            "b: 1000.000, Signal: 4.191e+01, Normalized signal: 1.048e-01, dt: 1000.000, hmin: 1.414e+00, whole_vol: 400.000, vol_of_interest: 400.000, Free signal: 4.979e-02, elasped time 37.584 (s)\n",
            "\n",
            "save to log.txt\n"
          ],
          "name": "stdout"
        },
        {
          "output_type": "display_data",
          "data": {
            "image/png": "[encoded data removed]",
            "text/plain": [
              "<Figure size 432x288 with 1 Axes>"
            ]
          },
          "metadata": {
            "tags": []
          }
        },
        {
          "output_type": "stream",
          "text": [
            "DEBUG:matplotlib.axes._base:update_title_pos\n",
            "DEBUG:matplotlib.axes._base:update_title_pos\n",
            "DEBUG:matplotlib.axes._base:update_title_pos\n",
            "DEBUG:matplotlib.axes._base:update_title_pos\n"
          ],
          "name": "stderr"
        },
        {
          "output_type": "display_data",
          "data": {
            "image/png": "[encoded data removed]",
            "text/plain": [
              "<Figure size 432x288 with 1 Axes>"
            ]
          },
          "metadata": {
            "tags": []
          }
        }
      ]
    },
    {
      "cell_type": "code",
      "metadata": {
        "id": "M32vu9V40e_o",
        "colab_type": "code",
        "colab": {}
      },
      "source": [
        "plt.figure;\n"
      ],
      "execution_count": 0,
      "outputs": []
    }
  ]
}