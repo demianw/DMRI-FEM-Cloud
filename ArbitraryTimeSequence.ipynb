{
  "nbformat": 4,
  "nbformat_minor": 0,
  "metadata": {
    "colab": {
      "name": "ArbitraryTimeSequence.ipynb",
      "version": "0.3.2",
      "provenance": [],
      "collapsed_sections": [
        "vS_YdSbqFOln",
        "9SJXe6I5JUwF",
        "6l4kvMZQb3z6",
        "r6GW2fwLE042"
      ],
      "toc_visible": true,
      "include_colab_link": true
    },
    "kernelspec": {
      "name": "python3",
      "display_name": "Python 3"
    },
    "accelerator": "GPU"
  },
  "cells": [
    {
      "cell_type": "markdown",
      "metadata": {
        "id": "view-in-github",
        "colab_type": "text"
      },
      "source": [
        "<a href=\"https://colab.research.google.com/github/van-dang/MRI-Cloud/blob/master/ArbitraryTimeSequence.ipynb\" target=\"_parent\"><img src=\"https://colab.research.google.com/assets/colab-badge.svg\" alt=\"Open In Colab\"/></a>"
      ]
    },
    {
      "cell_type": "markdown",
      "metadata": {
        "id": "vS_YdSbqFOln",
        "colab_type": "text"
      },
      "source": [
        "# About the code"
      ]
    },
    {
      "cell_type": "code",
      "metadata": {
        "id": "CiQ9r51xKgWh",
        "colab_type": "code",
        "colab": {}
      },
      "source": [
        "# This program solves the Bloch-Torrey equation applied to computational diffusion MRI using \n",
        "# the finite element method coupled with the theta-method for the spatial discretization.\n",
        "\n",
        "# The scope of usage: \n",
        "# (1) Single domains, Multilayered structures, manifolds\n",
        "# (2) Membrane permeability for internal interfaces\n",
        "#     Artificial permeability at the external interfaces\n",
        "# (3) pure homogeneous Neumann BCs, (4) pseudo-periodic BCs\n",
        "\n",
        "# Copyright (C) 2019 Van-Dang Nguyen (vdnguyen@kth.se)\n",
        "\n",
        "# This file is part of DOLFIN.\n",
        "\n",
        "# DOLFIN is free software: you can redistribute it and/or modify\n",
        "# it under the terms of the GNU Lesser General Public License as published by\n",
        "# the Free Software Foundation, either version 3 of the License, or\n",
        "# (at your option) any later version.\n",
        "\n",
        "# DOLFIN is distributed in the hope that it will be useful,\n",
        "# but WITHOUT ANY WARRANTY; without even the implied warranty of\n",
        "# MERCHANTABILITY or FITNESS FOR A PARTICULAR PURPOSE. See the\n",
        "# GNU Lesser General Public License for more details.\n",
        "\n",
        "# You should have received a copy of the GNU Lesser General Public License\n",
        "# along with DOLFIN. If not, see <http://www.gnu.org/licenses/>.\n",
        "\n",
        "# First added:  2017-10-10\n",
        "# Last changed: 2019-04-25\n",
        "\n",
        "# This demo is maintained by Van-Dang Nguyen\n",
        "# Please report possible problems to vdnguyen@kth.se"
      ],
      "execution_count": 0,
      "outputs": []
    },
    {
      "cell_type": "markdown",
      "metadata": {
        "id": "9SJXe6I5JUwF",
        "colab_type": "text"
      },
      "source": [
        "# Setting a working environment with FEniCS"
      ]
    },
    {
      "cell_type": "code",
      "metadata": {
        "id": "4jWzVxURFVLj",
        "colab_type": "code",
        "outputId": "890f8c86-2627-4e53-e747-7d1ef434a60c",
        "colab": {
          "base_uri": "https://localhost:8080/",
          "height": 63
        }
      },
      "source": [
        "from google.colab import files\n",
        "\n",
        "import platform, sys\n",
        "python_version=platform.python_version()\n",
        "from distutils.version import LooseVersion, StrictVersion\n",
        "\n",
        "if ( LooseVersion(python_version) < LooseVersion(\"3.0.0\")):\n",
        "    print(\"Python3 is needed!\");\n",
        "    print(\"How to fix: Runtime/Change_runtime_type/Python 3\");\n",
        "    sys.exit()\n",
        "    \n",
        "try:\n",
        "    from dolfin import *; from mshr import *\n",
        "except ImportError as e:\n",
        "    !apt-get install -y -qq software-properties-common python-software-properties module-init-tools\n",
        "    !add-apt-repository -y ppa:fenics-packages/fenics\n",
        "    !apt-get update -qq\n",
        "    !apt install -y --no-install-recommends fenics\n",
        "    from dolfin import *; from mshr import *\n",
        "\n",
        "gmsh_dir=!which gmsh\n",
        "if len(gmsh_dir)==0:\n",
        "  !apt-get install gmsh\n",
        "    \n",
        "import matplotlib.pyplot as plt;\n",
        "from IPython.display import clear_output, display; import time; import dolfin.common.plotting as fenicsplot \n",
        "import time\n",
        "\n",
        "import os, sys, shutil\n",
        "\n",
        "clear_output()\n",
        "\n",
        "dolfin_version = dolfin.__version__\n",
        "print ('dolfin version:', dolfin_version)\n",
        "\n",
        "# Disable warnings\n",
        "import logging\n",
        "logging.basicConfig(level=logging.DEBUG)\n",
        "logger = logging.getLogger(\"rothemain.rothe_utils\")\n",
        "logging.getLogger('UFL').setLevel(logging.WARNING)\n",
        "logging.getLogger('FFC').setLevel(logging.WARNING)\n",
        "\n",
        "import warnings\n",
        "warnings.filterwarnings(\"ignore\")\n"
      ],
      "execution_count": 2,
      "outputs": [
        {
          "output_type": "stream",
          "text": [
            "dolfin version: 2019.1.0\n"
          ],
          "name": "stdout"
        }
      ]
    },
    {
      "cell_type": "markdown",
      "metadata": {
        "id": "6l4kvMZQb3z6",
        "colab_type": "text"
      },
      "source": [
        "#Load pre-defined functions"
      ]
    },
    {
      "cell_type": "code",
      "metadata": {
        "id": "x3L26nGPb7kZ",
        "colab_type": "code",
        "colab": {}
      },
      "source": [
        "import sympy as sp  \n",
        "exists = os.path.isfile('DmriFemBuitInFunc.py')\n",
        "isupdate = False\n",
        "if (exists==False or isupdate==True):\n",
        "    if isupdate==True:\n",
        "        !rm DmriFemBuitInFunc.py\n",
        "    print(\"Load pre-defined functions from GitHub\")\n",
        "    !wget --quiet https://raw.githubusercontent.com/van-dang/MRI-Cloud/master/DmriFemBuitInFunc.py\n",
        "from DmriFemBuitInFunc import *\n",
        "\n",
        "def plot_time_profile(mri_para):\n",
        "    t_vals = [];\n",
        "    f_vals = [];\n",
        "\n",
        "    N = 500;\n",
        "    for i in range(N+1):\n",
        "        t = i*(mri_para.T/N)\n",
        "        t_vals.append(t)\n",
        "        fval = mri_para.fs_sym.subs(mri_para.s, t)\n",
        "        f_vals.append(fval);\n",
        "    plt.figure(50000);\n",
        "    plt.plot(t_vals, f_vals,'-')\n",
        "    plt.title(\"Time sequence\")"
      ],
      "execution_count": 0,
      "outputs": []
    },
    {
      "cell_type": "markdown",
      "metadata": {
        "id": "r6GW2fwLE042",
        "colab_type": "text"
      },
      "source": [
        "# Working on the mesh"
      ]
    },
    {
      "cell_type": "code",
      "metadata": {
        "id": "ksCOgH6e6d8e",
        "colab_type": "code",
        "outputId": "e8db701a-bf93-4435-d365-cf86996a1566",
        "colab": {
          "base_uri": "https://localhost:8080/",
          "height": 405
        }
      },
      "source": [
        "domain = Circle(Point(0.,0.),5.0,60)\n",
        "mymesh = generate_mesh(domain, 20, \"cgal\")\n",
        "#mymesh = RectangleMesh(Point(-10,-10), Point(10,10), 20, 20, diagonal='right')\n",
        "gdim = mymesh.geometry().dim()\n",
        "tdim = mymesh.topology().dim()\n",
        "\n",
        "print('Topological dimension: ',tdim)\n",
        "print('Geometrical dimension: ',gdim)\n",
        "print('Mesh size: #vertices: '+str(mymesh.num_vertices()) +', #elements: '+str(mymesh.num_cells()) );\n",
        "plot(mymesh)"
      ],
      "execution_count": 35,
      "outputs": [
        {
          "output_type": "stream",
          "text": [
            "Topological dimension:  2\n",
            "Geometrical dimension:  2\n",
            "Mesh size: #vertices: 55, #elements: 88\n"
          ],
          "name": "stdout"
        },
        {
          "output_type": "execute_result",
          "data": {
            "text/plain": [
              "[<matplotlib.lines.Line2D at 0x7f52e3d786d8>,\n",
              " <matplotlib.lines.Line2D at 0x7f52e3d78828>]"
            ]
          },
          "metadata": {
            "tags": []
          },
          "execution_count": 35
        },
        {
          "output_type": "stream",
          "text": [
            "DEBUG:matplotlib.axes._base:update_title_pos\n",
            "DEBUG:matplotlib.axes._base:update_title_pos\n",
            "DEBUG:matplotlib.axes._base:update_title_pos\n",
            "DEBUG:matplotlib.axes._base:update_title_pos\n"
          ],
          "name": "stderr"
        },
        {
          "output_type": "display_data",
          "data": {
            "image/png": "[encoded data removed]",
            "text/plain": [
              "<Figure size 432x288 with 1 Axes>"
            ]
          },
          "metadata": {
            "tags": []
          }
        }
      ]
    },
    {
      "cell_type": "markdown",
      "metadata": {
        "id": "aFEvif9PF2yH",
        "colab_type": "text"
      },
      "source": [
        "# Solve the Bloch-Torrey equation"
      ]
    },
    {
      "cell_type": "code",
      "metadata": {
        "id": "DYZ5SWlw69tQ",
        "colab_type": "code",
        "outputId": "3a6959e5-9e8c-45a5-8e66-9439651dabaa",
        "colab": {
          "base_uri": "https://localhost:8080/",
          "height": 564
        }
      },
      "source": [
        "mri_simu = MRI_simulation()\n",
        "mri_para = MRI_parameters()\n",
        "\n",
        "#################################################################################\n",
        "#########################  Pre-defined parameters ###############################\n",
        "mri_para.bvalue = 4000;                              # bvalue (s/mm^2)\n",
        "mri_para.delta, mri_para.Delta = 10600, 43100        # time sequence (us)\n",
        "mri_para.set_gradient_dir(mymesh, 0, 1, 0)           # gradient direction\n",
        "\n",
        "profile = 3\n",
        "\n",
        "if profile==1:\n",
        "    # PGSE\n",
        "    mri_para.T = mri_para.Delta+mri_para.delta  \n",
        "    mri_para.fs_sym = sp.Piecewise(\n",
        "                    (  1., mri_para.s < mri_para.delta ),\n",
        "                    (  0., mri_para.s < mri_para.Delta ),\n",
        "                    ( -1., mri_para.s < mri_para.Delta + mri_para.delta ),\n",
        "                    (  0.,              True )  \n",
        "                ) \n",
        "if profile==2:\n",
        "    # cos-OGSE 1 period\n",
        "    mri_para.T = mri_para.Delta+mri_para.delta\n",
        "    mri_para.nperiod = 1\n",
        "    omega = 2.0*mri_para.nperiod*pi/mri_para.delta\n",
        "    tau = (mri_para.delta + mri_para.Delta)/2.\n",
        "    mri_para.fs_sym = sp.Piecewise(\n",
        "        (  sp.cos(omega*mri_para.s) ,       mri_para.s <= mri_para.delta ),\n",
        "        (  0.,                              mri_para.s <= tau ),\n",
        "        (  -sp.cos(omega*(mri_para.s-tau)), mri_para.s <= mri_para.delta + tau ),\n",
        "        (  0.,                              True )  \n",
        "    )\n",
        "\n",
        "if profile==3: \n",
        "    mri_para.T = mri_para.Delta+mri_para.delta  \n",
        "    tau = mri_para.delta/3. # rise time\n",
        "    mri_para.fs_sym = sp.Piecewise(\n",
        "                    (  mri_para.s/tau,                   mri_para.s < tau ),\n",
        "                    (  1.,                               mri_para.s < mri_para.delta -tau ),\n",
        "                    (  -(mri_para.s-mri_para.delta)/tau, mri_para.s < mri_para.delta ),\n",
        "                    (  0.,                               mri_para.s < mri_para.Delta ),\n",
        "                    (  -(mri_para.s-mri_para.Delta)/tau, mri_para.s < mri_para.Delta + tau),\n",
        "                    ( -1.,                               mri_para.s < mri_para.T - tau ),\n",
        "                    (  (mri_para.s-mri_para.T)/tau,      mri_para.s < mri_para.T),\n",
        "                    (  0.,                               True )  \n",
        "                )   \n",
        "  \n",
        "\n",
        "plot_time_profile(mri_para)\n",
        "\n",
        "stop\n",
        "\n",
        "mri_para.Apply()\n",
        "\n",
        "mri_simu.k = 10;                                   # time-step size (us)\n",
        "mri_simu.nskip = 50;                               # frequency to print ouputs\n",
        "mydomain = MyDomain(mymesh, mri_para)\n",
        "mydomain.phase = None\n",
        "mydomain.PeriodicDir = [0, 0, 0];             # Direction of the periodicity\n",
        "mydomain.IsDomainPeriodic = False             # Confirm if the mesh if periodic\n",
        "mydomain.IsDomainMultiple = False             # Confirm if the mesh is multiple\n",
        "mydomain.kappa = 1e-5                         # Permeability (m/s)\n",
        "################################################################################\n",
        "mydomain.Apply()   # Call Apply before setting the diffusion tensor\n",
        "################################################################################\n",
        "# Impose the diffusion coefficient (mm^2/s)\n",
        "mydomain.D0 = 3e-3            \n",
        "mydomain.D = mydomain.D0;\n",
        "#################################################################################\n",
        "\n",
        "linsolver = PETScLUSolver(\"mumps\")\n",
        "mri_simu.solve(mydomain, mri_para, linsolver)\n",
        "\n",
        "# ctext = 'Disk R=5um, Delta=43.1ms, delta=10.6ms, D=3e-3 mm^2/s, OGSE n=1'\n",
        "ctext=''\n",
        "Post_processing(mydomain, mri_para, mri_simu, ctext)\n",
        "# Post_processing(mydomain, mri_simu,'Extracellular Simulation')"
      ],
      "execution_count": 41,
      "outputs": [
        {
          "output_type": "error",
          "ename": "NameError",
          "evalue": "ignored",
          "traceback": [
            "\u001b[0;31m---------------------------------------------------------------------------\u001b[0m",
            "\u001b[0;31mNameError\u001b[0m                                 Traceback (most recent call last)",
            "\u001b[0;32m<ipython-input-41-3f844c1c90ad>\u001b[0m in \u001b[0;36m<module>\u001b[0;34m()\u001b[0m\n\u001b[1;32m     49\u001b[0m \u001b[0mplot_time_profile\u001b[0m\u001b[0;34m(\u001b[0m\u001b[0mmri_para\u001b[0m\u001b[0;34m)\u001b[0m\u001b[0;34m\u001b[0m\u001b[0;34m\u001b[0m\u001b[0m\n\u001b[1;32m     50\u001b[0m \u001b[0;34m\u001b[0m\u001b[0m\n\u001b[0;32m---> 51\u001b[0;31m \u001b[0mstop\u001b[0m\u001b[0;34m\u001b[0m\u001b[0;34m\u001b[0m\u001b[0m\n\u001b[0m\u001b[1;32m     52\u001b[0m \u001b[0;34m\u001b[0m\u001b[0m\n\u001b[1;32m     53\u001b[0m \u001b[0mmri_para\u001b[0m\u001b[0;34m.\u001b[0m\u001b[0mApply\u001b[0m\u001b[0;34m(\u001b[0m\u001b[0;34m)\u001b[0m\u001b[0;34m\u001b[0m\u001b[0;34m\u001b[0m\u001b[0m\n",
            "\u001b[0;31mNameError\u001b[0m: name 'stop' is not defined"
          ]
        },
        {
          "output_type": "stream",
          "text": [
            "DEBUG:matplotlib.axes._base:update_title_pos\n",
            "DEBUG:matplotlib.axes._base:update_title_pos\n",
            "DEBUG:matplotlib.axes._base:update_title_pos\n",
            "DEBUG:matplotlib.axes._base:update_title_pos\n"
          ],
          "name": "stderr"
        },
        {
          "output_type": "display_data",
          "data": {
            "image/png": "[encoded data removed]",
            "text/plain": [
              "<Figure size 432x288 with 1 Axes>"
            ]
          },
          "metadata": {
            "tags": []
          }
        }
      ]
    }
  ]
}