{
  "nbformat": 4,
  "nbformat_minor": 0,
  "metadata": {
    "colab": {
      "name": "ArbitraryTimeSequence.ipynb",
      "version": "0.3.2",
      "provenance": [],
      "collapsed_sections": [
        "vS_YdSbqFOln",
        "9SJXe6I5JUwF",
        "6l4kvMZQb3z6",
        "r6GW2fwLE042"
      ],
      "toc_visible": true,
      "include_colab_link": true
    },
    "kernelspec": {
      "name": "python3",
      "display_name": "Python 3"
    },
    "accelerator": "GPU"
  },
  "cells": [
    {
      "cell_type": "markdown",
      "metadata": {
        "id": "view-in-github",
        "colab_type": "text"
      },
      "source": [
        "<a href=\"https://colab.research.google.com/github/van-dang/MRI-Cloud/blob/master/ArbitraryTimeSequence.ipynb\" target=\"_parent\"><img src=\"https://colab.research.google.com/assets/colab-badge.svg\" alt=\"Open In Colab\"/></a>"
      ]
    },
    {
      "metadata": {
        "id": "vS_YdSbqFOln",
        "colab_type": "text"
      },
      "cell_type": "markdown",
      "source": [
        "# About the code"
      ]
    },
    {
      "metadata": {
        "id": "CiQ9r51xKgWh",
        "colab_type": "code",
        "colab": {}
      },
      "cell_type": "code",
      "source": [
        "# This program solves the Bloch-Torrey equation applied to computational diffusion MRI using \n",
        "# the finite element method coupled with the theta-method for the spatial discretization.\n",
        "\n",
        "# The scope of usage: \n",
        "# (1) Single domains, Multilayered structures, manifolds\n",
        "# (2) Membrane permeability for internal interfaces\n",
        "#     Artificial permeability at the external interfaces\n",
        "# (3) pure homogeneous Neumann BCs, (4) pseudo-periodic BCs\n",
        "\n",
        "# Copyright (C) 2019 Van-Dang Nguyen (vdnguyen@kth.se)\n",
        "\n",
        "# This file is part of DOLFIN.\n",
        "\n",
        "# DOLFIN is free software: you can redistribute it and/or modify\n",
        "# it under the terms of the GNU Lesser General Public License as published by\n",
        "# the Free Software Foundation, either version 3 of the License, or\n",
        "# (at your option) any later version.\n",
        "\n",
        "# DOLFIN is distributed in the hope that it will be useful,\n",
        "# but WITHOUT ANY WARRANTY; without even the implied warranty of\n",
        "# MERCHANTABILITY or FITNESS FOR A PARTICULAR PURPOSE. See the\n",
        "# GNU Lesser General Public License for more details.\n",
        "\n",
        "# You should have received a copy of the GNU Lesser General Public License\n",
        "# along with DOLFIN. If not, see <http://www.gnu.org/licenses/>.\n",
        "\n",
        "# First added:  2017-10-10\n",
        "# Last changed: 2019-04-25\n",
        "\n",
        "# This demo is maintained by Van-Dang Nguyen\n",
        "# Please report possible problems to vdnguyen@kth.se"
      ],
      "execution_count": 0,
      "outputs": []
    },
    {
      "metadata": {
        "id": "9SJXe6I5JUwF",
        "colab_type": "text"
      },
      "cell_type": "markdown",
      "source": [
        "# Setting a working environment with FEniCS"
      ]
    },
    {
      "metadata": {
        "id": "4jWzVxURFVLj",
        "colab_type": "code",
        "outputId": "d19e08b4-b65b-4dfb-ee16-9fe6c5430a1e",
        "colab": {
          "base_uri": "https://localhost:8080/",
          "height": 54
        }
      },
      "cell_type": "code",
      "source": [
        "from google.colab import files\n",
        "\n",
        "import platform, sys\n",
        "python_version=platform.python_version()\n",
        "from distutils.version import LooseVersion, StrictVersion\n",
        "\n",
        "if ( LooseVersion(python_version) < LooseVersion(\"3.0.0\")):\n",
        "    print(\"Python3 is needed!\");\n",
        "    print(\"How to fix: Runtime/Change_runtime_type/Python 3\");\n",
        "    sys.exit()\n",
        "    \n",
        "try:\n",
        "    from dolfin import *; from mshr import *\n",
        "except ImportError as e:\n",
        "    !apt-get install -y -qq software-properties-common python-software-properties module-init-tools\n",
        "    !add-apt-repository -y ppa:fenics-packages/fenics\n",
        "    !apt-get update -qq\n",
        "    !apt install -y --no-install-recommends fenics\n",
        "    from dolfin import *; from mshr import *\n",
        "\n",
        "gmsh_dir=!which gmsh\n",
        "if len(gmsh_dir)==0:\n",
        "  !apt-get install gmsh\n",
        "    \n",
        "import matplotlib.pyplot as plt;\n",
        "from IPython.display import clear_output, display; import time; import dolfin.common.plotting as fenicsplot \n",
        "import time\n",
        "\n",
        "import os, sys, shutil\n",
        "import sympy as sp\n",
        "\n",
        "clear_output()\n",
        "\n",
        "dolfin_version = dolfin.__version__\n",
        "print ('dolfin version:', dolfin_version)\n",
        "\n",
        "!rm -rf * # clean up all files\n",
        "\n",
        "# Disable warnings\n",
        "import logging\n",
        "logging.basicConfig(level=logging.DEBUG)\n",
        "logger = logging.getLogger(\"rothemain.rothe_utils\")\n",
        "logging.getLogger('UFL').setLevel(logging.WARNING)\n",
        "logging.getLogger('FFC').setLevel(logging.WARNING)\n",
        "\n",
        "import warnings\n",
        "warnings.filterwarnings(\"ignore\")\n"
      ],
      "execution_count": 26,
      "outputs": [
        {
          "output_type": "stream",
          "text": [
            "dolfin version: 2019.1.0\n"
          ],
          "name": "stdout"
        }
      ]
    },
    {
      "metadata": {
        "id": "6l4kvMZQb3z6",
        "colab_type": "text"
      },
      "cell_type": "markdown",
      "source": [
        "#Load pre-defined functions"
      ]
    },
    {
      "metadata": {
        "id": "x3L26nGPb7kZ",
        "colab_type": "code",
        "outputId": "e3d39d20-e670-424c-c4ee-7beba0438ddd",
        "colab": {
          "base_uri": "https://localhost:8080/",
          "height": 63
        }
      },
      "cell_type": "code",
      "source": [
        "exists = os.path.isfile('DmriFemBuitInFunc.py')\n",
        "isupdate = False\n",
        "if (exists==False or isupdate==True):\n",
        "    if isupdate==True:\n",
        "        !rm DmriFemBuitInFunc.py\n",
        "    print(\"Load pre-defined functions from GitHub\")\n",
        "    !wget --quiet https://raw.githubusercontent.com/van-dang/MRI-Cloud/master/DmriFemBuitInFunc.py\n",
        "\n",
        "from DmriFemBuitInFunc import *\n",
        "\n",
        "class MRI_parameters():\n",
        "    def __init__(self):\n",
        "        # Initialize default parameters\n",
        "        self.bvalue = None\n",
        "        self.qvalue = None        \n",
        "        self.gdir = [1, 0, 0];\n",
        "        self.nperiod = 0; # number of period for OGSE sequences\n",
        "        self.T2 = 1e16    # T2 relaxation time        \n",
        "    def set_gradient_dir(self, mymesh, g0, g1, g2):\n",
        "        gdim = mymesh.geometry().dim()\n",
        "        if gdim==2:\n",
        "            self.gdir = Point(g0, g1)\n",
        "            self.gdir /= self.gdir.norm()\n",
        "            self.g = Expression((\"g0\",\"g1\"), g0=self.gdir.x(), g1=self.gdir.y(),domain=mymesh, degree=1);\n",
        "        if gdim==3:\n",
        "            self.gdir = Point(g0, g1, g2)\n",
        "            self.gdir /= self.gdir.norm()        \n",
        "            self.g = Expression((\"g0\",\"g1\",\"g2\"), g0=self.gdir.x(), g1=self.gdir.y(), g2=self.gdir.z(),domain=mymesh, degree=1);\n",
        "            \n",
        "    def time_profile_sym(self):\n",
        "        self.T = self.Delta+self.delta;\n",
        "        # Return symbolic f(s)\n",
        "        s = sp.Symbol('s')\n",
        "        seq_choice = 4\n",
        "        \n",
        "        if seq_choice == 1:\n",
        "            # PGSE\n",
        "            self.fs_sym = sp.Piecewise(\n",
        "                (  1., s < self.delta ),\n",
        "                (  0., s < self.Delta ),\n",
        "                ( -1., s < self.Delta + self.delta ),\n",
        "                (  0., True )  \n",
        "            ) \n",
        "        if seq_choice == 2:    \n",
        "            # cos-OGSE\n",
        "            if self.nperiod == 0:\n",
        "                print('Number of periods should be larger than 0 for this OGSE sequence!');\n",
        "                sys.exit() \n",
        "            omega = 2.0*self.nperiod*pi/self.delta                    \n",
        "            self.fs_sym = sp.Piecewise(\n",
        "                (  sp.cos(omega*s) , s < self.delta ),\n",
        "                (  0., s < self.Delta ),\n",
        "                (  -sp.cos(omega*(s-2.*self.delta)), s < self.Delta + self.delta ),\n",
        "                (  0., True )  \n",
        "            )\n",
        "        if seq_choice == 3:    \n",
        "            # sin-OGSE\n",
        "            if self.nperiod == 0:\n",
        "                print('Number of periods should be larger than 0 for this OGSE sequence!');\n",
        "                sys.exit() \n",
        "            omega = 2.0*self.nperiod*pi/self.delta    \n",
        "            self.fs_sym = sp.Piecewise(\n",
        "                (  sp.sin(omega*s) , s < self.delta ),\n",
        "                (  0., s < self.Delta ),\n",
        "                (  -sp.sin(omega*(s-2.*self.delta)/self.delta), s < self.Delta + self.delta ),\n",
        "                (  0., True )  \n",
        "            )   \n",
        "        if seq_choice == 4: \n",
        "            # Double PGSE\n",
        "            self.T = self.Delta+self.delta;          \n",
        "            self.fs_sym = sp.Piecewise(\n",
        "                (  1., s < self.delta ),\n",
        "                (  0., s < self.Delta ),\n",
        "                ( -1., s < self.Delta + self.delta ),\n",
        "                ( -1., s < self.Delta + 2*self.delta ),\n",
        "                (  0., s < 2*self.Delta + self.delta),\n",
        "                (  1., s < 2*self.Delta + 2*self.delta),\n",
        "                (  0., True )  \n",
        "            ) \n",
        "\n",
        "    def integral_term_for_gb(self):\n",
        "        u = sp.Symbol('u') \n",
        "        s = sp.Symbol('s')         \n",
        "        int_fs_u_T = sp.integrate(self.fs_sym, (s, u, self.T))\n",
        "        self.int4gb = float(sp.integrate(int_fs_u_T*int_fs_u_T, (u, 0, self.T)))\n",
        "\n",
        "    def itime_profile_sym(self):\n",
        "        # Return symbolic int_0^s f(u) du, change variable to ift(s)\n",
        "        s = sp.Symbol('s')\n",
        "        u = sp.Symbol('u')\n",
        "        self.ifs_sym = sp.integrate(self.fs_sym.subs(s, u), (u, 0, s))\n",
        "        \n",
        "    def time_profile(self, t):\n",
        "        s = sp.Symbol('s')       \n",
        "        return (float(self.fs_sym.subs(s,t)))\n",
        "      \n",
        "    def itime_profile(self, t): \n",
        "        s = sp.Symbol('s')       \n",
        "        return (float(self.ifs_sym.subs(s, t)))\n",
        "\n",
        "    def convert_b2g(self):\n",
        "        self.gnorm = 0;\n",
        "        self.gnorm = sqrt(self.bvalue)/sqrt(self.int4gb);\n",
        "        return self.gnorm\n",
        "    def convert_g2b(self):\n",
        "        self.bvalue = self.gnorm*self.gnorm*self.int4gb;\n",
        "        return self.bvalue\n",
        "      \n",
        "    def Apply(self):\n",
        "        self.time_profile_sym();        \n",
        "        self.itime_profile_sym(); \n",
        "        self.integral_term_for_gb();\n",
        "        if not(self.bvalue==None):\n",
        "            self.gnorm = self.convert_b2g();\n",
        "            self.qvalue = convert_g2q(self.gnorm);\n",
        "        elif not(self.qvalue==None):\n",
        "            self.gnorm = convert_q2g(self.qvalue);\n",
        "            self.bvalue = self.convert_g2b();\n",
        "        elif (self.bvalue==None and self.bvalue==None):\n",
        "            print(\"bvalue or qvalue need to be specified.\")\n",
        "            sys.exit()      \n",
        "          \n",
        "class MRI_simulation():\n",
        "    def __init__(self):\n",
        "          self.nskip = 5;    # Output frequency (for visualization only)\n",
        "          self.theta = 0.5;  # theta=0.5: midpoint method\n",
        "\n",
        "    def InitialCondition(self, mydomain):\n",
        "          if mydomain.gdim==2:\n",
        "              Dirac_Delta = Expression(\"x[0]*x[0]+x[1]*x[1]<eps\",eps=1e6, domain=mydomain.mymesh, degree=1);\n",
        "          if mydomain.gdim==3:\n",
        "              Dirac_Delta = Expression(\"x[0]*x[0]+x[1]*x[1]+x[2]*x[2]<eps\",eps=1e6, domain=mydomain.mymesh, degree=1);\n",
        "          Dirac_Delta = interpolate(Dirac_Delta, mydomain.V);\n",
        "          u_0 = Function(mydomain.W);\n",
        "          assign(u_0.sub(0), Dirac_Delta)\n",
        "          if (mydomain.IsDomainMultiple==True):\n",
        "              assign(u_0.sub(2), Dirac_Delta)  \n",
        "          return Dirac_Delta, u_0\n",
        "        \n",
        "    def solve(self, mydomain, mri_para, linsolver): \n",
        "      \n",
        "          self.Dirac_Delta, self.u_0 = self.InitialCondition(mydomain)\n",
        "          \n",
        "          stepcounter = 0;\n",
        "\n",
        "          M = MassMatrix(mydomain);\n",
        "\n",
        "          self.t = 0;\n",
        "          ft_prev  =  mri_para.time_profile(self.t);\n",
        "          ift_prev = mri_para.itime_profile(self.t);\n",
        "\n",
        "          start_time = time.time()\n",
        "          \n",
        "          while self.t < mri_para.T + self.k: # Time-stepping loop\n",
        "              if stepcounter % self.nskip == 0:\n",
        "                  print('t: %6.2f '%self.t, 'T: %6.2f'%mri_para.T, 'dt: %.1f'%self.k,'gnorm: %e'%mri_para.gnorm,'Completed %3.2f%%'%(float(self.t)/float(mri_para.T+mri_simu.k)*100.0));\n",
        "\n",
        "              ft = mri_para.time_profile(self.t);\n",
        "              ift = mri_para.itime_profile(self.t);\n",
        "                            \n",
        "              L = ThetaMethodL(ft_prev, ift_prev, mri_para, self, mydomain);\n",
        "              A = 1/self.k*M + assemble(ThetaMethodF(ft, ift, mri_para, self, mydomain))\n",
        "\n",
        "              b = assemble(L);\n",
        "              \n",
        "              linsolver.solve(A, self.u_0.vector(),b);\n",
        "\n",
        "              ft_prev  = ft;\n",
        "              ift_prev = ift;\n",
        "\n",
        "              self.t += self.k;\n",
        "              stepcounter += 1;\n",
        "\n",
        "          self.elapsed_time = time.time() - start_time\n",
        "          print(\"Successfully Completed! Elapsed time: %f seconds\"%self.elapsed_time)\n",
        "          \n",
        "def Post_processing(mydomain, mri_sim, ms=''):\n",
        "    one = Function(mydomain.V)\n",
        "    one.vector()[:] = 1\n",
        "    whole_vol = assemble(one*dx)\n",
        "    voi = assemble(mri_simu.Dirac_Delta*dx)\n",
        "    if mydomain.IsDomainMultiple == True:\n",
        "        u0r_0, u0i_0, u1r_0, u1i_0 = split(mri_simu.u_0)\n",
        "        signal0 = assemble(((1-mydomain.phase)*u0r_0)*dx)/assemble((1-mydomain.phase)*mri_simu.Dirac_Delta*dx);\n",
        "        signal1 = assemble((mydomain.phase*u1r_0)*dx)/assemble(mydomain.phase*mri_simu.Dirac_Delta*dx);\n",
        "        signal = assemble((mydomain.phase*u1r_0+(1-mydomain.phase)*u0r_0)*dx);\n",
        "        print('Signal on each compartment')\n",
        "        print('Signal0: %.3e'%signal0)\n",
        "        print('Signal1: %.3e'%signal1)\n",
        "        out_text = 'b: %.3f, Signal: %.3e, Normalized signal: %.3e, kappa: %.3e, dt: %.3f, hmin: %.3f, whole_vol: %.3f, vol_of_interest: %.3f, Free signal: %.3e, elasped time %.3f (s)\\n'%(mri_para.bvalue, signal, signal/voi, mydomain.kappa, mri_simu.k, mydomain.hmin, whole_vol, voi, exp(-mri_para.bvalue*D0), mri_sim.elapsed_time)\n",
        "        V0 = FunctionSpace(mesh0, mydomain.Ve);\n",
        "        V1 = FunctionSpace(mesh1, mydomain.Ve);\n",
        "        u0r_0p = project(u0r_0,V0)\n",
        "        u1r_0p = project(u1r_0,V1)\n",
        "        plot(u0r_0p, cmap=\"coolwarm\")\n",
        "        plot(u1r_0p, cmap=\"coolwarm\")  \n",
        "        File(\"u0r.pvd\")<<u0r_0p\n",
        "        File(\"u1r.pvd\")<<u1r_0p\n",
        "    else:\n",
        "        ur, ui = split(mri_simu.u_0)\n",
        "        signal = assemble(ur*dx);\n",
        "        out_text = 'b: %.3f, Signal: %.3e, Normalized signal: %.3e, dt: %.3f, hmin: %.3e, whole_vol: %.3f, vol_of_interest: %.3f, Free signal: %.3e, elasped time %.3f (s)\\n'%(mri_para.bvalue, signal, signal/voi, mri_simu.k, mydomain.hmin, whole_vol, voi, exp(-mri_para.bvalue*D0), mri_sim.elapsed_time)\n",
        "        V = FunctionSpace(mymesh,mydomain.Ve);\n",
        "        ur_p = project(ur,V)\n",
        "        plot(ur_p, cmap=\"coolwarm\")\n",
        "        File(\"ur.pvd\")<<ur_p\n",
        "\n",
        "    print(out_text)\n",
        "    print(\"save to log.txt\")\n",
        "    outfile = open('log.txt', 'a')\n",
        "    if not(ms == ''):\n",
        "        outfile.write('%'+ms+'\\n')\n",
        "    outfile.write(out_text)\n",
        "    outfile.close()  "
      ],
      "execution_count": 27,
      "outputs": [
        {
          "output_type": "stream",
          "text": [
            "Load pre-defined functions from GitHub\n"
          ],
          "name": "stdout"
        }
      ]
    },
    {
      "metadata": {
        "id": "r6GW2fwLE042",
        "colab_type": "text"
      },
      "cell_type": "markdown",
      "source": [
        "# Working on the mesh"
      ]
    },
    {
      "metadata": {
        "id": "ksCOgH6e6d8e",
        "colab_type": "code",
        "outputId": "fdc8c9fd-ff88-4545-9230-d4b1f5a9e9b3",
        "colab": {
          "base_uri": "https://localhost:8080/",
          "height": 425
        }
      },
      "cell_type": "code",
      "source": [
        "# domain = Circle(Point(0.,0.),5.0,60)\n",
        "# mymesh = generate_mesh(domain, 15, \"cgal\")\n",
        "mymesh = UnitSquareMesh(15, 15)\n",
        "gdim = mymesh.geometry().dim()\n",
        "tdim = mymesh.topology().dim()\n",
        "\n",
        "print('Topological dimension: ',tdim)\n",
        "print('Geometrical dimension: ',gdim)\n",
        "print('Mesh size: #vertices: '+str(mymesh.num_vertices()) +', #elements: '+str(mymesh.num_cells()) );\n",
        "plot(mymesh)"
      ],
      "execution_count": 28,
      "outputs": [
        {
          "output_type": "stream",
          "text": [
            "Topological dimension:  2\n",
            "Geometrical dimension:  2\n",
            "Mesh size: #vertices: 256, #elements: 450\n"
          ],
          "name": "stdout"
        },
        {
          "output_type": "execute_result",
          "data": {
            "text/plain": [
              "[<matplotlib.lines.Line2D at 0x7f015b660e10>,\n",
              " <matplotlib.lines.Line2D at 0x7f015b660f60>]"
            ]
          },
          "metadata": {
            "tags": []
          },
          "execution_count": 28
        },
        {
          "output_type": "stream",
          "text": [
            "DEBUG:matplotlib.axes._base:update_title_pos\n",
            "DEBUG:matplotlib.axes._base:update_title_pos\n",
            "DEBUG:matplotlib.axes._base:update_title_pos\n",
            "DEBUG:matplotlib.axes._base:update_title_pos\n"
          ],
          "name": "stderr"
        },
        {
          "output_type": "display_data",
          "data": {
            "image/png": "[encoded data removed]",
            "text/plain": [
              "<Figure size 432x288 with 1 Axes>"
            ]
          },
          "metadata": {
            "tags": []
          }
        }
      ]
    },
    {
      "metadata": {
        "id": "aFEvif9PF2yH",
        "colab_type": "text"
      },
      "cell_type": "markdown",
      "source": [
        "# Solve the Bloch-Torrey equation"
      ]
    },
    {
      "metadata": {
        "id": "DYZ5SWlw69tQ",
        "colab_type": "code",
        "outputId": "7714c3ae-aec9-4418-b5fa-5eff54656cb6",
        "colab": {
          "base_uri": "https://localhost:8080/",
          "height": 1445
        }
      },
      "cell_type": "code",
      "source": [
        "mri_simu = MRI_simulation()\n",
        "mri_para = MRI_parameters()\n",
        "\n",
        "#################################################################################\n",
        "#########################  Pre-defined parameters ###############################\n",
        "mri_para.bvalue = 1000;                              # bvalue\n",
        "mri_para.delta, mri_para.Delta = 10600, 43100        # time sequence\n",
        "mri_para.nperiod = 1\n",
        "mri_para.set_gradient_dir(mymesh, 0, 1, 0)           # gradient direction\n",
        "mri_para.Apply()\n",
        "mri_simu.k = 1000;                                    # time-step size\n",
        "mri_simu.nskip = 1;                                  # frequency to print ouputs\n",
        "mydomain = MyDomain(mymesh, mri_para)\n",
        "mydomain.phase = None\n",
        "mydomain.PeriodicDir = [0, 1, 0];             # Direction of the periodicity\n",
        "mydomain.IsDomainPeriodic = True             # Confirm if the mesh if periodic\n",
        "mydomain.IsDomainMultiple = False             # Confirm if the mesh is multiple\n",
        "mydomain.kappa = 1e-5                         # Permeability\n",
        "################################################################################\n",
        "mydomain.Apply()   # Call Apply before setting the diffusion tensor\n",
        "################################################################################\n",
        "# Impose the diffusion coefficient\n",
        "D0 = 3e-3\n",
        "mydomain.D = D0;\n",
        "#################################################################################\n",
        "\n",
        "mri_simu.solve(mydomain, mri_para, PETScLUSolver(\"mumps\"))\n",
        "\n",
        "Post_processing(mydomain, mri_simu)\n",
        "# Post_processing(mydomain, mri_simu,'Extracellular Simulation')"
      ],
      "execution_count": 29,
      "outputs": [
        {
          "output_type": "stream",
          "text": [
            "Function Space for Single Domains has 2 components\n",
            "(ur, ui): r-real, i-imaginary\n",
            "Initialize peridodic function spaces.\n",
            "The pseudo-periodic BCS are strongly imposed.\n",
            "The mesh needs to be periodic.\n",
            "t:   0.00  T: 53700.00 dt: 1000.0 gnorm: 1.499786e-05 Completed 0.00%\n",
            "t: 1000.00  T: 53700.00 dt: 1000.0 gnorm: 1.499786e-05 Completed 1.83%\n",
            "t: 2000.00  T: 53700.00 dt: 1000.0 gnorm: 1.499786e-05 Completed 3.66%\n",
            "t: 3000.00  T: 53700.00 dt: 1000.0 gnorm: 1.499786e-05 Completed 5.48%\n",
            "t: 4000.00  T: 53700.00 dt: 1000.0 gnorm: 1.499786e-05 Completed 7.31%\n",
            "t: 5000.00  T: 53700.00 dt: 1000.0 gnorm: 1.499786e-05 Completed 9.14%\n",
            "t: 6000.00  T: 53700.00 dt: 1000.0 gnorm: 1.499786e-05 Completed 10.97%\n",
            "t: 7000.00  T: 53700.00 dt: 1000.0 gnorm: 1.499786e-05 Completed 12.80%\n",
            "t: 8000.00  T: 53700.00 dt: 1000.0 gnorm: 1.499786e-05 Completed 14.63%\n",
            "t: 9000.00  T: 53700.00 dt: 1000.0 gnorm: 1.499786e-05 Completed 16.45%\n",
            "t: 10000.00  T: 53700.00 dt: 1000.0 gnorm: 1.499786e-05 Completed 18.28%\n",
            "t: 11000.00  T: 53700.00 dt: 1000.0 gnorm: 1.499786e-05 Completed 20.11%\n",
            "t: 12000.00  T: 53700.00 dt: 1000.0 gnorm: 1.499786e-05 Completed 21.94%\n",
            "t: 13000.00  T: 53700.00 dt: 1000.0 gnorm: 1.499786e-05 Completed 23.77%\n",
            "t: 14000.00  T: 53700.00 dt: 1000.0 gnorm: 1.499786e-05 Completed 25.59%\n",
            "t: 15000.00  T: 53700.00 dt: 1000.0 gnorm: 1.499786e-05 Completed 27.42%\n",
            "t: 16000.00  T: 53700.00 dt: 1000.0 gnorm: 1.499786e-05 Completed 29.25%\n",
            "t: 17000.00  T: 53700.00 dt: 1000.0 gnorm: 1.499786e-05 Completed 31.08%\n",
            "t: 18000.00  T: 53700.00 dt: 1000.0 gnorm: 1.499786e-05 Completed 32.91%\n",
            "t: 19000.00  T: 53700.00 dt: 1000.0 gnorm: 1.499786e-05 Completed 34.73%\n",
            "t: 20000.00  T: 53700.00 dt: 1000.0 gnorm: 1.499786e-05 Completed 36.56%\n",
            "t: 21000.00  T: 53700.00 dt: 1000.0 gnorm: 1.499786e-05 Completed 38.39%\n",
            "t: 22000.00  T: 53700.00 dt: 1000.0 gnorm: 1.499786e-05 Completed 40.22%\n",
            "t: 23000.00  T: 53700.00 dt: 1000.0 gnorm: 1.499786e-05 Completed 42.05%\n",
            "t: 24000.00  T: 53700.00 dt: 1000.0 gnorm: 1.499786e-05 Completed 43.88%\n",
            "t: 25000.00  T: 53700.00 dt: 1000.0 gnorm: 1.499786e-05 Completed 45.70%\n",
            "t: 26000.00  T: 53700.00 dt: 1000.0 gnorm: 1.499786e-05 Completed 47.53%\n",
            "t: 27000.00  T: 53700.00 dt: 1000.0 gnorm: 1.499786e-05 Completed 49.36%\n",
            "t: 28000.00  T: 53700.00 dt: 1000.0 gnorm: 1.499786e-05 Completed 51.19%\n",
            "t: 29000.00  T: 53700.00 dt: 1000.0 gnorm: 1.499786e-05 Completed 53.02%\n",
            "t: 30000.00  T: 53700.00 dt: 1000.0 gnorm: 1.499786e-05 Completed 54.84%\n",
            "t: 31000.00  T: 53700.00 dt: 1000.0 gnorm: 1.499786e-05 Completed 56.67%\n",
            "t: 32000.00  T: 53700.00 dt: 1000.0 gnorm: 1.499786e-05 Completed 58.50%\n",
            "t: 33000.00  T: 53700.00 dt: 1000.0 gnorm: 1.499786e-05 Completed 60.33%\n",
            "t: 34000.00  T: 53700.00 dt: 1000.0 gnorm: 1.499786e-05 Completed 62.16%\n",
            "t: 35000.00  T: 53700.00 dt: 1000.0 gnorm: 1.499786e-05 Completed 63.99%\n",
            "t: 36000.00  T: 53700.00 dt: 1000.0 gnorm: 1.499786e-05 Completed 65.81%\n",
            "t: 37000.00  T: 53700.00 dt: 1000.0 gnorm: 1.499786e-05 Completed 67.64%\n",
            "t: 38000.00  T: 53700.00 dt: 1000.0 gnorm: 1.499786e-05 Completed 69.47%\n",
            "t: 39000.00  T: 53700.00 dt: 1000.0 gnorm: 1.499786e-05 Completed 71.30%\n",
            "t: 40000.00  T: 53700.00 dt: 1000.0 gnorm: 1.499786e-05 Completed 73.13%\n",
            "t: 41000.00  T: 53700.00 dt: 1000.0 gnorm: 1.499786e-05 Completed 74.95%\n",
            "t: 42000.00  T: 53700.00 dt: 1000.0 gnorm: 1.499786e-05 Completed 76.78%\n",
            "t: 43000.00  T: 53700.00 dt: 1000.0 gnorm: 1.499786e-05 Completed 78.61%\n",
            "t: 44000.00  T: 53700.00 dt: 1000.0 gnorm: 1.499786e-05 Completed 80.44%\n",
            "t: 45000.00  T: 53700.00 dt: 1000.0 gnorm: 1.499786e-05 Completed 82.27%\n",
            "t: 46000.00  T: 53700.00 dt: 1000.0 gnorm: 1.499786e-05 Completed 84.10%\n",
            "t: 47000.00  T: 53700.00 dt: 1000.0 gnorm: 1.499786e-05 Completed 85.92%\n",
            "t: 48000.00  T: 53700.00 dt: 1000.0 gnorm: 1.499786e-05 Completed 87.75%\n",
            "t: 49000.00  T: 53700.00 dt: 1000.0 gnorm: 1.499786e-05 Completed 89.58%\n",
            "t: 50000.00  T: 53700.00 dt: 1000.0 gnorm: 1.499786e-05 Completed 91.41%\n",
            "t: 51000.00  T: 53700.00 dt: 1000.0 gnorm: 1.499786e-05 Completed 93.24%\n",
            "t: 52000.00  T: 53700.00 dt: 1000.0 gnorm: 1.499786e-05 Completed 95.06%\n",
            "t: 53000.00  T: 53700.00 dt: 1000.0 gnorm: 1.499786e-05 Completed 96.89%\n",
            "t: 54000.00  T: 53700.00 dt: 1000.0 gnorm: 1.499786e-05 Completed 98.72%\n"
          ],
          "name": "stdout"
        },
        {
          "output_type": "stream",
          "text": [
            "DEBUG:matplotlib.axes._base:update_title_pos\n",
            "DEBUG:matplotlib.axes._base:update_title_pos\n",
            "DEBUG:matplotlib.axes._base:update_title_pos\n"
          ],
          "name": "stderr"
        },
        {
          "output_type": "stream",
          "text": [
            "Successfully Completed! Elapsed time: 34.415149 seconds\n",
            "b: 1000.000, Signal: 4.972e-02, Normalized signal: 4.972e-02, dt: 1000.000, hmin: 9.428e-02, whole_vol: 1.000, vol_of_interest: 1.000, Free signal: 4.979e-02, elasped time 34.415 (s)\n",
            "\n",
            "save to log.txt\n"
          ],
          "name": "stdout"
        },
        {
          "output_type": "stream",
          "text": [
            "DEBUG:matplotlib.axes._base:update_title_pos\n"
          ],
          "name": "stderr"
        },
        {
          "output_type": "display_data",
          "data": {
            "image/png": "[encoded data removed]",
            "text/plain": [
              "<Figure size 432x288 with 1 Axes>"
            ]
          },
          "metadata": {
            "tags": []
          }
        }
      ]
    }
  ]
}