{
  "nbformat": 4,
  "nbformat_minor": 0,
  "metadata": {
    "colab": {
      "name": "DiscontinuousInitialCondition.ipynb",
      "version": "0.3.2",
      "provenance": [],
      "collapsed_sections": [
        "vS_YdSbqFOln",
        "9SJXe6I5JUwF",
        "6l4kvMZQb3z6",
        "r6GW2fwLE042"
      ],
      "toc_visible": true,
      "include_colab_link": true
    },
    "kernelspec": {
      "name": "python3",
      "display_name": "Python 3"
    },
    "accelerator": "GPU"
  },
  "cells": [
    {
      "cell_type": "markdown",
      "metadata": {
        "id": "view-in-github",
        "colab_type": "text"
      },
      "source": [
        "<a href=\"https://colab.research.google.com/github/van-dang/DMRI-FEM-Cloud/blob/master/DiscontinuousInitialCondition.ipynb\" target=\"_parent\"><img src=\"https://colab.research.google.com/assets/colab-badge.svg\" alt=\"Open In Colab\"/></a>"
      ]
    },
    {
      "cell_type": "markdown",
      "metadata": {
        "id": "vS_YdSbqFOln",
        "colab_type": "text"
      },
      "source": [
        "# About the code"
      ]
    },
    {
      "cell_type": "code",
      "metadata": {
        "id": "CiQ9r51xKgWh",
        "colab_type": "code",
        "colab": {}
      },
      "source": [
        "# This program solves the Bloch-Torrey equation applied to computational diffusion MRI using \n",
        "# the finite element method coupled with the theta-method for the spatial discretization.\n",
        "\n",
        "# The scope of usage: \n",
        "# (1) Single domains, Multilayered structures, manifolds\n",
        "# (2) Membrane permeability for internal interfaces\n",
        "#     Artificial permeability at the external interfaces\n",
        "# (3) pure homogeneous Neumann BCs, (4) pseudo-periodic BCs\n",
        "\n",
        "# Copyright (C) 2019 Van-Dang Nguyen (vdnguyen@kth.se)\n",
        "\n",
        "# This file is part of DOLFIN.\n",
        "\n",
        "# DOLFIN is free software: you can redistribute it and/or modify\n",
        "# it under the terms of the GNU Lesser General Public License as published by\n",
        "# the Free Software Foundation, either version 3 of the License, or\n",
        "# (at your option) any later version.\n",
        "\n",
        "# DOLFIN is distributed in the hope that it will be useful,\n",
        "# but WITHOUT ANY WARRANTY; without even the implied warranty of\n",
        "# MERCHANTABILITY or FITNESS FOR A PARTICULAR PURPOSE. See the\n",
        "# GNU Lesser General Public License for more details.\n",
        "\n",
        "# You should have received a copy of the GNU Lesser General Public License\n",
        "# along with DOLFIN. If not, see <http://www.gnu.org/licenses/>.\n",
        "\n",
        "# First added:  2017-10-10\n",
        "# Last changed: 2019-04-25\n",
        "\n",
        "# This demo is maintained by Van-Dang Nguyen\n",
        "# Please report possible problems to vdnguyen@kth.se"
      ],
      "execution_count": 0,
      "outputs": []
    },
    {
      "cell_type": "markdown",
      "metadata": {
        "id": "9SJXe6I5JUwF",
        "colab_type": "text"
      },
      "source": [
        "# Setting a working environment with FEniCS"
      ]
    },
    {
      "cell_type": "code",
      "metadata": {
        "id": "4jWzVxURFVLj",
        "colab_type": "code",
        "outputId": "66aa9dd1-f375-40e5-8357-e7036c353ae5",
        "colab": {
          "base_uri": "https://localhost:8080/",
          "height": 34
        }
      },
      "source": [
        "try:\n",
        "    from google.colab import files\n",
        "except:\n",
        "    print(\"Running on a local runtime\");\n",
        "    \n",
        "import platform, sys\n",
        "python_version=platform.python_version()\n",
        "from distutils.version import LooseVersion, StrictVersion\n",
        "\n",
        "if ( LooseVersion(python_version) < LooseVersion(\"3.0.0\")):\n",
        "    print(\"Python3 is needed!\");\n",
        "    print(\"How to fix: Runtime/Change_runtime_type/Python 3\");\n",
        "    sys.exit()\n",
        "    \n",
        "try:\n",
        "    from dolfin import *; from mshr import *\n",
        "except ImportError as e:\n",
        "    !apt-get install -y -qq software-properties-common python-software-properties module-init-tools\n",
        "    !add-apt-repository -y ppa:fenics-packages/fenics\n",
        "    !apt-get update -qq\n",
        "    !apt install -y --no-install-recommends fenics\n",
        "    from dolfin import *; from mshr import *\n",
        "\n",
        "gmsh_dir=!which gmsh\n",
        "if len(gmsh_dir)==0:\n",
        "  !sudo apt-get update\n",
        "  !sudo apt-get install -y gmsh\n",
        "      \n",
        "import matplotlib.pyplot as plt;\n",
        "from IPython.display import clear_output, display; import time; import dolfin.common.plotting as fenicsplot \n",
        "import time\n",
        "\n",
        "import os, sys, shutil\n",
        "\n",
        "clear_output()\n",
        "\n",
        "dolfin_version = dolfin.__version__\n",
        "print ('dolfin version:', dolfin_version)\n",
        "\n",
        "# Disable warnings\n",
        "import logging\n",
        "logging.basicConfig(level=logging.DEBUG)\n",
        "logger = logging.getLogger(\"rothemain.rothe_utils\")\n",
        "logging.getLogger('UFL').setLevel(logging.WARNING)\n",
        "logging.getLogger('FFC').setLevel(logging.WARNING)\n",
        "\n",
        "import warnings\n",
        "warnings.filterwarnings(\"ignore\")"
      ],
      "execution_count": 4,
      "outputs": [
        {
          "output_type": "stream",
          "text": [
            "dolfin version: 2019.1.0\n"
          ],
          "name": "stdout"
        }
      ]
    },
    {
      "cell_type": "markdown",
      "metadata": {
        "id": "6l4kvMZQb3z6",
        "colab_type": "text"
      },
      "source": [
        "#Load pre-defined functions"
      ]
    },
    {
      "cell_type": "code",
      "metadata": {
        "id": "x3L26nGPb7kZ",
        "colab_type": "code",
        "outputId": "9ef33a2d-29a3-4ac6-fadf-9ba66364f193",
        "colab": {
          "base_uri": "https://localhost:8080/",
          "height": 34
        }
      },
      "source": [
        "import sympy as sp  \n",
        "exists = os.path.isfile('DmriFemLib.py')\n",
        "isupdate = False\n",
        "if (exists==False or isupdate==True):\n",
        "    if isupdate==True:\n",
        "        !rm DmriFemLib.py\n",
        "    print(\"Load pre-defined functions from GitHub\")\n",
        "    !wget --quiet https://raw.githubusercontent.com/van-dang/DMRI-FEM-Cloud/master/DmriFemLib.py\n",
        "from DmriFemLib import *\n",
        "      "
      ],
      "execution_count": 5,
      "outputs": [
        {
          "output_type": "stream",
          "text": [
            "Load pre-defined functions from GitHub\n"
          ],
          "name": "stdout"
        }
      ]
    },
    {
      "cell_type": "markdown",
      "metadata": {
        "id": "r6GW2fwLE042",
        "colab_type": "text"
      },
      "source": [
        "# Working on the mesh and submesh"
      ]
    },
    {
      "cell_type": "code",
      "metadata": {
        "id": "ksCOgH6e6d8e",
        "colab_type": "code",
        "outputId": "c9ad8cb7-4fec-4b91-fe74-26c06496b2d3",
        "colab": {
          "base_uri": "https://localhost:8080/",
          "height": 646
        }
      },
      "source": [
        "geo_choice = 2\n",
        "################################################################################\n",
        "############## Create two-layered disk using mshr in FEniCS ####################\n",
        "if geo_choice == 1:\n",
        "    R1, R2 = 5, 10;\n",
        "    origin = Point(0.,0.)\n",
        "    circle = Circle(origin, R1, segments=32)\n",
        "    domain = Circle(origin, R2, segments=32)\n",
        "    domain.set_subdomain(1, circle)\n",
        "    mymesh = generate_mesh(domain, 15) # 15 is the resolution\n",
        "    cmpt_mesh = generate_mesh(circle, 15)\n",
        "    evengroup=[]\n",
        "    oddgroup=[cmpt_mesh]\n",
        "    phase, partion_list, partition_marker = CreatePhaseFunc(mymesh, evengroup, oddgroup, None)\n",
        "\n",
        "################################################################################\n",
        "############## Create multilayered domains using gmsh ##########################\n",
        "if geo_choice == 2:\n",
        "    mesh_name = \"multi_layered_disk\"\n",
        "    # mesh_name = \"multi_layered_cylinder\"\n",
        "    # mesh_name = \"multi_layered_sphere\"\n",
        "    # mesh_name = \"multi_layered_torus\"\n",
        "    is_partition_function_exist = os.path.isfile('GetPartitionMarkers.py')\n",
        "    if is_partition_function_exist==False:\n",
        "        !wget --quiet https://raw.githubusercontent.com/van-dang/DMRI-FEM-Cloud/mesh/GetPartitionMarkers.py\n",
        "\n",
        "    is_geo_file_exist = os.path.isfile(mesh_name+'.geo')  \n",
        "    if is_geo_file_exist==False:\n",
        "        !wget --quiet https://raw.githubusercontent.com/van-dang/DMRI-FEM-Cloud/mesh/$mesh_name''.geo\n",
        "\n",
        "    # Modify .geo file from 4 layers to 3 layers      \n",
        "    !sed -i 's/5, 7.5, 10, 13/5, 7.5, 10/g' $mesh_name''.geo\n",
        "      \n",
        "    # Create mesh from geo file by gmsh\n",
        "    !gmsh -3 $mesh_name''.geo -o $mesh_name''.msh\n",
        "    \n",
        "    # Convert .msh to .xml using dolfin-convert\n",
        "    !dolfin-convert $mesh_name''.msh $mesh_name''.xml\n",
        "    # clear_output()\n",
        "\n",
        "    mymesh = Mesh(mesh_name+\".xml\");  \n",
        "\n",
        "    from GetPartitionMarkers import *\n",
        "\n",
        "    GetPartitionMarkers(mesh_name+\".msh\", \"pmk_\"+mesh_name+\".xml\")\n",
        "\n",
        "    partition_marker = MeshFunction(\"size_t\", mymesh, mymesh.topology().dim())\n",
        "\n",
        "    File(\"pmk_\"+mesh_name+\".xml\")>>partition_marker\n",
        "    \n",
        "    phase, partion_list = CreatePhaseFunc(mymesh, [], [], partition_marker)    \n",
        "\n",
        "################################################################################\n",
        "############## Download the existing mesh and submesh ##########################\n",
        "if geo_choice == 3:\n",
        "    is_file_exist = os.path.isfile(\"multi_layer_torus.xml\")  \n",
        "    if is_file_exist==False:\n",
        "        !wget --quiet https://raw.githubusercontent.com/van-dang/DMRI-FEM-Cloud/master/comri/meshes/multi_layer_torus.xml.zip\n",
        "        !wget --quiet https://raw.githubusercontent.com/van-dang/DMRI-FEM-Cloud/master/comri/meshes/multi_layer_torus_compt1.xml.zip\n",
        "        !unzip -q multi_layer_torus.xml.zip\n",
        "        !unzip -q multi_layer_torus_compt1.xml.zip\n",
        "        !rm -rf *.zip *MACOSX\n",
        "\n",
        "    mymesh = Mesh(\"multi_layer_torus.xml\");  \n",
        "    cmpt_mesh = Mesh('multi_layer_torus_compt1.xml')\n",
        "    \n",
        "    phase, partion_list, partition_marker = CreatePhaseFunc(mymesh, [], [cmpt_mesh], None)\n",
        "\n",
        "################################################################################\n",
        "############## Save, Plot phase functions and submeshes to verify ##############\n",
        "File(\"Phase.pvd\")<<phase\n",
        "print(\"Partition markers:\", partion_list)\n",
        "if mymesh.topology().dim()==2:\n",
        "    plt.subplot(1, 2, 2); plot(partition_marker, cmap=\"coolwarm\",  title=\"Partition marker\");"
      ],
      "execution_count": 0,
      "outputs": [
        {
          "output_type": "stream",
          "text": [
            "Info    : Running 'gmsh -3 multi_layered_disk.geo -o multi_layered_disk.msh' [Gmsh 3.0.6, 1 node, max. 1 thread]\n",
            "Info    : Started on Tue Jul 23 15:49:40 2019\n",
            "Info    : Reading 'multi_layered_disk.geo'...\n",
            "\u001b[34mNumber compartments 3\u001b[0m\n",
            "\u001b[34mcompartment 0, radius 5\u001b[0m\n",
            "\u001b[34mcompartment 1, radius 7.5\u001b[0m\n",
            "Info    : Starting subloop 1 in Line Loop 13 (are you sure about this?)\n",
            "\u001b[34mcompartment 2, radius 10\u001b[0m\n",
            "Info    : Starting subloop 1 in Line Loop 16 (are you sure about this?)\n",
            "Info    : Finalized high order topology of periodic connections\n",
            "Info    : Meshing 1D...\n",
            "Info    : Meshing curve 1 (Circle)\n",
            "Info    : Meshing curve 2 (Circle)\n",
            "Info    : Meshing curve 4 (Circle)\n",
            "Info    : Meshing curve 5 (Circle)\n",
            "Info    : Meshing curve 7 (Circle)\n",
            "Info    : Meshing curve 8 (Circle)\n",
            "Info    : Done meshing 1D (0.000889 s)\n",
            "Info    : Meshing 2D...\n",
            "Info    : Meshing surface 1 (Plane, Delaunay)\n",
            "Info    : Meshing surface 2 (Plane, Delaunay)\n",
            "Info    : Meshing surface 3 (Plane, Delaunay)\n",
            "Info    : Done meshing 2D (0.017252 s)\n",
            "Info    : 490 vertices 1061 elements\n",
            "Info    : Removing duplicate mesh vertices...\n",
            "Info    : Found 3 duplicate vertices \n",
            "Info    : Removed 3 duplicate mesh vertices\n",
            "Info    : Done removing duplicate mesh vertices\n",
            "\u001b[34mCompleted the task!\u001b[0m\n",
            "Info    : Done reading 'multi_layered_disk.geo'\n",
            "Info    : Finalized high order topology of periodic connections\n",
            "Info    : Meshing 3D...\n",
            "Info    : Done meshing 3D (4e-06 s)\n",
            "Info    : 487 vertices 1061 elements\n",
            "Info    : Writing 'multi_layered_disk.msh'...\n",
            "Info    : Done writing 'multi_layered_disk.msh'\n",
            "Info    : Stopped on Tue Jul 23 15:49:40 2019\n"
          ],
          "name": "stdout"
        }
      ]
    },
    {
      "cell_type": "markdown",
      "metadata": {
        "id": "aFEvif9PF2yH",
        "colab_type": "text"
      },
      "source": [
        "# Solve the Bloch-Torrey equation"
      ]
    },
    {
      "cell_type": "code",
      "metadata": {
        "id": "DYZ5SWlw69tQ",
        "colab_type": "code",
        "colab": {}
      },
      "source": [
        "mri_simu = MRI_simulation()\n",
        "mri_para = MRI_parameters()\n",
        "\n",
        "#################################################################################\n",
        "#########################  Pre-defined parameters ###############################\n",
        "mri_para.stype='PGSE'                                # sequence type\n",
        "\n",
        "bvalues = [1000, 2000, 3000, 4000, 5000, 6000, 7000, 8000, 9000,10000]\n",
        "\n",
        "for bvalue in bvalues:\n",
        "    mri_para.bvalue = bvalue;                              # bvalue\n",
        "    mri_para.delta, mri_para.Delta = 10600, 43100        # time sequence\n",
        "    mri_para.set_gradient_dir(mymesh, 1, 0, 0)           # gradient direction\n",
        "    mri_para.T = mri_para.Delta+mri_para.delta\n",
        "    mri_para.fs_sym = sp.Piecewise(\n",
        "                    (  1., mri_para.s < mri_para.delta ),\n",
        "                    (  0., mri_para.s < mri_para.Delta ),\n",
        "                    ( -1., mri_para.s < mri_para.T ),\n",
        "                    (  0., True )  \n",
        "                ) \n",
        "\n",
        "    mri_para.Apply()\n",
        "    mri_simu.k = 200;                                    # time-step size\n",
        "    mri_simu.nskip = 5;                                  # frequency to print ouputs\n",
        "\n",
        "    mydomain = MyDomain(mymesh, mri_para)\n",
        "    mydomain.phase = phase\n",
        "    mydomain.PeriodicDir = [0, 0, 0];            # Direction of the periodicity\n",
        "    mydomain.IsDomainPeriodic = False             # Confirm if the mesh if periodic\n",
        "    mydomain.IsDomainMultiple = True             # Confirm if the mesh is multiple\n",
        "    mydomain.kappa = 5e-5                        # Permeability\n",
        "    ################################################################################\n",
        "\n",
        "    mydomain.Apply()   # Call Apply before setting the diffusion tensor\n",
        "\n",
        "    ################################################################################\n",
        "    # Impose the diffusion coefficient\n",
        "    mydomain.D0 = 3e-3\n",
        "    mydomain.D = mydomain.D0;\n",
        "\n",
        "    ################ Initialize discontinuous initial conditions\n",
        "    IC_array = [1, 1, 1];\n",
        "    dofmap_DG = mydomain.V_DG.dofmap()\n",
        "    disc_ic = Function(mydomain.V_DG);\n",
        "    for cell in cells(mymesh):\n",
        "        p = cell.midpoint() # the coordinate of the cell center.\n",
        "        cmk = partition_marker[cell.index()]\n",
        "        cell_dof = dofmap_DG.cell_dofs(cell.index())\n",
        "        disc_ic.vector()[cell_dof] = IC_array[cmk]; \n",
        "\n",
        "    disc_ic=project(disc_ic, mydomain.V)\n",
        "    File(\"disc_ic.pvd\")<<disc_ic\n",
        "        \n",
        "    #################################################################################\n",
        "    #################################################################################\n",
        "\n",
        "    # linsolver = PETScLUSolver(\"mumps\")\n",
        "    linsolver = KrylovSolver(\"bicgstab\")\n",
        "    #linsolver.parameters[\"absolute_tolerance\"] = 1e-4\n",
        "    #linsolver.parameters[\"relative_tolerance\"] = 1e-3\n",
        "    #linsolver.parameters[\"maximum_iterations\"] = 1000\n",
        "\n",
        "    mri_simu.solve(mydomain, mri_para, linsolver, disc_ic)\n",
        "    ctext = '';\n",
        "    if bvalue == 1000:\n",
        "        ctext = \"Disk R=[5, 7.5, 10]um, Delta=43.1ms, delta=10.6ms, D=3e-3 mm^2/s, kappa = 5e-5 m/s, PGSE, IC_array = [1, 1, 1]\"\n",
        "    PostProcessing(mydomain, mri_para, mri_simu, plt, ctext)"
      ],
      "execution_count": 0,
      "outputs": []
    },
    {
      "cell_type": "markdown",
      "metadata": {
        "id": "2PFBYd0QMw4U",
        "colab_type": "text"
      },
      "source": [
        "# Reference solutions"
      ]
    },
    {
      "cell_type": "code",
      "metadata": {
        "id": "3paAgRxbM3yW",
        "colab_type": "code",
        "colab": {}
      },
      "source": [
        "# The results were generated by the Matrix Formalism method propsed in\n",
        "# D.S. Grebenkov, Pulsed-gradient spin-echo monitoring of restricted \n",
        "# diffusion in multilayered structures, J. Magn. Reson., 205 (2) (2010)\n",
        "\n",
        "\n",
        "# # # # # # # # # # # # # # # # D.I.S.K # # # # # # # # # # # # # # # # # # # # #\n",
        "# # # # # # # # # R=[5,7.5,10], PGSE delta=Delta=40000 # # # ## # # # # # # # # #\n",
        "# # # # # # # # # # mydomain.PeriodicDir = [0, 0, 0];\n",
        "# D=3e-3 mm^2/s, kappa=5e-5m/s\n",
        "#  bvalue    # signal attenuation\n",
        "#  0.000e+00 #  1.000e+00\n",
        "#  1.000e+03 #  7.181e-01\n",
        "#  2.000e+03 #  5.234e-01\n",
        "#  3.000e+03 #  3.899e-01\n",
        "#  4.000e+03 #  2.990e-01\n",
        "#  5.000e+03 #  2.373e-01\n",
        "#  6.000e+03 #  1.952e-01\n",
        "#  7.000e+03 #  1.661e-01\n",
        "#  8.000e+03 #  1.454e-01\n",
        "#  9.000e+03 #  1.302e-01\n",
        "#  1.000e+04 #  1.184e-01\n",
        "# # # # # # # # # # # # # # # # # # # # # # # # # # # # # # # # # # # # # # # # #\n",
        "# D=[3 1 3]*1e-3 mm^2/s, kappa=1e-5m/s\n",
        "#  0.000e+00 # 1.000e+00\n",
        "#  1.000e+03 # 7.297e-01\n",
        "#  2.000e+03 # 5.525e-01\n",
        "#  3.000e+03 # 4.381e-01\n",
        "#  4.000e+03 # 3.649e-01\n",
        "#  5.000e+03 # 3.181e-01\n",
        "#  6.000e+03 # 2.877e-01\n",
        "#  7.000e+03 # 2.672e-01\n",
        "#  8.000e+03 # 2.522e-01\n",
        "#  9.000e+03 # 2.402e-01\n",
        "#  1.000e+04 # 2.297e-01\n",
        "# # # # # # # # # # # # # # # # # # # # # # # # # # # # # # # # # # # # # # # # #\n",
        "\n",
        "\n",
        "\n",
        "# # # # # # # # # # # # # # # S.P.H.E.R.E # # # # # # # # # # # # # # # # # # # # \n",
        "# # # # # # # # # # R=[5,7.5,10], PGSE delta=Delta=40000 # # # # # # # #  # # # #\n",
        "# # # # # # # # # # mydomain.PeriodicDir = [0, 0, 0];\n",
        "# D=3e-3 mm^2/s, kappa=5e-5m/s\n",
        "#  bvalue    # signal attenuation\n",
        "#  0.000e+00 #  1.000e+00\n",
        "#  1.000e+03 #  7.886e-01\n",
        "#  2.000e+03 #  6.228e-01\n",
        "#  3.000e+03 #  4.932e-01\n",
        "#  4.000e+03 #  3.921e-01\n",
        "#  5.000e+03 #  3.135e-01\n",
        "#  6.000e+03 #  2.526e-01\n",
        "#  7.000e+03 #  2.054e-01\n",
        "#  8.000e+03 #  1.688e-01\n",
        "#  9.000e+03 #  1.406e-01\n",
        "#  1.000e+04 #  1.186e-01\n",
        "# # # # # # # # # # # # # # # # # # # # # # # # # # # # # # # # # # # # # # # # #\n",
        "# D=[3 1 3]*1e-3 mm^2/s\n",
        "#  0.000e+00 #  1.000e+00\n",
        "#  1.000e+03 #  7.707e-01\n",
        "#  2.000e+03 #  5.932e-01\n",
        "#  3.000e+03 #  4.565e-01\n",
        "#  4.000e+03 #  3.518e-01\n",
        "#  5.000e+03 #  2.721e-01\n",
        "#  6.000e+03 #  2.117e-01\n",
        "#  7.000e+03 #  1.662e-01\n",
        "#  8.000e+03 #  1.321e-01\n",
        "#  9.000e+03 #  1.065e-01\n",
        "#  1.000e+04 #  8.749e-02\n",
        "# # # # # # # # # # # # # # # # # # # # # # # # # # # # # # # # # # # # # # # # #\n",
        "\n",
        "\n",
        "# # # # # # # # # # # # # # # C.Y.L.I.N.D.E.R # # # # # # # # # # # # # # # # # # \n",
        "# # # # # # # # # # R=[5,7.5,10], PGSE delta=Delta=10000 # # # # # # # #  # # # #\n",
        "# D=3e-3 mm^2/s, kappa=5e-5m/s\n",
        "# gdir=[0, 1, 0]:\n",
        "# 0.000e+00 #  1.000e+00\n",
        "# 1.000e+03 #  4.777e-01\n",
        "# 2.000e+03 #  2.996e-01\n",
        "# 3.000e+03 #  2.235e-01\n",
        "# 4.000e+03 #  1.784e-01\n",
        "# 5.000e+03 #  1.455e-01\n",
        "# 6.000e+03 #  1.200e-01\n",
        "# 7.000e+03 #  1.003e-01\n",
        "# 8.000e+03 #  8.513e-02\n",
        "# 9.000e+03 #  7.374e-02\n",
        "# 1.000e+04 #  6.531e-02\n",
        "# gdir=[1., 0, 0]:\n",
        "# mydomain.PeriodicDir = [1, 0, 0]: s=exp(-bvalue*D0)\n",
        "# mydomain.PeriodicDir = [0, 0, 0]:\n",
        "#  bvalue    # signal attenuation\n",
        "#  0.000e+00 #  1.000e+00\n",
        "#  1.000e+03 #  2.588e-01\n",
        "#  2.000e+03 #  1.191e-01\n",
        "#  3.000e+03 #  8.646e-02\n",
        "#  4.000e+03 #  6.591e-02\n",
        "#  5.000e+03 #  5.008e-02\n",
        "#  6.000e+03 #  4.019e-02\n",
        "#  7.000e+03 #  3.460e-02\n",
        "#  8.000e+03 #  3.083e-02\n",
        "#  9.000e+03 #  2.738e-02\n",
        "#  1.000e+04 #  2.390e-02\n",
        "# # # # # # # # # # # # # # # # # # # # # # # # # # # # # # # # # # # # # # # # #"
      ],
      "execution_count": 0,
      "outputs": []
    }
  ]
}