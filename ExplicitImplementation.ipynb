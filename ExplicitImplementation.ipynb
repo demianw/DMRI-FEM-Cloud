{
  "nbformat": 4,
  "nbformat_minor": 0,
  "metadata": {
    "colab": {
      "name": "ExplicitImplementation.ipynb",
      "version": "0.3.2",
      "provenance": [],
      "collapsed_sections": [
        "vS_YdSbqFOln",
        "9SJXe6I5JUwF",
        "6l4kvMZQb3z6",
        "r6GW2fwLE042"
      ],
      "toc_visible": true,
      "include_colab_link": true
    },
    "kernelspec": {
      "name": "python3",
      "display_name": "Python 3"
    },
    "accelerator": "GPU"
  },
  "cells": [
    {
      "cell_type": "markdown",
      "metadata": {
        "id": "view-in-github",
        "colab_type": "text"
      },
      "source": [
        "<a href=\"https://colab.research.google.com/github/van-dang/DMRI-FEM-Cloud/blob/master/ExplicitImplementation.ipynb\" target=\"_parent\"><img src=\"https://colab.research.google.com/assets/colab-badge.svg\" alt=\"Open In Colab\"/></a>"
      ]
    },
    {
      "cell_type": "markdown",
      "metadata": {
        "id": "vS_YdSbqFOln",
        "colab_type": "text"
      },
      "source": [
        "# About the code"
      ]
    },
    {
      "cell_type": "code",
      "metadata": {
        "id": "CiQ9r51xKgWh",
        "colab_type": "code",
        "colab": {}
      },
      "source": [
        "# This program solves the Bloch-Torrey equation applied to computational diffusion MRI using \n",
        "# the finite element method coupled with the theta-method for the spatial discretization.\n",
        "\n",
        "# The scope of usage: \n",
        "# (1) Single domains, Multilayered structures, manifolds\n",
        "# (2) Membrane permeability for internal interfaces\n",
        "#     Artificial permeability at the external interfaces\n",
        "# (3) pure homogeneous Neumann BCs, (4) pseudo-periodic BCs\n",
        "\n",
        "# Copyright (C) 2019 Van-Dang Nguyen (vdnguyen@kth.se)\n",
        "\n",
        "# This file is part of DOLFIN.\n",
        "\n",
        "# DOLFIN is free software: you can redistribute it and/or modify\n",
        "# it under the terms of the GNU Lesser General Public License as published by\n",
        "# the Free Software Foundation, either version 3 of the License, or\n",
        "# (at your option) any later version.\n",
        "\n",
        "# DOLFIN is distributed in the hope that it will be useful,\n",
        "# but WITHOUT ANY WARRANTY; without even the implied warranty of\n",
        "# MERCHANTABILITY or FITNESS FOR A PARTICULAR PURPOSE. See the\n",
        "# GNU Lesser General Public License for more details.\n",
        "\n",
        "# You should have received a copy of the GNU Lesser General Public License\n",
        "# along with DOLFIN. If not, see <http://www.gnu.org/licenses/>.\n",
        "\n",
        "# First added:  2017-10-10\n",
        "# Last changed: 2019-04-25\n",
        "\n",
        "# This demo is maintained by Van-Dang Nguyen\n",
        "# Please report possible problems to vdnguyen@kth.se"
      ],
      "execution_count": 0,
      "outputs": []
    },
    {
      "cell_type": "markdown",
      "metadata": {
        "id": "9SJXe6I5JUwF",
        "colab_type": "text"
      },
      "source": [
        "# Setting a working environment with FEniCS"
      ]
    },
    {
      "cell_type": "code",
      "metadata": {
        "id": "4jWzVxURFVLj",
        "colab_type": "code",
        "outputId": "beb9e8d9-2d6b-479c-c8de-d7b2a6928d20",
        "colab": {
          "base_uri": "https://localhost:8080/",
          "height": 34
        }
      },
      "source": [
        "try:\n",
        "      from google.colab import files\n",
        "except:\n",
        "      print(\"Running with local runtime\")\n",
        "import platform, sys\n",
        "python_version=platform.python_version()\n",
        "from distutils.version import LooseVersion, StrictVersion\n",
        "\n",
        "if ( LooseVersion(python_version) < LooseVersion(\"3.0.0\")):\n",
        "    print(\"Python3 is needed!\");\n",
        "    print(\"How to fix: Runtime/Change_runtime_type/Python 3\");\n",
        "    sys.exit()\n",
        "    \n",
        "try:\n",
        "    from dolfin import *; from mshr import *\n",
        "except ImportError as e:\n",
        "    !apt-get install -y -qq software-properties-common python-software-properties module-init-tools\n",
        "    !add-apt-repository -y ppa:fenics-packages/fenics\n",
        "    !apt-get update -qq\n",
        "    !apt install -y --no-install-recommends fenics\n",
        "    from dolfin import *; from mshr import *\n",
        "\n",
        "gmsh_dir=!which gmsh\n",
        "if len(gmsh_dir)==0:\n",
        "  !sudo apt-get -y update\n",
        "  !sudo apt-get install -y gmsh unzip\n",
        "    \n",
        "import matplotlib.pyplot as plt;\n",
        "from IPython.display import clear_output, display; import time; import dolfin.common.plotting as fenicsplot \n",
        "import time\n",
        "\n",
        "import os, sys, shutil\n",
        "\n",
        "import sympy as sp\n",
        "\n",
        "\n",
        "clear_output()\n",
        "\n",
        "dolfin_version = dolfin.__version__\n",
        "print ('dolfin version:', dolfin_version)\n",
        "\n",
        "# Disable warnings\n",
        "import logging\n",
        "logging.basicConfig(level=logging.DEBUG)\n",
        "logger = logging.getLogger(\"rothemain.rothe_utils\")\n",
        "logging.getLogger('UFL').setLevel(logging.WARNING)\n",
        "logging.getLogger('FFC').setLevel(logging.WARNING)\n",
        "\n",
        "import warnings\n",
        "warnings.filterwarnings(\"ignore\")\n"
      ],
      "execution_count": 10,
      "outputs": [
        {
          "output_type": "stream",
          "text": [
            "dolfin version: 2019.1.0\n"
          ],
          "name": "stdout"
        }
      ]
    },
    {
      "cell_type": "markdown",
      "metadata": {
        "id": "6l4kvMZQb3z6",
        "colab_type": "text"
      },
      "source": [
        "#Load pre-defined functions"
      ]
    },
    {
      "cell_type": "code",
      "metadata": {
        "id": "x3L26nGPb7kZ",
        "colab_type": "code",
        "colab": {}
      },
      "source": [
        "import sympy as sp  \n",
        "exists = os.path.isfile('DmriFemLib.py')\n",
        "isupdate = False\n",
        "if (exists==False or isupdate==True):\n",
        "    if isupdate==True:\n",
        "        !rm DmriFemLib.py\n",
        "    print(\"Load pre-defined functions from GitHub\")\n",
        "    !wget --quiet https://raw.githubusercontent.com/van-dang/DMRI-FEM-Cloud/master/DmriFemLib.py\n",
        "from DmriFemLib import *"
      ],
      "execution_count": 0,
      "outputs": []
    },
    {
      "cell_type": "markdown",
      "metadata": {
        "id": "r6GW2fwLE042",
        "colab_type": "text"
      },
      "source": [
        "# Working on the mesh"
      ]
    },
    {
      "cell_type": "code",
      "metadata": {
        "id": "ksCOgH6e6d8e",
        "colab_type": "code",
        "colab": {
          "base_uri": "https://localhost:8080/",
          "height": 289
        },
        "outputId": "c7703ee8-5f65-4492-b2e4-d5ed81b98c69"
      },
      "source": [
        "geo_choice = 1\n",
        "if geo_choice == 1:\n",
        "    mesh_file = \"fru_M_100383_1D.xml\"\n",
        "else:    \n",
        "    mesh_file = \"fru_M_100383_3D.xml\"\n",
        "mesh_file_exists = os.path.isfile(mesh_file)\n",
        "if (mesh_file_exists==False):\n",
        "    !wget https://github.com/van-dang/DMRI-FEM-Cloud/raw/mesh/$mesh_file''.zip  \n",
        "    !unzip -q $mesh_file''.zip\n",
        "mymesh = Mesh(mesh_file);"
      ],
      "execution_count": 12,
      "outputs": [
        {
          "output_type": "stream",
          "text": [
            "--2019-07-23 16:01:05--  https://github.com/van-dang/DMRI-FEM-Cloud/raw/mesh/fru_M_100383_1D.xml.zip\r\n",
            "Resolving github.com (github.com)... 140.82.118.4\r\n",
            "Connecting to github.com (github.com)|140.82.118.4|:443... connected.\n",
            "HTTP request sent, awaiting response... 302 Found\n",
            "Location: https://raw.githubusercontent.com/van-dang/DMRI-FEM-Cloud/mesh/fru_M_100383_1D.xml.zip [following]\n",
            "--2019-07-23 16:01:05--  https://raw.githubusercontent.com/van-dang/DMRI-FEM-Cloud/mesh/fru_M_100383_1D.xml.zip\n",
            "Resolving raw.githubusercontent.com (raw.githubusercontent.com)... 151.101.84.133\n",
            "Connecting to raw.githubusercontent.com (raw.githubusercontent.com)|151.101.84.133|:443... connected.\n",
            "HTTP request sent, awaiting response... 200 OK\n",
            "Length: 33864 (33K) [application/zip]\n",
            "Saving to: ‘fru_M_100383_1D.xml.zip.1’\n",
            "\n",
            "fru_M_100383_1D.xml 100%[===================>]  33.07K  --.-KB/s    in 0.005s  \n",
            "\n",
            "2019-07-23 16:01:05 (6.89 MB/s) - ‘fru_M_100383_1D.xml.zip.1’ saved [33864/33864]\n",
            "\n"
          ],
          "name": "stdout"
        }
      ]
    },
    {
      "cell_type": "markdown",
      "metadata": {
        "id": "aFEvif9PF2yH",
        "colab_type": "text"
      },
      "source": [
        "# Solve the Bloch-Torrey equation"
      ]
    },
    {
      "cell_type": "code",
      "metadata": {
        "id": "DYZ5SWlw69tQ",
        "colab_type": "code",
        "outputId": "33152180-cd36-4f59-cfd9-eecc23600923",
        "colab": {
          "base_uri": "https://localhost:8080/",
          "height": 496
        }
      },
      "source": [
        "mri_simu = MRI_simulation()\n",
        "mri_para = MRI_parameters()\n",
        "\n",
        "bvalues = [0, 1000, 2000, 3000, 4000, 5000, 6000, 7000, 8000, 9000,10000]\n",
        "signal_array=[];\n",
        "voi_array=[];\n",
        "whole_vol_array = [];\n",
        "for bvalue in bvalues:\n",
        "    #################################################################################\n",
        "    #########################  Pre-defined parameters ###############################\n",
        "    mri_para.stype='PGSE'                                # sequence type\n",
        "    mri_para.bvalue = bvalue;                              # bvalue\n",
        "    mri_para.delta, mri_para.Delta = 10600, 43100        # time sequence\n",
        "    mri_para.set_gradient_dir(mymesh, 1, 0, 0)           # gradient direction\n",
        "\n",
        "    mri_para.T = mri_para.Delta+mri_para.delta\n",
        "    mri_para.fs_sym = sp.Piecewise(\n",
        "                    (  1., mri_para.s < mri_para.delta ),\n",
        "                    (  0., mri_para.s < mri_para.Delta ),\n",
        "                    ( -1., mri_para.s < mri_para.T ),\n",
        "                    (  0., True )  \n",
        "                ) \n",
        "\n",
        "\n",
        "    mri_para.Apply()\n",
        "    mri_simu.k = 200;                                    # time-step size\n",
        "    mri_simu.nskip = 100;                                  # frequency to print ouputs\n",
        "    mydomain = MyDomain(mymesh, mri_para)\n",
        "    mydomain.phase = None\n",
        "    mydomain.PeriodicDir = [0, 0, 0];             # Direction of the periodicity\n",
        "    mydomain.IsDomainPeriodic = False             # Confirm if the mesh if periodic\n",
        "    mydomain.IsDomainMultiple = False             # Confirm if the mesh is multiple\n",
        "    ################################################################################\n",
        "    mydomain.Apply()   # Call Apply before setting the diffusion tensor\n",
        "    ################################################################################\n",
        "    # Impose the diffusion coefficient\n",
        "    mydomain.D0 = 3e-3\n",
        "    mydomain.D = mydomain.D0;\n",
        "    #################################################################################\n",
        "\n",
        "    # linsolver = PETScLUSolver(\"mumps\")\n",
        "    linsolver = KrylovSolver(\"bicgstab\")\n",
        "\n",
        "    # mri_simu.solve(mydomain, mri_para, linsolver)\n",
        "\n",
        "    mri_simu.Dirac_Delta, mri_simu.u_0 = mri_simu.InitialCondition(mydomain, None)\n",
        "\n",
        "    stepcounter = 0;\n",
        "\n",
        "    M = MassMatrix(mydomain);\n",
        "\n",
        "    mri_simu.t = 0;\n",
        "    ft_prev  =  mri_para.time_profile(mri_simu.t);\n",
        "    ift_prev = mri_para.itime_profile(mri_simu.t);\n",
        "\n",
        "    start_time = time.time()\n",
        "\n",
        "    while mri_simu.t < mri_para.T + mri_simu.k: # Time-stepping loop\n",
        "        if stepcounter % mri_simu.nskip == 0:\n",
        "            print('t: %6.2f '%mri_simu.t, 'T: %6.2f'%mri_para.T, 'dt: %.1f'%mri_simu.k,'qvalue: %e'%mri_para.qvalue,'Completed %3.2f%%'%(float(mri_simu.t)/float(mri_para.T+mri_simu.k)*100.0));\n",
        "\n",
        "        ft = mri_para.time_profile(mri_simu.t);\n",
        "        ift = mri_para.itime_profile(mri_simu.t);\n",
        "\n",
        "        L = ThetaMethodL(ft_prev, ift_prev, mri_para, mri_simu, mydomain);\n",
        "        A = 1/mri_simu.k*M + assemble(ThetaMethodF(ft, ift, mri_para, mri_simu, mydomain))\n",
        "\n",
        "        b = assemble(L);\n",
        "\n",
        "        linsolver.solve(A, mri_simu.u_0.vector(),b);\n",
        "\n",
        "        ft_prev  = ft;\n",
        "        ift_prev = ift;\n",
        "\n",
        "        mri_simu.t += mri_simu.k;\n",
        "        stepcounter += 1;\n",
        "\n",
        "    mri_simu.elapsed_time = time.time() - start_time\n",
        "    print(\"Successfully Completed! Elapsed time: %f seconds\"%mri_simu.elapsed_time)   \n",
        "    \n",
        "    # Post-processing\n",
        "    one = Function(mydomain.V)\n",
        "    one.vector()[:] = 1\n",
        "    whole_vol = assemble(one*dx)\n",
        "    voi = assemble(mri_simu.Dirac_Delta*dx)\n",
        "    if mydomain.IsDomainMultiple == True:\n",
        "        u0r_0, u0i_0, u1r_0, u1i_0 = split(mri_simu.u_0)\n",
        "        initial0 = assemble((1-mydomain.phase)*mri_simu.Dirac_Delta*dx);\n",
        "        signal0 = assemble(((1-mydomain.phase)*u0r_0)*dx);\n",
        "        initial1 = assemble(mydomain.phase*mri_simu.Dirac_Delta*dx)\n",
        "        signal1 = assemble((mydomain.phase*u1r_0)*dx);\n",
        "        signal = assemble((mydomain.phase*u1r_0+(1-mydomain.phase)*u0r_0)*dx);\n",
        "        print('Signal on each compartment')\n",
        "        print('Sum initial0: %.3e, Signal0: %.3e'%(initial0, signal0))\n",
        "        print('Sum initial1: %.3e, Signal1: %.3e'%(initial1, signal1))\n",
        "        out_text = 'b: %.3f, g: %.3f, q: %.3e, Signal: %.3e, Normalized signal: %.3e, kappa: %.3e, dt: %.3f, hmin: %.3f, whole_vol: %.3f, vol_of_interest: %.3f, Free signal: %.3e, elasped time %.3f (s)\\n'%(mri_para.bvalue, mri_para.gvalue, mri_para.qvalue, signal, signal/voi, mydomain.kappa, mri_simu.k, mydomain.hmin, whole_vol, voi, exp(-mri_para.bvalue*mydomain.D0), mri_simu.elapsed_time)\n",
        "        print(out_text)\n",
        "        V0 = FunctionSpace(mydomain.mesh0, mydomain.Ve);\n",
        "        V1 = FunctionSpace(mydomain.mesh1, mydomain.Ve);\n",
        "        u0r_0p = project(u0r_0,V0)\n",
        "        u1r_0p = project(u1r_0,V1)\n",
        "        if mydomain.tdim==mydomain.gdim and not(plt==None):\n",
        "            plt.figure(10000);\n",
        "            plot(u0r_0p, cmap=\"coolwarm\")\n",
        "            plt.figure(10001);            \n",
        "            plot(u1r_0p, cmap=\"coolwarm\")  \n",
        "        File(\"u0r.pvd\")<<u0r_0p\n",
        "        File(\"u1r.pvd\")<<u1r_0p\n",
        "    else:\n",
        "        ur, ui = split(mri_simu.u_0)\n",
        "        signal = assemble(ur*dx);\n",
        "        out_text = 'b: %.3f, g: %.3f, q: %.3e, Signal: %.3e, Normalized signal: %.3e, dt: %.3f, hmin: %.3e, whole_vol: %.3f, vol_of_interest: %.3f, Free signal: %.3e, elasped time %.3f (s)\\n'%(mri_para.bvalue, mri_para.gvalue, mri_para.qvalue, signal, signal/voi, mri_simu.k, mydomain.hmin, whole_vol, voi, exp(-mri_para.bvalue*mydomain.D0), mri_simu.elapsed_time)\n",
        "        print(out_text)\n",
        "        V = FunctionSpace(mydomain.mymesh,mydomain.Ve);\n",
        "        ur_p = project(ur,V)\n",
        "        if mydomain.tdim==mydomain.gdim and not(plt==None): \n",
        "            plt.figure(10000);\n",
        "            plot(ur_p, cmap=\"coolwarm\")\n",
        "        File(\"ur.pvd\")<<ur_p\n",
        "    signal_array.append(signal)\n",
        "    voi_array.append(voi)\n",
        "    whole_vol_array.append(whole_vol);\n",
        "    \n",
        "    comm = MPI.comm_world\n",
        "    rank = comm.Get_rank()    \n",
        "    \n",
        "    print(\"save to log.txt\")\n",
        "    outfile = open('log.txt', 'a')\n",
        "    if int(rank) == 0:\n",
        "            outfile.write(out_text)\n",
        "    outfile.close()  "
      ],
      "execution_count": 0,
      "outputs": [
        {
          "output_type": "stream",
          "text": [
            "Domain size: xmin=-168.304857, ymin=-6.314897, zmin=-37.306071, xmax=90.533933, ymax=162.324000, zmax=38.639986\n",
            "Function Space for Single Domains has 2 components\n",
            "(ur, ui): r-real, i-imaginary\n",
            "Initialize a standard function space.\n",
            "t:   0.00  T: 53700.00 dt: 200.0 qvalue: 0.000000e+00 Completed 0.00%\n",
            "t: 20000.00  T: 53700.00 dt: 200.0 qvalue: 0.000000e+00 Completed 37.11%\n",
            "t: 40000.00  T: 53700.00 dt: 200.0 qvalue: 0.000000e+00 Completed 74.21%\n",
            "Successfully Completed! Elapsed time: 4.039970 seconds\n",
            "b: 0.000, g: 0.000, q: 0.000e+00, Signal: 2.462e+03, Normalized signal: 1.000e+00, dt: 200.000, hmin: 7.022e-01, whole_vol: 2462.124, vol_of_interest: 2462.124, Free signal: 1.000e+00, elasped time 4.040 (s)\n",
            "\n",
            "save to log.txt\n",
            "Domain size: xmin=-168.304857, ymin=-6.314897, zmin=-37.306071, xmax=90.533933, ymax=162.324000, zmax=38.639986\n",
            "Function Space for Single Domains has 2 components\n",
            "(ur, ui): r-real, i-imaginary\n",
            "Initialize a standard function space.\n",
            "t:   0.00  T: 53700.00 dt: 200.0 qvalue: 1.499786e-05 Completed 0.00%\n",
            "t: 20000.00  T: 53700.00 dt: 200.0 qvalue: 1.499786e-05 Completed 37.11%\n",
            "t: 40000.00  T: 53700.00 dt: 200.0 qvalue: 1.499786e-05 Completed 74.21%\n",
            "Successfully Completed! Elapsed time: 6.536101 seconds\n",
            "b: 1000.000, g: 0.056, q: 1.500e-05, Signal: 1.311e+03, Normalized signal: 5.323e-01, dt: 200.000, hmin: 7.022e-01, whole_vol: 2462.124, vol_of_interest: 2462.124, Free signal: 4.979e-02, elasped time 6.536 (s)\n",
            "\n",
            "save to log.txt\n",
            "Domain size: xmin=-168.304857, ymin=-6.314897, zmin=-37.306071, xmax=90.533933, ymax=162.324000, zmax=38.639986\n",
            "Function Space for Single Domains has 2 components\n",
            "(ur, ui): r-real, i-imaginary\n",
            "Initialize a standard function space.\n",
            "t:   0.00  T: 53700.00 dt: 200.0 qvalue: 2.121018e-05 Completed 0.00%\n"
          ],
          "name": "stdout"
        }
      ]
    },
    {
      "cell_type": "code",
      "metadata": {
        "id": "awM7TF1v8f2k",
        "colab_type": "code",
        "colab": {}
      },
      "source": [
        "import numpy as np\n",
        "plt.plot(bvalues, np.divide(signal_array,signal_array[0]))\n",
        "plt.xlabel('b (s/mm^2)')\n",
        "plt.ylabel('S(b)/S(0)')"
      ],
      "execution_count": 0,
      "outputs": []
    }
  ]
}