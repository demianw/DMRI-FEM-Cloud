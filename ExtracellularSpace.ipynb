{
  "nbformat": 4,
  "nbformat_minor": 0,
  "metadata": {
    "colab": {
      "name": "ExtracellularSpace.ipynb",
      "version": "0.3.2",
      "provenance": [],
      "collapsed_sections": [
        "vS_YdSbqFOln",
        "9SJXe6I5JUwF",
        "6l4kvMZQb3z6",
        "r6GW2fwLE042"
      ],
      "toc_visible": true,
      "include_colab_link": true
    },
    "kernelspec": {
      "name": "python3",
      "display_name": "Python 3"
    },
    "accelerator": "GPU"
  },
  "cells": [
    {
      "cell_type": "markdown",
      "metadata": {
        "id": "view-in-github",
        "colab_type": "text"
      },
      "source": [
        "<a href=\"https://colab.research.google.com/github/van-dang/MRI-Cloud/blob/master/ExtracellularSpace.ipynb\" target=\"_parent\"><img src=\"https://colab.research.google.com/assets/colab-badge.svg\" alt=\"Open In Colab\"/></a>"
      ]
    },
    {
      "metadata": {
        "id": "vS_YdSbqFOln",
        "colab_type": "text"
      },
      "cell_type": "markdown",
      "source": [
        "# About the code"
      ]
    },
    {
      "metadata": {
        "id": "CiQ9r51xKgWh",
        "colab_type": "code",
        "colab": {}
      },
      "cell_type": "code",
      "source": [
        "# This program solves the Bloch-Torrey equation applied to computational diffusion MRI using \n",
        "# the finite element method coupled with the theta-method for the spatial discretization.\n",
        "\n",
        "# The scope of usage: \n",
        "# (1) Single domains, Multilayered structures, manifolds\n",
        "# (2) Membrane permeability for internal interfaces\n",
        "#     Artificial permeability at the external interfaces\n",
        "# (3) pure homogeneous Neumann BCs, (4) pseudo-periodic BCs\n",
        "\n",
        "# Copyright (C) 2019 Van-Dang Nguyen (vdnguyen@kth.se)\n",
        "\n",
        "# This file is part of DOLFIN.\n",
        "\n",
        "# DOLFIN is free software: you can redistribute it and/or modify\n",
        "# it under the terms of the GNU Lesser General Public License as published by\n",
        "# the Free Software Foundation, either version 3 of the License, or\n",
        "# (at your option) any later version.\n",
        "\n",
        "# DOLFIN is distributed in the hope that it will be useful,\n",
        "# but WITHOUT ANY WARRANTY; without even the implied warranty of\n",
        "# MERCHANTABILITY or FITNESS FOR A PARTICULAR PURPOSE. See the\n",
        "# GNU Lesser General Public License for more details.\n",
        "\n",
        "# You should have received a copy of the GNU Lesser General Public License\n",
        "# along with DOLFIN. If not, see <http://www.gnu.org/licenses/>.\n",
        "\n",
        "# First added:  2017-10-10\n",
        "# Last changed: 2019-04-25\n",
        "\n",
        "# This demo is maintained by Van-Dang Nguyen\n",
        "# Please report possible problems to vdnguyen@kth.se"
      ],
      "execution_count": 0,
      "outputs": []
    },
    {
      "metadata": {
        "id": "9SJXe6I5JUwF",
        "colab_type": "text"
      },
      "cell_type": "markdown",
      "source": [
        "# Setting a working environment with FEniCS"
      ]
    },
    {
      "metadata": {
        "id": "4jWzVxURFVLj",
        "colab_type": "code",
        "outputId": "a535225f-a958-4626-bc61-197ea2781ec6",
        "colab": {
          "base_uri": "https://localhost:8080/",
          "height": 54
        }
      },
      "cell_type": "code",
      "source": [
        "from google.colab import files\n",
        "\n",
        "import platform, sys\n",
        "python_version=platform.python_version()\n",
        "from distutils.version import LooseVersion, StrictVersion\n",
        "\n",
        "if ( LooseVersion(python_version) < LooseVersion(\"3.0.0\")):\n",
        "    print(\"Python3 is needed!\");\n",
        "    print(\"How to fix: Runtime/Change_runtime_type/Python 3\");\n",
        "    sys.exit()\n",
        "    \n",
        "try:\n",
        "    from dolfin import *; from mshr import *\n",
        "except ImportError as e:\n",
        "    !apt-get install -y -qq software-properties-common python-software-properties module-init-tools\n",
        "    !add-apt-repository -y ppa:fenics-packages/fenics\n",
        "    !apt-get update -qq\n",
        "    !apt install -y --no-install-recommends fenics\n",
        "    from dolfin import *; from mshr import *\n",
        "\n",
        "gmsh_dir=!which gmsh\n",
        "if len(gmsh_dir)==0:\n",
        "  !apt-get install gmsh\n",
        "    \n",
        "import matplotlib.pyplot as plt;\n",
        "from IPython.display import clear_output, display; import time; import dolfin.common.plotting as fenicsplot \n",
        "import time\n",
        "\n",
        "import os, sys, shutil\n",
        "\n",
        "clear_output()\n",
        "\n",
        "dolfin_version = dolfin.__version__\n",
        "print ('dolfin version:', dolfin_version)\n",
        "\n",
        "!rm -rf * # clean up all files\n",
        "\n",
        "# Disable warnings\n",
        "import logging\n",
        "logging.basicConfig(level=logging.DEBUG)\n",
        "logger = logging.getLogger(\"rothemain.rothe_utils\")\n",
        "logging.getLogger('UFL').setLevel(logging.WARNING)\n",
        "logging.getLogger('FFC').setLevel(logging.WARNING)\n",
        "\n",
        "import warnings\n",
        "warnings.filterwarnings(\"ignore\")\n"
      ],
      "execution_count": 2,
      "outputs": [
        {
          "output_type": "stream",
          "text": [
            "dolfin version: 2018.1.0\n"
          ],
          "name": "stdout"
        }
      ]
    },
    {
      "metadata": {
        "id": "6l4kvMZQb3z6",
        "colab_type": "text"
      },
      "cell_type": "markdown",
      "source": [
        "#Load pre-defined functions"
      ]
    },
    {
      "metadata": {
        "id": "x3L26nGPb7kZ",
        "colab_type": "code",
        "outputId": "64b041d9-9b97-4b25-86d0-e6d7ba078786",
        "colab": {
          "base_uri": "https://localhost:8080/",
          "height": 63
        }
      },
      "cell_type": "code",
      "source": [
        "exists = os.path.isfile('DmriFemBuitInFunc.py')\n",
        "isupdate = False\n",
        "if (exists==False or isupdate==True):\n",
        "    if isupdate==True:\n",
        "        !rm DmriFemBuitInFunc.py\n",
        "    print(\"Load pre-defined functions from GitHub\")\n",
        "    !wget --quiet https://raw.githubusercontent.com/van-dang/MRI-Cloud/master/DmriFemBuitInFunc.py\n",
        "\n",
        "from DmriFemBuitInFunc import *\n",
        "\n",
        "class MRI_parameters():\n",
        "    def __init__(self):\n",
        "        # Initialize default parameters\n",
        "        self.bvalue = None\n",
        "        self.qvalue = None        \n",
        "        self.gdir = [1, 0, 0];\n",
        "        self.stype='PGSE'\n",
        "        self.nperiod = 0; # number of period for OGSE sequences\n",
        "    def set_gradient_dir(self, mymesh, g0, g1, g2):\n",
        "        gdim = mymesh.geometry().dim()\n",
        "        if gdim==2:\n",
        "            self.gdir = Point(g0, g1)\n",
        "            self.gdir /= self.gdir.norm()\n",
        "            self.g = Expression((\"g0\",\"g1\"), g0=self.gdir.x(), g1=self.gdir.y(),domain=mymesh, degree=1);\n",
        "        if gdim==3:\n",
        "            self.gdir = Point(g0, g1, g2)\n",
        "            self.gdir /= self.gdir.norm()        \n",
        "            self.g = Expression((\"g0\",\"g1\",\"g2\"), g0=self.gdir.x(), g1=self.gdir.y(), g2=self.gdir.z(),domain=mymesh, degree=1);\n",
        "    def time_profile(self, t):\n",
        "        ft1, ft2 = 0, 0;\n",
        "        if self.stype=='PGSE':\n",
        "            ft1 = 1.0*(t>=0 and t<self.delta) \n",
        "            ft2 = -1.0*(t>=self.Delta and t<=self.Delta+self.delta);\n",
        "        if self.stype=='cos_OGSE':\n",
        "            ft1 =  cos(2.0*self.nperiod*pi*t/self.delta)*(t>=0 and t<self.delta);\n",
        "            ft2 = -cos(2.0*self.nperiod*pi*(t-2.*self.delta)/self.delta)*(t>=Delta and t<=self.Delta+self.delta);\n",
        "        return ft1 + ft2; \n",
        "    def itime_profile(self, t): \n",
        "        # integrate ft\n",
        "        ft1, ft2, ft3 = 0, 0, 0;\n",
        "        if self.stype=='PGSE':\n",
        "            ft1 = t*(t>=0 and t<self.delta) \n",
        "            ft2 = self.delta*(t>=self.delta and t<self.Delta) \n",
        "            ft3 = (self.delta - t + self.Delta)*(t>=self.Delta and t<=self.Delta+self.delta) \n",
        "        if self.stype=='cos_OGSE':\n",
        " \t          ft1 = 1.0/2.0*self.delta*sin(2.0*t*self.nperiod*pi/self.delta)/self.nperiod/pi * (t >= 0 and  t <= self.delta)\n",
        " \t          ft2 = 1.0/2.0*self.delta*(sin(2.0*self.Delta*self.nperiod*pi/self.delta)-sin(2.0*t*self.nperiod*pi/self.delta))/nperiod/pi *(t>=self.Delta and t<=self.Delta+self.delta)\n",
        "        return ft1 + ft2 + ft3;  \n",
        "    def convert_b2g(self):\n",
        "        self.gnorm = 0;\n",
        "        if (self.stype == 'PGSE'):\n",
        "            self.gnorm = sqrt(self.bvalue)/sqrt(self.delta*self.delta*(self.Delta-self.delta/3.0));\n",
        "        if (self.stype == 'cos_OGSE'):\n",
        "            self.gnorm = sqrt(self.bvalue/(1./8.*self.delta*self.delta*self.delta*(3.-cos(4.*self.nperiod*pi/self.delta*self.Delta))/(self.nperiod*self.nperiod)/(pi*pi)));\n",
        "        if (self.stype == 'sin_OGSE'):\n",
        "            self.gnorm = sqrt(self.bvalue/(1./8.*self.delta*self.delta*self.delta*(5.+cos(4.*self.nperiod*pi/self.delta*self.Delta))/(self.nperiod*self.nperiod)/(pi*pi)));\n",
        "        return self.gnorm\n",
        "    def convert_g2b(self):\n",
        "        self.bvalue = 0;\n",
        "        if (self.stype == 'PGSE'):\n",
        "            self.bvalue = self.gnorm*self.gnorm*self.delta*self.delta*(self.Delta-self.delta/3.0);\n",
        "        if (self.stype == 'cos_OGSE'):\n",
        "            self.bvalue=self.gnorm*self.gnorm*1./8.*self.delta*self.delta*self.delta*(3.-cos(4.*self.nperiod*pi/self.delta*self.Delta))/(self.nperiod*self.nperiod)/(pi*pi);\n",
        "        if (self.stype == 'sin_OGSE'):\n",
        "\t          self.bvalue=self.gnorm*self.gnorm*1./8.*self.delta*self.delta*self.delta*(5.+cos(4.*self.nperiod*pi/self.delta*self.Delta))/(self.nperiod*self.nperiod)/(pi*pi);\n",
        "        return self.bvalue\n",
        "      \n",
        "    def Apply(self):\n",
        "        self.T = self.Delta+self.delta;\n",
        "        if not(self.bvalue==None):\n",
        "            self.gnorm = self.convert_b2g();\n",
        "            self.qvalue = convert_g2q(self.gnorm);\n",
        "        elif not(self.qvalue==None):\n",
        "            self.gnorm = convert_q2g(self.qvalue);\n",
        "            self.bvalue = self.convert_g2b();\n",
        "        elif (self.bvalue==None and self.bvalue==None):\n",
        "            print(\"bvalue or qvalue need to be specified.\")\n",
        "            sys.exit()      \n",
        "          \n",
        "class MRI_simulation():\n",
        "    def __init__(self):\n",
        "          self.nskip = 5;    # Output frequency (for visualization only)\n",
        "          self.theta = 0.5;  # theta=0.5: midpoint method\n",
        "\n",
        "    def InitialCondition(self, mydomain):\n",
        "          if mydomain.gdim==2:\n",
        "              Dirac_Delta = Expression(\"x[0]*x[0]+x[1]*x[1]<eps\",eps=1e6, domain=mydomain.mymesh, degree=1);\n",
        "          if mydomain.gdim==3:\n",
        "              Dirac_Delta = Expression(\"x[0]*x[0]+x[1]*x[1]+x[2]*x[2]<eps\",eps=1e6, domain=mydomain.mymesh, degree=1);\n",
        "          Dirac_Delta = interpolate(Dirac_Delta, mydomain.V);\n",
        "          u_0 = Function(mydomain.W);\n",
        "          assign(u_0.sub(0), Dirac_Delta)\n",
        "          if (mydomain.IsDomainMultiple==True):\n",
        "              assign(u_0.sub(2), Dirac_Delta)  \n",
        "          return Dirac_Delta, u_0\n",
        "        \n",
        "    def solve(self, mydomain, mri_para, linsolver): \n",
        "      \n",
        "          self.Dirac_Delta, self.u_0 = self.InitialCondition(mydomain)\n",
        "          \n",
        "          stepcounter = 0;\n",
        "\n",
        "          M = MassMatrix(mydomain);\n",
        "\n",
        "          self.t = 0;\n",
        "          ft_prev  =  mri_para.time_profile(self.t);\n",
        "          ift_prev = mri_para.itime_profile(self.t);\n",
        "\n",
        "          start_time = time.time()\n",
        "          \n",
        "          while self.t < mri_para.T + self.k: # Time-stepping loop\n",
        "              if stepcounter % self.nskip == 0:\n",
        "                  print('t: %6.2f '%self.t, 'T: %6.2f'%mri_para.T, 'dt: %.1f'%self.k,'gnorm: %e'%mri_para.gnorm,'Completed %3.2f%%'%(float(self.t)/float(mri_para.T+mri_simu.k)*100.0));\n",
        "\n",
        "              ft = mri_para.time_profile(self.t);\n",
        "              ift = mri_para.itime_profile(self.t);\n",
        "              L = ThetaMethodL(ft_prev, ift_prev, mri_para, self, mydomain);\n",
        "              A = 1/self.k*M + assemble(ThetaMethodF(ft, ift, mri_para, self, mydomain))\n",
        "\n",
        "              b = assemble(L);\n",
        "              \n",
        "              linsolver.solve(A, self.u_0.vector(),b);\n",
        "\n",
        "              ft_prev  = ft;\n",
        "              ift_prev = ift;\n",
        "\n",
        "              self.t += self.k;\n",
        "              stepcounter += 1;\n",
        "\n",
        "          elapsed_time = time.time() - start_time\n",
        "          print(\"Successfully Completed! Elapsed time: %f seconds\"%elapsed_time)"
      ],
      "execution_count": 3,
      "outputs": [
        {
          "output_type": "stream",
          "text": [
            "Load pre-defined functions from GitHub\n"
          ],
          "name": "stdout"
        }
      ]
    },
    {
      "metadata": {
        "id": "r6GW2fwLE042",
        "colab_type": "text"
      },
      "cell_type": "markdown",
      "source": [
        "# Working on the mesh"
      ]
    },
    {
      "metadata": {
        "id": "ksCOgH6e6d8e",
        "colab_type": "code",
        "outputId": "3f219848-71e4-430e-c2ea-56caf4625fb6",
        "colab": {
          "base_uri": "https://localhost:8080/",
          "height": 170
        }
      },
      "cell_type": "code",
      "source": [
        "!rm -rf *\n",
        "\n",
        "file_name='2E_ExtraCellular_group_vol'\n",
        "file_dir='https://raw.githubusercontent.com/van-dang/MRI-Cloud/mesh/'+file_name+'.msh.zip'\n",
        "\n",
        "!wget -q $file_dir\n",
        "!unzip -q $file_name''.msh.zip\n",
        "!dolfin-convert $file_name''.msh $file_name''.xml\n",
        "!sed -i 's/dim=\"2\"/dim=\"3\"/g' $file_name''.xml\n",
        "\n",
        "mymesh = Mesh(neuron_name+'.xml');\n",
        "gdim = mymesh.geometry().dim()\n",
        "tdim = mymesh.topology().dim()\n",
        "\n",
        "print('Topological dimension: ',tdim)\n",
        "print('Geometrical dimension: ',gdim)\n",
        "print('Mesh size: #vertices: '+str(mymesh.num_vertices()) +', #elements: '+str(mymesh.num_cells()) );"
      ],
      "execution_count": 9,
      "outputs": [
        {
          "output_type": "stream",
          "text": [
            "Converting from Gmsh format (.msh, .gmsh) to DOLFIN XML format\n",
            "Expecting 190818 vertices\n",
            "Found all vertices\n",
            "Expecting 773149 cells\n",
            "Found all cells\n",
            "Conversion done\n",
            "Topological dimension:  3\n",
            "Geometrical dimension:  3\n",
            "Mesh size: #vertices: 190818, #elements: 773149\n"
          ],
          "name": "stdout"
        }
      ]
    },
    {
      "metadata": {
        "id": "aFEvif9PF2yH",
        "colab_type": "text"
      },
      "cell_type": "markdown",
      "source": [
        "# Solve the Bloch-Torrey equation"
      ]
    },
    {
      "metadata": {
        "id": "DYZ5SWlw69tQ",
        "colab_type": "code",
        "outputId": "6f475579-b4ca-4dfe-b7ef-09e8dfca7300",
        "colab": {
          "base_uri": "https://localhost:8080/",
          "height": 782
        }
      },
      "cell_type": "code",
      "source": [
        "mri_simu = MRI_simulation()\n",
        "mri_para = MRI_parameters()\n",
        "\n",
        "#################################################################################\n",
        "#########################  Pre-defined parameters ###############################\n",
        "mri_para.stype='PGSE'                                # sequence type\n",
        "mri_para.bvalue = 1000;                              # bvalue\n",
        "mri_para.delta, mri_para.Delta = 10000, 10000        # time sequence\n",
        "mri_para.set_gradient_dir(mymesh, 0, 1, 0)           # gradient direction\n",
        "mri_para.Apply()\n",
        "mri_simu.k = 500;                                    # time-step size\n",
        "mri_simu.nskip = 1;                                  # frequency to print ouputs\n",
        "mydomain = MyDomain(mymesh, mri_para)\n",
        "mydomain.phase = None\n",
        "mydomain.PeriodicDir = [0, 0, 0];             # Direction of the periodicity\n",
        "mydomain.IsDomainPeriodic = False             # Confirm if the mesh if periodic\n",
        "mydomain.IsDomainMultiple = False             # Confirm if the mesh is multiple\n",
        "mydomain.kappa = 1e-5                         # Permeability\n",
        "################################################################################\n",
        "mydomain.Apply()   # Call Apply before setting the diffusion tensor\n",
        "################################################################################\n",
        "# Impose the diffusion coefficient\n",
        "D0 = 3e-3\n",
        "mydomain.D = D0;\n",
        "#################################################################################\n",
        "\n",
        "mri_simu.solve(mydomain, mri_para, PETScLUSolver(\"mumps\"))"
      ],
      "execution_count": 11,
      "outputs": [
        {
          "output_type": "stream",
          "text": [
            "Function Space for Single Domains has 2 components\n",
            "(ur, ui): r-real, i-imaginary\n",
            "Initialize a standard function space.\n",
            "t:   0.00  T: 20000.00 dt: 500.0 gnorm: 3.872983e-05 Completed 0.00%\n",
            "t: 500.00  T: 20000.00 dt: 500.0 gnorm: 3.872983e-05 Completed 2.44%\n",
            "t: 1000.00  T: 20000.00 dt: 500.0 gnorm: 3.872983e-05 Completed 4.88%\n",
            "t: 1500.00  T: 20000.00 dt: 500.0 gnorm: 3.872983e-05 Completed 7.32%\n",
            "t: 2000.00  T: 20000.00 dt: 500.0 gnorm: 3.872983e-05 Completed 9.76%\n",
            "t: 2500.00  T: 20000.00 dt: 500.0 gnorm: 3.872983e-05 Completed 12.20%\n",
            "t: 3000.00  T: 20000.00 dt: 500.0 gnorm: 3.872983e-05 Completed 14.63%\n",
            "t: 3500.00  T: 20000.00 dt: 500.0 gnorm: 3.872983e-05 Completed 17.07%\n",
            "t: 4000.00  T: 20000.00 dt: 500.0 gnorm: 3.872983e-05 Completed 19.51%\n",
            "t: 4500.00  T: 20000.00 dt: 500.0 gnorm: 3.872983e-05 Completed 21.95%\n",
            "t: 5000.00  T: 20000.00 dt: 500.0 gnorm: 3.872983e-05 Completed 24.39%\n",
            "t: 5500.00  T: 20000.00 dt: 500.0 gnorm: 3.872983e-05 Completed 26.83%\n",
            "t: 6000.00  T: 20000.00 dt: 500.0 gnorm: 3.872983e-05 Completed 29.27%\n",
            "t: 6500.00  T: 20000.00 dt: 500.0 gnorm: 3.872983e-05 Completed 31.71%\n",
            "t: 7000.00  T: 20000.00 dt: 500.0 gnorm: 3.872983e-05 Completed 34.15%\n",
            "t: 7500.00  T: 20000.00 dt: 500.0 gnorm: 3.872983e-05 Completed 36.59%\n",
            "t: 8000.00  T: 20000.00 dt: 500.0 gnorm: 3.872983e-05 Completed 39.02%\n",
            "t: 8500.00  T: 20000.00 dt: 500.0 gnorm: 3.872983e-05 Completed 41.46%\n",
            "t: 9000.00  T: 20000.00 dt: 500.0 gnorm: 3.872983e-05 Completed 43.90%\n",
            "t: 9500.00  T: 20000.00 dt: 500.0 gnorm: 3.872983e-05 Completed 46.34%\n",
            "t: 10000.00  T: 20000.00 dt: 500.0 gnorm: 3.872983e-05 Completed 48.78%\n",
            "t: 10500.00  T: 20000.00 dt: 500.0 gnorm: 3.872983e-05 Completed 51.22%\n",
            "t: 11000.00  T: 20000.00 dt: 500.0 gnorm: 3.872983e-05 Completed 53.66%\n",
            "t: 11500.00  T: 20000.00 dt: 500.0 gnorm: 3.872983e-05 Completed 56.10%\n",
            "t: 12000.00  T: 20000.00 dt: 500.0 gnorm: 3.872983e-05 Completed 58.54%\n",
            "t: 12500.00  T: 20000.00 dt: 500.0 gnorm: 3.872983e-05 Completed 60.98%\n",
            "t: 13000.00  T: 20000.00 dt: 500.0 gnorm: 3.872983e-05 Completed 63.41%\n",
            "t: 13500.00  T: 20000.00 dt: 500.0 gnorm: 3.872983e-05 Completed 65.85%\n",
            "t: 14000.00  T: 20000.00 dt: 500.0 gnorm: 3.872983e-05 Completed 68.29%\n",
            "t: 14500.00  T: 20000.00 dt: 500.0 gnorm: 3.872983e-05 Completed 70.73%\n",
            "t: 15000.00  T: 20000.00 dt: 500.0 gnorm: 3.872983e-05 Completed 73.17%\n",
            "t: 15500.00  T: 20000.00 dt: 500.0 gnorm: 3.872983e-05 Completed 75.61%\n",
            "t: 16000.00  T: 20000.00 dt: 500.0 gnorm: 3.872983e-05 Completed 78.05%\n",
            "t: 16500.00  T: 20000.00 dt: 500.0 gnorm: 3.872983e-05 Completed 80.49%\n",
            "t: 17000.00  T: 20000.00 dt: 500.0 gnorm: 3.872983e-05 Completed 82.93%\n",
            "t: 17500.00  T: 20000.00 dt: 500.0 gnorm: 3.872983e-05 Completed 85.37%\n",
            "t: 18000.00  T: 20000.00 dt: 500.0 gnorm: 3.872983e-05 Completed 87.80%\n",
            "t: 18500.00  T: 20000.00 dt: 500.0 gnorm: 3.872983e-05 Completed 90.24%\n",
            "t: 19000.00  T: 20000.00 dt: 500.0 gnorm: 3.872983e-05 Completed 92.68%\n",
            "t: 19500.00  T: 20000.00 dt: 500.0 gnorm: 3.872983e-05 Completed 95.12%\n",
            "t: 20000.00  T: 20000.00 dt: 500.0 gnorm: 3.872983e-05 Completed 97.56%\n",
            "Successfully Completed! Elapsed time: 515.639336 seconds\n"
          ],
          "name": "stdout"
        }
      ]
    },
    {
      "metadata": {
        "id": "ztNZifqEygOy",
        "colab_type": "text"
      },
      "cell_type": "markdown",
      "source": [
        "#Post-processing"
      ]
    },
    {
      "metadata": {
        "id": "_y4SIuvYyjM4",
        "colab_type": "code",
        "outputId": "cb64981c-5581-46d2-af53-513ffc07f6fd",
        "colab": {
          "base_uri": "https://localhost:8080/",
          "height": 390
        }
      },
      "cell_type": "code",
      "source": [
        "if mydomain.IsDomainMultiple == True:\n",
        "    u0r_0, u0i_0, u1r_0, u1i_0 = split(mri_simu.u_0)\n",
        "    signal0 = assemble(((1-mydomain.phase)*u0r_0)*dx)/assemble((1-mydomain.phase)*mri_simu.Dirac_Delta*dx);\n",
        "    signal1 = assemble((mydomain.phase*u1r_0)*dx)/assemble(mydomain.phase*mri_simu.Dirac_Delta*dx);\n",
        "    signal = assemble((mydomain.phase*u1r_0+(1-mydomain.phase)*u0r_0)*dx)/assemble(mri_simu.Dirac_Delta*dx);\n",
        "    print('Signal on each compartment')\n",
        "    print('Signal0: %.3e'%signal0)\n",
        "    print('Signal1: %.3e'%signal1)\n",
        "    print('b:',mri_para.bvalue, 'Signal: %.3e'%signal,'kappa: %.3e'%mydomain.kappa,', dt: ',mri_simu.k,', hmin: ',mydomain.hmin, ', Free signal: %.3e'%(exp(-mri_para.bvalue*D0)))\n",
        "    V0 = FunctionSpace(mesh0, mydomain.Ve);\n",
        "    V1 = FunctionSpace(mesh1, mydomain.Ve);\n",
        "    u0r_0p = project(u0r_0,V0)\n",
        "    u1r_0p = project(u1r_0,V1)\n",
        "    plot(u0r_0p, cmap=\"coolwarm\")\n",
        "    plot(u1r_0p, cmap=\"coolwarm\")  \n",
        "else:\n",
        "    ur, ui = split(mri_simu.u_0)\n",
        "    signal = assemble(ur*dx)/assemble(mri_simu.Dirac_Delta*dx);\n",
        "    print('b:',mri_para.bvalue, 'Signal: %.3e'%signal,', dt: ',mri_simu.k,', hmin: ',mydomain.hmin, ', Free signal: %.3e'%(exp(-mri_para.bvalue*D0)))\n",
        "    V = FunctionSpace(mymesh,mydomain.Ve);\n",
        "    ur_p = project(ur,V)\n",
        "    plot(ur_p, cmap=\"coolwarm\")"
      ],
      "execution_count": 12,
      "outputs": [
        {
          "output_type": "stream",
          "text": [
            "b: 1000 Signal: 9.018e-01 , dt:  500 , hmin:  0.00042734878258709243 , Free signal: 4.979e-02\n"
          ],
          "name": "stdout"
        },
        {
          "output_type": "stream",
          "text": [
            "DEBUG:matplotlib.font_manager:findfont: Matching :family=sans-serif:style=normal:variant=normal:weight=normal:stretch=normal:size=10.0 to DejaVu Sans ('/usr/local/lib/python3.6/dist-packages/matplotlib/mpl-data/fonts/ttf/DejaVuSans.ttf') with score of 0.050000.\n",
            "DEBUG:matplotlib.axes._base:update_title_pos\n",
            "DEBUG:matplotlib.axes._base:update_title_pos\n",
            "DEBUG:matplotlib.axes._base:update_title_pos\n",
            "DEBUG:matplotlib.axes._base:update_title_pos\n"
          ],
          "name": "stderr"
        },
        {
          "output_type": "display_data",
          "data": {
            "image/png": "[encoded data removed]",
            "text/plain": [
              "<Figure size 432x288 with 1 Axes>"
            ]
          },
          "metadata": {
            "tags": []
          }
        }
      ]
    }
  ]
}