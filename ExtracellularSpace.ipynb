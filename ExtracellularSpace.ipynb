{
  "nbformat": 4,
  "nbformat_minor": 0,
  "metadata": {
    "colab": {
      "name": "ExtracellularSpace.ipynb",
      "version": "0.3.2",
      "provenance": [],
      "collapsed_sections": [
        "vS_YdSbqFOln",
        "9SJXe6I5JUwF",
        "6l4kvMZQb3z6",
        "r6GW2fwLE042"
      ],
      "toc_visible": true,
      "include_colab_link": true
    },
    "kernelspec": {
      "name": "python3",
      "display_name": "Python 3"
    },
    "accelerator": "GPU"
  },
  "cells": [
    {
      "cell_type": "markdown",
      "metadata": {
        "id": "view-in-github",
        "colab_type": "text"
      },
      "source": [
        "<a href=\"https://colab.research.google.com/github/van-dang/MRI-Cloud/blob/master/ExtracellularSpace.ipynb\" target=\"_parent\"><img src=\"https://colab.research.google.com/assets/colab-badge.svg\" alt=\"Open In Colab\"/></a>"
      ]
    },
    {
      "cell_type": "markdown",
      "metadata": {
        "id": "vS_YdSbqFOln",
        "colab_type": "text"
      },
      "source": [
        "# About the code"
      ]
    },
    {
      "cell_type": "code",
      "metadata": {
        "id": "CiQ9r51xKgWh",
        "colab_type": "code",
        "colab": {}
      },
      "source": [
        "# This program solves the Bloch-Torrey equation applied to computational diffusion MRI using \n",
        "# the finite element method coupled with the theta-method for the spatial discretization.\n",
        "\n",
        "# The scope of usage: \n",
        "# (1) Single domains, Multilayered structures, manifolds\n",
        "# (2) Membrane permeability for internal interfaces\n",
        "#     Artificial permeability at the external interfaces\n",
        "# (3) pure homogeneous Neumann BCs, (4) pseudo-periodic BCs\n",
        "\n",
        "# Copyright (C) 2019 Van-Dang Nguyen (vdnguyen@kth.se)\n",
        "\n",
        "# This file is part of DOLFIN.\n",
        "\n",
        "# DOLFIN is free software: you can redistribute it and/or modify\n",
        "# it under the terms of the GNU Lesser General Public License as published by\n",
        "# the Free Software Foundation, either version 3 of the License, or\n",
        "# (at your option) any later version.\n",
        "\n",
        "# DOLFIN is distributed in the hope that it will be useful,\n",
        "# but WITHOUT ANY WARRANTY; without even the implied warranty of\n",
        "# MERCHANTABILITY or FITNESS FOR A PARTICULAR PURPOSE. See the\n",
        "# GNU Lesser General Public License for more details.\n",
        "\n",
        "# You should have received a copy of the GNU Lesser General Public License\n",
        "# along with DOLFIN. If not, see <http://www.gnu.org/licenses/>.\n",
        "\n",
        "# First added:  2017-10-10\n",
        "# Last changed: 2019-04-25\n",
        "\n",
        "# This demo is maintained by Van-Dang Nguyen\n",
        "# Please report possible problems to vdnguyen@kth.se"
      ],
      "execution_count": 0,
      "outputs": []
    },
    {
      "cell_type": "markdown",
      "metadata": {
        "id": "9SJXe6I5JUwF",
        "colab_type": "text"
      },
      "source": [
        "# Setting a working environment with FEniCS"
      ]
    },
    {
      "cell_type": "code",
      "metadata": {
        "id": "4jWzVxURFVLj",
        "colab_type": "code",
        "outputId": "1cfc572b-d237-44e5-c878-a8e197ea45cc",
        "colab": {
          "base_uri": "https://localhost:8080/",
          "height": 34
        }
      },
      "source": [
        "try:\n",
        "    from google.colab import files\n",
        "except:\n",
        "    print(\"The program is running with local host\")\n",
        "    \n",
        "import platform, sys\n",
        "python_version=platform.python_version()\n",
        "from distutils.version import LooseVersion, StrictVersion\n",
        "\n",
        "if ( LooseVersion(python_version) < LooseVersion(\"3.0.0\")):\n",
        "    print(\"Python3 is needed!\");\n",
        "    print(\"How to fix: Runtime/Change_runtime_type/Python 3\");\n",
        "    sys.exit()\n",
        "    \n",
        "try:\n",
        "    from dolfin import *; from mshr import *\n",
        "except ImportError as e:\n",
        "    !apt-get install -y -qq software-properties-common python-software-properties module-init-tools\n",
        "    !add-apt-repository -y ppa:fenics-packages/fenics\n",
        "    !apt-get update -qq\n",
        "    !apt install -y --no-install-recommends fenics\n",
        "    from dolfin import *; from mshr import *\n",
        "\n",
        "gmsh_dir=!which gmsh\n",
        "if len(gmsh_dir)==0:\n",
        "  !apt-get install gmsh\n",
        "    \n",
        "import matplotlib.pyplot as plt;\n",
        "from IPython.display import clear_output, display; import time; import dolfin.common.plotting as fenicsplot \n",
        "import time\n",
        "\n",
        "import os, sys, shutil\n",
        "\n",
        "clear_output()\n",
        "\n",
        "dolfin_version = dolfin.__version__\n",
        "print ('dolfin version:', dolfin_version)\n",
        "\n",
        "# Disable warnings\n",
        "import logging\n",
        "logging.basicConfig(level=logging.DEBUG)\n",
        "logger = logging.getLogger(\"rothemain.rothe_utils\")\n",
        "logging.getLogger('UFL').setLevel(logging.WARNING)\n",
        "logging.getLogger('FFC').setLevel(logging.WARNING)\n",
        "\n",
        "import warnings\n",
        "warnings.filterwarnings(\"ignore\")\n"
      ],
      "execution_count": 3,
      "outputs": [
        {
          "output_type": "stream",
          "text": [
            "dolfin version: 2019.1.0\n"
          ],
          "name": "stdout"
        }
      ]
    },
    {
      "cell_type": "markdown",
      "metadata": {
        "id": "6l4kvMZQb3z6",
        "colab_type": "text"
      },
      "source": [
        "#Load pre-defined functions"
      ]
    },
    {
      "cell_type": "code",
      "metadata": {
        "id": "x3L26nGPb7kZ",
        "colab_type": "code",
        "outputId": "fcba3d0c-095f-411e-8723-b861aa3b341e",
        "colab": {
          "base_uri": "https://localhost:8080/",
          "height": 34
        }
      },
      "source": [
        "import sympy as sp  \n",
        "exists = os.path.isfile('DmriFemBuitInFunc.py')\n",
        "isupdate = False\n",
        "if (exists==False or isupdate==True):\n",
        "    if isupdate==True:\n",
        "        !rm DmriFemBuitInFunc.py\n",
        "    print(\"Load pre-defined functions from GitHub\")\n",
        "    !wget --quiet https://raw.githubusercontent.com/van-dang/MRI-Cloud/master/DmriFemBuitInFunc.py\n",
        "from DmriFemBuitInFunc import *"
      ],
      "execution_count": 4,
      "outputs": [
        {
          "output_type": "stream",
          "text": [
            "Load pre-defined functions from GitHub\n"
          ],
          "name": "stdout"
        }
      ]
    },
    {
      "cell_type": "markdown",
      "metadata": {
        "id": "r6GW2fwLE042",
        "colab_type": "text"
      },
      "source": [
        "# Working on the mesh"
      ]
    },
    {
      "cell_type": "code",
      "metadata": {
        "id": "ksCOgH6e6d8e",
        "colab_type": "code",
        "outputId": "8b4e4b2b-05bb-4148-8a4c-448d2b97cc32",
        "colab": {
          "base_uri": "https://localhost:8080/",
          "height": 190
        }
      },
      "source": [
        "file_name='2E_ExtraCellular_group_10um_vol'\n",
        "zip_exists = os.path.isfile(file_name+'.msh')\n",
        "if zip_exists==False:\n",
        "    file_dir='https://raw.githubusercontent.com/van-dang/MRI-Cloud/mesh/'+file_name+'.msh.zip'\n",
        "    !wget -q $file_dir\n",
        "    !unzip -q $file_name''.msh.zip\n",
        "!dolfin-convert $file_name''.msh $file_name''.xml\n",
        "\n",
        "mymesh = Mesh(file_name+'.xml');\n",
        "gdim = mymesh.geometry().dim()\n",
        "tdim = mymesh.topology().dim()\n",
        "\n",
        "print('Topological dimension: ',tdim)\n",
        "print('Geometrical dimension: ',gdim)\n",
        "print('Mesh size: #vertices: '+str(mymesh.num_vertices()) +', #elements: '+str(mymesh.num_cells()) );"
      ],
      "execution_count": 0,
      "outputs": [
        {
          "output_type": "stream",
          "text": [
            "Converting from Gmsh format (.msh, .gmsh) to DOLFIN XML format\n",
            "Expecting 504294 vertices\n",
            "Found all vertices\n",
            "Expecting 1505982 cells\n",
            "Found all cells\n",
            "Conversion done\n",
            "Topological dimension:  3\n",
            "Geometrical dimension:  3\n",
            "Mesh size: #vertices: 504294, #elements: 1505982\n"
          ],
          "name": "stdout"
        }
      ]
    },
    {
      "cell_type": "markdown",
      "metadata": {
        "id": "aFEvif9PF2yH",
        "colab_type": "text"
      },
      "source": [
        "# Solve the Bloch-Torrey equation"
      ]
    },
    {
      "cell_type": "code",
      "metadata": {
        "id": "DYZ5SWlw69tQ",
        "colab_type": "code",
        "outputId": "f08cfb3b-015b-491d-d4c5-fdde6a5cc617",
        "colab": {
          "base_uri": "https://localhost:8080/",
          "height": 968
        }
      },
      "source": [
        "mri_simu = MRI_simulation()\n",
        "mri_para = MRI_parameters()\n",
        "\n",
        "#################################################################################\n",
        "#########################  Pre-defined parameters ###############################\n",
        "mri_para.stype='PGSE'                                # sequence type\n",
        "mri_para.bvalue = 4000;                              # bvalue\n",
        "mri_para.delta, mri_para.Delta = 10600, 43100        # time sequence\n",
        "mri_para.set_gradient_dir(mymesh, 0, 1, 0)           # gradient direction\n",
        "\n",
        "mri_para.T = mri_para.Delta+mri_para.delta\n",
        "mri_para.fs_sym = sp.Piecewise(\n",
        "                (  1., mri_para.s < mri_para.delta ),\n",
        "                (  0., mri_para.s < mri_para.Delta ),\n",
        "                ( -1., mri_para.s < mri_para.T ),\n",
        "                (  0., True )  \n",
        "            ) \n",
        "\n",
        "mri_para.Apply()\n",
        "mri_simu.k = 2000;                                   # time-step size\n",
        "mri_simu.nskip = 1;                                  # frequency to print ouputs\n",
        "mydomain = MyDomain(mymesh, mri_para)\n",
        "mydomain.phase = None\n",
        "mydomain.PeriodicDir = [0, 0, 0];             # Direction of the periodicity\n",
        "mydomain.IsDomainPeriodic = False             # Confirm if the mesh if periodic\n",
        "mydomain.IsDomainMultiple = False             # Confirm if the mesh is multiple\n",
        "mydomain.kappa = 1e-5                         # Permeability\n",
        "################################################################################\n",
        "mydomain.Apply()   # Call Apply before setting the diffusion tensor\n",
        "################################################################################\n",
        "# Impose the diffusion coefficient\n",
        "mydomain.D0 = 3e-3\n",
        "mydomain.D = mydomain.D0;\n",
        "#################################################################################\n",
        "\n",
        "mri_simu.solve(mydomain, mri_para, PETScLUSolver(\"mumps\"))\n",
        "\n",
        "Post_processing(mydomain, mri_para, mri_simu, plt, 'Extracellular Simulation')\n",
        "# Post_processing(mydomain, mri_simu,'Extracellular Simulation')"
      ],
      "execution_count": 0,
      "outputs": [
        {
          "output_type": "stream",
          "text": [
            "Function Space for Single Domains has 2 components\n",
            "(ur, ui): r-real, i-imaginary\n",
            "Initialize a standard function space.\n",
            "t:   0.00  T: 53700.00 dt: 2000.0 gnorm: 2.999573e-05 Completed 0.00%\n",
            "t: 2000.00  T: 53700.00 dt: 2000.0 gnorm: 2.999573e-05 Completed 3.59%\n",
            "t: 4000.00  T: 53700.00 dt: 2000.0 gnorm: 2.999573e-05 Completed 7.18%\n",
            "t: 6000.00  T: 53700.00 dt: 2000.0 gnorm: 2.999573e-05 Completed 10.77%\n",
            "t: 8000.00  T: 53700.00 dt: 2000.0 gnorm: 2.999573e-05 Completed 14.36%\n",
            "t: 10000.00  T: 53700.00 dt: 2000.0 gnorm: 2.999573e-05 Completed 17.95%\n",
            "t: 12000.00  T: 53700.00 dt: 2000.0 gnorm: 2.999573e-05 Completed 21.54%\n",
            "t: 14000.00  T: 53700.00 dt: 2000.0 gnorm: 2.999573e-05 Completed 25.13%\n",
            "t: 16000.00  T: 53700.00 dt: 2000.0 gnorm: 2.999573e-05 Completed 28.73%\n",
            "t: 18000.00  T: 53700.00 dt: 2000.0 gnorm: 2.999573e-05 Completed 32.32%\n",
            "t: 20000.00  T: 53700.00 dt: 2000.0 gnorm: 2.999573e-05 Completed 35.91%\n",
            "t: 22000.00  T: 53700.00 dt: 2000.0 gnorm: 2.999573e-05 Completed 39.50%\n",
            "t: 24000.00  T: 53700.00 dt: 2000.0 gnorm: 2.999573e-05 Completed 43.09%\n",
            "t: 26000.00  T: 53700.00 dt: 2000.0 gnorm: 2.999573e-05 Completed 46.68%\n",
            "t: 28000.00  T: 53700.00 dt: 2000.0 gnorm: 2.999573e-05 Completed 50.27%\n",
            "t: 30000.00  T: 53700.00 dt: 2000.0 gnorm: 2.999573e-05 Completed 53.86%\n",
            "t: 32000.00  T: 53700.00 dt: 2000.0 gnorm: 2.999573e-05 Completed 57.45%\n",
            "t: 34000.00  T: 53700.00 dt: 2000.0 gnorm: 2.999573e-05 Completed 61.04%\n",
            "t: 36000.00  T: 53700.00 dt: 2000.0 gnorm: 2.999573e-05 Completed 64.63%\n",
            "t: 38000.00  T: 53700.00 dt: 2000.0 gnorm: 2.999573e-05 Completed 68.22%\n",
            "t: 40000.00  T: 53700.00 dt: 2000.0 gnorm: 2.999573e-05 Completed 71.81%\n",
            "t: 42000.00  T: 53700.00 dt: 2000.0 gnorm: 2.999573e-05 Completed 75.40%\n",
            "t: 44000.00  T: 53700.00 dt: 2000.0 gnorm: 2.999573e-05 Completed 78.99%\n",
            "t: 46000.00  T: 53700.00 dt: 2000.0 gnorm: 2.999573e-05 Completed 82.59%\n",
            "t: 48000.00  T: 53700.00 dt: 2000.0 gnorm: 2.999573e-05 Completed 86.18%\n",
            "t: 50000.00  T: 53700.00 dt: 2000.0 gnorm: 2.999573e-05 Completed 89.77%\n",
            "t: 52000.00  T: 53700.00 dt: 2000.0 gnorm: 2.999573e-05 Completed 93.36%\n",
            "t: 54000.00  T: 53700.00 dt: 2000.0 gnorm: 2.999573e-05 Completed 96.95%\n",
            "Successfully Completed! Elapsed time: 919.099784 seconds\n",
            "b: 4000.000, Signal: 6.379e+01, Normalized signal: 5.242e-01, dt: 2000.000, hmin: 2.107e-03, whole_vol: 121.679, vol_of_interest: 121.679, Free signal: 6.144e-06, elasped time 919.100 (s)\n",
            "\n",
            "save to log.txt\n"
          ],
          "name": "stdout"
        },
        {
          "output_type": "stream",
          "text": [
            "DEBUG:matplotlib.font_manager:findfont: Matching :family=sans-serif:style=normal:variant=normal:weight=normal:stretch=normal:size=10.0 to DejaVu Sans ('/usr/local/lib/python3.6/dist-packages/matplotlib/mpl-data/fonts/ttf/DejaVuSans.ttf') with score of 0.050000.\n",
            "DEBUG:matplotlib.axes._base:update_title_pos\n",
            "DEBUG:matplotlib.axes._base:update_title_pos\n",
            "DEBUG:matplotlib.axes._base:update_title_pos\n",
            "DEBUG:matplotlib.axes._base:update_title_pos\n"
          ],
          "name": "stderr"
        },
        {
          "output_type": "display_data",
          "data": {
            "image/png": "[encoded data removed]",
            "text/plain": [
              "<Figure size 432x288 with 1 Axes>"
            ]
          },
          "metadata": {
            "tags": []
          }
        }
      ]
    }
  ]
}