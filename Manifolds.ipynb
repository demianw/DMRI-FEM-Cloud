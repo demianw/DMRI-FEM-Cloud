{
  "nbformat": 4,
  "nbformat_minor": 0,
  "metadata": {
    "colab": {
      "name": "Manifolds.ipynb",
      "version": "0.3.2",
      "provenance": [],
      "collapsed_sections": [
        "vS_YdSbqFOln",
        "9SJXe6I5JUwF",
        "6l4kvMZQb3z6",
        "r6GW2fwLE042"
      ],
      "toc_visible": true,
      "include_colab_link": true
    },
    "kernelspec": {
      "name": "python3",
      "display_name": "Python 3"
    },
    "accelerator": "GPU"
  },
  "cells": [
    {
      "cell_type": "markdown",
      "metadata": {
        "id": "view-in-github",
        "colab_type": "text"
      },
      "source": [
        "<a href=\"https://colab.research.google.com/github/van-dang/MRI-Cloud/blob/master/Manifolds.ipynb\" target=\"_parent\"><img src=\"https://colab.research.google.com/assets/colab-badge.svg\" alt=\"Open In Colab\"/></a>"
      ]
    },
    {
      "cell_type": "markdown",
      "metadata": {
        "id": "vS_YdSbqFOln",
        "colab_type": "text"
      },
      "source": [
        "# About the code"
      ]
    },
    {
      "cell_type": "code",
      "metadata": {
        "id": "CiQ9r51xKgWh",
        "colab_type": "code",
        "colab": {}
      },
      "source": [
        "# This program solves the Bloch-Torrey equation applied to computational diffusion MRI using \n",
        "# the finite element method coupled with the theta-method for the spatial discretization.\n",
        "\n",
        "# The scope of usage: \n",
        "# (1) Single domains, Multilayered structures, manifolds\n",
        "# (2) Membrane permeability for internal interfaces\n",
        "#     Artificial permeability at the external interfaces\n",
        "# (3) pure homogeneous Neumann BCs, (4) pseudo-periodic BCs\n",
        "\n",
        "# Copyright (C) 2019 Van-Dang Nguyen (vdnguyen@kth.se)\n",
        "\n",
        "# This file is part of DOLFIN.\n",
        "\n",
        "# DOLFIN is free software: you can redistribute it and/or modify\n",
        "# it under the terms of the GNU Lesser General Public License as published by\n",
        "# the Free Software Foundation, either version 3 of the License, or\n",
        "# (at your option) any later version.\n",
        "\n",
        "# DOLFIN is distributed in the hope that it will be useful,\n",
        "# but WITHOUT ANY WARRANTY; without even the implied warranty of\n",
        "# MERCHANTABILITY or FITNESS FOR A PARTICULAR PURPOSE. See the\n",
        "# GNU Lesser General Public License for more details.\n",
        "\n",
        "# You should have received a copy of the GNU Lesser General Public License\n",
        "# along with DOLFIN. If not, see <http://www.gnu.org/licenses/>.\n",
        "\n",
        "# First added:  2017-10-10\n",
        "# Last changed: 2019-04-25\n",
        "\n",
        "# This demo is maintained by Van-Dang Nguyen\n",
        "# Please report possible problems to vdnguyen@kth.se"
      ],
      "execution_count": 0,
      "outputs": []
    },
    {
      "cell_type": "markdown",
      "metadata": {
        "id": "9SJXe6I5JUwF",
        "colab_type": "text"
      },
      "source": [
        "# Setting a working environment with FEniCS"
      ]
    },
    {
      "cell_type": "code",
      "metadata": {
        "id": "4jWzVxURFVLj",
        "colab_type": "code",
        "outputId": "17411a77-c41c-494f-a0f0-121ddaec7bfc",
        "colab": {
          "base_uri": "https://localhost:8080/",
          "height": 51
        }
      },
      "source": [
        "try:\n",
        "    from google.colab import files\n",
        "except:\n",
        "    print(\"You are running on a local runtime\")\n",
        "\n",
        "import platform, sys\n",
        "python_version=platform.python_version()\n",
        "from distutils.version import LooseVersion, StrictVersion\n",
        "\n",
        "if ( LooseVersion(python_version) < LooseVersion(\"3.0.0\")):\n",
        "    print(\"Python3 is needed!\");\n",
        "    print(\"How to fix: Runtime/Change_runtime_type/Python 3\");\n",
        "    sys.exit()\n",
        "    \n",
        "try:\n",
        "    from dolfin import *; from mshr import *\n",
        "except ImportError as e:\n",
        "    !apt-get install -y -qq software-properties-common python-software-properties module-init-tools\n",
        "    !add-apt-repository -y ppa:fenics-packages/fenics\n",
        "    !apt-get update -qq\n",
        "    !apt install -y --no-install-recommends fenics\n",
        "    from dolfin import *; from mshr import *\n",
        "\n",
        "gmsh_dir=!which gmsh\n",
        "if len(gmsh_dir)==0:\n",
        "  !apt-get install gmsh\n",
        "    \n",
        "import matplotlib.pyplot as plt;\n",
        "from IPython.display import clear_output, display; import time; import dolfin.common.plotting as fenicsplot \n",
        "import time\n",
        "\n",
        "import os, sys, shutil\n",
        "\n",
        "import sympy as sp\n",
        "\n",
        "\n",
        "clear_output()\n",
        "\n",
        "dolfin_version = dolfin.__version__\n",
        "print ('dolfin version:', dolfin_version)\n",
        "\n",
        "# Disable warnings\n",
        "import logging\n",
        "logging.basicConfig(level=logging.DEBUG)\n",
        "logger = logging.getLogger(\"rothemain.rothe_utils\")\n",
        "logging.getLogger('UFL').setLevel(logging.WARNING)\n",
        "logging.getLogger('FFC').setLevel(logging.WARNING)\n",
        "\n",
        "import warnings\n",
        "warnings.filterwarnings(\"ignore\")\n"
      ],
      "execution_count": 3,
      "outputs": [
        {
          "output_type": "stream",
          "text": [
            "DEBUG:matplotlib.pyplot:Loaded backend module://ipykernel.pylab.backend_inline version unknown.\n"
          ],
          "name": "stderr"
        },
        {
          "output_type": "stream",
          "text": [
            "dolfin version: 2019.1.0\n"
          ],
          "name": "stdout"
        }
      ]
    },
    {
      "cell_type": "markdown",
      "metadata": {
        "id": "6l4kvMZQb3z6",
        "colab_type": "text"
      },
      "source": [
        "#Load pre-defined functions"
      ]
    },
    {
      "cell_type": "code",
      "metadata": {
        "id": "x3L26nGPb7kZ",
        "colab_type": "code",
        "colab": {
          "base_uri": "https://localhost:8080/",
          "height": 34
        },
        "outputId": "4d564a07-964c-4308-b16f-70f8d127e14f"
      },
      "source": [
        "import sympy as sp  \n",
        "exists = os.path.isfile('DmriFemBuitInFunc.py')\n",
        "isupdate = False\n",
        "if (exists==False or isupdate==True):\n",
        "    if isupdate==True:\n",
        "        !rm DmriFemBuitInFunc.py\n",
        "    print(\"Load pre-defined functions from GitHub\")\n",
        "    !wget --quiet https://raw.githubusercontent.com/van-dang/MRI-Cloud/master/DmriFemBuitInFunc.py\n",
        "from DmriFemBuitInFunc import *"
      ],
      "execution_count": 4,
      "outputs": [
        {
          "output_type": "stream",
          "text": [
            "Load pre-defined functions from GitHub\n"
          ],
          "name": "stdout"
        }
      ]
    },
    {
      "cell_type": "markdown",
      "metadata": {
        "id": "r6GW2fwLE042",
        "colab_type": "text"
      },
      "source": [
        "# Working on the mesh"
      ]
    },
    {
      "cell_type": "code",
      "metadata": {
        "id": "ksCOgH6e6d8e",
        "colab_type": "code",
        "colab": {}
      },
      "source": [
        "geo_choice = 2\n",
        "if geo_choice == 1:\n",
        "    mesh_file = \"fru_M_100383_1D.xml\"\n",
        "else:    \n",
        "    mesh_file = \"fru_M_100383_3D.xml\"\n",
        "mesh_file_exists = os.path.isfile(mesh_file)\n",
        "if (mesh_file_exists==False):\n",
        "    !wget https://github.com/van-dang/MRI-Cloud/raw/mesh/$mesh_file''.zip  \n",
        "    !unzip -q $mesh_file''.zip\n",
        "mymesh = Mesh(mesh_file);"
      ],
      "execution_count": 0,
      "outputs": []
    },
    {
      "cell_type": "markdown",
      "metadata": {
        "id": "aFEvif9PF2yH",
        "colab_type": "text"
      },
      "source": [
        "# Solve the Bloch-Torrey equation"
      ]
    },
    {
      "cell_type": "code",
      "metadata": {
        "id": "DYZ5SWlw69tQ",
        "colab_type": "code",
        "outputId": "79e90d41-17a8-4772-c12d-c7a7f0914010",
        "colab": {
          "base_uri": "https://localhost:8080/",
          "height": 204
        }
      },
      "source": [
        "mri_simu = MRI_simulation()\n",
        "mri_para = MRI_parameters()\n",
        "\n",
        "bvalues = [500, 1000, 2000, 3000, 4000, 5000, 6000, 10000]\n",
        "\n",
        "for bvalue in bvalues:\n",
        "    #################################################################################\n",
        "    #########################  Pre-defined parameters ###############################\n",
        "    mri_para.stype='PGSE'                                # sequence type\n",
        "    mri_para.bvalue = bvalue;                              # bvalue\n",
        "    mri_para.delta, mri_para.Delta = 10600, 43100        # time sequence\n",
        "    mri_para.set_gradient_dir(mymesh, 1, 1, 1)           # gradient direction\n",
        "\n",
        "    mri_para.T = mri_para.Delta+mri_para.delta\n",
        "    mri_para.fs_sym = sp.Piecewise(\n",
        "                    (  1., mri_para.s < mri_para.delta ),\n",
        "                    (  0., mri_para.s < mri_para.Delta ),\n",
        "                    ( -1., mri_para.s < mri_para.T ),\n",
        "                    (  0., True )  \n",
        "                ) \n",
        "\n",
        "\n",
        "    mri_para.Apply()\n",
        "    mri_simu.k = 200;                                    # time-step size\n",
        "    mri_simu.nskip = 1;                                  # frequency to print ouputs\n",
        "    mydomain = MyDomain(mymesh, mri_para)\n",
        "    mydomain.PeriodicDir = [0, 0, 0];             # Direction of the periodicity\n",
        "    mydomain.IsDomainPeriodic = False             # Confirm if the mesh if periodic\n",
        "    mydomain.IsDomainMultiple = False             # Confirm if the mesh is multiple\n",
        "    ################################################################################\n",
        "    mydomain.Apply()   # Call Apply before setting the diffusion tensor\n",
        "    ################################################################################\n",
        "    # Impose the diffusion coefficient\n",
        "    mydomain.D = 3e-3;\n",
        "    #################################################################################\n",
        "\n",
        "    # linsolver = PETScLUSolver(\"mumps\")\n",
        "    linsolver = KrylovSolver(\"bicgstab\")\n",
        "    linsolver.parameters[\"absolute_tolerance\"] = 1e-4\n",
        "    linsolver.parameters[\"relative_tolerance\"] = 1e-3\n",
        "    linsolver.parameters[\"maximum_iterations\"] = 1000\n",
        "    \n",
        "    mri_simu.solve(mydomain, mri_para, linsolver)\n",
        "\n",
        "    ctext = \"\"\n",
        "    if bvalue==bvalues[0]:\n",
        "        ctext = \"3D realistic neuron, kcoeff=3e-3, delta=10600us, Delta=43100us, dt=200us, gdir=100\"\n",
        "    PostProcessing(mydomain, mri_para, mri_simu, None, ctext)"
      ],
      "execution_count": 0,
      "outputs": [
        {
          "output_type": "stream",
          "text": [
            "Domain size: xmin=-168.890000, ymin=-7.254665, zmin=-38.484026, xmax=91.187600, ymax=167.578938, zmax=42.647693\n",
            "Function Space for Single Domains has 2 components\n",
            "(ur, ui): r-real, i-imaginary\n",
            "Initialize a standard function space.\n",
            "t:   0.00  T: 53700.00 dt: 200.0 qvalue: 1.060509e-05 Completed 0.00%\n",
            "t: 200.00  T: 53700.00 dt: 200.0 qvalue: 1.060509e-05 Completed 0.37%\n",
            "t: 400.00  T: 53700.00 dt: 200.0 qvalue: 1.060509e-05 Completed 0.74%\n",
            "t: 600.00  T: 53700.00 dt: 200.0 qvalue: 1.060509e-05 Completed 1.11%\n",
            "t: 800.00  T: 53700.00 dt: 200.0 qvalue: 1.060509e-05 Completed 1.48%\n",
            "t: 1000.00  T: 53700.00 dt: 200.0 qvalue: 1.060509e-05 Completed 1.86%\n",
            "t: 1200.00  T: 53700.00 dt: 200.0 qvalue: 1.060509e-05 Completed 2.23%\n"
          ],
          "name": "stdout"
        }
      ]
    }
  ]
}