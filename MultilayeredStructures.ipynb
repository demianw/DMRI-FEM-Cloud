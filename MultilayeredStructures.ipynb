{
  "nbformat": 4,
  "nbformat_minor": 0,
  "metadata": {
    "colab": {
      "name": "MultilayeredStructures.ipynb",
      "version": "0.3.2",
      "provenance": [],
      "collapsed_sections": [
        "vS_YdSbqFOln",
        "9SJXe6I5JUwF",
        "6l4kvMZQb3z6",
        "r6GW2fwLE042"
      ],
      "toc_visible": true,
      "include_colab_link": true
    },
    "kernelspec": {
      "name": "python3",
      "display_name": "Python 3"
    },
    "accelerator": "GPU"
  },
  "cells": [
    {
      "cell_type": "markdown",
      "metadata": {
        "id": "view-in-github",
        "colab_type": "text"
      },
      "source": [
        "<a href=\"https://colab.research.google.com/github/van-dang/MRI-Cloud/blob/master/MultilayeredStructures.ipynb\" target=\"_parent\"><img src=\"https://colab.research.google.com/assets/colab-badge.svg\" alt=\"Open In Colab\"/></a>"
      ]
    },
    {
      "cell_type": "markdown",
      "metadata": {
        "id": "vS_YdSbqFOln",
        "colab_type": "text"
      },
      "source": [
        "# About the code"
      ]
    },
    {
      "cell_type": "code",
      "metadata": {
        "id": "CiQ9r51xKgWh",
        "colab_type": "code",
        "colab": {}
      },
      "source": [
        "# This program solves the Bloch-Torrey equation applied to computational diffusion MRI using \n",
        "# the finite element method coupled with the theta-method for the spatial discretization.\n",
        "\n",
        "# The scope of usage: \n",
        "# (1) Single domains, Multilayered structures, manifolds\n",
        "# (2) Membrane permeability for internal interfaces\n",
        "#     Artificial permeability at the external interfaces\n",
        "# (3) pure homogeneous Neumann BCs, (4) pseudo-periodic BCs\n",
        "\n",
        "# Copyright (C) 2019 Van-Dang Nguyen (vdnguyen@kth.se)\n",
        "\n",
        "# This file is part of DOLFIN.\n",
        "\n",
        "# DOLFIN is free software: you can redistribute it and/or modify\n",
        "# it under the terms of the GNU Lesser General Public License as published by\n",
        "# the Free Software Foundation, either version 3 of the License, or\n",
        "# (at your option) any later version.\n",
        "\n",
        "# DOLFIN is distributed in the hope that it will be useful,\n",
        "# but WITHOUT ANY WARRANTY; without even the implied warranty of\n",
        "# MERCHANTABILITY or FITNESS FOR A PARTICULAR PURPOSE. See the\n",
        "# GNU Lesser General Public License for more details.\n",
        "\n",
        "# You should have received a copy of the GNU Lesser General Public License\n",
        "# along with DOLFIN. If not, see <http://www.gnu.org/licenses/>.\n",
        "\n",
        "# First added:  2017-10-10\n",
        "# Last changed: 2019-04-25\n",
        "\n",
        "# This demo is maintained by Van-Dang Nguyen\n",
        "# Please report possible problems to vdnguyen@kth.se"
      ],
      "execution_count": 0,
      "outputs": []
    },
    {
      "cell_type": "markdown",
      "metadata": {
        "id": "9SJXe6I5JUwF",
        "colab_type": "text"
      },
      "source": [
        "# Setting a working environment with FEniCS"
      ]
    },
    {
      "cell_type": "code",
      "metadata": {
        "id": "4jWzVxURFVLj",
        "colab_type": "code",
        "outputId": "706d6263-b83e-4f4a-e941-39f89c6f686c",
        "colab": {
          "base_uri": "https://localhost:8080/",
          "height": 63
        }
      },
      "source": [
        "from google.colab import files\n",
        "\n",
        "import platform, sys\n",
        "python_version=platform.python_version()\n",
        "from distutils.version import LooseVersion, StrictVersion\n",
        "\n",
        "if ( LooseVersion(python_version) < LooseVersion(\"3.0.0\")):\n",
        "    print(\"Python3 is needed!\");\n",
        "    print(\"How to fix: Runtime/Change_runtime_type/Python 3\");\n",
        "    sys.exit()\n",
        "    \n",
        "try:\n",
        "    from dolfin import *; from mshr import *\n",
        "except ImportError as e:\n",
        "    !apt-get install -y -qq software-properties-common python-software-properties module-init-tools\n",
        "    !add-apt-repository -y ppa:fenics-packages/fenics\n",
        "    !apt-get update -qq\n",
        "    !apt install -y --no-install-recommends fenics\n",
        "    from dolfin import *; from mshr import *\n",
        "\n",
        "gmsh_dir=!which gmsh\n",
        "if len(gmsh_dir)==0:\n",
        "  !apt-get install gmsh\n",
        "    \n",
        "import matplotlib.pyplot as plt;\n",
        "from IPython.display import clear_output, display; import time; import dolfin.common.plotting as fenicsplot \n",
        "import time\n",
        "\n",
        "import os, sys, shutil\n",
        "\n",
        "clear_output()\n",
        "\n",
        "dolfin_version = dolfin.__version__\n",
        "print ('dolfin version:', dolfin_version)\n",
        "\n",
        "!rm -rf * # clean up all files\n",
        "\n",
        "# Disable warnings\n",
        "import logging\n",
        "logging.basicConfig(level=logging.DEBUG)\n",
        "logger = logging.getLogger(\"rothemain.rothe_utils\")\n",
        "logging.getLogger('UFL').setLevel(logging.WARNING)\n",
        "logging.getLogger('FFC').setLevel(logging.WARNING)\n",
        "\n",
        "import warnings\n",
        "warnings.filterwarnings(\"ignore\")\n"
      ],
      "execution_count": 6,
      "outputs": [
        {
          "output_type": "stream",
          "text": [
            "dolfin version: 2019.1.0\n"
          ],
          "name": "stdout"
        }
      ]
    },
    {
      "cell_type": "markdown",
      "metadata": {
        "id": "6l4kvMZQb3z6",
        "colab_type": "text"
      },
      "source": [
        "#Load pre-defined functions"
      ]
    },
    {
      "cell_type": "code",
      "metadata": {
        "id": "x3L26nGPb7kZ",
        "colab_type": "code",
        "outputId": "b3887dbb-3fbe-4198-a358-a3c0ba2ab248",
        "colab": {
          "base_uri": "https://localhost:8080/",
          "height": 63
        }
      },
      "source": [
        "import sympy as sp  \n",
        "exists = os.path.isfile('DmriFemBuitInFunc.py')\n",
        "isupdate = False\n",
        "if (exists==False or isupdate==True):\n",
        "    if isupdate==True:\n",
        "        !rm DmriFemBuitInFunc.py\n",
        "    print(\"Load pre-defined functions from GitHub\")\n",
        "    !wget --quiet https://raw.githubusercontent.com/van-dang/MRI-Cloud/master/DmriFemBuitInFunc.py\n",
        "from DmriFemBuitInFunc import *\n",
        "      "
      ],
      "execution_count": 7,
      "outputs": [
        {
          "output_type": "stream",
          "text": [
            "Load pre-defined functions from GitHub\n"
          ],
          "name": "stdout"
        }
      ]
    },
    {
      "cell_type": "markdown",
      "metadata": {
        "id": "r6GW2fwLE042",
        "colab_type": "text"
      },
      "source": [
        "# Working on the mesh and submesh"
      ]
    },
    {
      "cell_type": "code",
      "metadata": {
        "id": "ksCOgH6e6d8e",
        "colab_type": "code",
        "outputId": "e7e1ea21-c064-4d46-aaac-0acee834d833",
        "colab": {
          "base_uri": "https://localhost:8080/",
          "height": 836
        }
      },
      "source": [
        "geo_choice = 2\n",
        "################################################################################\n",
        "############## Create two-layered disk using mshr in FEniCS ####################\n",
        "if geo_choice == 2:\n",
        "    R1, R2 = 5, 10;\n",
        "    origin = Point(0.,0.)\n",
        "    circle = Circle(origin, R1, segments=32)\n",
        "    domain = Circle(origin, R2, segments=32)\n",
        "    domain.set_subdomain(1, circle)\n",
        "    mymesh = generate_mesh(domain, 15) # 15 is the resolution\n",
        "    cmpt_mesh = generate_mesh(circle, 15)\n",
        "    cellmarker, phase, partition_marker, partion_list = Create_phase_func(mymesh, cmpt_mesh, None)    \n",
        "\n",
        "################################################################################\n",
        "############## Create multilayered domains using gmsh ##########################\n",
        "if geo_choice == 2:\n",
        "    # mesh_name = \"multi_layered_disk\"\n",
        "    # mesh_name = \"multi_layered_cylinder\"\n",
        "    mesh_name = \"multi_layered_sphere\"\n",
        "    # mesh_name = \"multi_layered_torus\"\n",
        "    is_partition_function_exist = os.path.isfile('GetPartitionMarkers.py')\n",
        "    if is_partition_function_exist==False:\n",
        "        !wget --quiet https://raw.githubusercontent.com/van-dang/MRI-Cloud/mesh/GetPartitionMarkers.py\n",
        "\n",
        "    is_geo_file_exist = os.path.isfile(mesh_name+'.geo')  \n",
        "    if is_geo_file_exist==False:\n",
        "        !wget --quiet https://raw.githubusercontent.com/van-dang/MRI-Cloud/mesh/$mesh_name''.geo\n",
        "\n",
        "    # Modify .geo file from 4 layers to 3 layers      \n",
        "    !sed -i 's/5, 7.5, 10, 13/5, 7.5, 10/g' $mesh_name''.geo\n",
        "      \n",
        "    # Create mesh from geo file by gmsh\n",
        "    !gmsh -3 $mesh_name''.geo -o $mesh_name''.msh\n",
        "    \n",
        "    # Convert .msh to .xml using dolfin-convert\n",
        "    !dolfin-convert $mesh_name''.msh $mesh_name''.xml\n",
        "    clear_output()\n",
        "\n",
        "    mymesh = Mesh(mesh_name+\".xml\");  \n",
        "\n",
        "    from GetPartitionMarkers import *\n",
        "\n",
        "    GetPartitionMarkers(mesh_name+\".msh\", \"pmk_\"+mesh_name+\".xml\")\n",
        "\n",
        "    partition_marker = MeshFunction(\"size_t\", mymesh, mymesh.topology().dim())\n",
        "\n",
        "    File(\"pmk_\"+mesh_name+\".xml\")>>partition_marker\n",
        "\n",
        "    cellmarker, phase, partition_marker, partion_list = Create_phase_func(mymesh, None, partition_marker)    \n",
        "\n",
        "################################################################################\n",
        "############## Download the existing mesh and submesh ##########################\n",
        "if geo_choice == 3:\n",
        "    is_file_exist = os.path.isfile(\"multi_layer_torus.xml\")  \n",
        "    if is_file_exist==False:\n",
        "        !wget --quiet https://raw.githubusercontent.com/van-dang/MRI-Cloud/master/comri/meshes/multi_layer_torus.xml.zip\n",
        "        !wget --quiet https://raw.githubusercontent.com/van-dang/MRI-Cloud/master/comri/meshes/multi_layer_torus_compt1.xml.zip\n",
        "        !unzip -q multi_layer_torus.xml.zip\n",
        "        !unzip -q multi_layer_torus_compt1.xml.zip\n",
        "        !rm -rf *.zip *MACOSX\n",
        "\n",
        "    mymesh = Mesh(\"multi_layer_torus.xml\");  \n",
        "    cmpt_mesh = Mesh('multi_layer_torus_compt1.xml')\n",
        "    cellmarker, phase, partition_marker, partion_list = Create_phase_func(mymesh, cmpt_mesh, None)    \n",
        "    \n",
        "################################################################################\n",
        "############## Save, Plot phase functions and submeshes to verify ##############\n",
        "print(\"Partition markers:\", partion_list)\n",
        "if mymesh.topology().dim()==2:\n",
        "    print(cellmarker, partition_marker)\n",
        "    plt.subplot(1, 2, 1); plot(cellmarker, cmap=\"coolwarm\", title=\"Cell marker\");\n",
        "    plt.subplot(1, 2, 2); plot(partition_marker, cmap=\"coolwarm\",  title=\"Partition marker\");\n",
        "mesh0 = SubMesh(mymesh, cellmarker, 0)\n",
        "mesh1 = SubMesh(mymesh, cellmarker, 1)\n",
        "File(\"Phase.pvd\")<<phase\n",
        "File(\"mesh0.xml\")<<mesh0\n",
        "File(\"mesh1.xml\")<<mesh1\n",
        "plt.figure(2); plot(mesh0, title=\"Compartment 0\") \n",
        "plt.figure(3); plot(mesh1, title=\"Compartment 1\")"
      ],
      "execution_count": 21,
      "outputs": [
        {
          "output_type": "stream",
          "text": [
            "Extracting cell markers from: multi_layered_sphere.msh ...\n",
            "Extracted successfully on: 3833 elements\n",
            "Partition marker list: ['0', '1', '2']\n",
            "Wrote to: pmk_multi_layered_sphere.xml\n",
            "Partition markers: [0, 1, 2]\n"
          ],
          "name": "stdout"
        },
        {
          "output_type": "stream",
          "text": [
            "DEBUG:matplotlib.axes._base:update_title_pos\n",
            "DEBUG:matplotlib.axes._base:not adjusting title pos because title was already placed manually: 0.920000\n",
            "DEBUG:matplotlib.axes._base:update_title_pos\n",
            "DEBUG:matplotlib.axes._base:title position was updated manually, not adjusting\n",
            "DEBUG:matplotlib.axes._base:update_title_pos\n",
            "DEBUG:matplotlib.axes._base:title position was updated manually, not adjusting\n",
            "DEBUG:matplotlib.axes._base:update_title_pos\n",
            "DEBUG:matplotlib.axes._base:title position was updated manually, not adjusting\n"
          ],
          "name": "stderr"
        },
        {
          "output_type": "display_data",
          "data": {
            "image/png": "[encoded data removed]",
            "text/plain": [
              "<Figure size 432x288 with 1 Axes>"
            ]
          },
          "metadata": {
            "tags": []
          }
        },
        {
          "output_type": "stream",
          "text": [
            "DEBUG:matplotlib.axes._base:update_title_pos\n",
            "DEBUG:matplotlib.axes._base:not adjusting title pos because title was already placed manually: 0.920000\n",
            "DEBUG:matplotlib.axes._base:update_title_pos\n",
            "DEBUG:matplotlib.axes._base:title position was updated manually, not adjusting\n",
            "DEBUG:matplotlib.axes._base:update_title_pos\n",
            "DEBUG:matplotlib.axes._base:title position was updated manually, not adjusting\n",
            "DEBUG:matplotlib.axes._base:update_title_pos\n",
            "DEBUG:matplotlib.axes._base:title position was updated manually, not adjusting\n"
          ],
          "name": "stderr"
        },
        {
          "output_type": "display_data",
          "data": {
            "image/png": "[encoded data removed]",
            "text/plain": [
              "<Figure size 432x288 with 1 Axes>"
            ]
          },
          "metadata": {
            "tags": []
          }
        }
      ]
    },
    {
      "cell_type": "markdown",
      "metadata": {
        "id": "aFEvif9PF2yH",
        "colab_type": "text"
      },
      "source": [
        "# Solve the Bloch-Torrey equation"
      ]
    },
    {
      "cell_type": "code",
      "metadata": {
        "id": "DYZ5SWlw69tQ",
        "colab_type": "code",
        "outputId": "519b759e-99e9-4e38-a600-bfe81b50e239",
        "colab": {
          "base_uri": "https://localhost:8080/",
          "height": 170
        }
      },
      "source": [
        "mri_simu = MRI_simulation()\n",
        "mri_para = MRI_parameters()\n",
        "\n",
        "#################################################################################\n",
        "#########################  Pre-defined parameters ###############################\n",
        "mri_para.bvalue = 1000;                              # bvalue\n",
        "mri_para.delta, mri_para.Delta = 16100, 43100        # time sequence\n",
        "mri_para.set_gradient_dir(mymesh, 1, 0, 0)           # gradient direction\n",
        "mri_para.T = mri_para.Delta+mri_para.delta\n",
        "mri_para.fs_sym = sp.Piecewise(\n",
        "                (  1., mri_para.s < mri_para.delta ),\n",
        "                (  0., mri_para.s < mri_para.Delta ),\n",
        "                ( -1., mri_para.s < mri_para.T ),\n",
        "                (  0., True )  \n",
        "            ) \n",
        "\n",
        "mri_para.Apply()\n",
        "mri_simu.k = 200;                                    # time-step size\n",
        "mri_simu.nskip = 5;                                  # frequency to print ouputs\n",
        "\n",
        "mydomain = MyDomain(mymesh, mri_para)\n",
        "mydomain.phase = phase\n",
        "mydomain.mesh0 = mesh0\n",
        "mydomain.mesh1 = mesh1\n",
        "mydomain.PeriodicDir = [0, 0, 0];            # Direction of the periodicity\n",
        "mydomain.IsDomainPeriodic = False             # Confirm if the mesh if periodic\n",
        "mydomain.IsDomainMultiple = True             # Confirm if the mesh is multiple\n",
        "mydomain.kappa = 1e-5                        # Permeability\n",
        "################################################################################\n",
        "\n",
        "mydomain.Apply()   # Call Apply before setting the diffusion tensor\n",
        "\n",
        "################################################################################\n",
        "# Impose the diffusion coefficient\n",
        "mydomain.D0 = 3e-3\n",
        "D0_array=[mydomain.D0, mydomain.D0/3, mydomain.D0]\n",
        "\n",
        "# Impose diffusion coefficient\n",
        "# mydomain.D = D0;\n",
        "\n",
        "############### Impose the diffusion tensor\n",
        "# Constant tensor\n",
        "# d00, d01, d02, d10, d11, d12, d20, d21, d22 = D0, 0, 0, 0, D0, 0, 0, 0, D0\n",
        "\n",
        "# Variable tensor\n",
        "dofmap_DG = mydomain.V_DG.dofmap()\n",
        "d00 = Function(mydomain.V_DG); d01 = Function(mydomain.V_DG); d02 = Function(mydomain.V_DG)\n",
        "d10 = Function(mydomain.V_DG); d11 = Function(mydomain.V_DG); d12 = Function(mydomain.V_DG)\n",
        "d20 = Function(mydomain.V_DG); d21 = Function(mydomain.V_DG); d22 = Function(mydomain.V_DG)\n",
        "\n",
        "for cell in cells(mymesh):\n",
        "    p = cell.midpoint() # the coordinate of the cell center.\n",
        "    cmk = partition_marker[cell.index()]\n",
        "    cell_dof = dofmap_DG.cell_dofs(cell.index())\n",
        "    d00.vector()[cell_dof] = D0_array[cmk]; \n",
        "    d11.vector()[cell_dof] = D0_array[cmk]; \n",
        "    d22.vector()[cell_dof] = D0_array[cmk];\n",
        "\n",
        "mydomain.ImposeDiffusionTensor(d00, d01, d02, d10, d11, d12, d20, d21, d22)\n",
        "#################################################################################\n",
        "#################################################################################\n",
        "\n",
        "# linsolver = PETScLUSolver(\"mumps\")\n",
        "linsolver = KrylovSolver(\"bicgstab\")\n",
        "#linsolver.parameters[\"absolute_tolerance\"] = 1e-4\n",
        "#linsolver.parameters[\"relative_tolerance\"] = 1e-3\n",
        "#linsolver.parameters[\"maximum_iterations\"] = 1000\n",
        "\n",
        "mri_simu.solve(mydomain, mri_para, linsolver)\n",
        "\n",
        "ctext = 'Sphere R=[5, 7.5, 10], Delta=40.1ms, delta=10.6ms, D=[3 1 3]*1e-3 mm^2/s, kappa=1e-5m/s'\n",
        "Post_processing(mydomain, mri_para, mri_simu, ctext)\n"
      ],
      "execution_count": 0,
      "outputs": [
        {
          "output_type": "stream",
          "text": [
            "Function Space for Two-compartment Domains has 4 components\n",
            "(ur0, ui0, ur1, ur1): r-real, i-imaginary\n",
            "Initialize a standard function space.\n",
            "Impose Diffusion Tensor\n",
            "[\n",
            "  [f_50282, f_50285, f_50288],\n",
            "  [f_50291, f_50294, f_50297],\n",
            "  [f_50300, f_50303, f_50306]\n",
            "]\n"
          ],
          "name": "stdout"
        }
      ]
    },
    {
      "cell_type": "markdown",
      "metadata": {
        "id": "2PFBYd0QMw4U",
        "colab_type": "text"
      },
      "source": [
        "# Reference solutions"
      ]
    },
    {
      "cell_type": "code",
      "metadata": {
        "id": "3paAgRxbM3yW",
        "colab_type": "code",
        "colab": {}
      },
      "source": [
        "# The results were generated by the Matrix Formalism method propsed in\n",
        "# D.S. Grebenkov, Pulsed-gradient spin-echo monitoring of restricted \n",
        "# diffusion in multilayered structures, J. Magn. Reson., 205 (2) (2010)\n",
        "\n",
        "\n",
        "# # # # # # # # # # # # # # # # D.I.S.K # # # # # # # # # # # # # # # # # # # # #\n",
        "# # # # # # # # # R=[5,7.5,10], PGSE delta=Delta=40000 # # # ## # # # # # # # # #\n",
        "# # # # # # # # # # mydomain.PeriodicDir = [0, 0, 0];\n",
        "# D=3e-3 mm^2/s, kappa=5e-5m/s\n",
        "#  bvalue    # signal attenuation\n",
        "#  0.000e+00 #  1.000e+00\n",
        "#  1.000e+03 #  7.181e-01\n",
        "#  2.000e+03 #  5.234e-01\n",
        "#  3.000e+03 #  3.899e-01\n",
        "#  4.000e+03 #  2.990e-01\n",
        "#  5.000e+03 #  2.373e-01\n",
        "#  6.000e+03 #  1.952e-01\n",
        "#  7.000e+03 #  1.661e-01\n",
        "#  8.000e+03 #  1.454e-01\n",
        "#  9.000e+03 #  1.302e-01\n",
        "#  1.000e+04 #  1.184e-01\n",
        "# # # # # # # # # # # # # # # # # # # # # # # # # # # # # # # # # # # # # # # # #\n",
        "# D=[3 1 3]*1e-3 mm^2/s, kappa=1e-5m/s\n",
        "#  0.000e+00 # 1.000e+00\n",
        "#  1.000e+03 # 7.297e-01\n",
        "#  2.000e+03 # 5.525e-01\n",
        "#  3.000e+03 # 4.381e-01\n",
        "#  4.000e+03 # 3.649e-01\n",
        "#  5.000e+03 # 3.181e-01\n",
        "#  6.000e+03 # 2.877e-01\n",
        "#  7.000e+03 # 2.672e-01\n",
        "#  8.000e+03 # 2.522e-01\n",
        "#  9.000e+03 # 2.402e-01\n",
        "#  1.000e+04 # 2.297e-01\n",
        "# # # # # # # # # # # # # # # # # # # # # # # # # # # # # # # # # # # # # # # # #\n",
        "\n",
        "\n",
        "\n",
        "# # # # # # # # # # # # # # # S.P.H.E.R.E # # # # # # # # # # # # # # # # # # # # \n",
        "# # # # # # # # # # R=[5,7.5,10], PGSE delta=Delta=40000 # # # # # # # #  # # # #\n",
        "# # # # # # # # # # mydomain.PeriodicDir = [0, 0, 0];\n",
        "# D=3e-3 mm^2/s, kappa=5e-5m/s\n",
        "#  bvalue    # signal attenuation\n",
        "#  0.000e+00 #  1.000e+00\n",
        "#  1.000e+03 #  7.886e-01\n",
        "#  2.000e+03 #  6.228e-01\n",
        "#  3.000e+03 #  4.932e-01\n",
        "#  4.000e+03 #  3.921e-01\n",
        "#  5.000e+03 #  3.135e-01\n",
        "#  6.000e+03 #  2.526e-01\n",
        "#  7.000e+03 #  2.054e-01\n",
        "#  8.000e+03 #  1.688e-01\n",
        "#  9.000e+03 #  1.406e-01\n",
        "#  1.000e+04 #  1.186e-01\n",
        "# # # # # # # # # # # # # # # # # # # # # # # # # # # # # # # # # # # # # # # # #\n",
        "# D=[3 1 3]*1e-3 mm^2/s\n",
        "#  0.000e+00 #  1.000e+00\n",
        "#  1.000e+03 #  7.707e-01\n",
        "#  2.000e+03 #  5.932e-01\n",
        "#  3.000e+03 #  4.565e-01\n",
        "#  4.000e+03 #  3.518e-01\n",
        "#  5.000e+03 #  2.721e-01\n",
        "#  6.000e+03 #  2.117e-01\n",
        "#  7.000e+03 #  1.662e-01\n",
        "#  8.000e+03 #  1.321e-01\n",
        "#  9.000e+03 #  1.065e-01\n",
        "#  1.000e+04 #  8.749e-02\n",
        "# # # # # # # # # # # # # # # # # # # # # # # # # # # # # # # # # # # # # # # # #\n",
        "\n",
        "\n",
        "# # # # # # # # # # # # # # # C.Y.L.I.N.D.E.R # # # # # # # # # # # # # # # # # # \n",
        "# # # # # # # # # # R=[5,7.5,10], PGSE delta=Delta=10000 # # # # # # # #  # # # #\n",
        "# D=3e-3 mm^2/s, kappa=5e-5m/s\n",
        "# gdir=[0, 1, 0]:\n",
        "# 0.000e+00 #  1.000e+00\n",
        "# 1.000e+03 #  4.777e-01\n",
        "# 2.000e+03 #  2.996e-01\n",
        "# 3.000e+03 #  2.235e-01\n",
        "# 4.000e+03 #  1.784e-01\n",
        "# 5.000e+03 #  1.455e-01\n",
        "# 6.000e+03 #  1.200e-01\n",
        "# 7.000e+03 #  1.003e-01\n",
        "# 8.000e+03 #  8.513e-02\n",
        "# 9.000e+03 #  7.374e-02\n",
        "# 1.000e+04 #  6.531e-02\n",
        "# gdir=[1, 0, 0]:\n",
        "# mydomain.PeriodicDir = [1, 0, 0]: s=exp(-bvalue*D0)\n",
        "# mydomain.PeriodicDir = [0, 0, 0]:\n",
        "#  bvalue    # signal attenuation\n",
        "#  0.000e+00 #  1.000e+00\n",
        "#  1.000e+03 #  2.588e-01\n",
        "#  2.000e+03 #  1.191e-01\n",
        "#  3.000e+03 #  8.646e-02\n",
        "#  4.000e+03 #  6.591e-02\n",
        "#  5.000e+03 #  5.008e-02\n",
        "#  6.000e+03 #  4.019e-02\n",
        "#  7.000e+03 #  3.460e-02\n",
        "#  8.000e+03 #  3.083e-02\n",
        "#  9.000e+03 #  2.738e-02\n",
        "#  1.000e+04 #  2.390e-02\n",
        "# # # # # # # # # # # # # # # # # # # # # # # # # # # # # # # # # # # # # # # # #"
      ],
      "execution_count": 0,
      "outputs": []
    }
  ]
}