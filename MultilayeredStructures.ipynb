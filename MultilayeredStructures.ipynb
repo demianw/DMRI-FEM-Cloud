{
  "nbformat": 4,
  "nbformat_minor": 0,
  "metadata": {
    "colab": {
      "name": "MultilayeredStructures.ipynb",
      "version": "0.3.2",
      "provenance": [],
      "collapsed_sections": [
        "vS_YdSbqFOln",
        "9SJXe6I5JUwF",
        "6l4kvMZQb3z6",
        "r6GW2fwLE042"
      ],
      "toc_visible": true,
      "include_colab_link": true
    },
    "kernelspec": {
      "name": "python3",
      "display_name": "Python 3"
    },
    "accelerator": "GPU"
  },
  "cells": [
    {
      "cell_type": "markdown",
      "metadata": {
        "id": "view-in-github",
        "colab_type": "text"
      },
      "source": [
        "<a href=\"https://colab.research.google.com/github/van-dang/MRI-Cloud/blob/master/MultilayeredStructures.ipynb\" target=\"_parent\"><img src=\"https://colab.research.google.com/assets/colab-badge.svg\" alt=\"Open In Colab\"/></a>"
      ]
    },
    {
      "metadata": {
        "id": "vS_YdSbqFOln",
        "colab_type": "text"
      },
      "cell_type": "markdown",
      "source": [
        "# About the code"
      ]
    },
    {
      "metadata": {
        "id": "CiQ9r51xKgWh",
        "colab_type": "code",
        "colab": {}
      },
      "cell_type": "code",
      "source": [
        "# This program solves the Bloch-Torrey equation applied to computational diffusion MRI using \n",
        "# the finite element method coupled with the theta-method for the spatial discretization.\n",
        "\n",
        "# The scope of usage: \n",
        "# (1) Single domains, Multilayered structures, manifolds\n",
        "# (2) Membrane permeability for internal interfaces\n",
        "#     Artificial permeability at the external interfaces\n",
        "# (3) pure homogeneous Neumann BCs, (4) pseudo-periodic BCs\n",
        "\n",
        "# Copyright (C) 2019 Van-Dang Nguyen (vdnguyen@kth.se)\n",
        "\n",
        "# This file is part of DOLFIN.\n",
        "\n",
        "# DOLFIN is free software: you can redistribute it and/or modify\n",
        "# it under the terms of the GNU Lesser General Public License as published by\n",
        "# the Free Software Foundation, either version 3 of the License, or\n",
        "# (at your option) any later version.\n",
        "\n",
        "# DOLFIN is distributed in the hope that it will be useful,\n",
        "# but WITHOUT ANY WARRANTY; without even the implied warranty of\n",
        "# MERCHANTABILITY or FITNESS FOR A PARTICULAR PURPOSE. See the\n",
        "# GNU Lesser General Public License for more details.\n",
        "\n",
        "# You should have received a copy of the GNU Lesser General Public License\n",
        "# along with DOLFIN. If not, see <http://www.gnu.org/licenses/>.\n",
        "\n",
        "# First added:  2017-10-10\n",
        "# Last changed: 2019-04-25\n",
        "\n",
        "# This demo is maintained by Van-Dang Nguyen\n",
        "# Please report possible problems to vdnguyen@kth.se"
      ],
      "execution_count": 0,
      "outputs": []
    },
    {
      "metadata": {
        "id": "9SJXe6I5JUwF",
        "colab_type": "text"
      },
      "cell_type": "markdown",
      "source": [
        "# Setting a working environment with FEniCS"
      ]
    },
    {
      "metadata": {
        "id": "4jWzVxURFVLj",
        "colab_type": "code",
        "outputId": "ce1c6e37-ecaf-4d8f-d33a-8a3410b3ece5",
        "colab": {
          "base_uri": "https://localhost:8080/",
          "height": 54
        }
      },
      "cell_type": "code",
      "source": [
        "from google.colab import files\n",
        "\n",
        "import platform, sys\n",
        "python_version=platform.python_version()\n",
        "from distutils.version import LooseVersion, StrictVersion\n",
        "\n",
        "if ( LooseVersion(python_version) < LooseVersion(\"3.0.0\")):\n",
        "    print(\"Python3 is needed!\");\n",
        "    print(\"How to fix: Runtime/Change_runtime_type/Python 3\");\n",
        "    sys.exit()\n",
        "    \n",
        "try:\n",
        "    from dolfin import *; from mshr import *\n",
        "except ImportError as e:\n",
        "    !apt-get install -y -qq software-properties-common python-software-properties module-init-tools\n",
        "    !add-apt-repository -y ppa:fenics-packages/fenics\n",
        "    !apt-get update -qq\n",
        "    !apt install -y --no-install-recommends fenics\n",
        "    from dolfin import *; from mshr import *\n",
        "\n",
        "gmsh_dir=!which gmsh\n",
        "if len(gmsh_dir)==0:\n",
        "  !apt-get install gmsh\n",
        "    \n",
        "import matplotlib.pyplot as plt;\n",
        "from IPython.display import clear_output, display; import time; import dolfin.common.plotting as fenicsplot \n",
        "import time\n",
        "\n",
        "import os, sys, shutil\n",
        "\n",
        "clear_output()\n",
        "\n",
        "dolfin_version = dolfin.__version__\n",
        "print ('dolfin version:', dolfin_version)\n",
        "\n",
        "!rm -rf * # clean up all files\n",
        "\n",
        "# Disable warnings\n",
        "import logging\n",
        "logging.basicConfig(level=logging.DEBUG)\n",
        "logger = logging.getLogger(\"rothemain.rothe_utils\")\n",
        "logging.getLogger('UFL').setLevel(logging.WARNING)\n",
        "logging.getLogger('FFC').setLevel(logging.WARNING)\n",
        "\n",
        "import warnings\n",
        "warnings.filterwarnings(\"ignore\")\n"
      ],
      "execution_count": 2,
      "outputs": [
        {
          "output_type": "stream",
          "text": [
            "dolfin version: 2018.1.0\n"
          ],
          "name": "stdout"
        }
      ]
    },
    {
      "metadata": {
        "id": "6l4kvMZQb3z6",
        "colab_type": "text"
      },
      "cell_type": "markdown",
      "source": [
        "#Load pre-defined functions"
      ]
    },
    {
      "metadata": {
        "id": "x3L26nGPb7kZ",
        "colab_type": "code",
        "colab": {
          "base_uri": "https://localhost:8080/",
          "height": 63
        },
        "outputId": "ad13a685-5894-43fa-d6db-da3316b80f0e"
      },
      "cell_type": "code",
      "source": [
        "exists = os.path.isfile('DmriFemBuitInFunc.py')\n",
        "isupdate = False\n",
        "if (exists==False or isupdate==True):\n",
        "    if isupdate==True:\n",
        "        !rm DmriFemBuitInFunc.py\n",
        "    print(\"Load pre-defined functions from GitHub\")\n",
        "    !wget --quiet https://raw.githubusercontent.com/van-dang/MRI-Cloud/master/DmriFemBuitInFunc.py\n",
        "\n",
        "from DmriFemBuitInFunc import *\n",
        "\n",
        "class MRI_parameters():\n",
        "    def __init__(self):\n",
        "        # Initialize default parameters\n",
        "        self.bvalue = None\n",
        "        self.qvalue = None        \n",
        "        self.gdir = [1, 0, 0];\n",
        "        self.stype='PGSE'\n",
        "        self.nperiod = 0; # number of period for OGSE sequences\n",
        "    def set_gradient_dir(self, mymesh, g0, g1, g2):\n",
        "        gdim = mymesh.geometry().dim()\n",
        "        if gdim==2:\n",
        "            self.gdir = Point(g0, g1)\n",
        "            self.gdir /= self.gdir.norm()\n",
        "            self.g = Expression((\"g0\",\"g1\"), g0=self.gdir.x(), g1=self.gdir.y(),domain=mymesh, degree=1);\n",
        "        if gdim==3:\n",
        "            self.gdir = Point(g0, g1, g2)\n",
        "            self.gdir /= self.gdir.norm()        \n",
        "            self.g = Expression((\"g0\",\"g1\",\"g2\"), g0=self.gdir.x(), g1=self.gdir.y(), g2=self.gdir.z(),domain=mymesh, degree=1);\n",
        "    def time_profile(self, t):\n",
        "        ft1, ft2 = 0, 0;\n",
        "        if self.stype=='PGSE':\n",
        "            ft1 = 1.0*(t>=0 and t<self.delta) \n",
        "            ft2 = -1.0*(t>=self.Delta and t<=self.Delta+self.delta);\n",
        "        if self.stype=='cos_OGSE':\n",
        "            ft1 =  cos(2.0*self.nperiod*pi*t/self.delta)*(t>=0 and t<self.delta);\n",
        "            ft2 = -cos(2.0*self.nperiod*pi*(t-2.*self.delta)/self.delta)*(t>=Delta and t<=self.Delta+self.delta);\n",
        "        return ft1 + ft2; \n",
        "    def itime_profile(self, t): \n",
        "        # integrate ft\n",
        "        ft1, ft2, ft3 = 0, 0, 0;\n",
        "        if self.stype=='PGSE':\n",
        "            ft1 = t*(t>=0 and t<self.delta) \n",
        "            ft2 = self.delta*(t>=self.delta and t<self.Delta) \n",
        "            ft3 = (self.delta - t + self.Delta)*(t>=self.Delta and t<=self.Delta+self.delta) \n",
        "        if self.stype=='cos_OGSE':\n",
        " \t          ft1 = 1.0/2.0*self.delta*sin(2.0*t*self.nperiod*pi/self.delta)/self.nperiod/pi * (t >= 0 and  t <= self.delta)\n",
        " \t          ft2 = 1.0/2.0*self.delta*(sin(2.0*self.Delta*self.nperiod*pi/self.delta)-sin(2.0*t*self.nperiod*pi/self.delta))/nperiod/pi *(t>=self.Delta and t<=self.Delta+self.delta)\n",
        "        return ft1 + ft2 + ft3;  \n",
        "    def convert_b2g(self):\n",
        "        self.gnorm = 0;\n",
        "        if (self.stype == 'PGSE'):\n",
        "            self.gnorm = sqrt(self.bvalue)/sqrt(self.delta*self.delta*(self.Delta-self.delta/3.0));\n",
        "        if (self.stype == 'cos_OGSE'):\n",
        "            self.gnorm = sqrt(self.bvalue/(1./8.*self.delta*self.delta*self.delta*(3.-cos(4.*self.nperiod*pi/self.delta*self.Delta))/(self.nperiod*self.nperiod)/(pi*pi)));\n",
        "        if (self.stype == 'sin_OGSE'):\n",
        "            self.gnorm = sqrt(self.bvalue/(1./8.*self.delta*self.delta*self.delta*(5.+cos(4.*self.nperiod*pi/self.delta*self.Delta))/(self.nperiod*self.nperiod)/(pi*pi)));\n",
        "        return self.gnorm\n",
        "    def convert_g2b(self):\n",
        "        self.bvalue = 0;\n",
        "        if (self.stype == 'PGSE'):\n",
        "            self.bvalue = self.gnorm*self.gnorm*self.delta*self.delta*(self.Delta-self.delta/3.0);\n",
        "        if (self.stype == 'cos_OGSE'):\n",
        "            self.bvalue=self.gnorm*self.gnorm*1./8.*self.delta*self.delta*self.delta*(3.-cos(4.*self.nperiod*pi/self.delta*self.Delta))/(self.nperiod*self.nperiod)/(pi*pi);\n",
        "        if (self.stype == 'sin_OGSE'):\n",
        "\t          self.bvalue=self.gnorm*self.gnorm*1./8.*self.delta*self.delta*self.delta*(5.+cos(4.*self.nperiod*pi/self.delta*self.Delta))/(self.nperiod*self.nperiod)/(pi*pi);\n",
        "        return self.bvalue\n",
        "      \n",
        "    def Apply(self):\n",
        "        self.T = self.Delta+self.delta;\n",
        "        if not(self.bvalue==None):\n",
        "            self.gnorm = self.convert_b2g();\n",
        "            self.qvalue = convert_g2q(self.gnorm);\n",
        "        elif not(self.qvalue==None):\n",
        "            self.gnorm = convert_q2g(self.qvalue);\n",
        "            self.bvalue = self.convert_g2b();\n",
        "        elif (self.bvalue==None and self.bvalue==None):\n",
        "            print(\"bvalue or qvalue need to be specified.\")\n",
        "            sys.exit()      \n",
        "          \n",
        "class MRI_simulation():\n",
        "    def __init__(self):\n",
        "          self.nskip = 5;    # Output frequency (for visualization only)\n",
        "          self.theta = 0.5;  # theta=0.5: midpoint method\n",
        "\n",
        "    def InitialCondition(self, mydomain):\n",
        "          if mydomain.gdim==2:\n",
        "              Dirac_Delta = Expression(\"x[0]*x[0]+x[1]*x[1]<eps\",eps=1e6, domain=mydomain.mymesh, degree=1);\n",
        "          if mydomain.gdim==3:\n",
        "              Dirac_Delta = Expression(\"x[0]*x[0]+x[1]*x[1]+x[2]*x[2]<eps\",eps=1e6, domain=mydomain.mymesh, degree=1);\n",
        "          Dirac_Delta = interpolate(Dirac_Delta, mydomain.V);\n",
        "          u_0 = Function(mydomain.W);\n",
        "          assign(u_0.sub(0), Dirac_Delta)\n",
        "          if (mydomain.IsDomainMultiple==True):\n",
        "              assign(u_0.sub(2), Dirac_Delta)  \n",
        "          return Dirac_Delta, u_0\n",
        "        \n",
        "    def solve(self, mydomain, mri_para, linsolver): \n",
        "      \n",
        "          self.Dirac_Delta, self.u_0 = self.InitialCondition(mydomain)\n",
        "          \n",
        "          stepcounter = 0;\n",
        "\n",
        "          M = MassMatrix(mydomain);\n",
        "\n",
        "          self.t = 0;\n",
        "          ft_prev  =  mri_para.time_profile(self.t);\n",
        "          ift_prev = mri_para.itime_profile(self.t);\n",
        "\n",
        "          start_time = time.time()\n",
        "          \n",
        "          while self.t < mri_para.T + self.k: # Time-stepping loop\n",
        "              if stepcounter % self.nskip == 0:\n",
        "                  print('t: %f '%self.t, 'T: %.1f'%mri_para.T, 'dt: %.1f'%self.k,'gnorm: %e'%mri_para.gnorm,'Completed %.2f%%'%(float(self.t)/float(mri_para.T+mri_simu.k)*100.0));\n",
        "\n",
        "              ft = mri_para.time_profile(self.t);\n",
        "              ift = mri_para.itime_profile(self.t);\n",
        "              L = ThetaMethodL(ft_prev, ift_prev, mri_para, self, mydomain);\n",
        "              A = 1/self.k*M + assemble(ThetaMethodF(ft, ift, mri_para, self, mydomain))\n",
        "\n",
        "              b = assemble(L);\n",
        "              \n",
        "              linsolver.solve(A, self.u_0.vector(),b);\n",
        "\n",
        "              ft_prev  = ft;\n",
        "              ift_prev = ift;\n",
        "\n",
        "              self.t += self.k;\n",
        "              stepcounter += 1;\n",
        "\n",
        "          elapsed_time = time.time() - start_time\n",
        "          print(\"Successfully Completed! Elapsed time: %f seconds\"%elapsed_time)"
      ],
      "execution_count": 3,
      "outputs": [
        {
          "output_type": "stream",
          "text": [
            "Load pre-defined functions from GitHub\n"
          ],
          "name": "stdout"
        }
      ]
    },
    {
      "metadata": {
        "id": "r6GW2fwLE042",
        "colab_type": "text"
      },
      "cell_type": "markdown",
      "source": [
        "# Working on the mesh and submesh"
      ]
    },
    {
      "metadata": {
        "id": "ksCOgH6e6d8e",
        "colab_type": "code",
        "outputId": "170309ee-e149-458d-ca7e-972ab1610a4c",
        "colab": {
          "base_uri": "https://localhost:8080/",
          "height": 159
        }
      },
      "cell_type": "code",
      "source": [
        "geo_choice = 2\n",
        "################################################################################\n",
        "############## Create two-layered disk using mshr in FEniCS ####################\n",
        "if geo_choice == 1:\n",
        "    R1, R2 = 1, 2;\n",
        "    origin = Point(0.,0.)\n",
        "    circle = Circle(origin, R1, segments=32)\n",
        "    domain = Circle(origin, R2, segments=32)\n",
        "    domain.set_subdomain(1, circle)\n",
        "    mymesh = generate_mesh(domain, 15) # 15 is the resolution\n",
        "    cmpt_mesh = generate_mesh(circle, 15)\n",
        "    cellmarker, phase, partition_marker, partion_list = Create_phase_func(mymesh, cmpt_mesh, None)    \n",
        "\n",
        "################################################################################\n",
        "############## Create multilayered domains using gmsh ##########################\n",
        "if geo_choice == 2:\n",
        "    mesh_name = \"multi_layered_disk\"\n",
        "    # mesh_name = \"multi_layered_cylinder\"\n",
        "    is_partition_function_exist = os.path.isfile('GetPartitionMarkers.py')\n",
        "    if is_partition_function_exist==False:\n",
        "        !wget --quiet https://raw.githubusercontent.com/van-dang/MRI-Cloud/mesh/GetPartitionMarkers.py\n",
        "\n",
        "    is_geo_file_exist = os.path.isfile(mesh_name+'.geo')  \n",
        "    if is_geo_file_exist==False:\n",
        "        !wget --quiet https://raw.githubusercontent.com/van-dang/MRI-Cloud/mesh/$mesh_name''.geo\n",
        "\n",
        "    # Create mesh from geo file by gmsh\n",
        "    !gmsh -3 $mesh_name''.geo -o $mesh_name''.msh\n",
        "    \n",
        "    # Convert .msh to .xml using dolfin-convert\n",
        "    !dolfin-convert $mesh_name''.msh $mesh_name''.xml\n",
        "    clear_output()\n",
        "\n",
        "    mymesh = Mesh(mesh_name+\".xml\");  \n",
        "\n",
        "    from GetPartitionMarkers import *\n",
        "\n",
        "    partion_list=GetPartitionMarkers(mesh_name+\".msh\", \"pmk_\"+mesh_name+\".xml\")\n",
        "\n",
        "    partition_marker = MeshFunction(\"size_t\", mymesh, mymesh.topology().dim())\n",
        "\n",
        "    File(\"pmk_\"+mesh_name+\".xml\")>>partition_marker\n",
        "\n",
        "    cellmarker, phase, partition_marker, partion_list = Create_phase_func(mymesh, None, partition_marker)    \n",
        "\n",
        "################################################################################\n",
        "############## Download the existing mesh and submesh ##########################\n",
        "if geo_choice == 3:\n",
        "    is_file_exist = os.path.isfile(\"multi_layer_torus.xml\")  \n",
        "    if is_file_exist==False:\n",
        "        !wget --quiet https://raw.githubusercontent.com/van-dang/MRI-Cloud/master/comri/meshes/multi_layer_torus.xml.zip\n",
        "        !wget --quiet https://raw.githubusercontent.com/van-dang/MRI-Cloud/master/comri/meshes/multi_layer_torus_compt1.xml.zip\n",
        "        !unzip -q multi_layer_torus.xml.zip\n",
        "        !unzip -q multi_layer_torus_compt1.xml.zip\n",
        "        !rm -rf *.zip *MACOSX\n",
        "\n",
        "    mymesh = Mesh(\"multi_layer_torus.xml\");  \n",
        "    cmpt_mesh = Mesh('multi_layer_torus_compt1.xml')\n",
        "    cellmarker, phase, partition_marker, partion_list = Create_phase_func(mymesh, cmpt_mesh, None)    \n",
        "    \n",
        "################################################################################\n",
        "############## Save, Plot phase functions and submeshes to verify ##############\n",
        "print(\"Partition markers:\", partion_list)\n",
        "if mymesh.topology().dim()==2:\n",
        "    print(cellmarker, partition_marker)\n",
        "    plt.subplot(1, 2, 1); plot(cellmarker, cmap=\"coolwarm\", title=\"Cell marker\");\n",
        "    plt.subplot(1, 2, 2); plot(partition_marker, cmap=\"coolwarm\",  title=\"Partition marker\");\n",
        "mesh0 = SubMesh(mymesh, cellmarker, 0)\n",
        "mesh1 = SubMesh(mymesh, cellmarker, 1)\n",
        "File(\"Phase.pvd\")<<phase\n",
        "File(\"mesh0.xml\")<<mesh0\n",
        "File(\"mesh1.xml\")<<mesh1\n",
        "plt.figure(2); plot(mesh0, title=\"Compartment 0\") \n",
        "plt.figure(3); plot(mesh1, title=\"Compartment 1\")"
      ],
      "execution_count": 0,
      "outputs": [
        {
          "output_type": "stream",
          "text": [
            "Extracting cell markers from: multi_layered_disk.msh ...\n",
            "Extracted successfully on: 1446 elements\n",
            "Partition marker list: ['0', '1', '2', '3']\n",
            "Wrote to: pmk_multi_layered_disk.xml\n",
            "Partition markers: [0, 1, 2, 3]\n",
            "<dolfin.cpp.mesh.MeshFunctionSizet object at 0x7f38c73091f0> <dolfin.cpp.mesh.MeshFunctionSizet object at 0x7f38c72a1030>\n"
          ],
          "name": "stdout"
        }
      ]
    },
    {
      "metadata": {
        "id": "aFEvif9PF2yH",
        "colab_type": "text"
      },
      "cell_type": "markdown",
      "source": [
        "# Solve the Bloch-Torrey equation"
      ]
    },
    {
      "metadata": {
        "id": "DYZ5SWlw69tQ",
        "colab_type": "code",
        "outputId": "f12d1bd4-e411-4e0e-d317-3de5ba7dde47",
        "colab": {
          "base_uri": "https://localhost:8080/",
          "height": 986
        }
      },
      "cell_type": "code",
      "source": [
        "mri_simu = MRI_simulation()\n",
        "mri_para = MRI_parameters()\n",
        "\n",
        "#################################################################################\n",
        "#########################  Pre-defined parameters ###############################\n",
        "mri_para.stype='PGSE'                                # sequence type\n",
        "mri_para.bvalue = 1000;                              # bvalue\n",
        "mri_para.delta, mri_para.Delta = 10000, 10000        # time sequence\n",
        "mri_para.set_gradient_dir(mymesh, 1, 0, 0)           # gradient direction\n",
        "mri_para.Apply()\n",
        "mri_simu.k = 400;                                    # time-step size\n",
        "mri_simu.nskip = 1;                                  # frequency to print ouputs\n",
        "\n",
        "mydomain = MyDomain(mymesh, mri_para)\n",
        "mydomain.phase = phase\n",
        "mydomain.PeriodicDir = [1, 0, 0];            # Direction of the periodicity\n",
        "mydomain.IsDomainPeriodic = True             # Confirm if the mesh if periodic\n",
        "mydomain.IsDomainMultiple = True             # Confirm if the mesh is multiple\n",
        "mydomain.kappa = 1e-1                        # Permeability\n",
        "################################################################################\n",
        "\n",
        "mydomain.Apply()   # Call Apply before setting the diffusion tensor\n",
        "\n",
        "################################################################################\n",
        "# Impose the diffusion coefficient\n",
        "D0 = 3e-3\n",
        "\n",
        "# Impose diffusion coefficient\n",
        "mydomain.D = D0;\n",
        "\n",
        "############### Impose the diffusion tensor\n",
        "# Constant tensor\n",
        "# d00, d01, d02, d10, d11, d12, d20, d21, d22 = D0, 0, 0, 0, D0, 0, 0, 0, D0\n",
        "\n",
        "# Variable tensor\n",
        "#dofmap_DG = mydomain.V_DG.dofmap()\n",
        "#d00 = Function(mydomain.V_DG); d01 = Function(mydomain.V_DG); d02 = Function(mydomain.V_DG)\n",
        "#d10 = Function(mydomain.V_DG); d11 = Function(mydomain.V_DG); d12 = Function(mydomain.V_DG)\n",
        "#d20 = Function(mydomain.V_DG); d21 = Function(mydomain.V_DG); d22 = Function(mydomain.V_DG)\n",
        "\n",
        "#for cell in cells(mymesh):\n",
        "#    p = cell.midpoint() # the coordinate of the cell center.\n",
        "#    d00.vector()[dofmap_DG.cell_dofs(cell.index())] = D0\n",
        "#    d11.vector()[dofmap_DG.cell_dofs(cell.index())] = D0\n",
        "#    d22.vector()[dofmap_DG.cell_dofs(cell.index())] = D0\n",
        "\n",
        "#mydomain.ImposeDiffusionTensor(d00, d01, d02, d10, d11, d12, d20, d21, d22)\n",
        "#################################################################################\n",
        "#################################################################################\n",
        "\n",
        "\n",
        "mri_simu.solve(mydomain, mri_para, PETScLUSolver(\"mumps\"))"
      ],
      "execution_count": 6,
      "outputs": [
        {
          "output_type": "stream",
          "text": [
            "Function Space for Two-compartment Domains has 4 components\n",
            "(ur0, ui0, ur1, ur1): r-real, i-imaginary\n",
            "Initialize peridodic function spaces.\n",
            "The pseudo-periodic BCS are strongly imposed.\n",
            "The mesh needs to be periodic.\n",
            "t: 0.000000  T: 20000.0 dt: 400.0 gnorm: 3.872983e-05 Completed 0.00%\n",
            "t: 400.000000  T: 20000.0 dt: 400.0 gnorm: 3.872983e-05 Completed 1.96%\n",
            "t: 800.000000  T: 20000.0 dt: 400.0 gnorm: 3.872983e-05 Completed 3.92%\n",
            "t: 1200.000000  T: 20000.0 dt: 400.0 gnorm: 3.872983e-05 Completed 5.88%\n",
            "t: 1600.000000  T: 20000.0 dt: 400.0 gnorm: 3.872983e-05 Completed 7.84%\n",
            "t: 2000.000000  T: 20000.0 dt: 400.0 gnorm: 3.872983e-05 Completed 9.80%\n",
            "t: 2400.000000  T: 20000.0 dt: 400.0 gnorm: 3.872983e-05 Completed 11.76%\n",
            "t: 2800.000000  T: 20000.0 dt: 400.0 gnorm: 3.872983e-05 Completed 13.73%\n",
            "t: 3200.000000  T: 20000.0 dt: 400.0 gnorm: 3.872983e-05 Completed 15.69%\n",
            "t: 3600.000000  T: 20000.0 dt: 400.0 gnorm: 3.872983e-05 Completed 17.65%\n",
            "t: 4000.000000  T: 20000.0 dt: 400.0 gnorm: 3.872983e-05 Completed 19.61%\n",
            "t: 4400.000000  T: 20000.0 dt: 400.0 gnorm: 3.872983e-05 Completed 21.57%\n",
            "t: 4800.000000  T: 20000.0 dt: 400.0 gnorm: 3.872983e-05 Completed 23.53%\n",
            "t: 5200.000000  T: 20000.0 dt: 400.0 gnorm: 3.872983e-05 Completed 25.49%\n",
            "t: 5600.000000  T: 20000.0 dt: 400.0 gnorm: 3.872983e-05 Completed 27.45%\n",
            "t: 6000.000000  T: 20000.0 dt: 400.0 gnorm: 3.872983e-05 Completed 29.41%\n",
            "t: 6400.000000  T: 20000.0 dt: 400.0 gnorm: 3.872983e-05 Completed 31.37%\n",
            "t: 6800.000000  T: 20000.0 dt: 400.0 gnorm: 3.872983e-05 Completed 33.33%\n",
            "t: 7200.000000  T: 20000.0 dt: 400.0 gnorm: 3.872983e-05 Completed 35.29%\n",
            "t: 7600.000000  T: 20000.0 dt: 400.0 gnorm: 3.872983e-05 Completed 37.25%\n",
            "t: 8000.000000  T: 20000.0 dt: 400.0 gnorm: 3.872983e-05 Completed 39.22%\n",
            "t: 8400.000000  T: 20000.0 dt: 400.0 gnorm: 3.872983e-05 Completed 41.18%\n",
            "t: 8800.000000  T: 20000.0 dt: 400.0 gnorm: 3.872983e-05 Completed 43.14%\n",
            "t: 9200.000000  T: 20000.0 dt: 400.0 gnorm: 3.872983e-05 Completed 45.10%\n",
            "t: 9600.000000  T: 20000.0 dt: 400.0 gnorm: 3.872983e-05 Completed 47.06%\n",
            "t: 10000.000000  T: 20000.0 dt: 400.0 gnorm: 3.872983e-05 Completed 49.02%\n",
            "t: 10400.000000  T: 20000.0 dt: 400.0 gnorm: 3.872983e-05 Completed 50.98%\n",
            "t: 10800.000000  T: 20000.0 dt: 400.0 gnorm: 3.872983e-05 Completed 52.94%\n",
            "t: 11200.000000  T: 20000.0 dt: 400.0 gnorm: 3.872983e-05 Completed 54.90%\n",
            "t: 11600.000000  T: 20000.0 dt: 400.0 gnorm: 3.872983e-05 Completed 56.86%\n",
            "t: 12000.000000  T: 20000.0 dt: 400.0 gnorm: 3.872983e-05 Completed 58.82%\n",
            "t: 12400.000000  T: 20000.0 dt: 400.0 gnorm: 3.872983e-05 Completed 60.78%\n",
            "t: 12800.000000  T: 20000.0 dt: 400.0 gnorm: 3.872983e-05 Completed 62.75%\n",
            "t: 13200.000000  T: 20000.0 dt: 400.0 gnorm: 3.872983e-05 Completed 64.71%\n",
            "t: 13600.000000  T: 20000.0 dt: 400.0 gnorm: 3.872983e-05 Completed 66.67%\n",
            "t: 14000.000000  T: 20000.0 dt: 400.0 gnorm: 3.872983e-05 Completed 68.63%\n",
            "t: 14400.000000  T: 20000.0 dt: 400.0 gnorm: 3.872983e-05 Completed 70.59%\n",
            "t: 14800.000000  T: 20000.0 dt: 400.0 gnorm: 3.872983e-05 Completed 72.55%\n",
            "t: 15200.000000  T: 20000.0 dt: 400.0 gnorm: 3.872983e-05 Completed 74.51%\n",
            "t: 15600.000000  T: 20000.0 dt: 400.0 gnorm: 3.872983e-05 Completed 76.47%\n",
            "t: 16000.000000  T: 20000.0 dt: 400.0 gnorm: 3.872983e-05 Completed 78.43%\n",
            "t: 16400.000000  T: 20000.0 dt: 400.0 gnorm: 3.872983e-05 Completed 80.39%\n",
            "t: 16800.000000  T: 20000.0 dt: 400.0 gnorm: 3.872983e-05 Completed 82.35%\n",
            "t: 17200.000000  T: 20000.0 dt: 400.0 gnorm: 3.872983e-05 Completed 84.31%\n",
            "t: 17600.000000  T: 20000.0 dt: 400.0 gnorm: 3.872983e-05 Completed 86.27%\n",
            "t: 18000.000000  T: 20000.0 dt: 400.0 gnorm: 3.872983e-05 Completed 88.24%\n",
            "t: 18400.000000  T: 20000.0 dt: 400.0 gnorm: 3.872983e-05 Completed 90.20%\n",
            "t: 18800.000000  T: 20000.0 dt: 400.0 gnorm: 3.872983e-05 Completed 92.16%\n",
            "t: 19200.000000  T: 20000.0 dt: 400.0 gnorm: 3.872983e-05 Completed 94.12%\n",
            "t: 19600.000000  T: 20000.0 dt: 400.0 gnorm: 3.872983e-05 Completed 96.08%\n",
            "t: 20000.000000  T: 20000.0 dt: 400.0 gnorm: 3.872983e-05 Completed 98.04%\n",
            "Successfully Completed! Elapsed time: 77.602109 seconds\n"
          ],
          "name": "stdout"
        }
      ]
    },
    {
      "metadata": {
        "id": "ztNZifqEygOy",
        "colab_type": "text"
      },
      "cell_type": "markdown",
      "source": [
        "#Post-processing"
      ]
    },
    {
      "metadata": {
        "id": "_y4SIuvYyjM4",
        "colab_type": "code",
        "outputId": "1d1d693e-b784-47f4-df20-3e575efd35a9",
        "colab": {
          "base_uri": "https://localhost:8080/",
          "height": 405
        }
      },
      "cell_type": "code",
      "source": [
        "if mydomain.IsDomainMultiple == True:\n",
        "    u0r_0, u0i_0, u1r_0, u1i_0 = split(mri_simu.u_0)\n",
        "    signal0 = assemble(((1-mydomain.phase)*u0r_0)*dx)/assemble((1-mydomain.phase)*mri_simu.Dirac_Delta*dx);\n",
        "    signal1 = assemble((mydomain.phase*u1r_0)*dx)/assemble(mydomain.phase*mri_simu.Dirac_Delta*dx);\n",
        "    signal = assemble((mydomain.phase*u1r_0+(1-mydomain.phase)*u0r_0)*dx)/assemble(mri_simu.Dirac_Delta*dx);\n",
        "    print('Signal on each compartment')\n",
        "    print('Signal0: %.3e'%signal0)\n",
        "    print('Signal1: %.3e'%signal1)\n",
        "    print('b:',mri_para.bvalue, 'Signal: %.3e'%signal,'kappa: %.3e'%mydomain.kappa,', dt: ',mri_simu.k,', hmin: ',mydomain.hmin, ', Free signal: %.3e'%(exp(-mri_para.bvalue*D0)))\n",
        "    V0 = FunctionSpace(mesh0, mydomain.Ve);\n",
        "    V1 = FunctionSpace(mesh1, mydomain.Ve);\n",
        "    u0r_0p = project(u0r_0,V0)\n",
        "    u1r_0p = project(u1r_0,V1)\n",
        "    plot(u0r_0p, cmap=\"coolwarm\")\n",
        "    plot(u1r_0p, cmap=\"coolwarm\")  \n",
        "else:\n",
        "    ur, ui = split(mri_simu.u_0)\n",
        "    signal = assemble(ur*dx)/assemble(mri_simu.Dirac_Delta*dx);\n",
        "    print('b:',mri_para.bvalue, 'Signal: %.3e'%signal,', dt: ',mri_simu.k,', hmin: ',mydomain.hmin, ', Free signal: %.3e'%(exp(-mri_para.bvalue*D0)))\n",
        "    V = FunctionSpace(mymesh,mydomain.Ve);\n",
        "    ur_p = project(ur,V)\n",
        "    plot(ur_p, cmap=\"coolwarm\")\n",
        "\n"
      ],
      "execution_count": 7,
      "outputs": [
        {
          "output_type": "stream",
          "text": [
            "Signal on each compartment\n",
            "Signal0: 3.147e-01\n",
            "Signal1: 3.148e-01\n",
            "b: 1000 Signal: 3.147e-01 kappa: 1.000e-01 , dt:  400 , hmin:  0.14255291546690105 , Free signal: 4.979e-02\n"
          ],
          "name": "stdout"
        },
        {
          "output_type": "stream",
          "text": [
            "DEBUG:matplotlib.axes._base:update_title_pos\n",
            "DEBUG:matplotlib.axes._base:update_title_pos\n",
            "DEBUG:matplotlib.axes._base:update_title_pos\n",
            "DEBUG:matplotlib.axes._base:update_title_pos\n"
          ],
          "name": "stderr"
        },
        {
          "output_type": "display_data",
          "data": {
            "image/png": "[encoded data removed]",
            "text/plain": [
              "<Figure size 432x288 with 1 Axes>"
            ]
          },
          "metadata": {
            "tags": []
          }
        }
      ]
    },
    {
      "metadata": {
        "id": "2PFBYd0QMw4U",
        "colab_type": "text"
      },
      "cell_type": "markdown",
      "source": [
        "# Reference solutions"
      ]
    },
    {
      "metadata": {
        "id": "3paAgRxbM3yW",
        "colab_type": "code",
        "colab": {}
      },
      "cell_type": "code",
      "source": [
        "# The results were generated by the Matrix Formalism method propsed in\n",
        "# D.S. Grebenkov, Pulsed-gradient spin-echo monitoring of restricted \n",
        "# diffusion in multilayered structures, J. Magn. Reson., 205 (2) (2010)\n",
        "# # # # # # # # # # # # # # # # # # # # # # # # # # # # # # # # # # # # \n",
        "# # # R=[5,7.5,10], kappa=5e-5m/s delta=Delta=40000\n",
        "#  bvalue  # signal attenuation\n",
        "# # # # # # # # # # # # # # #\n",
        "# # # # # # # # # # # # # # #"
      ],
      "execution_count": 0,
      "outputs": []
    }
  ]
}