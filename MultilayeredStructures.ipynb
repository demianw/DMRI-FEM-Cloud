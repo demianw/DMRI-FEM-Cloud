{
  "nbformat": 4,
  "nbformat_minor": 0,
  "metadata": {
    "colab": {
      "name": "MultilayeredStructures.ipynb",
      "version": "0.3.2",
      "provenance": [],
      "collapsed_sections": [
        "vS_YdSbqFOln",
        "9SJXe6I5JUwF",
        "6l4kvMZQb3z6",
        "r6GW2fwLE042"
      ],
      "toc_visible": true,
      "include_colab_link": true
    },
    "kernelspec": {
      "name": "python3",
      "display_name": "Python 3"
    },
    "accelerator": "GPU"
  },
  "cells": [
    {
      "cell_type": "markdown",
      "metadata": {
        "id": "view-in-github",
        "colab_type": "text"
      },
      "source": [
        "<a href=\"https://colab.research.google.com/github/van-dang/MRI-Cloud/blob/master/MultilayeredStructures.ipynb\" target=\"_parent\"><img src=\"https://colab.research.google.com/assets/colab-badge.svg\" alt=\"Open In Colab\"/></a>"
      ]
    },
    {
      "cell_type": "markdown",
      "metadata": {
        "id": "vS_YdSbqFOln",
        "colab_type": "text"
      },
      "source": [
        "# About the code"
      ]
    },
    {
      "cell_type": "code",
      "metadata": {
        "id": "CiQ9r51xKgWh",
        "colab_type": "code",
        "colab": {}
      },
      "source": [
        "# This program solves the Bloch-Torrey equation applied to computational diffusion MRI using \n",
        "# the finite element method coupled with the theta-method for the spatial discretization.\n",
        "\n",
        "# The scope of usage: \n",
        "# (1) Single domains, Multilayered structures, manifolds\n",
        "# (2) Membrane permeability for internal interfaces\n",
        "#     Artificial permeability at the external interfaces\n",
        "# (3) pure homogeneous Neumann BCs, (4) pseudo-periodic BCs\n",
        "\n",
        "# Copyright (C) 2019 Van-Dang Nguyen (vdnguyen@kth.se)\n",
        "\n",
        "# This file is part of DOLFIN.\n",
        "\n",
        "# DOLFIN is free software: you can redistribute it and/or modify\n",
        "# it under the terms of the GNU Lesser General Public License as published by\n",
        "# the Free Software Foundation, either version 3 of the License, or\n",
        "# (at your option) any later version.\n",
        "\n",
        "# DOLFIN is distributed in the hope that it will be useful,\n",
        "# but WITHOUT ANY WARRANTY; without even the implied warranty of\n",
        "# MERCHANTABILITY or FITNESS FOR A PARTICULAR PURPOSE. See the\n",
        "# GNU Lesser General Public License for more details.\n",
        "\n",
        "# You should have received a copy of the GNU Lesser General Public License\n",
        "# along with DOLFIN. If not, see <http://www.gnu.org/licenses/>.\n",
        "\n",
        "# First added:  2017-10-10\n",
        "# Last changed: 2019-04-25\n",
        "\n",
        "# This demo is maintained by Van-Dang Nguyen\n",
        "# Please report possible problems to vdnguyen@kth.se"
      ],
      "execution_count": 0,
      "outputs": []
    },
    {
      "cell_type": "markdown",
      "metadata": {
        "id": "9SJXe6I5JUwF",
        "colab_type": "text"
      },
      "source": [
        "# Setting a working environment with FEniCS"
      ]
    },
    {
      "cell_type": "code",
      "metadata": {
        "id": "4jWzVxURFVLj",
        "colab_type": "code",
        "outputId": "82457d26-1b7f-4b2d-ea08-cce753b721f8",
        "colab": {
          "base_uri": "https://localhost:8080/",
          "height": 34
        }
      },
      "source": [
        "try:\n",
        "    from google.colab import files\n",
        "except:\n",
        "    print(\"This is not google.colab\")\n",
        "    \n",
        "import platform, sys\n",
        "python_version=platform.python_version()\n",
        "from distutils.version import LooseVersion, StrictVersion\n",
        "\n",
        "if ( LooseVersion(python_version) < LooseVersion(\"3.0.0\")):\n",
        "    print(\"Python3 is needed!\");\n",
        "    print(\"How to fix: Runtime/Change_runtime_type/Python 3\");\n",
        "    sys.exit()\n",
        "    \n",
        "try:\n",
        "    from dolfin import *; from mshr import *\n",
        "except ImportError as e:\n",
        "    !apt-get install -y -qq software-properties-common python-software-properties module-init-tools\n",
        "    !add-apt-repository -y ppa:fenics-packages/fenics\n",
        "    !apt-get update -qq\n",
        "    !apt install -y --no-install-recommends fenics\n",
        "    from dolfin import *; from mshr import *\n",
        "\n",
        "gmsh_dir=!which gmsh\n",
        "if len(gmsh_dir)==0:\n",
        "  !apt-get install gmsh\n",
        "    \n",
        "import matplotlib.pyplot as plt;\n",
        "from IPython.display import clear_output, display; import time; import dolfin.common.plotting as fenicsplot \n",
        "import time\n",
        "\n",
        "import os, sys, shutil\n",
        "\n",
        "clear_output()\n",
        "\n",
        "dolfin_version = dolfin.__version__\n",
        "print ('dolfin version:', dolfin_version)\n",
        "\n",
        "# Disable warnings\n",
        "import logging\n",
        "logging.basicConfig(level=logging.DEBUG)\n",
        "logger = logging.getLogger(\"rothemain.rothe_utils\")\n",
        "logging.getLogger('UFL').setLevel(logging.WARNING)\n",
        "logging.getLogger('FFC').setLevel(logging.WARNING)\n",
        "\n",
        "import warnings\n",
        "warnings.filterwarnings(\"ignore\")\n"
      ],
      "execution_count": 1,
      "outputs": [
        {
          "output_type": "stream",
          "text": [
            "dolfin version: 2019.1.0\n"
          ],
          "name": "stdout"
        }
      ]
    },
    {
      "cell_type": "markdown",
      "metadata": {
        "id": "6l4kvMZQb3z6",
        "colab_type": "text"
      },
      "source": [
        "#Load pre-defined functions"
      ]
    },
    {
      "cell_type": "code",
      "metadata": {
        "id": "x3L26nGPb7kZ",
        "colab_type": "code",
        "outputId": "89012a9f-756e-4a87-a5bb-c0c260b86966",
        "colab": {
          "base_uri": "https://localhost:8080/",
          "height": 63
        }
      },
      "source": [
        "import sympy as sp  \n",
        "exists = os.path.isfile('DmriFemBuitInFunc.py')\n",
        "isupdate = False\n",
        "if (exists==False or isupdate==True):\n",
        "    if isupdate==True:\n",
        "        !rm DmriFemBuitInFunc.py\n",
        "    print(\"Load pre-defined functions from GitHub\")\n",
        "    !wget --quiet https://raw.githubusercontent.com/van-dang/MRI-Cloud/master/DmriFemBuitInFunc.py\n",
        "from DmriFemBuitInFunc import *\n",
        "      "
      ],
      "execution_count": 2,
      "outputs": [
        {
          "output_type": "stream",
          "text": [
            "Load pre-defined functions from GitHub\n"
          ],
          "name": "stdout"
        }
      ]
    },
    {
      "cell_type": "markdown",
      "metadata": {
        "id": "r6GW2fwLE042",
        "colab_type": "text"
      },
      "source": [
        "# Working on the mesh and submesh"
      ]
    },
    {
      "cell_type": "code",
      "metadata": {
        "id": "ksCOgH6e6d8e",
        "colab_type": "code",
        "outputId": "eab2d43d-d648-497d-e24d-bb2b4de9df83",
        "colab": {
          "base_uri": "https://localhost:8080/",
          "height": 318
        }
      },
      "source": [
        "def CreatePhaseFunc(mymesh, evengroup, oddgroup, partition_marker):\n",
        "    V_DG = FunctionSpace(mymesh, 'DG', 0)\n",
        "    dofmap_DG = V_DG.dofmap()\n",
        "    phase = Function(V_DG)\n",
        "    if not(partition_marker==None): # partition_marker is given\n",
        "        partion_list = [];\n",
        "        for cell in cells(mymesh):\n",
        "            cmk = partition_marker[cell.index()]\n",
        "            partion_list.append(cmk)\n",
        "            phase.vector()[dofmap_DG.cell_dofs(cell.index())] = cmk % 2  \n",
        "        return phase, partion_list\n",
        "    else: # partition_marker is not given\n",
        "        partition_marker = MeshFunction(\"size_t\", mymesh, mymesh.topology().dim())\n",
        "        partion_list = [-1]*(len(evengroup)+len(oddgroup))\n",
        "        if len(evengroup)==0:\n",
        "            phase.vector()[:] = 0\n",
        "        elif len(oddgroup)==0:\n",
        "            phase.vector()[:] = 1\n",
        "        elif (len(evengroup)+len(oddgroup)==0):\n",
        "            print(\"At least one of evengroup, oddgroup, partition_marker is not empty!\")\n",
        "            \n",
        "        for cell in cells(mymesh):\n",
        "            p = cell.midpoint();\n",
        "            for submesh_id in range(0, len(evengroup)):\n",
        "                is_inside = evengroup[submesh_id].bounding_box_tree().compute_first_entity_collision(p)<4294967295\n",
        "                if is_inside==True:\n",
        "                    cmk = 2*submesh_id + 2;\n",
        "                    partion_list[submesh_id] = cmk;\n",
        "                    partition_marker[cell.index()] = cmk;\n",
        "                    phase.vector()[dofmap_DG.cell_dofs(cell.index())] = 0;\n",
        "                    break;\n",
        "            for submesh_id in range(0, len(oddgroup)):\n",
        "                is_inside = oddgroup[submesh_id].bounding_box_tree().compute_first_entity_collision(p)<4294967295\n",
        "                if is_inside==True:\n",
        "                    cmk = 2*submesh_id + 1\n",
        "                    partion_list[submesh_id+len(evengroup)] = cmk;\n",
        "                    partition_marker[cell.index()] = cmk;\n",
        "                    phase.vector()[dofmap_DG.cell_dofs(cell.index())] = 1;\n",
        "                    break;\n",
        "        for cell in cells(mymesh):\n",
        "            cmk = partition_marker[cell.index()]\n",
        "            if (len(partion_list)==0 or not(cmk in partion_list)):\n",
        "                partion_list.insert(0,cmk)\n",
        "        return phase, partion_list, partition_marker\n",
        "      \n",
        "geo_choice = 1\n",
        "################################################################################\n",
        "############## Create two-layered disk using mshr in FEniCS ####################\n",
        "if geo_choice == 1:\n",
        "    R=[5, 7.5, 10.0]; origin = Point(0,0,0)\n",
        "    circle0 = Circle(origin, R[0], segments=32)\n",
        "    circle1 = Circle(origin, R[1], segments=32)\n",
        "    domain = Circle(origin, R[2], segments=32)\n",
        "    annulus = circle1 - circle0\n",
        "    \n",
        "    domain.set_subdomain(1, annulus)\n",
        "    mymesh = generate_mesh(domain, 15) # 15 is the resolution\n",
        "    circle0_mesh = generate_mesh(circle0, 15)\n",
        "    annulus_mesh = generate_mesh(annulus, 15)\n",
        "    evengroup = [circle0_mesh]\n",
        "    oddgroup = [annulus_mesh]\n",
        "    phase, partion_list, partition_marker = CreatePhaseFunc(mymesh, evengroup, oddgroup, None)\n",
        "    D_array = [3e-3, 3e-3, 3e-3];\n",
        "    D_dictionary = dict(zip(partion_list, D_array))\n",
        "    print(\"partition list:\",partion_list)\n",
        "################################################################################\n",
        "############## Create multilayered domains using gmsh ##########################\n",
        "if geo_choice == 2:\n",
        "    mesh_name = \"multi_layered_disk\"\n",
        "    # mesh_name = \"multi_layered_cylinder\"\n",
        "    # mesh_name = \"multi_layered_sphere\"\n",
        "    # mesh_name = \"multi_layered_torus\"\n",
        "    is_partition_function_exist = os.path.isfile('GetPartitionMarkers.py')\n",
        "    if is_partition_function_exist==False:\n",
        "        !wget --quiet https://raw.githubusercontent.com/van-dang/MRI-Cloud/mesh/GetPartitionMarkers.py\n",
        "\n",
        "    is_geo_file_exist = os.path.isfile(mesh_name+'.geo')  \n",
        "    if is_geo_file_exist==False:\n",
        "        !wget --quiet https://raw.githubusercontent.com/van-dang/MRI-Cloud/mesh/$mesh_name''.geo\n",
        "\n",
        "    # Modify .geo file from 4 layers to 3 layers      \n",
        "    !sed -i 's/5, 7.5, 10, 13/5, 7.5, 10/g' $mesh_name''.geo\n",
        "      \n",
        "    # Create mesh from geo file by gmsh\n",
        "    !gmsh -3 $mesh_name''.geo -o $mesh_name''.msh\n",
        "    \n",
        "    # Convert .msh to .xml using dolfin-convert\n",
        "    !dolfin-convert $mesh_name''.msh $mesh_name''.xml\n",
        "    clear_output()\n",
        "\n",
        "    mymesh = Mesh(mesh_name+\".xml\");  \n",
        "\n",
        "    from GetPartitionMarkers import *\n",
        "\n",
        "    GetPartitionMarkers(mesh_name+\".msh\", \"pmk_\"+mesh_name+\".xml\")\n",
        "\n",
        "    partition_marker = MeshFunction(\"size_t\", mymesh, mymesh.topology().dim())\n",
        "\n",
        "    File(\"pmk_\"+mesh_name+\".xml\")>>partition_marker\n",
        "\n",
        "    cellmarker, phase, partition_marker, partion_list = Create_phase_func(mymesh, None, partition_marker)    \n",
        "\n",
        "################################################################################\n",
        "############## Download the existing mesh and submesh ##########################\n",
        "if geo_choice == 3:\n",
        "    is_file_exist = os.path.isfile(\"multi_layer_torus.xml\")  \n",
        "    if is_file_exist==False:\n",
        "        !wget --quiet https://raw.githubusercontent.com/van-dang/MRI-Cloud/master/comri/meshes/multi_layer_torus.xml.zip\n",
        "        !wget --quiet https://raw.githubusercontent.com/van-dang/MRI-Cloud/master/comri/meshes/multi_layer_torus_compt1.xml.zip\n",
        "        !unzip -q multi_layer_torus.xml.zip\n",
        "        !unzip -q multi_layer_torus_compt1.xml.zip\n",
        "\n",
        "    mymesh = Mesh(\"multi_layer_torus.xml\");  \n",
        "    cmpt_mesh = Mesh('multi_layer_torus_compt1.xml')\n",
        "    cellmarker, phase, partition_marker, partion_list = Create_phase_func(mymesh, cmpt_mesh, None)    \n",
        "    \n",
        "################################################################################\n",
        "############## Save, Plot phase functions and submeshes to verify ##############\n",
        "print(\"Partition markers:\", partion_list)\n",
        "if mymesh.topology().dim()==2:\n",
        "    plt.subplot(1, 2, 2); plot(partition_marker, cmap=\"coolwarm\",  title=\"Partition marker\");"
      ],
      "execution_count": 33,
      "outputs": [
        {
          "output_type": "stream",
          "text": [
            "DEBUG:matplotlib.axes._base:update_title_pos\n",
            "DEBUG:matplotlib.axes._base:update_title_pos\n",
            "DEBUG:matplotlib.axes._base:update_title_pos\n",
            "DEBUG:matplotlib.axes._base:update_title_pos\n"
          ],
          "name": "stderr"
        },
        {
          "output_type": "stream",
          "text": [
            "partition list: [0, 2, 1]\n",
            "Partition markers: [0, 2, 1]\n"
          ],
          "name": "stdout"
        },
        {
          "output_type": "display_data",
          "data": {
            "image/png": "[encoded data removed]",
            "text/plain": [
              "<Figure size 432x288 with 1 Axes>"
            ]
          },
          "metadata": {
            "tags": []
          }
        }
      ]
    },
    {
      "cell_type": "markdown",
      "metadata": {
        "id": "aFEvif9PF2yH",
        "colab_type": "text"
      },
      "source": [
        "# Solve the Bloch-Torrey equation"
      ]
    },
    {
      "cell_type": "code",
      "metadata": {
        "id": "DYZ5SWlw69tQ",
        "colab_type": "code",
        "outputId": "391b792f-bfc9-4a91-deb4-ea50b7dbea05",
        "colab": {
          "base_uri": "https://localhost:8080/",
          "height": 1000
        }
      },
      "source": [
        "mri_simu = MRI_simulation()\n",
        "mri_para = MRI_parameters()\n",
        "\n",
        "bvalues = [10000]\n",
        "\n",
        "for bvalue in bvalues:\n",
        "    #################################################################################\n",
        "    #########################  Pre-defined parameters ###############################\n",
        "    mri_para.bvalue = bvalue                             # bvalue\n",
        "    mri_para.delta, mri_para.Delta = 40000, 40000# 10600, 43100        # time sequence\n",
        "    mri_para.set_gradient_dir(mymesh, 1, 0, 0)           # gradient direction\n",
        "    mri_para.T = mri_para.Delta+mri_para.delta\n",
        "    mri_para.fs_sym = sp.Piecewise(\n",
        "                    (  1., mri_para.s < mri_para.delta ),\n",
        "                    (  0., mri_para.s < mri_para.Delta ),\n",
        "                    ( -1., mri_para.s < mri_para.T ),\n",
        "                    (  0., True )  \n",
        "                ) \n",
        "\n",
        "    mri_para.Apply()\n",
        "    mri_simu.k = 200;                                    # time-step size\n",
        "    mri_simu.nskip = 5;                                  # frequency to print ouputs\n",
        "\n",
        "    mydomain = MyDomain(mymesh, mri_para)\n",
        "    mydomain.phase = phase\n",
        "    mydomain.PeriodicDir = [0, 0, 0];            # Direction of the periodicity\n",
        "    mydomain.IsDomainPeriodic = False            # Confirm if the mesh if periodic\n",
        "    mydomain.IsDomainMultiple = True             # Confirm if the mesh is multiple\n",
        "    mydomain.kappa = 1e-5                        # Permeability\n",
        "    ################################################################################\n",
        "\n",
        "    mydomain.Apply()   # Call Apply before setting the diffusion tensor\n",
        "\n",
        "    ################################################################################\n",
        "    # Impose the diffusion coefficient\n",
        "    dofmap_DG = mydomain.V_DG.dofmap()\n",
        "    d00 = Function(mydomain.V_DG); d01 = Function(mydomain.V_DG); d02 = Function(mydomain.V_DG)\n",
        "    d10 = Function(mydomain.V_DG); d11 = Function(mydomain.V_DG); d12 = Function(mydomain.V_DG)\n",
        "    d20 = Function(mydomain.V_DG); d21 = Function(mydomain.V_DG); d22 = Function(mydomain.V_DG)\n",
        "\n",
        "    for cell in cells(mymesh):\n",
        "        p = cell.midpoint() # the coordinate of the cell center.\n",
        "        cmk = partition_marker[cell.index()]\n",
        "        cell_dof = dofmap_DG.cell_dofs(cell.index())\n",
        "        d00.vector()[cell_dof] = D_dictionary[cmk]; \n",
        "        d11.vector()[cell_dof] = D_dictionary[cmk]; \n",
        "        d22.vector()[cell_dof] = D_dictionary[cmk];\n",
        "\n",
        "    mydomain.ImposeDiffusionTensor(d00, d01, d02, d10, d11, d12, d20, d21, d22)\n",
        "    #################################################################################\n",
        "    #################################################################################\n",
        "\n",
        "    # linsolver = PETScLUSolver(\"mumps\")\n",
        "    linsolver = KrylovSolver(\"bicgstab\")\n",
        "    #linsolver.parameters[\"absolute_tolerance\"] = 1e-4\n",
        "    #linsolver.parameters[\"relative_tolerance\"] = 1e-3\n",
        "    #linsolver.parameters[\"maximum_iterations\"] = 1000\n",
        "\n",
        "    mri_simu.solve(mydomain, mri_para, linsolver)\n",
        "\n",
        "    ctext = ''; # text to comment in the log file.\n",
        "    Post_processing(mydomain, mri_para, mri_simu, plt, ctext)\n"
      ],
      "execution_count": 34,
      "outputs": [
        {
          "output_type": "stream",
          "text": [
            "Domain size: xmin=-10.000000, ymin=-10.000000, zmin=0.000000, xmax=10.000000, ymax=10.000000, zmax=0.000000\n",
            "Function Space for Two-compartment Domains has 4 components\n",
            "(ur0, ui0, ur1, ur1): r-real, i-imaginary\n",
            "Initialize a standard function space.\n",
            "Impose Diffusion Tensor\n",
            "[\n",
            "  [f_22016, f_22019],\n",
            "  [f_22025, f_22028]\n",
            "]\n",
            "t:   0.00  T: 80000.00 dt: 200.0 qvalue: 1.530931e-05 Completed 0.00%\n",
            "t: 1000.00  T: 80000.00 dt: 200.0 qvalue: 1.530931e-05 Completed 1.25%\n",
            "t: 2000.00  T: 80000.00 dt: 200.0 qvalue: 1.530931e-05 Completed 2.49%\n",
            "t: 3000.00  T: 80000.00 dt: 200.0 qvalue: 1.530931e-05 Completed 3.74%\n",
            "t: 4000.00  T: 80000.00 dt: 200.0 qvalue: 1.530931e-05 Completed 4.99%\n",
            "t: 5000.00  T: 80000.00 dt: 200.0 qvalue: 1.530931e-05 Completed 6.23%\n",
            "t: 6000.00  T: 80000.00 dt: 200.0 qvalue: 1.530931e-05 Completed 7.48%\n",
            "t: 7000.00  T: 80000.00 dt: 200.0 qvalue: 1.530931e-05 Completed 8.73%\n",
            "t: 8000.00  T: 80000.00 dt: 200.0 qvalue: 1.530931e-05 Completed 9.98%\n",
            "t: 9000.00  T: 80000.00 dt: 200.0 qvalue: 1.530931e-05 Completed 11.22%\n",
            "t: 10000.00  T: 80000.00 dt: 200.0 qvalue: 1.530931e-05 Completed 12.47%\n",
            "t: 11000.00  T: 80000.00 dt: 200.0 qvalue: 1.530931e-05 Completed 13.72%\n",
            "t: 12000.00  T: 80000.00 dt: 200.0 qvalue: 1.530931e-05 Completed 14.96%\n",
            "t: 13000.00  T: 80000.00 dt: 200.0 qvalue: 1.530931e-05 Completed 16.21%\n",
            "t: 14000.00  T: 80000.00 dt: 200.0 qvalue: 1.530931e-05 Completed 17.46%\n",
            "t: 15000.00  T: 80000.00 dt: 200.0 qvalue: 1.530931e-05 Completed 18.70%\n",
            "t: 16000.00  T: 80000.00 dt: 200.0 qvalue: 1.530931e-05 Completed 19.95%\n",
            "t: 17000.00  T: 80000.00 dt: 200.0 qvalue: 1.530931e-05 Completed 21.20%\n",
            "t: 18000.00  T: 80000.00 dt: 200.0 qvalue: 1.530931e-05 Completed 22.44%\n",
            "t: 19000.00  T: 80000.00 dt: 200.0 qvalue: 1.530931e-05 Completed 23.69%\n",
            "t: 20000.00  T: 80000.00 dt: 200.0 qvalue: 1.530931e-05 Completed 24.94%\n",
            "t: 21000.00  T: 80000.00 dt: 200.0 qvalue: 1.530931e-05 Completed 26.18%\n",
            "t: 22000.00  T: 80000.00 dt: 200.0 qvalue: 1.530931e-05 Completed 27.43%\n",
            "t: 23000.00  T: 80000.00 dt: 200.0 qvalue: 1.530931e-05 Completed 28.68%\n",
            "t: 24000.00  T: 80000.00 dt: 200.0 qvalue: 1.530931e-05 Completed 29.93%\n",
            "t: 25000.00  T: 80000.00 dt: 200.0 qvalue: 1.530931e-05 Completed 31.17%\n",
            "t: 26000.00  T: 80000.00 dt: 200.0 qvalue: 1.530931e-05 Completed 32.42%\n",
            "t: 27000.00  T: 80000.00 dt: 200.0 qvalue: 1.530931e-05 Completed 33.67%\n",
            "t: 28000.00  T: 80000.00 dt: 200.0 qvalue: 1.530931e-05 Completed 34.91%\n",
            "t: 29000.00  T: 80000.00 dt: 200.0 qvalue: 1.530931e-05 Completed 36.16%\n",
            "t: 30000.00  T: 80000.00 dt: 200.0 qvalue: 1.530931e-05 Completed 37.41%\n",
            "t: 31000.00  T: 80000.00 dt: 200.0 qvalue: 1.530931e-05 Completed 38.65%\n",
            "t: 32000.00  T: 80000.00 dt: 200.0 qvalue: 1.530931e-05 Completed 39.90%\n",
            "t: 33000.00  T: 80000.00 dt: 200.0 qvalue: 1.530931e-05 Completed 41.15%\n",
            "t: 34000.00  T: 80000.00 dt: 200.0 qvalue: 1.530931e-05 Completed 42.39%\n",
            "t: 35000.00  T: 80000.00 dt: 200.0 qvalue: 1.530931e-05 Completed 43.64%\n",
            "t: 36000.00  T: 80000.00 dt: 200.0 qvalue: 1.530931e-05 Completed 44.89%\n",
            "t: 37000.00  T: 80000.00 dt: 200.0 qvalue: 1.530931e-05 Completed 46.13%\n",
            "t: 38000.00  T: 80000.00 dt: 200.0 qvalue: 1.530931e-05 Completed 47.38%\n",
            "t: 39000.00  T: 80000.00 dt: 200.0 qvalue: 1.530931e-05 Completed 48.63%\n",
            "t: 40000.00  T: 80000.00 dt: 200.0 qvalue: 1.530931e-05 Completed 49.88%\n",
            "t: 41000.00  T: 80000.00 dt: 200.0 qvalue: 1.530931e-05 Completed 51.12%\n",
            "t: 42000.00  T: 80000.00 dt: 200.0 qvalue: 1.530931e-05 Completed 52.37%\n",
            "t: 43000.00  T: 80000.00 dt: 200.0 qvalue: 1.530931e-05 Completed 53.62%\n",
            "t: 44000.00  T: 80000.00 dt: 200.0 qvalue: 1.530931e-05 Completed 54.86%\n",
            "t: 45000.00  T: 80000.00 dt: 200.0 qvalue: 1.530931e-05 Completed 56.11%\n",
            "t: 46000.00  T: 80000.00 dt: 200.0 qvalue: 1.530931e-05 Completed 57.36%\n",
            "t: 47000.00  T: 80000.00 dt: 200.0 qvalue: 1.530931e-05 Completed 58.60%\n",
            "t: 48000.00  T: 80000.00 dt: 200.0 qvalue: 1.530931e-05 Completed 59.85%\n",
            "t: 49000.00  T: 80000.00 dt: 200.0 qvalue: 1.530931e-05 Completed 61.10%\n",
            "t: 50000.00  T: 80000.00 dt: 200.0 qvalue: 1.530931e-05 Completed 62.34%\n",
            "t: 51000.00  T: 80000.00 dt: 200.0 qvalue: 1.530931e-05 Completed 63.59%\n",
            "t: 52000.00  T: 80000.00 dt: 200.0 qvalue: 1.530931e-05 Completed 64.84%\n",
            "t: 53000.00  T: 80000.00 dt: 200.0 qvalue: 1.530931e-05 Completed 66.08%\n",
            "t: 54000.00  T: 80000.00 dt: 200.0 qvalue: 1.530931e-05 Completed 67.33%\n",
            "t: 55000.00  T: 80000.00 dt: 200.0 qvalue: 1.530931e-05 Completed 68.58%\n",
            "t: 56000.00  T: 80000.00 dt: 200.0 qvalue: 1.530931e-05 Completed 69.83%\n",
            "t: 57000.00  T: 80000.00 dt: 200.0 qvalue: 1.530931e-05 Completed 71.07%\n",
            "t: 58000.00  T: 80000.00 dt: 200.0 qvalue: 1.530931e-05 Completed 72.32%\n",
            "t: 59000.00  T: 80000.00 dt: 200.0 qvalue: 1.530931e-05 Completed 73.57%\n",
            "t: 60000.00  T: 80000.00 dt: 200.0 qvalue: 1.530931e-05 Completed 74.81%\n",
            "t: 61000.00  T: 80000.00 dt: 200.0 qvalue: 1.530931e-05 Completed 76.06%\n",
            "t: 62000.00  T: 80000.00 dt: 200.0 qvalue: 1.530931e-05 Completed 77.31%\n",
            "t: 63000.00  T: 80000.00 dt: 200.0 qvalue: 1.530931e-05 Completed 78.55%\n",
            "t: 64000.00  T: 80000.00 dt: 200.0 qvalue: 1.530931e-05 Completed 79.80%\n",
            "t: 65000.00  T: 80000.00 dt: 200.0 qvalue: 1.530931e-05 Completed 81.05%\n",
            "t: 66000.00  T: 80000.00 dt: 200.0 qvalue: 1.530931e-05 Completed 82.29%\n",
            "t: 67000.00  T: 80000.00 dt: 200.0 qvalue: 1.530931e-05 Completed 83.54%\n",
            "t: 68000.00  T: 80000.00 dt: 200.0 qvalue: 1.530931e-05 Completed 84.79%\n",
            "t: 69000.00  T: 80000.00 dt: 200.0 qvalue: 1.530931e-05 Completed 86.03%\n",
            "t: 70000.00  T: 80000.00 dt: 200.0 qvalue: 1.530931e-05 Completed 87.28%\n",
            "t: 71000.00  T: 80000.00 dt: 200.0 qvalue: 1.530931e-05 Completed 88.53%\n",
            "t: 72000.00  T: 80000.00 dt: 200.0 qvalue: 1.530931e-05 Completed 89.78%\n",
            "t: 73000.00  T: 80000.00 dt: 200.0 qvalue: 1.530931e-05 Completed 91.02%\n",
            "t: 74000.00  T: 80000.00 dt: 200.0 qvalue: 1.530931e-05 Completed 92.27%\n",
            "t: 75000.00  T: 80000.00 dt: 200.0 qvalue: 1.530931e-05 Completed 93.52%\n",
            "t: 76000.00  T: 80000.00 dt: 200.0 qvalue: 1.530931e-05 Completed 94.76%\n",
            "t: 77000.00  T: 80000.00 dt: 200.0 qvalue: 1.530931e-05 Completed 96.01%\n",
            "t: 78000.00  T: 80000.00 dt: 200.0 qvalue: 1.530931e-05 Completed 97.26%\n",
            "t: 79000.00  T: 80000.00 dt: 200.0 qvalue: 1.530931e-05 Completed 98.50%\n"
          ],
          "name": "stdout"
        },
        {
          "output_type": "stream",
          "text": [
            "DEBUG:matplotlib.axes._base:update_title_pos\n"
          ],
          "name": "stderr"
        },
        {
          "output_type": "stream",
          "text": [
            "t: 80000.00  T: 80000.00 dt: 200.0 qvalue: 1.530931e-05 Completed 99.75%\n",
            "Successfully Completed! Elapsed time: 22.375623 seconds\n",
            "Signal on each compartment\n",
            "Sum initial0: 2.146e+02, Signal0: 5.897e+01\n",
            "Sum initial1: 9.755e+01, Signal1: 6.734e+00\n",
            "b: 10000.000, g: 0.057, q: 1.531e-05, Signal: 6.570e+01, Normalized signal: 2.104897e-01, kappa: 1.000e-05, dt: 200.000, hmin: 6.769e-01, hmax: 1.332e+00, whole_vol: 312.145, vol_of_interest: 312.145, elasped time 22.376 (s)\n",
            "\n",
            "save to log.txt\n"
          ],
          "name": "stdout"
        },
        {
          "output_type": "stream",
          "text": [
            "DEBUG:matplotlib.axes._base:update_title_pos\n",
            "DEBUG:matplotlib.axes._base:update_title_pos\n",
            "DEBUG:matplotlib.axes._base:update_title_pos\n"
          ],
          "name": "stderr"
        },
        {
          "output_type": "display_data",
          "data": {
            "image/png": "[encoded data removed]",
            "text/plain": [
              "<Figure size 432x288 with 1 Axes>"
            ]
          },
          "metadata": {
            "tags": []
          }
        },
        {
          "output_type": "stream",
          "text": [
            "DEBUG:matplotlib.axes._base:update_title_pos\n",
            "DEBUG:matplotlib.axes._base:update_title_pos\n",
            "DEBUG:matplotlib.axes._base:update_title_pos\n",
            "DEBUG:matplotlib.axes._base:update_title_pos\n"
          ],
          "name": "stderr"
        },
        {
          "output_type": "display_data",
          "data": {
            "image/png": "[encoded data removed]",
            "text/plain": [
              "<Figure size 432x288 with 1 Axes>"
            ]
          },
          "metadata": {
            "tags": []
          }
        }
      ]
    },
    {
      "cell_type": "markdown",
      "metadata": {
        "id": "2PFBYd0QMw4U",
        "colab_type": "text"
      },
      "source": [
        "# Reference solutions"
      ]
    },
    {
      "cell_type": "code",
      "metadata": {
        "id": "3paAgRxbM3yW",
        "colab_type": "code",
        "colab": {}
      },
      "source": [
        "# The results were generated by the Matrix Formalism method propsed in\n",
        "# D.S. Grebenkov, Pulsed-gradient spin-echo monitoring of restricted \n",
        "# diffusion in multilayered structures, J. Magn. Reson., 205 (2) (2010)\n",
        "\n",
        "\n",
        "# # # # # # # # # # # # # # # # D.I.S.K # # # # # # # # # # # # # # # # # # # # #\n",
        "# # # # # # # # # R=[5,7.5,10], PGSE delta=Delta=40000 # # # ## # # # # # # # # #\n",
        "# # # # # # # # # # mydomain.PeriodicDir = [0, 0, 0];\n",
        "# D=3e-3 mm^2/s, kappa=5e-5m/s\n",
        "#  bvalue    # signal attenuation\n",
        "#  0.000e+00 #  1.000e+00\n",
        "#  1.000e+03 #  7.181e-01\n",
        "#  2.000e+03 #  5.234e-01\n",
        "#  3.000e+03 #  3.899e-01\n",
        "#  4.000e+03 #  2.990e-01\n",
        "#  5.000e+03 #  2.373e-01\n",
        "#  6.000e+03 #  1.952e-01\n",
        "#  7.000e+03 #  1.661e-01\n",
        "#  8.000e+03 #  1.454e-01\n",
        "#  9.000e+03 #  1.302e-01\n",
        "#  1.000e+04 #  1.184e-01\n",
        "# # # # # # # # # # # # # # # # # # # # # # # # # # # # # # # # # # # # # # # # #\n",
        "# D=[3 1 3]*1e-3 mm^2/s, kappa=1e-5m/s\n",
        "#  0.000e+00 # 1.000e+00\n",
        "#  1.000e+03 # 7.297e-01\n",
        "#  2.000e+03 # 5.525e-01\n",
        "#  3.000e+03 # 4.381e-01\n",
        "#  4.000e+03 # 3.649e-01\n",
        "#  5.000e+03 # 3.181e-01\n",
        "#  6.000e+03 # 2.877e-01\n",
        "#  7.000e+03 # 2.672e-01\n",
        "#  8.000e+03 # 2.522e-01\n",
        "#  9.000e+03 # 2.402e-01\n",
        "#  1.000e+04 # 2.297e-01\n",
        "# # # # # # # # # # # # # # # # # # # # # # # # # # # # # # # # # # # # # # # # #\n",
        "\n",
        "\n",
        "# # # # # # # # # # # # # # # S.P.H.E.R.E # # # # # # # # # # # # # # # # # # # # \n",
        "# # # # # # # # # # R=[5,7.5,10], PGSE delta=Delta=40000 # # # # # # # #  # # # #\n",
        "# # # # # # # # # # mydomain.PeriodicDir = [0, 0, 0];\n",
        "# D=3e-3 mm^2/s, kappa=5e-5m/s\n",
        "#  bvalue    # signal attenuation\n",
        "#  0.000e+00 #  1.000e+00\n",
        "#  1.000e+03 #  7.886e-01\n",
        "#  2.000e+03 #  6.228e-01\n",
        "#  3.000e+03 #  4.932e-01\n",
        "#  4.000e+03 #  3.921e-01\n",
        "#  5.000e+03 #  3.135e-01\n",
        "#  6.000e+03 #  2.526e-01\n",
        "#  7.000e+03 #  2.054e-01\n",
        "#  8.000e+03 #  1.688e-01\n",
        "#  9.000e+03 #  1.406e-01\n",
        "#  1.000e+04 #  1.186e-01\n",
        "# # # # # # # # # # # # # # # # # # # # # # # # # # # # # # # # # # # # # # # # #\n",
        "# D=[3 1 3]*1e-3 mm^2/s\n",
        "#  0.000e+00 #  1.000e+00\n",
        "#  1.000e+03 #  7.707e-01\n",
        "#  2.000e+03 #  5.932e-01\n",
        "#  3.000e+03 #  4.565e-01\n",
        "#  4.000e+03 #  3.518e-01\n",
        "#  5.000e+03 #  2.721e-01\n",
        "#  6.000e+03 #  2.117e-01\n",
        "#  7.000e+03 #  1.662e-01\n",
        "#  8.000e+03 #  1.321e-01\n",
        "#  9.000e+03 #  1.065e-01\n",
        "#  1.000e+04 #  8.749e-02\n",
        "# # # # # # # # # # # # # # # # # # # # # # # # # # # # # # # # # # # # # # # # #\n",
        "\n",
        "\n",
        "# # # # # # # # # # # # # # # C.Y.L.I.N.D.E.R # # # # # # # # # # # # # # # # # # \n",
        "# # # # # # # # # # R=[5,7.5,10], PGSE delta=Delta=10000 # # # # # # # #  # # # #\n",
        "# D=3e-3 mm^2/s, kappa=5e-5m/s\n",
        "# gdir=[0, 1, 0]:\n",
        "# 0.000e+00 #  1.000e+00\n",
        "# 1.000e+03 #  4.777e-01\n",
        "# 2.000e+03 #  2.996e-01\n",
        "# 3.000e+03 #  2.235e-01\n",
        "# 4.000e+03 #  1.784e-01\n",
        "# 5.000e+03 #  1.455e-01\n",
        "# 6.000e+03 #  1.200e-01\n",
        "# 7.000e+03 #  1.003e-01\n",
        "# 8.000e+03 #  8.513e-02\n",
        "# 9.000e+03 #  7.374e-02\n",
        "# 1.000e+04 #  6.531e-02\n",
        "# gdir=[1, 0, 0]:\n",
        "# mydomain.PeriodicDir = [1, 0, 0]: s=exp(-bvalue*D0)\n",
        "# mydomain.PeriodicDir = [0, 0, 0]:\n",
        "#  bvalue    # signal attenuation\n",
        "#  0.000e+00 #  1.000e+00\n",
        "#  1.000e+03 #  2.588e-01\n",
        "#  2.000e+03 #  1.191e-01\n",
        "#  3.000e+03 #  8.646e-02\n",
        "#  4.000e+03 #  6.591e-02\n",
        "#  5.000e+03 #  5.008e-02\n",
        "#  6.000e+03 #  4.019e-02\n",
        "#  7.000e+03 #  3.460e-02\n",
        "#  8.000e+03 #  3.083e-02\n",
        "#  9.000e+03 #  2.738e-02\n",
        "#  1.000e+04 #  2.390e-02\n",
        "# # # # # # # # # # # # # # # # # # # # # # # # # # # # # # # # # # # # # # # # #"
      ],
      "execution_count": 0,
      "outputs": []
    }
  ]
}