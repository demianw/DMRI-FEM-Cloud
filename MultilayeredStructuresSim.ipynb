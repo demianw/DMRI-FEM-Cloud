{
  "nbformat": 4,
  "nbformat_minor": 0,
  "metadata": {
    "colab": {
      "name": "DMR_Multilayered_Domain.ipynb",
      "version": "0.3.2",
      "provenance": [],
      "collapsed_sections": [
        "vS_YdSbqFOln",
        "9SJXe6I5JUwF",
        "r6GW2fwLE042",
        "pfryWRtY-FU-"
      ],
      "toc_visible": true,
      "include_colab_link": true
    },
    "kernelspec": {
      "name": "python3",
      "display_name": "Python 3"
    },
    "accelerator": "GPU"
  },
  "cells": [
    {
      "cell_type": "markdown",
      "metadata": {
        "id": "view-in-github",
        "colab_type": "text"
      },
      "source": [
        "<a href=\"https://colab.research.google.com/github/van-dang/MRI-Cloud/blob/master/MultilayeredStructuresSim.ipynb\" target=\"_parent\"><img src=\"https://colab.research.google.com/assets/colab-badge.svg\" alt=\"Open In Colab\"/></a>"
      ]
    },
    {
      "metadata": {
        "id": "vS_YdSbqFOln",
        "colab_type": "text"
      },
      "cell_type": "markdown",
      "source": [
        "# About the code"
      ]
    },
    {
      "metadata": {
        "id": "CiQ9r51xKgWh",
        "colab_type": "code",
        "colab": {}
      },
      "cell_type": "code",
      "source": [
        "# This demo solves the Bloch-Torrey equation applied to computational diffusion MRI using \n",
        "# the finite element method coupled with the theta-method for the spatial discretization.\n",
        "\n",
        "# The scope of usage: \n",
        "# (1) multilayered structures, (2) membrane permeability, (3) pure homogeneous Neumann \n",
        "\n",
        "# Copyright (C) 20u_0u_017 Van-Dang Nguyen (vdnguyen@kth.se)\n",
        "\n",
        "# This file is part of DOLFIN.\n",
        "\n",
        "# DOLFIN is free software: you can redistribute it and/or modify\n",
        "# it under the terms of the GNU Lesser General Public License as published by\n",
        "# the Free Software Foundation, either version 3 of the License, or\n",
        "# (at your option) any later version.\n",
        "\n",
        "# DOLFIN is distributed in the hope that it will be useful,\n",
        "# but WITHOUT ANY WARRANTY; without even the implied warranty of\n",
        "# MERCHANTABILITY or FITNESS FOR A PARTICULAR PURPOSE. See the\n",
        "# GNU Lesser General Public License for more details.\n",
        "\n",
        "# You should have received a copy of the GNU Lesser General Public License\n",
        "# along with DOLFIN. If not, see <http://www.gnu.org/licenses/>.\n",
        "\n",
        "# First added:  2017-10-10\n",
        "# Last changed: 2019-04-09\n",
        "\n",
        "# This demo is maintained by Van-Dang Nguyen\n",
        "# Please report problems to vdnguyen@kth.se"
      ],
      "execution_count": 0,
      "outputs": []
    },
    {
      "metadata": {
        "id": "9SJXe6I5JUwF",
        "colab_type": "text"
      },
      "cell_type": "markdown",
      "source": [
        "# Setting a working environment with FEniCS"
      ]
    },
    {
      "metadata": {
        "id": "4jWzVxURFVLj",
        "colab_type": "code",
        "outputId": "7368fc20-4c55-4b45-afcd-7122b5e161d2",
        "colab": {
          "base_uri": "https://localhost:8080/",
          "height": 63
        }
      },
      "cell_type": "code",
      "source": [
        "from google.colab import files\n",
        "\n",
        "import platform, sys\n",
        "python_version=platform.python_version()\n",
        "from distutils.version import LooseVersion, StrictVersion\n",
        "\n",
        "if ( LooseVersion(python_version) < LooseVersion(\"3.0.0\")):\n",
        "    print(\"Python3 is needed!\");\n",
        "    print(\"How to fix: Runtime/Change_runtime_type/Python 3\");\n",
        "    sys.exit()\n",
        "    \n",
        "try:\n",
        "    from dolfin import *; from mshr import *\n",
        "except ImportError as e:\n",
        "    !apt-get install -y -qq software-properties-common python-software-properties module-init-tools\n",
        "    !add-apt-repository -y ppa:fenics-packages/fenics\n",
        "    !apt-get update -qq\n",
        "    !apt install -y --no-install-recommends fenics\n",
        "    from dolfin import *; from mshr import *\n",
        "    \n",
        "import matplotlib.pyplot as plt;\n",
        "from IPython.display import clear_output, display; import time; import dolfin.common.plotting as fenicsplot \n",
        "import time\n",
        "\n",
        "import os, sys, shutil\n",
        "\n",
        "clear_output()\n",
        "\n",
        "dolfin_version = dolfin.__version__\n",
        "print ('dolfin version:', dolfin_version)\n",
        "\n",
        "!rm -rf * # clean up all files\n",
        "# Useful commands\n",
        "# Remove an empty folder      : os.rmdir(\"my_results\")\n",
        "# Remove a folder with files  : shutil.rmtree(\"results\")\n",
        "# Make a folder               : os.mkdir(\"my_results\")\n",
        "# Runtime/Change_runtime_type/Python3\n",
        "\n"
      ],
      "execution_count": 59,
      "outputs": [
        {
          "output_type": "stream",
          "text": [
            "dolfin version: 2018.1.0\n"
          ],
          "name": "stdout"
        }
      ]
    },
    {
      "metadata": {
        "id": "6l4kvMZQb3z6",
        "colab_type": "text"
      },
      "cell_type": "markdown",
      "source": [
        "#Pre-defined functions"
      ]
    },
    {
      "metadata": {
        "id": "x3L26nGPb7kZ",
        "colab_type": "code",
        "colab": {}
      },
      "cell_type": "code",
      "source": [
        "def GdotX(gdir, mesh):\n",
        "  gdim = mesh.geometry().dim()\n",
        "  if (gdim==2):\n",
        "    GX=Expression(\"x[0]*g0+x[1]*g1\", g0=gdir.x(), g1=gdir.y(), domain=mesh, degree=3);\n",
        "  if (gdim==3):\n",
        "    GX=Expression(\"x[0]*g0+x[1]*g1+x[2]*g2\", g0=gdir.x(), g1=gdir.y(), g2=gdir.z(), domain=mesh, degree=3);\n",
        "  return GX;\n",
        "\n",
        "def Gdir(g0, g1, g2, mesh):\n",
        "  gdim = mesh.geometry().dim()\n",
        "  if (gdim==2):\n",
        "    gdir = Point(g0, g1);\n",
        "  if (gdim==3):\n",
        "    gdir = Point(g0, g1, g2);\n",
        "  return gdir/gdir.norm();\n",
        "\n",
        "def FuncF_wBC(ft, gnorm, gdir, ur, ui, vr, vi, K):\n",
        "    GX=GdotX(gdir, mesh)\n",
        "    Fr = ft*gnorm*GX*ui*vr - inner(K*grad(ur), grad(vr))\n",
        "    Fi = - ft*gnorm*GX*ur*vi - inner(K*grad(ui), grad(vi))\n",
        "    return Fr + Fi\n",
        "  \n",
        "def icondition_wBC(kappa, u0rm, u1rm, v0r, v1r, u0im, u1im, v0i, v1i):\n",
        "    F_bcr = kappa*(u0rm-u1rm)*(v0r-v1r)\n",
        "    F_bci = kappa*(u0im-u1im)*(v0i-v1i)\n",
        "    return F_bcr + F_bci\n",
        "\n",
        "def SubMeshSave(ur, ui, file_ur, file_ui, mesh, n, stepcounter, dolfin_version):\n",
        "  if dolfin_version=='1.6.0':\n",
        "    V = FunctionSpace(mesh, \"CG\", porder)\n",
        "  else:\n",
        "    # For FEniCS 2016, 2017\n",
        "    Ve = FiniteElement(\"CG\", mesh.ufl_cell(), porder)\n",
        "    V = FunctionSpace(mesh, Ve)\n",
        "  if stepcounter % n == 0:\n",
        "    ur_p = project(ur, V);\n",
        "    ui_p = project(ui, V);\n",
        "    ur_p.rename(\"Real\", \"label\");\n",
        "    ui_p.rename(\"Imag\", \"label\");\n",
        "    file_ur << ur_p;\n",
        "    file_ui << ui_p;\n",
        "\n",
        "def ieval(u,omega, phase):\n",
        "  if omega==1:\n",
        "    return u('+')*phase('+') + u('-')*phase('-');\n",
        "  if omega==0:\n",
        "    return u('+')*(1.-phase('+')) + u('-')*(1.-phase('-'))                      \n",
        "  \n",
        "def ThetaMethodL_wBC1c(ft, ift, mparameters , w , v, u_0 ,k, K, theta, mydomain, wpperiodic):\n",
        "    gnorm = mparameters.gnorm\n",
        "    gdir = mparameters.gdir\n",
        "    u0r_0, u0i_0 = split(u_0)\n",
        "    v0r, v0i = v[0], v[1]\n",
        "    u0r, u0i = w[0], w[1]\n",
        "    L0 = (u0r_0/k*v0r + u0i_0/k*v0i+(1-theta)*FuncF_wBC(ft, gnorm, gdir, u0r_0, u0i_0, v0r, v0i, K))*dx\n",
        "    L_pbc = 0;\n",
        "    if (mydomain.PeriodicDir[0]+mydomain.PeriodicDir[1]+mydomain.PeriodicDir[2])>0:\n",
        "      # Start applying the weak pseudo-periodic BC\n",
        "      wpperiodic.set_values(u_0, ift);\n",
        "      u0r_bc, u0i_bc = wpperiodic[0], wpperiodic[1]\n",
        "      L_pbc +=  (1-theta)*mydomain.kappa_e*(u0r_bc*v0r   + u0i_bc*v0i)*ds; # u0r_0, u0i_0                                                          \n",
        "      # End of applying the weak pseudo-periodic BC\n",
        "    return L0+L_pbc\n",
        "\n",
        "def ThetaMethodF_wBC1c(ft, ift, mparameters, w , v, k, K, theta, mydomain):\n",
        "    gnorm = mparameters.gnorm\n",
        "    gdir = mparameters.gdir\n",
        "    kappa = mydomain.kappa\n",
        "    v0r, v0i = v[0], v[1]\n",
        "    u0r, u0i = w[0], w[1]\n",
        "    a0 = (  -theta*FuncF_wBC(ft, gnorm, gdir, u0r, u0i, v0r, v0i, K))*dx\n",
        "    a_pbc = 0;\n",
        "    if (mydomain.PeriodicDir[0]+mydomain.PeriodicDir[1]+mydomain.PeriodicDir[2])>0:\n",
        "      a_pbc = theta*mydomain.kappa_e*(u0r*v0r   + u0i*v0i)*ds;\n",
        "    return a0+a_pbc\n",
        "  \n",
        "  \n",
        "def ThetaMethodL_wBC2c(ft, ift, mparameters , w , v, u_0 ,k, K, theta, phase, mydomain, wpperiodic):\n",
        "    gnorm = mparameters.gnorm\n",
        "    gdir = mparameters.gdir\n",
        "    kappa = mydomain.kappa\n",
        "    u0r_0, u0i_0, u1r_0, u1i_0 = split(u_0)\n",
        "    v0r, v0i, v1r, v1i = v[0], v[1], v[2], v[3]\n",
        "    u0r, u0i, u1r, u1i = w[0], w[1], w[2], w[3]\n",
        "\n",
        "    L0 = (u0r_0/k*v0r + u0i_0/k*v0i+(1-theta)*FuncF_wBC(ft, gnorm, gdir, u0r_0, u0i_0, v0r, v0i, K))*(1-phase)*dx\n",
        "    L1 = (u1r_0/k*v1r +u1i_0/k*v1i+(1-theta)*FuncF_wBC(ft, gnorm, gdir, u1r_0, u1i_0, v1r, v1i, K))*phase*dx\n",
        "    L_bc = avg((1-theta)*icondition_wBC(kappa, u0r_0, u1r_0, v0r, v1r, u0i_0, u1i_0, v0i, v1i))*abs(jump(phase))*dS;\n",
        "    \n",
        "    L_pbc = 0;\n",
        "    if (mydomain.PeriodicDir[0]+mydomain.PeriodicDir[1]+mydomain.PeriodicDir[2])>0:\n",
        "      # Start applying the weak pseudo-periodic BC\n",
        "      wpperiodic.set_values(u_0, ift);\n",
        "      u0r_bc, u0i_bc, u1r_bc, u1i_bc = wpperiodic[0], wpperiodic[1], wpperiodic[2], wpperiodic[3]\n",
        "      L_pbc +=  (1-theta)*mydomain.kappa_e*(u1r_bc*v1r   + u1i_bc*v1i)*    phase*ds; # u1r_0, u1i_0                                                          \n",
        "      L_pbc +=  (1-theta)*mydomain.kappa_e*(u0r_bc*v0r   + u0i_bc*v0i)*(1-phase)*ds; # u0r_0, u0i_0                                                          \n",
        "      # End of applying the weak pseudo-periodic BC\n",
        "    return L0+L1-L_bc+L_pbc\n",
        "  \n",
        "  \n",
        "def ThetaMethodF_wBC2c(ft, ift, mparameters, w , v, k, K, theta, phase, mydomain):\n",
        "    gnorm = mparameters.gnorm\n",
        "    gdir = mparameters.gdir\n",
        "    \n",
        "    kappa = mydomain.kappa\n",
        "    v0r, v0i, v1r, v1i = v[0], v[1], v[2], v[3]\n",
        "    u0r, u0i, u1r, u1i = w[0], w[1], w[2], w[3]\n",
        "    a0 = (  -theta*FuncF_wBC(ft, gnorm, gdir, u0r  , u0i  , v0r, v0i, K))*(1-phase)*dx\n",
        "    a1 = (  -theta*FuncF_wBC(ft, gnorm, gdir, u1r  , u1i  , v1r, v1i, K))*phase*dx\n",
        "    a_bc = avg(  (theta*icondition_wBC(kappa, u0r  , u1r  , v0r, v1r, u0i  , u1i  , v0i, v1i)))*abs(jump(phase))*dS;\n",
        "    \n",
        "    a_pbc = 0;\n",
        "    if (mydomain.PeriodicDir[0]+mydomain.PeriodicDir[1]+mydomain.PeriodicDir[2])>0:\n",
        "      a_pbc = theta*mydomain.kappa_e*(u1r*v1r   + u1i*v1i)*phase*ds + theta*mydomain.kappa_e*(u0r*v0r   + u0i*v0i)*(1-phase)*ds;\n",
        "      \n",
        "    return a0+a1+a_bc+a_pbc\n",
        "\n",
        "\n",
        "\n",
        "# Strong periodic boundary conditions  \n",
        "def inner_interface(kappa, gnorm, u0rm, u1rm, v0r, v1r, u0im, u1im, v0i, v1i, fn, g, K0, K1):\n",
        "    F_bcr  = (-kappa*avg(u0rm-u1rm)-0.5*gnorm*ift*(avg(u0im)*inner(K0*avg(g),fn)+avg(u1im)*inner(K1*avg(g),fn)))*avg(v0r-v1r)                      \n",
        "    F_bcr += -gnorm*ift*( avg(u0im)*inner(K0*avg(g),fn)-avg(u1im)*inner(K1*avg(g),fn) )*0.5*avg(v0r+v1r)                                                                                                                                                                                         \n",
        "    F_bci  = (-kappa*avg(u0im-u1im)+0.5*gnorm*ift*(avg(u0rm)*inner(K0*avg(g),fn)+avg(u1rm)*inner(K0*avg(g),fn)))*avg(v0i-v1i)                      \n",
        "    F_bci += gnorm*ift*(  avg(u0rm)*inner(K0*avg(g),fn)-avg(u1rm)*inner(K1*avg(g),fn) )*0.5*avg(v0i+v1i)                                         \n",
        "    return -F_bcr - F_bci\n",
        "\n",
        "def outer_interface(ift, gnorm, K, fn, ur, ui, vr, vi, g):\n",
        "    F_bcr =  (ift*gnorm+1e-16)*inner(K*g, fn)*ui*vr\n",
        "    F_bci = -(ift*gnorm+1e-16)*inner(K*g, fn)*ur*vi\n",
        "    return F_bcr + F_bci\n",
        "\n",
        "  \n",
        "def FuncF_sBC(ift, gnorm, g, ur, ui, vr, vi, K):\n",
        "    Fr =   ift*gnorm*(inner(g,K*grad(ui))+inner(grad(ui),K*g))*vr - inner(g,K*g)*gnorm*gnorm*ift*ift*ur*vr-K*inner(grad(ur), grad(vr))\n",
        "    Fi = - ift*gnorm*(inner(g,K*grad(ur))+inner(grad(ur),K*g))*vi - inner(g,K*g)*gnorm*gnorm*ift*ift*ui*vi-K*inner(grad(ui), grad(vi))\n",
        "    return Fr + Fi\n",
        "\n",
        "\n",
        "def ThetaMethodF_sBC1c(ft, ift, mparameters, w, v, k, K, theta, mydomain):\n",
        "    gnorm = mparameters.gnorm\n",
        "    g = mparameters.g\n",
        "    fn = mydomain.fn\n",
        "    fn0 = mydomain.fn0\n",
        "    kappa = mydomain.kappa\n",
        "    v0r, v0i = v[0], v[1]\n",
        "    u0r, u0i = w[0], w[1]\n",
        "    a0 = (  -theta*FuncF_sBC(ift, gnorm, g, u0r  , u0i  , v0r, v0i, K))*dx\n",
        "    a0_outer_bc = theta*outer_interface(ift, gnorm , K, fn, u0r, u0i, v0r, v0i, g)*ds\n",
        "    return a0 + a0_outer_bc \n",
        "\n",
        "  \n",
        "\n",
        "def ThetaMethodL_sBC1c(ft, ift, mparameters, w, v, u_0, k, K, theta, mydomain, wpperiodic):\n",
        "    gnorm = mparameters.gnorm\n",
        "    g = mparameters.g\n",
        "    fn = mydomain.fn\n",
        "    v0r, v0i = v[0], v[1]\n",
        "    u0r, u0i = w[0], w[1]\n",
        "    u0r_0, u0i_0 = split(u_0)\n",
        "    L0 = (u0r_0/k*v0r + u0i_0/k*v0i +theta*FuncF_sBC(ift, gnorm, g, u0r_0, u0i_0, v0r, v0i, K))*dx\n",
        "    L0_outer_bc = -theta*outer_interface(ift, gnorm, K, fn, u0r_0, u0i_0, v0r, v0i, g)*ds\n",
        "    return L0 + L0_outer_bc\n",
        "\n",
        "  \n",
        "def ThetaMethodF_sBC2c(ft, ift, mparameters, w, v, k, K, theta, phase, mydomain):\n",
        "    gnorm = mparameters.gnorm\n",
        "    g = mparameters.g\n",
        "    fn = mydomain.fn\n",
        "    fn0 = mydomain.fn0\n",
        "    kappa = mydomain.kappa\n",
        "    v0r, v0i, v1r, v1i = v[0], v[1], v[2], v[3]\n",
        "    u0r, u0i, u1r, u1i = w[0], w[1], w[2], w[3]\n",
        "    a0 = (  -theta*FuncF_sBC(ift, gnorm, g, u0r  , u0i  , v0r, v0i, K))*(1-phase)*dx\n",
        "    a1 = (  -theta*FuncF_sBC(ift, gnorm, g, u1r  , u1i  , v1r, v1i, K))*phase*dx\n",
        "    a_inner_bc  = (  (theta*inner_interface(kappa, gnorm, u0r  , u1r  , v0r, v1r, u0i  , u1i  , v0i, v1i, fn0, g, K, K)))*abs(jump(phase))*dS;\n",
        "    a0_outer_bc = theta*outer_interface(ift, gnorm , K, fn, u0r, u0i, v0r, v0i, g)*ds\n",
        "    a1_outer_bc = theta*outer_interface(ift, gnorm , K, fn, u1r, u1i, v1r, v1i, g)*ds\n",
        "    return a0+a1 +a_inner_bc + a0_outer_bc + a1_outer_bc\n",
        "\n",
        "  \n",
        "def ThetaMethodL_sBC2c(ft, ift, mparameters, w, v, u_0, k, K, theta, phase, mydomain, wpperiodic):\n",
        "    gnorm = mparameters.gnorm\n",
        "    g = mparameters.g\n",
        "    fn = mydomain.fn\n",
        "    fn0 = mydomain.fn0\n",
        "    kappa = mydomain.kappa\n",
        "    v0r, v0i, v1r, v1i = v[0], v[1], v[2], v[3]\n",
        "    u0r, u0i, u1r, u1i = w[0], w[1], w[2], w[3]\n",
        "    u0r_0, u0i_0, u1r_0, u1i_0 = split(u_0)\n",
        "\n",
        "    L0 = (u0r_0/k*v0r + u0i_0/k*v0i +theta*FuncF_sBC(ift, gnorm, g, u0r_0, u0i_0, v0r, v0i, K))*(1-phase)*dx\n",
        "    L1 = (u1r_0/k*v1r + u1i_0/k*v1i +theta*FuncF_sBC(ift, gnorm, g, u1r_0, u1i_0, v1r, v1i, K))*phase*dx\n",
        "    L_inner_bc  = -(theta*inner_interface(kappa, gnorm, u0r_0, u1r_0, v0r, v1r, u0i_0, u1i_0, v0i, v1i, fn0, g, K, K))*abs(jump(phase))*dS;\n",
        "    L0_outer_bc = -theta*outer_interface(ift, gnorm, K, fn, u0r_0, u0i_0, v0r, v0i, g)*ds\n",
        "    L1_outer_bc = -theta*outer_interface(ift, gnorm, K, fn, u1r_0, u1i_0, v1r, v1i, g)*ds\n",
        "    return L0+L1+L_inner_bc + L0_outer_bc+L1_outer_bc\n",
        "  \n",
        "  \n",
        "  \n",
        "  \n",
        "  \n",
        "def MassMatrix2c(w, v, phase):\n",
        "    v0r, v0i, v1r, v1i = v[0], v[1], v[2], v[3]\n",
        "    u0r, u0i, u1r, u1i = w[0], w[1], w[2], w[3]\n",
        "    m0 = (u0r*v0r   + u0i*v0i)*(1-phase)*dx\n",
        "    m1 = (u1r*v1r   + u1i*v1i)*phase*dx\n",
        "    M = assemble(m0+m1);\n",
        "    M.ident_zeros()\n",
        "    return M;\n",
        "  \n",
        "def MassMatrix1c(w, v):\n",
        "    v1r, v1i = v[0], v[1]\n",
        "    u1r, u1i = w[0], w[1]\n",
        "    M = assemble( (u1r*v1r   + u1i*v1i)*dx );\n",
        "    M.ident_zeros()\n",
        "    return M;\n",
        "  \n",
        "def b2g(bvalue, delta, Delta, nperiod, stype):\n",
        "  gnorm = 0;\n",
        "  if (stype == 'PGSE'):\n",
        "      gnorm = sqrt(bvalue)/sqrt(delta*delta*(Delta-delta/3.0));\n",
        "  if (stype == 'cos_OGSE'):\n",
        "      gnorm = sqrt(bvalue/(1./8.*delta*delta*delta*(3.-cos(4.*nperiod*pi/delta*Delta))/(nperiod*nperiod)/(pi*pi)));\n",
        "  return gnorm;\n",
        "\n",
        "def g2b(gnorm, delta, Delta, nperiod, stype):\n",
        "  bvalue = 0;\n",
        "  if (stype == 'PGSE'):\n",
        "      bvalue = gnorm*gnorm*delta*delta*(Delta-delta/3.0);\n",
        "  if (stype == 'cos_OGSE'):\n",
        "      bvalue=gnorm*gnorm*1./8.*delta*delta*delta*(3.-cos(4.*nperiod*pi/delta*Delta))/(nperiod*nperiod)/(pi*pi);\n",
        "  return bvalue;  \n",
        "\n",
        "class WeakPseudoPeriodic_1c(UserExpression):\n",
        "    def __init__(self, mydomain, mparameters, **kwargs):\n",
        "        self.xmin, self.ymin, self.zmin, self.xmax, self.ymax, self.zmax = mydomain.xmin, mydomain.ymin, mydomain.zmin, mydomain.xmax, mydomain.ymax, mydomain.zmax \n",
        "        self.pdir = mydomain.PeriodicDir\n",
        "        self.gdim = mydomain.gdim\n",
        "        self.gdir = mparameters.gdir        \n",
        "        super().__init__(**kwargs)\n",
        "        \n",
        "\n",
        "    def set_values(self, u, ift):\n",
        "        u.set_allow_extrapolation(True)\n",
        "        self.u = u\n",
        "        \n",
        "    def eval(self, value, x):\n",
        "        tol = 1E-7\n",
        "        is_eval = False;\n",
        "        xln, yln, zln = 0, 0, 0\n",
        "        temp_u0r, temp_u0i = 0, 0, 0, 0\n",
        "        if (self.pdir[0] == 1): # x-direction\n",
        "            if abs(x[0]-self.xmin) <= tol:\n",
        "                xln, yln, zln = self.xmax-x[0], 0, 0;\n",
        "                if self.gdim ==2:\n",
        "                  temp_u0r, temp_u0i = self.u([self.xmax, x[1]]);\n",
        "                if self.gdim ==3:\n",
        "                  temp_u0r, temp_u0i = self.u([self.xmax, x[1], x[2]]);\n",
        "\n",
        "            if abs(x[0]-self.xmax) <= tol:\n",
        "                xln, yln, zln = self.xmin-x[0], 0, 0;\n",
        "                if (self.gdim==2):\n",
        "                  temp_u0r, temp_u0i = self.u([self.xmin, x[1]]);\n",
        "                if (self.gdim==3):\n",
        "                  temp_u0r, temp_u0i = self.u([self.xmin, x[1], x[2]]);\n",
        "\n",
        "        if (self.pdir[1] == 1): # y-direction\n",
        "            if abs(x[1]-self.ymin) <= tol:\n",
        "                xln, yln, zln = 0, self.ymax-x[1], 0;\n",
        "                if self.gdim ==2:\n",
        "                  temp_u0r, temp_u0i = self.u([x[0],self.ymax]);\n",
        "                if self.gdim ==3:\n",
        "                  temp_u0r, temp_u0i = self.u([x[0], self.ymax, x[2]]);\n",
        "\n",
        "            if abs(x[1]-self.ymax) <= tol:\n",
        "                xln, yln, zln = 0, self.ymin-x[1], 0;\n",
        "                if (self.gdim==2):\n",
        "                  temp_u0r, temp_u0i = self.u([x[0], self.ymin]);\n",
        "                if (self.gdim==3):\n",
        "                  temp_u0r, temp_u0i = self.u([x[0], self.ymin, x[2]]);\n",
        "\n",
        "        if (self.pdir[2] == 1 and self.gdim==3): # z-direction\n",
        "            if abs(x[2]-self.zmin) <= tol:\n",
        "                xln, yln, zln = 0, 0, self.zmax-x[2];\n",
        "                temp_u0r, temp_u0i = self.u([x[0], x[1], self.zmax]);\n",
        "\n",
        "            if abs(x[2]-self.zmax) <= tol:\n",
        "                xln, yln, zln = 0, 0, self.zmin-x[2];\n",
        "                temp_u0r, temp_u0i = self.u([x[0], x[1], self.zmin]);\n",
        "\n",
        "        # exp(i*theta)= cos(theta)+i*sin(theta); \n",
        "        theta_ln = mparameters.gnorm*(self.gdir.x()*xln + self.gdir.y()*yln + self.gdir.z()*zln)*ift;\n",
        "        value[0] = temp_u0r*cos(theta_ln)-temp_u0i*sin(theta_ln); # for Real part\n",
        "        value[1] = temp_u0r*sin(theta_ln)+temp_u0i*cos(theta_ln); # for Imag part\n",
        "    def value_shape(self):\n",
        "        return (2,)\n",
        "\n",
        "      \n",
        "\n",
        "class WeakPseudoPeriodic_2c(UserExpression):\n",
        "    def __init__(self, mydomain, mparameters, **kwargs):\n",
        "        self.xmin, self.ymin, self.zmin, self.xmax, self.ymax, self.zmax = mydomain.xmin, mydomain.ymin, mydomain.zmin, mydomain.xmax, mydomain.ymax, mydomain.zmax \n",
        "        self.pdir = mydomain.PeriodicDir\n",
        "        self.gdim = mydomain.gdim\n",
        "        self.gdir = mparameters.gdir        \n",
        "        super().__init__(**kwargs)\n",
        "        \n",
        "\n",
        "    def set_values(self, u, ift):\n",
        "        u.set_allow_extrapolation(True)\n",
        "        self.u = u\n",
        "        \n",
        "    def eval(self, value, x):\n",
        "        tol = 1E-7\n",
        "        is_eval = False;\n",
        "        xln, yln, zln = 0, 0, 0\n",
        "        temp_u0r, temp_u0i, temp_u1r, temp_u1i = 0, 0, 0, 0\n",
        "        if (self.pdir[0] == 1): # x-direction\n",
        "            if abs(x[0]-self.xmin) <= tol:\n",
        "                xln, yln, zln = self.xmax-x[0], 0, 0;\n",
        "                if self.gdim ==2:\n",
        "                  temp_u0r, temp_u0i, temp_u1r, temp_u1i = self.u([self.xmax, x[1]]);\n",
        "                if self.gdim ==3:\n",
        "                  temp_u0r, temp_u0i, temp_u1r, temp_u1i = self.u([self.xmax, x[1], x[2]]);\n",
        "\n",
        "            if abs(x[0]-self.xmax) <= tol:\n",
        "                xln, yln, zln = self.xmin-x[0], 0, 0;\n",
        "                if (self.gdim==2):\n",
        "                  temp_u0r, temp_u0i, temp_u1r, temp_u1i = self.u([self.xmin, x[1]]);\n",
        "                if (self.gdim==3):\n",
        "                  temp_u0r, temp_u0i, temp_u1r, temp_u1i = self.u([self.xmin, x[1], x[2]]);\n",
        "\n",
        "        if (self.pdir[1] == 1): # y-direction\n",
        "            if abs(x[1]-self.ymin) <= tol:\n",
        "                xln, yln, zln = 0, self.ymax-x[1], 0;\n",
        "                if self.gdim ==2:\n",
        "                  temp_u0r, temp_u0i, temp_u1r, temp_u1i = self.u([x[0],self.ymax]);\n",
        "                if self.gdim ==3:\n",
        "                  temp_u0r, temp_u0i, temp_u1r, temp_u1i = self.u([x[0], self.ymax, x[2]]);\n",
        "\n",
        "            if abs(x[1]-self.ymax) <= tol:\n",
        "                xln, yln, zln = 0, self.ymin-x[1], 0;\n",
        "                if (self.gdim==2):\n",
        "                  temp_u0r, temp_u0i, temp_u1r, temp_u1i = self.u([x[0], self.ymin]);\n",
        "                if (self.gdim==3):\n",
        "                  temp_u0r, temp_u0i, temp_u1r, temp_u1i = self.u([x[0], self.ymin, x[2]]);\n",
        "\n",
        "        if (self.pdir[2] == 1 and self.gdim==3): # z-direction\n",
        "            if abs(x[2]-self.zmin) <= tol:\n",
        "                xln, yln, zln = 0, 0, self.zmax-x[2];\n",
        "                temp_u0r, temp_u0i, temp_u1r, temp_u1i = self.u([x[0], x[1], self.zmax]);\n",
        "\n",
        "            if abs(x[2]-self.zmax) <= tol:\n",
        "                xln, yln, zln = 0, 0, self.zmin-x[2];\n",
        "                temp_u0r, temp_u0i, temp_u1r, temp_u1i = self.u([x[0], x[1], self.zmin]);\n",
        "\n",
        "        # exp(i*theta)= cos(theta)+i*sin(theta); \n",
        "        theta_ln = mparameters.gnorm*(self.gdir.x()*xln + self.gdir.y()*yln + self.gdir.z()*zln)*ift;\n",
        "        value[0] = temp_u0r*cos(theta_ln)-temp_u0i*sin(theta_ln); # for Real part\n",
        "        value[1] = temp_u0r*sin(theta_ln)+temp_u0i*cos(theta_ln); # for Imag part\n",
        "\n",
        "        value[2] = temp_u1r*cos(theta_ln)-temp_u1i*sin(theta_ln); # for Real part\n",
        "        value[3] = temp_u1r*sin(theta_ln)+temp_u1i*cos(theta_ln); # for Imag part\n",
        "\n",
        "    def value_shape(self):\n",
        "        return (4,)\n",
        "      \n",
        "class MyDomain():\n",
        "    def __init__(self, mesh, phase):\n",
        "      self.mesh = mesh;\n",
        "      self.tol = 1e-6*mesh.hmin()\n",
        "      self.gdim = mesh.geometry().dim()\n",
        "      self.fn = FacetNormal(mesh);\n",
        "      self.fn0 = ieval(self.fn, 0, phase);\n",
        "      self.hmin = mesh.hmin()\n",
        "      self.hmax = mesh.hmax()      \n",
        "      self.xmin = mesh.coordinates()[:, 0].min()\n",
        "      self.xmax = mesh.coordinates()[:, 0].max()\n",
        "      self.ymin = mesh.coordinates()[:, 1].min()\n",
        "      self.ymax = mesh.coordinates()[:, 1].max()\n",
        "      self.zmin, self.zmax = 0, 0 \n",
        "      if (self.gdim==3):\n",
        "        self.zmin = mesh.coordinates()[:, 2].min()\n",
        "        self.zmax = mesh.coordinates()[:, 2].max()\n",
        "\n",
        "\n",
        "   "
      ],
      "execution_count": 0,
      "outputs": []
    },
    {
      "metadata": {
        "id": "r6GW2fwLE042",
        "colab_type": "text"
      },
      "cell_type": "markdown",
      "source": [
        "# Working on the mesh and submesh"
      ]
    },
    {
      "metadata": {
        "id": "ksCOgH6e6d8e",
        "colab_type": "code",
        "outputId": "19a0849b-b97f-48f8-dc0e-5f200b9ebde8",
        "colab": {
          "base_uri": "https://localhost:8080/",
          "height": 819
        }
      },
      "cell_type": "code",
      "source": [
        "if 1==2:\n",
        "  # mesh_name = \"multi_layered_disk\"\n",
        "\n",
        "  # mesh_name = \"CircleInSquare\"\n",
        "\n",
        "  mesh_name = \"SphereInBox\"\n",
        "\n",
        "  # mesh_name = \"multi_layered_cylinder\"\n",
        "\n",
        "  !rm -rf *\n",
        "  !wget --quiet https://raw.githubusercontent.com/van-dang/MRI-Cloud/mesh/GetPartitionMarkers.py\n",
        "  !wget --quiet https://raw.githubusercontent.com/van-dang/MRI-Cloud/mesh/$mesh_name''.geo\n",
        "\n",
        "  !sed -i 's/5, 7.5, 10, 13/5, 7.5, 10/g' $mesh_name''.geo\n",
        "  # !sed -i 's/lc = 1/lc = 0.5/g' $mesh_name''.geo\n",
        "\n",
        "  !apt-get install gmsh\n",
        "\n",
        "  !gmsh -3 $mesh_name''.geo -o $mesh_name''.msh\n",
        "  !dolfin-convert $mesh_name''.msh $mesh_name''.xml\n",
        "\n",
        "  mesh = Mesh(mesh_name+\".xml\");  \n",
        "  \n",
        "  clear_output()\n",
        "  \n",
        "  from GetPartitionMarkers import *\n",
        "\n",
        "  partion_list=GetPartitionMarkers(mesh_name+\".msh\", \"pmk_\"+mesh_name+\".xml\")\n",
        "\n",
        "  partition_marker = MeshFunction(\"size_t\", mesh, mesh.topology().dim())\n",
        "\n",
        "  File(\"pmk_\"+mesh_name+\".xml\")>>partition_marker\n",
        "\n",
        "  cmpt_mesh = SubMesh(mesh, partition_marker, 0)\n",
        "\n",
        "\n",
        "'''\n",
        "!rm -rf *\n",
        "!wget --quiet https://raw.githubusercontent.com/van-dang/MRI-Cloud/master/comri/meshes/multi_layer_torus.xml.zip\n",
        "!wget --quiet https://raw.githubusercontent.com/van-dang/MRI-Cloud/master/comri/meshes/multi_layer_torus_compt1.xml.zip\n",
        "!unzip -q multi_layer_torus.xml.zip\n",
        "!unzip -q multi_layer_torus_compt1.xml.zip\n",
        "!rm -rf *.zip *MACOSX\n",
        "\n",
        "# Load multilayered torus mesh and submesh\n",
        "mesh = Mesh(\"multi_layer_torus.xml\");  \n",
        "cmpt_mesh = Mesh('multi_layer_torus_compt1.xml')\n",
        "\n",
        "'''\n",
        "\n",
        "if 1==1:\n",
        "  mesh_name = \"SphereInBox\"\n",
        "  !rm -rf *\n",
        "  !wget --quiet https://raw.githubusercontent.com/van-dang/MRI-Cloud/mesh/$mesh_name''.msh.zip\n",
        "  !wget --quiet https://raw.githubusercontent.com/van-dang/MRI-Cloud/mesh/$mesh_name''_cmpt.msh.zip\n",
        "  \n",
        "  !unzip -q $mesh_name''.msh.zip\n",
        "  !unzip -q $mesh_name''_cmpt.msh.zip\n",
        "\n",
        "  !apt-get install gmsh\n",
        "\n",
        "  !dolfin-convert $mesh_name''.msh $mesh_name''.xml\n",
        "  !dolfin-convert $mesh_name''_cmpt.msh $mesh_name''_cmpt.xml\n",
        "  mesh = Mesh(mesh_name+\".xml\");  \n",
        "  cmpt_mesh = Mesh(mesh_name+\"_cmpt.xml\");\n",
        "\n",
        "\n",
        "  \n",
        "\n",
        "V_DG = FunctionSpace(mesh, 'DG', 0)\n",
        "dofmap_DG = V_DG.dofmap()\n",
        "phase = Function(V_DG)\n",
        "cellmarker = MeshFunction(\"size_t\", mesh, mesh.topology().dim())\n",
        "\n",
        "for cell in cells(mesh):\n",
        "    p = cell.midpoint();\n",
        "    is_in_cmpt = cmpt_mesh.bounding_box_tree().compute_first_entity_collision(p)<4294967295\n",
        "    phase.vector()[dofmap_DG.cell_dofs(cell.index())] = is_in_cmpt;\n",
        "    cellmarker[cell.index()] = is_in_cmpt;\n",
        "\n",
        "mydomain = MyDomain(mesh, phase)      \n",
        "    \n",
        "# plot(phase, cmap=\"coolwarm\");\n",
        "mesh0 = SubMesh(mesh, cellmarker, 0)\n",
        "mesh1 = SubMesh(mesh, cellmarker, 1)\n",
        "File(\"Phase.pvd\")<<phase\n",
        "File(\"mesh0.xml\")<<mesh0\n",
        "File(\"mesh1.xml\")<<mesh1\n",
        "plt.figure(2); plot(mesh0, title=\"Compartment 0\"); \n",
        "plt.figure(3); plot(mesh1, title=\"Compartment 1\")  \n",
        "\n"
      ],
      "execution_count": 61,
      "outputs": [
        {
          "output_type": "stream",
          "text": [
            "Reading package lists... Done\n",
            "Building dependency tree       \n",
            "Reading state information... Done\n",
            "gmsh is already the newest version (3.0.6+dfsg1-1).\n",
            "The following package was automatically installed and is no longer required:\n",
            "  libnvidia-common-410\n",
            "Use 'apt autoremove' to remove it.\n",
            "0 upgraded, 0 newly installed, 0 to remove and 38 not upgraded.\n",
            "Converting from Gmsh format (.msh, .gmsh) to DOLFIN XML format\n",
            "Expecting 887 vertices\n",
            "Found all vertices\n",
            "Expecting 3904 cells\n",
            "Found all cells\n",
            "Conversion done\n",
            "Converting from Gmsh format (.msh, .gmsh) to DOLFIN XML format\n",
            "Expecting 229 vertices\n",
            "Found all vertices\n",
            "Expecting 952 cells\n",
            "Found all cells\n",
            "Conversion done\n"
          ],
          "name": "stdout"
        },
        {
          "output_type": "display_data",
          "data": {
            "image/png": "[encoded data removed]",
            "text/plain": [
              "<Figure size 432x288 with 1 Axes>"
            ]
          },
          "metadata": {
            "tags": []
          }
        },
        {
          "output_type": "display_data",
          "data": {
            "image/png": "[encoded data removed]",
            "text/plain": [
              "<Figure size 432x288 with 1 Axes>"
            ]
          },
          "metadata": {
            "tags": []
          }
        }
      ]
    },
    {
      "metadata": {
        "id": "aFEvif9PF2yH",
        "colab_type": "text"
      },
      "cell_type": "markdown",
      "source": [
        "# Solve the Bloch-Torrey equation"
      ]
    },
    {
      "metadata": {
        "id": "DYZ5SWlw69tQ",
        "colab_type": "code",
        "outputId": "78934d2a-777a-4120-d469-7fc7941a3cb2",
        "colab": {
          "base_uri": "https://localhost:8080/",
          "height": 4501
        }
      },
      "cell_type": "code",
      "source": [
        "def InitialCondition(mydomain, V, W):\n",
        "  if mydomain.gdim==2:\n",
        "    Dirac_Delta = Expression(\"x[0]*x[0]+x[1]*x[1]<eps\",eps=1e6, domain=mydomain.mesh, degree=1);\n",
        "  if mydomain.gdim==3:\n",
        "    Dirac_Delta = Expression(\"x[0]*x[0]+x[1]*x[1]+x[2]*x[2]<eps\",eps=1e6, domain=mydomain.mesh, degree=1);\n",
        "  Dirac_Delta = interpolate(Dirac_Delta, V);\n",
        "  u_0 = Function(W);\n",
        "  assign(u_0.sub(0), Dirac_Delta)\n",
        "  assign(u_0.sub(2), Dirac_Delta)  \n",
        "  return Dirac_Delta, u_0\n",
        "\n",
        "\n",
        "class PeriodicBD(SubDomain):\n",
        "\n",
        "    def __init__(self, mydomain, **kwargs):\n",
        "        self.xmin, self.ymin, self.zmin = mydomain.xmin, mydomain.ymin, mydomain.zmin\n",
        "        self.xmax, self.ymax, self.zmax = mydomain.xmax, mydomain.ymax, mydomain.zmax\n",
        "        self.gdim = mydomain.gdim\n",
        "        self.PeriodicDir = mydomain.PeriodicDir\n",
        "        self.tol = 1e-2*mydomain.mesh.hmin()\n",
        "        super().__init__(**kwargs)\n",
        "    \n",
        "    # Left boundary is \"target domain\" G\n",
        "    def inside(self, x, on_boundary):\n",
        "        # return True if on left or bottom boundary AND NOT on one of the two corners (0, 1) and (1, 0) \n",
        "        bcx = abs(x[0] - self.xmin)<self.tol and self.PeriodicDir[0] == 1\n",
        "        bcy = abs(x[1] - self.ymin)<self.tol and self.PeriodicDir[1] == 1\n",
        "        bcz = 0\n",
        "        if (self.gdim==3):\n",
        "          bcz = abs(x[2] - self.zmin) < self.tol and self.PeriodicDir[2] == 1\n",
        "          \n",
        "        return bool((bcx or bcy or bcz) and on_boundary)\n",
        "\n",
        "    def map(self, x, y):\n",
        "        Lxx, Lyy, Lzz = 0, 0, 0\n",
        "        if self.PeriodicDir[0] == 0:\n",
        "          Lxx = 1e7;\n",
        "        if self.PeriodicDir[1] == 0:\n",
        "          Lyy = 1e7;\n",
        "        if self.PeriodicDir[2] == 0:\n",
        "          Lzz = 1e7;\n",
        "          \n",
        "        if abs(x[0] - self.xmax) < self.tol and self.PeriodicDir[0] == 1:\n",
        "            y[0] = x[0] - (self.xmax - self.xmin) + Lxx\n",
        "            y[1] = x[1]\n",
        "            if (self.gdim==3):\n",
        "              y[2] = x[2]\n",
        "        elif abs(x[1] - self.ymax) < self.tol and self.PeriodicDir[1] == 1:\n",
        "            y[0] = x[0]\n",
        "            y[1] = x[1] - (self.ymax-self.ymin) + Lyy \n",
        "            if (self.gdim==3):\n",
        "              y[2] = x[2]\n",
        "        elif (self.gdim==3) and abs(x[2] - self.zmax)<self.tol and self.PeriodicDir[2] == 1:\n",
        "            y[0] = x[0]\n",
        "            y[1] = x[1]\n",
        "            y[2] = x[2] - (self.zmax-self.zmin) + Lzz \n",
        "        else:\n",
        "            y[0] = x[0] - (self.xmax-self.xmin) + Lxx\n",
        "            y[1] = x[1] - (self.ymax-self.ymin) + Lyy\n",
        "            if (self.gdim==3):\n",
        "              y[2] = x[2] - (self.zmax-self.zmin) + Lzz\n",
        "\n",
        "class MRI_parameters():\n",
        "    def __init__(self):\n",
        "      self.bvalue = 0\n",
        "      self.gdir = None\n",
        "      self.stype=''\n",
        "      self.Delta = 0\n",
        "      self.delta = 0\n",
        "      self.T = 0\n",
        "mparameters = MRI_parameters()\n",
        "\n",
        "def MyFunctionSpaces(mydomain, porder, PeriodicBD=None):\n",
        "  Ve = FiniteElement(\"CG\", mydomain.mesh.ufl_cell(), porder)\n",
        "  if (mydomain.IsDomainMultiple==True):\n",
        "        TH = MixedElement([Ve,Ve,Ve,Ve])\n",
        "        print(\"Function Space for Two-compartment Domains has 4 components\");\n",
        "        print(\"(ur0, ui0, ur1, ur1): r-real, i-imaginary\")\n",
        "  else:\n",
        "        print(\"Function Space for Single Domains has 2 components\");\n",
        "        print(\"(ur, ui): r-real, i-imaginary\")\n",
        "        TH = MixedElement([Ve,Ve])    \n",
        "  if (mydomain.IsDomainPeriodic==False or periodicBD==None):\n",
        "        print(\"Initialize a standard function space.\")\n",
        "        print(\"If enabled, the pseudo-periodic BCS are weakly imposed.\")\n",
        "        print(\"The mesh does not need to be periodic.\")\n",
        "        V = FunctionSpace(mydomain.mesh,Ve);\n",
        "        W = FunctionSpace(mydomain.mesh, TH)\n",
        "  else:\n",
        "        print(\"Initialize peridodic function spaces.\")\n",
        "        print(\"If enabled, the pseudo-periodic BCS are strongly imposed.\")\n",
        "        print(\"The mesh needs to be periodic.\")\n",
        "        V = FunctionSpace(mydomain.mesh,Ve, constrained_domain=PeriodicBD)\n",
        "        W = FunctionSpace(mydomain.mesh, TH, constrained_domain=PeriodicBD)    \n",
        "  return Ve, V, W\n",
        "\n",
        "# fn = FacetNormal(mesh);\n",
        "# fn0 = ieval(fn, 0, phase);\n",
        "\n",
        "#################################################################################\n",
        "#########################  Pre-defined parameters ###############################\n",
        "mparameters.bvalue = 1000;                                  # bvalue\n",
        "mparameters.delta, mparameters.Delta = 10000, 10000         # Time sequence\n",
        "mparameters.gdir = Point(0, 0, 1);               # gradient direction\n",
        "mparameters.gdir /=mparameters.gdir.norm()\n",
        "mydomain.PeriodicDir = [0, 0, 1];   # Direction of the periodicity\n",
        "mydomain.IsDomainPeriodic = True    # Confirm if the mesh if periodic\n",
        "mydomain.IsDomainMultiple = False    # Confirm if the mesh is multiple\n",
        "theta = 0.5;                        # theta=0.5: midpoint method\n",
        "K = 3e-3;                           # Diffusion coefficient\n",
        "mydomain.kappa = 1e-1               # Permeability\n",
        "nskip = 5;                          # Output frequency (for visualization only)\n",
        "porder = 1;                         # order of basis functions of FEM\n",
        "Nsteps = 200;                       # number of time intervals\n",
        "mparameters.nperiod = 0;\n",
        "mparameters.stype='PGSE'                        # Sequence type\n",
        "t, mparameters.T = 0, mparameters.Delta+mparameters.delta;\n",
        "k = 400; # Time-step size\n",
        "#################################################################################\n",
        "#################################################################################\n",
        "    \n",
        "mparameters.gnorm = b2g(mparameters.bvalue, mparameters.delta, mparameters.Delta, mparameters.nperiod, mparameters.stype)\n",
        "\n",
        "\n",
        "#################################\n",
        "## output files \n",
        "file_u0r = File(\"results/u0r.pvd\")\n",
        "file_u0i = File(\"results/u0i.pvd\")\n",
        "file_u1r = File(\"results/u1r.pvd\")\n",
        "file_u1i = File(\"results/u1i.pvd\")\n",
        "#################################\n",
        "\n",
        "#################################################################################\n",
        "# FUNCTION SPACES\n",
        "\n",
        "if (mydomain.IsDomainPeriodic==True):\n",
        "    periodicBD = PeriodicBD(mydomain) \n",
        "    Ve, V, W = MyFunctionSpaces(mydomain, porder, periodicBD)\n",
        "else:\n",
        "    Ve, V, W = MyFunctionSpaces(mydomain, porder)\n",
        "\n",
        "v = TestFunction(W)\n",
        "w = TrialFunction(W);\n",
        "\n",
        "Dirac_Delta, u_0 = InitialCondition(mydomain, V, W)\n",
        "\n",
        "stepcounter = 0;\n",
        "\n",
        "wpperiodic = WeakPseudoPeriodic_2c(mydomain, mparameters, degree=1)\n",
        "\n",
        "h = 0.5*CellDiameter(mesh);\n",
        "\n",
        "if mydomain.gdim==2:\n",
        "    mydomain.kappa_e = K/h*Expression(\"(x[0]<xmin+eps || x[0]>xmax-eps)*p0+(x[1]<ymin+eps || x[1]>ymax-eps)*p1\", \n",
        "                         xmin=mydomain.xmin, xmax=mydomain.xmax, ymin=mydomain.ymin, ymax=mydomain.ymax, \n",
        "                         eps=1e-10, p0 = mydomain.PeriodicDir[0], p1 = mydomain.PeriodicDir[1], domain=mesh, degree=1);\n",
        "    mparameters.g = Expression((\"g0\",\"g1\"), g0=mparameters.gdir.x(), g1=mparameters.gdir.y(),domain=mesh,degree=1);\n",
        "\n",
        "if mydomain.gdim==3:\n",
        "    mydomain.kappa_e = K/h*Expression(\"(x[0]<xmin+eps || x[0]>xmax-eps)*p0+(x[1]<ymin+eps || x[1]>ymax-eps)*p1+(x[2]<zmin+eps || x[2]>zmax-eps)*p2\", \n",
        "                         xmin=mydomain.xmin, xmax=mydomain.xmax, ymin=mydomain.ymin, ymax=mydomain.ymax, zmin=mydomain.zmin, zmax=mydomain.zmax, \n",
        "                         eps=1e-10, p0 = mydomain.PeriodicDir[0], p1 = mydomain.PeriodicDir[1], p2 = mydomain.PeriodicDir[2], domain=mesh, degree=1);\n",
        "    mparameters.g = Expression((\"g0\",\"g1\",\"g2\"), g0=mparameters.gdir.x(), g1=mparameters.gdir.y(), g2=mparameters.gdir.z(),domain=mesh,degree=1);\n",
        "    \n",
        "# M, J, S, I, II = NoTimeMatrices(w, v, K, gdir, kappa, kappa_e, theta, phase);\n",
        "\n",
        "M = MassMatrix2c(w, v, phase);\n",
        "\n",
        "\n",
        "solver = PETScLUSolver(\"mumps\")\n",
        "\n",
        "def time_profile(t, mp):\n",
        "  # mp - mri parameters\n",
        "  ft1, ft2 = 0, 0;\n",
        "  if mp.stype=='PGSE':\n",
        "    ft1 = 1.0*(t>=0 and t<mp.delta) \n",
        "    ft2 = -1.0*(t>=mp.Delta and t<=mp.Delta+mp.delta);\n",
        "  if mp.stype=='cos_OGSE':\n",
        "    ft1 =  cos(2.0*mp.nperiod*pi*t/mp.delta)*(t>=0 and t<mp.delta);\n",
        "    ft2 = -cos(2.0*mp.nperiod*pi*(t-2.*mp.delta)/mp.delta)*(t>=Delta and t<=mp.Delta+mp.delta);\n",
        "  return ft1 + ft2; \n",
        "\n",
        "def itime_profile(t, mp): \n",
        "  # integrate ft, mp - mri parameters\n",
        "    ft1, ft2, ft3 = 0, 0, 0;\n",
        "    if mp.stype=='PGSE':\n",
        "      ft1 = t*(t>=0 and t<mp.delta) \n",
        "      ft2 = mp.delta*(t>=mp.delta and t<mp.Delta) \n",
        "      ft3 = (mp.delta - t + mp.Delta)*(t>=mp.Delta and t<=mp.Delta+mp.delta) \n",
        "    return ft1 + ft2 + ft3;  \n",
        "\n",
        "\n",
        "ft_prev  =  time_profile(t, mparameters);\n",
        "ift_prev = itime_profile(t, mparameters);\n",
        "\n",
        "start_time = time.time()\n",
        "\n",
        "while t < mparameters.T + k: # Time-stepping loop\n",
        "    if stepcounter % nskip == 0:\n",
        "        print('t: %f '%t, 'T: %.1f'%mparameters.T, 'dt: %.1f'%k,'gnorm: %e'%mparameters.gnorm,'Completed %.2f%%'%(float(t)/float(mparameters.T+k)*100.0));\n",
        "\n",
        "    ft = time_profile(t, mparameters);\n",
        "    ift = itime_profile(t, mparameters);\n",
        "\n",
        "    if (mydomain.IsDomainMultiple==True):\n",
        "      if (mydomain.IsDomainPeriodic==True):\n",
        "          L = ThetaMethodL_sBC2c(ft_prev, ift_prev, mparameters, w, v ,u_0, k, K, theta, phase, mydomain, wpperiodic);\n",
        "          A = 1/k*M + assemble(ThetaMethodF_sBC2c(ft, ift, mparameters, w, v, k, K, theta, phase, mydomain))\n",
        "      else:\n",
        "          L = ThetaMethodL_wBC2c(ft_prev, ift_prev, mparameters, w, v ,u_0, k, K, theta, phase, mydomain, wpperiodic);\n",
        "          A = 1/k*M + assemble(ThetaMethodF_wBC2c(ft, ift, mparameters, w, v, k, K, theta, phase, mydomain))\n",
        "    \n",
        "    b = assemble(L);\n",
        "\n",
        "    solver.solve(A,u_0.vector(),b);\n",
        "        \n",
        "    ft_prev  = ft;\n",
        "    ift_prev = ift;\n",
        "    \n",
        "    t += k;\n",
        "    stepcounter += 1;\n",
        "    \n",
        "elapsed_time = time.time() - start_time\n",
        "print(\"Elapsed time: %f seconds\"%elapsed_time)\n",
        "\n",
        "\n",
        "\n",
        "# Post-processing\n",
        "u0r_0, u0i_0, u1r_0, u1i_0 = split(u_0)\n",
        "\n",
        "signal0 = assemble(((1-phase)*u0r_0)*dx)/assemble((1-phase)*Dirac_Delta*dx);\n",
        "signal1 = assemble((phase*u1r_0)*dx)/assemble(phase*Dirac_Delta*dx);\n",
        "signal = assemble((phase*u1r_0+(1-phase)*u0r_0)*dx)/assemble(Dirac_Delta*dx);\n",
        "\n",
        "print('b:',mparameters.bvalue, 'Signal: %.3e'%signal,'kappa: %.3e'%mydomain.kappa,', dt: ',k,', hmin: ',mydomain.hmin, ', Free signal: %.3e'%(exp(-mparameters.bvalue*K)))\n",
        "\n",
        "print('Signal on each compartment')\n",
        "print('Signal0: %.3e'%signal0)\n",
        "print('Signal1: %.3e'%signal1)\n",
        "\n",
        "V0 = FunctionSpace(mesh0,Ve);\n",
        "V1 = FunctionSpace(mesh1,Ve);\n",
        "u0r_0p = project(u0r_0,V0)\n",
        "u1r_0p = project(u1r_0,V1)\n",
        "plot(u0r_0p, cmap=\"coolwarm\")\n",
        "plot(u1r_0p, cmap=\"coolwarm\")"
      ],
      "execution_count": 62,
      "outputs": [
        {
          "output_type": "stream",
          "text": [
            "Initialize peridodic function spaces.\n",
            "t: 0.000000  T: 20000.0 dt: 400.0 gnorm: 3.872983e-05 Completed 0.00%\n",
            "Calling FFC just-in-time (JIT) compiler, this may take some time.\n"
          ],
          "name": "stdout"
        },
        {
          "output_type": "stream",
          "text": [
            "/usr/lib/python3/dist-packages/ffc/uflacs/analysis/dependencies.py:61: FutureWarning: Using a non-tuple sequence for multidimensional indexing is deprecated; use `arr[tuple(seq)]` instead of `arr[seq]`. In the future this will be interpreted as an array index, `arr[np.array(seq)]`, which will result either in an error or a different result.\n",
            "  active[targets] = 1\n"
          ],
          "name": "stderr"
        },
        {
          "output_type": "stream",
          "text": [
            "Calling FFC just-in-time (JIT) compiler, this may take some time.\n"
          ],
          "name": "stdout"
        },
        {
          "output_type": "stream",
          "text": [
            "/usr/lib/python3/dist-packages/ffc/uflacs/analysis/dependencies.py:61: FutureWarning: Using a non-tuple sequence for multidimensional indexing is deprecated; use `arr[tuple(seq)]` instead of `arr[seq]`. In the future this will be interpreted as an array index, `arr[np.array(seq)]`, which will result either in an error or a different result.\n",
            "  active[targets] = 1\n"
          ],
          "name": "stderr"
        },
        {
          "output_type": "stream",
          "text": [
            "Calling FFC just-in-time (JIT) compiler, this may take some time.\n"
          ],
          "name": "stdout"
        },
        {
          "output_type": "stream",
          "text": [
            "/usr/lib/python3/dist-packages/ffc/uflacs/analysis/dependencies.py:61: FutureWarning: Using a non-tuple sequence for multidimensional indexing is deprecated; use `arr[tuple(seq)]` instead of `arr[seq]`. In the future this will be interpreted as an array index, `arr[np.array(seq)]`, which will result either in an error or a different result.\n",
            "  active[targets] = 1\n"
          ],
          "name": "stderr"
        },
        {
          "output_type": "stream",
          "text": [
            "Calling FFC just-in-time (JIT) compiler, this may take some time.\n"
          ],
          "name": "stdout"
        },
        {
          "output_type": "stream",
          "text": [
            "/usr/lib/python3/dist-packages/ffc/uflacs/analysis/dependencies.py:61: FutureWarning: Using a non-tuple sequence for multidimensional indexing is deprecated; use `arr[tuple(seq)]` instead of `arr[seq]`. In the future this will be interpreted as an array index, `arr[np.array(seq)]`, which will result either in an error or a different result.\n",
            "  active[targets] = 1\n"
          ],
          "name": "stderr"
        },
        {
          "output_type": "stream",
          "text": [
            "Calling FFC just-in-time (JIT) compiler, this may take some time.\n"
          ],
          "name": "stdout"
        },
        {
          "output_type": "stream",
          "text": [
            "/usr/lib/python3/dist-packages/ffc/uflacs/analysis/dependencies.py:61: FutureWarning: Using a non-tuple sequence for multidimensional indexing is deprecated; use `arr[tuple(seq)]` instead of `arr[seq]`. In the future this will be interpreted as an array index, `arr[np.array(seq)]`, which will result either in an error or a different result.\n",
            "  active[targets] = 1\n"
          ],
          "name": "stderr"
        },
        {
          "output_type": "stream",
          "text": [
            "Calling FFC just-in-time (JIT) compiler, this may take some time.\n"
          ],
          "name": "stdout"
        },
        {
          "output_type": "stream",
          "text": [
            "/usr/lib/python3/dist-packages/ffc/uflacs/analysis/dependencies.py:61: FutureWarning: Using a non-tuple sequence for multidimensional indexing is deprecated; use `arr[tuple(seq)]` instead of `arr[seq]`. In the future this will be interpreted as an array index, `arr[np.array(seq)]`, which will result either in an error or a different result.\n",
            "  active[targets] = 1\n"
          ],
          "name": "stderr"
        },
        {
          "output_type": "stream",
          "text": [
            "Calling FFC just-in-time (JIT) compiler, this may take some time.\n"
          ],
          "name": "stdout"
        },
        {
          "output_type": "stream",
          "text": [
            "/usr/lib/python3/dist-packages/ffc/uflacs/analysis/dependencies.py:61: FutureWarning: Using a non-tuple sequence for multidimensional indexing is deprecated; use `arr[tuple(seq)]` instead of `arr[seq]`. In the future this will be interpreted as an array index, `arr[np.array(seq)]`, which will result either in an error or a different result.\n",
            "  active[targets] = 1\n"
          ],
          "name": "stderr"
        },
        {
          "output_type": "stream",
          "text": [
            "Calling FFC just-in-time (JIT) compiler, this may take some time.\n"
          ],
          "name": "stdout"
        },
        {
          "output_type": "stream",
          "text": [
            "/usr/lib/python3/dist-packages/ffc/uflacs/analysis/dependencies.py:61: FutureWarning: Using a non-tuple sequence for multidimensional indexing is deprecated; use `arr[tuple(seq)]` instead of `arr[seq]`. In the future this will be interpreted as an array index, `arr[np.array(seq)]`, which will result either in an error or a different result.\n",
            "  active[targets] = 1\n"
          ],
          "name": "stderr"
        },
        {
          "output_type": "stream",
          "text": [
            "Calling FFC just-in-time (JIT) compiler, this may take some time.\n"
          ],
          "name": "stdout"
        },
        {
          "output_type": "stream",
          "text": [
            "/usr/lib/python3/dist-packages/ffc/uflacs/analysis/dependencies.py:61: FutureWarning: Using a non-tuple sequence for multidimensional indexing is deprecated; use `arr[tuple(seq)]` instead of `arr[seq]`. In the future this will be interpreted as an array index, `arr[np.array(seq)]`, which will result either in an error or a different result.\n",
            "  active[targets] = 1\n"
          ],
          "name": "stderr"
        },
        {
          "output_type": "stream",
          "text": [
            "Calling FFC just-in-time (JIT) compiler, this may take some time.\n"
          ],
          "name": "stdout"
        },
        {
          "output_type": "stream",
          "text": [
            "/usr/lib/python3/dist-packages/ffc/uflacs/analysis/dependencies.py:61: FutureWarning: Using a non-tuple sequence for multidimensional indexing is deprecated; use `arr[tuple(seq)]` instead of `arr[seq]`. In the future this will be interpreted as an array index, `arr[np.array(seq)]`, which will result either in an error or a different result.\n",
            "  active[targets] = 1\n"
          ],
          "name": "stderr"
        },
        {
          "output_type": "stream",
          "text": [
            "t: 2000.000000  T: 20000.0 dt: 400.0 gnorm: 3.872983e-05 Completed 9.80%\n",
            "Calling FFC just-in-time (JIT) compiler, this may take some time.\n"
          ],
          "name": "stdout"
        },
        {
          "output_type": "stream",
          "text": [
            "/usr/lib/python3/dist-packages/ffc/uflacs/analysis/dependencies.py:61: FutureWarning: Using a non-tuple sequence for multidimensional indexing is deprecated; use `arr[tuple(seq)]` instead of `arr[seq]`. In the future this will be interpreted as an array index, `arr[np.array(seq)]`, which will result either in an error or a different result.\n",
            "  active[targets] = 1\n"
          ],
          "name": "stderr"
        },
        {
          "output_type": "stream",
          "text": [
            "Calling FFC just-in-time (JIT) compiler, this may take some time.\n"
          ],
          "name": "stdout"
        },
        {
          "output_type": "stream",
          "text": [
            "/usr/lib/python3/dist-packages/ffc/uflacs/analysis/dependencies.py:61: FutureWarning: Using a non-tuple sequence for multidimensional indexing is deprecated; use `arr[tuple(seq)]` instead of `arr[seq]`. In the future this will be interpreted as an array index, `arr[np.array(seq)]`, which will result either in an error or a different result.\n",
            "  active[targets] = 1\n"
          ],
          "name": "stderr"
        },
        {
          "output_type": "stream",
          "text": [
            "Calling FFC just-in-time (JIT) compiler, this may take some time.\n"
          ],
          "name": "stdout"
        },
        {
          "output_type": "stream",
          "text": [
            "/usr/lib/python3/dist-packages/ffc/uflacs/analysis/dependencies.py:61: FutureWarning: Using a non-tuple sequence for multidimensional indexing is deprecated; use `arr[tuple(seq)]` instead of `arr[seq]`. In the future this will be interpreted as an array index, `arr[np.array(seq)]`, which will result either in an error or a different result.\n",
            "  active[targets] = 1\n"
          ],
          "name": "stderr"
        },
        {
          "output_type": "stream",
          "text": [
            "Calling FFC just-in-time (JIT) compiler, this may take some time.\n"
          ],
          "name": "stdout"
        },
        {
          "output_type": "stream",
          "text": [
            "/usr/lib/python3/dist-packages/ffc/uflacs/analysis/dependencies.py:61: FutureWarning: Using a non-tuple sequence for multidimensional indexing is deprecated; use `arr[tuple(seq)]` instead of `arr[seq]`. In the future this will be interpreted as an array index, `arr[np.array(seq)]`, which will result either in an error or a different result.\n",
            "  active[targets] = 1\n"
          ],
          "name": "stderr"
        },
        {
          "output_type": "stream",
          "text": [
            "Calling FFC just-in-time (JIT) compiler, this may take some time.\n"
          ],
          "name": "stdout"
        },
        {
          "output_type": "stream",
          "text": [
            "/usr/lib/python3/dist-packages/ffc/uflacs/analysis/dependencies.py:61: FutureWarning: Using a non-tuple sequence for multidimensional indexing is deprecated; use `arr[tuple(seq)]` instead of `arr[seq]`. In the future this will be interpreted as an array index, `arr[np.array(seq)]`, which will result either in an error or a different result.\n",
            "  active[targets] = 1\n"
          ],
          "name": "stderr"
        },
        {
          "output_type": "stream",
          "text": [
            "Calling FFC just-in-time (JIT) compiler, this may take some time.\n"
          ],
          "name": "stdout"
        },
        {
          "output_type": "stream",
          "text": [
            "/usr/lib/python3/dist-packages/ffc/uflacs/analysis/dependencies.py:61: FutureWarning: Using a non-tuple sequence for multidimensional indexing is deprecated; use `arr[tuple(seq)]` instead of `arr[seq]`. In the future this will be interpreted as an array index, `arr[np.array(seq)]`, which will result either in an error or a different result.\n",
            "  active[targets] = 1\n"
          ],
          "name": "stderr"
        },
        {
          "output_type": "stream",
          "text": [
            "Calling FFC just-in-time (JIT) compiler, this may take some time.\n"
          ],
          "name": "stdout"
        },
        {
          "output_type": "stream",
          "text": [
            "/usr/lib/python3/dist-packages/ffc/uflacs/analysis/dependencies.py:61: FutureWarning: Using a non-tuple sequence for multidimensional indexing is deprecated; use `arr[tuple(seq)]` instead of `arr[seq]`. In the future this will be interpreted as an array index, `arr[np.array(seq)]`, which will result either in an error or a different result.\n",
            "  active[targets] = 1\n"
          ],
          "name": "stderr"
        },
        {
          "output_type": "stream",
          "text": [
            "Calling FFC just-in-time (JIT) compiler, this may take some time.\n"
          ],
          "name": "stdout"
        },
        {
          "output_type": "stream",
          "text": [
            "/usr/lib/python3/dist-packages/ffc/uflacs/analysis/dependencies.py:61: FutureWarning: Using a non-tuple sequence for multidimensional indexing is deprecated; use `arr[tuple(seq)]` instead of `arr[seq]`. In the future this will be interpreted as an array index, `arr[np.array(seq)]`, which will result either in an error or a different result.\n",
            "  active[targets] = 1\n"
          ],
          "name": "stderr"
        },
        {
          "output_type": "stream",
          "text": [
            "Calling FFC just-in-time (JIT) compiler, this may take some time.\n"
          ],
          "name": "stdout"
        },
        {
          "output_type": "stream",
          "text": [
            "/usr/lib/python3/dist-packages/ffc/uflacs/analysis/dependencies.py:61: FutureWarning: Using a non-tuple sequence for multidimensional indexing is deprecated; use `arr[tuple(seq)]` instead of `arr[seq]`. In the future this will be interpreted as an array index, `arr[np.array(seq)]`, which will result either in an error or a different result.\n",
            "  active[targets] = 1\n"
          ],
          "name": "stderr"
        },
        {
          "output_type": "stream",
          "text": [
            "Calling FFC just-in-time (JIT) compiler, this may take some time.\n"
          ],
          "name": "stdout"
        },
        {
          "output_type": "stream",
          "text": [
            "/usr/lib/python3/dist-packages/ffc/uflacs/analysis/dependencies.py:61: FutureWarning: Using a non-tuple sequence for multidimensional indexing is deprecated; use `arr[tuple(seq)]` instead of `arr[seq]`. In the future this will be interpreted as an array index, `arr[np.array(seq)]`, which will result either in an error or a different result.\n",
            "  active[targets] = 1\n"
          ],
          "name": "stderr"
        },
        {
          "output_type": "stream",
          "text": [
            "t: 4000.000000  T: 20000.0 dt: 400.0 gnorm: 3.872983e-05 Completed 19.61%\n",
            "Calling FFC just-in-time (JIT) compiler, this may take some time.\n"
          ],
          "name": "stdout"
        },
        {
          "output_type": "stream",
          "text": [
            "/usr/lib/python3/dist-packages/ffc/uflacs/analysis/dependencies.py:61: FutureWarning: Using a non-tuple sequence for multidimensional indexing is deprecated; use `arr[tuple(seq)]` instead of `arr[seq]`. In the future this will be interpreted as an array index, `arr[np.array(seq)]`, which will result either in an error or a different result.\n",
            "  active[targets] = 1\n"
          ],
          "name": "stderr"
        },
        {
          "output_type": "stream",
          "text": [
            "Calling FFC just-in-time (JIT) compiler, this may take some time.\n"
          ],
          "name": "stdout"
        },
        {
          "output_type": "stream",
          "text": [
            "/usr/lib/python3/dist-packages/ffc/uflacs/analysis/dependencies.py:61: FutureWarning: Using a non-tuple sequence for multidimensional indexing is deprecated; use `arr[tuple(seq)]` instead of `arr[seq]`. In the future this will be interpreted as an array index, `arr[np.array(seq)]`, which will result either in an error or a different result.\n",
            "  active[targets] = 1\n"
          ],
          "name": "stderr"
        },
        {
          "output_type": "stream",
          "text": [
            "Calling FFC just-in-time (JIT) compiler, this may take some time.\n"
          ],
          "name": "stdout"
        },
        {
          "output_type": "stream",
          "text": [
            "/usr/lib/python3/dist-packages/ffc/uflacs/analysis/dependencies.py:61: FutureWarning: Using a non-tuple sequence for multidimensional indexing is deprecated; use `arr[tuple(seq)]` instead of `arr[seq]`. In the future this will be interpreted as an array index, `arr[np.array(seq)]`, which will result either in an error or a different result.\n",
            "  active[targets] = 1\n"
          ],
          "name": "stderr"
        },
        {
          "output_type": "stream",
          "text": [
            "Calling FFC just-in-time (JIT) compiler, this may take some time.\n"
          ],
          "name": "stdout"
        },
        {
          "output_type": "stream",
          "text": [
            "/usr/lib/python3/dist-packages/ffc/uflacs/analysis/dependencies.py:61: FutureWarning: Using a non-tuple sequence for multidimensional indexing is deprecated; use `arr[tuple(seq)]` instead of `arr[seq]`. In the future this will be interpreted as an array index, `arr[np.array(seq)]`, which will result either in an error or a different result.\n",
            "  active[targets] = 1\n"
          ],
          "name": "stderr"
        },
        {
          "output_type": "stream",
          "text": [
            "Calling FFC just-in-time (JIT) compiler, this may take some time.\n"
          ],
          "name": "stdout"
        },
        {
          "output_type": "stream",
          "text": [
            "/usr/lib/python3/dist-packages/ffc/uflacs/analysis/dependencies.py:61: FutureWarning: Using a non-tuple sequence for multidimensional indexing is deprecated; use `arr[tuple(seq)]` instead of `arr[seq]`. In the future this will be interpreted as an array index, `arr[np.array(seq)]`, which will result either in an error or a different result.\n",
            "  active[targets] = 1\n"
          ],
          "name": "stderr"
        },
        {
          "output_type": "stream",
          "text": [
            "Calling FFC just-in-time (JIT) compiler, this may take some time.\n"
          ],
          "name": "stdout"
        },
        {
          "output_type": "stream",
          "text": [
            "/usr/lib/python3/dist-packages/ffc/uflacs/analysis/dependencies.py:61: FutureWarning: Using a non-tuple sequence for multidimensional indexing is deprecated; use `arr[tuple(seq)]` instead of `arr[seq]`. In the future this will be interpreted as an array index, `arr[np.array(seq)]`, which will result either in an error or a different result.\n",
            "  active[targets] = 1\n"
          ],
          "name": "stderr"
        },
        {
          "output_type": "stream",
          "text": [
            "Calling FFC just-in-time (JIT) compiler, this may take some time.\n"
          ],
          "name": "stdout"
        },
        {
          "output_type": "stream",
          "text": [
            "/usr/lib/python3/dist-packages/ffc/uflacs/analysis/dependencies.py:61: FutureWarning: Using a non-tuple sequence for multidimensional indexing is deprecated; use `arr[tuple(seq)]` instead of `arr[seq]`. In the future this will be interpreted as an array index, `arr[np.array(seq)]`, which will result either in an error or a different result.\n",
            "  active[targets] = 1\n"
          ],
          "name": "stderr"
        },
        {
          "output_type": "stream",
          "text": [
            "Calling FFC just-in-time (JIT) compiler, this may take some time.\n"
          ],
          "name": "stdout"
        },
        {
          "output_type": "stream",
          "text": [
            "/usr/lib/python3/dist-packages/ffc/uflacs/analysis/dependencies.py:61: FutureWarning: Using a non-tuple sequence for multidimensional indexing is deprecated; use `arr[tuple(seq)]` instead of `arr[seq]`. In the future this will be interpreted as an array index, `arr[np.array(seq)]`, which will result either in an error or a different result.\n",
            "  active[targets] = 1\n"
          ],
          "name": "stderr"
        },
        {
          "output_type": "stream",
          "text": [
            "Calling FFC just-in-time (JIT) compiler, this may take some time.\n"
          ],
          "name": "stdout"
        },
        {
          "output_type": "stream",
          "text": [
            "/usr/lib/python3/dist-packages/ffc/uflacs/analysis/dependencies.py:61: FutureWarning: Using a non-tuple sequence for multidimensional indexing is deprecated; use `arr[tuple(seq)]` instead of `arr[seq]`. In the future this will be interpreted as an array index, `arr[np.array(seq)]`, which will result either in an error or a different result.\n",
            "  active[targets] = 1\n"
          ],
          "name": "stderr"
        },
        {
          "output_type": "stream",
          "text": [
            "Calling FFC just-in-time (JIT) compiler, this may take some time.\n"
          ],
          "name": "stdout"
        },
        {
          "output_type": "stream",
          "text": [
            "/usr/lib/python3/dist-packages/ffc/uflacs/analysis/dependencies.py:61: FutureWarning: Using a non-tuple sequence for multidimensional indexing is deprecated; use `arr[tuple(seq)]` instead of `arr[seq]`. In the future this will be interpreted as an array index, `arr[np.array(seq)]`, which will result either in an error or a different result.\n",
            "  active[targets] = 1\n"
          ],
          "name": "stderr"
        },
        {
          "output_type": "stream",
          "text": [
            "t: 6000.000000  T: 20000.0 dt: 400.0 gnorm: 3.872983e-05 Completed 29.41%\n",
            "Calling FFC just-in-time (JIT) compiler, this may take some time.\n"
          ],
          "name": "stdout"
        },
        {
          "output_type": "stream",
          "text": [
            "/usr/lib/python3/dist-packages/ffc/uflacs/analysis/dependencies.py:61: FutureWarning: Using a non-tuple sequence for multidimensional indexing is deprecated; use `arr[tuple(seq)]` instead of `arr[seq]`. In the future this will be interpreted as an array index, `arr[np.array(seq)]`, which will result either in an error or a different result.\n",
            "  active[targets] = 1\n"
          ],
          "name": "stderr"
        },
        {
          "output_type": "stream",
          "text": [
            "Calling FFC just-in-time (JIT) compiler, this may take some time.\n"
          ],
          "name": "stdout"
        },
        {
          "output_type": "stream",
          "text": [
            "/usr/lib/python3/dist-packages/ffc/uflacs/analysis/dependencies.py:61: FutureWarning: Using a non-tuple sequence for multidimensional indexing is deprecated; use `arr[tuple(seq)]` instead of `arr[seq]`. In the future this will be interpreted as an array index, `arr[np.array(seq)]`, which will result either in an error or a different result.\n",
            "  active[targets] = 1\n"
          ],
          "name": "stderr"
        },
        {
          "output_type": "stream",
          "text": [
            "Calling FFC just-in-time (JIT) compiler, this may take some time.\n"
          ],
          "name": "stdout"
        },
        {
          "output_type": "stream",
          "text": [
            "/usr/lib/python3/dist-packages/ffc/uflacs/analysis/dependencies.py:61: FutureWarning: Using a non-tuple sequence for multidimensional indexing is deprecated; use `arr[tuple(seq)]` instead of `arr[seq]`. In the future this will be interpreted as an array index, `arr[np.array(seq)]`, which will result either in an error or a different result.\n",
            "  active[targets] = 1\n"
          ],
          "name": "stderr"
        },
        {
          "output_type": "stream",
          "text": [
            "Calling FFC just-in-time (JIT) compiler, this may take some time.\n"
          ],
          "name": "stdout"
        },
        {
          "output_type": "stream",
          "text": [
            "/usr/lib/python3/dist-packages/ffc/uflacs/analysis/dependencies.py:61: FutureWarning: Using a non-tuple sequence for multidimensional indexing is deprecated; use `arr[tuple(seq)]` instead of `arr[seq]`. In the future this will be interpreted as an array index, `arr[np.array(seq)]`, which will result either in an error or a different result.\n",
            "  active[targets] = 1\n"
          ],
          "name": "stderr"
        },
        {
          "output_type": "stream",
          "text": [
            "Calling FFC just-in-time (JIT) compiler, this may take some time.\n"
          ],
          "name": "stdout"
        },
        {
          "output_type": "stream",
          "text": [
            "/usr/lib/python3/dist-packages/ffc/uflacs/analysis/dependencies.py:61: FutureWarning: Using a non-tuple sequence for multidimensional indexing is deprecated; use `arr[tuple(seq)]` instead of `arr[seq]`. In the future this will be interpreted as an array index, `arr[np.array(seq)]`, which will result either in an error or a different result.\n",
            "  active[targets] = 1\n"
          ],
          "name": "stderr"
        },
        {
          "output_type": "stream",
          "text": [
            "Calling FFC just-in-time (JIT) compiler, this may take some time.\n"
          ],
          "name": "stdout"
        },
        {
          "output_type": "stream",
          "text": [
            "/usr/lib/python3/dist-packages/ffc/uflacs/analysis/dependencies.py:61: FutureWarning: Using a non-tuple sequence for multidimensional indexing is deprecated; use `arr[tuple(seq)]` instead of `arr[seq]`. In the future this will be interpreted as an array index, `arr[np.array(seq)]`, which will result either in an error or a different result.\n",
            "  active[targets] = 1\n"
          ],
          "name": "stderr"
        },
        {
          "output_type": "stream",
          "text": [
            "Calling FFC just-in-time (JIT) compiler, this may take some time.\n"
          ],
          "name": "stdout"
        },
        {
          "output_type": "stream",
          "text": [
            "/usr/lib/python3/dist-packages/ffc/uflacs/analysis/dependencies.py:61: FutureWarning: Using a non-tuple sequence for multidimensional indexing is deprecated; use `arr[tuple(seq)]` instead of `arr[seq]`. In the future this will be interpreted as an array index, `arr[np.array(seq)]`, which will result either in an error or a different result.\n",
            "  active[targets] = 1\n"
          ],
          "name": "stderr"
        },
        {
          "output_type": "stream",
          "text": [
            "Calling FFC just-in-time (JIT) compiler, this may take some time.\n"
          ],
          "name": "stdout"
        },
        {
          "output_type": "stream",
          "text": [
            "/usr/lib/python3/dist-packages/ffc/uflacs/analysis/dependencies.py:61: FutureWarning: Using a non-tuple sequence for multidimensional indexing is deprecated; use `arr[tuple(seq)]` instead of `arr[seq]`. In the future this will be interpreted as an array index, `arr[np.array(seq)]`, which will result either in an error or a different result.\n",
            "  active[targets] = 1\n"
          ],
          "name": "stderr"
        },
        {
          "output_type": "stream",
          "text": [
            "Calling FFC just-in-time (JIT) compiler, this may take some time.\n"
          ],
          "name": "stdout"
        },
        {
          "output_type": "stream",
          "text": [
            "/usr/lib/python3/dist-packages/ffc/uflacs/analysis/dependencies.py:61: FutureWarning: Using a non-tuple sequence for multidimensional indexing is deprecated; use `arr[tuple(seq)]` instead of `arr[seq]`. In the future this will be interpreted as an array index, `arr[np.array(seq)]`, which will result either in an error or a different result.\n",
            "  active[targets] = 1\n"
          ],
          "name": "stderr"
        },
        {
          "output_type": "stream",
          "text": [
            "Calling FFC just-in-time (JIT) compiler, this may take some time.\n"
          ],
          "name": "stdout"
        },
        {
          "output_type": "stream",
          "text": [
            "/usr/lib/python3/dist-packages/ffc/uflacs/analysis/dependencies.py:61: FutureWarning: Using a non-tuple sequence for multidimensional indexing is deprecated; use `arr[tuple(seq)]` instead of `arr[seq]`. In the future this will be interpreted as an array index, `arr[np.array(seq)]`, which will result either in an error or a different result.\n",
            "  active[targets] = 1\n"
          ],
          "name": "stderr"
        },
        {
          "output_type": "stream",
          "text": [
            "t: 8000.000000  T: 20000.0 dt: 400.0 gnorm: 3.872983e-05 Completed 39.22%\n",
            "Calling FFC just-in-time (JIT) compiler, this may take some time.\n"
          ],
          "name": "stdout"
        },
        {
          "output_type": "stream",
          "text": [
            "/usr/lib/python3/dist-packages/ffc/uflacs/analysis/dependencies.py:61: FutureWarning: Using a non-tuple sequence for multidimensional indexing is deprecated; use `arr[tuple(seq)]` instead of `arr[seq]`. In the future this will be interpreted as an array index, `arr[np.array(seq)]`, which will result either in an error or a different result.\n",
            "  active[targets] = 1\n"
          ],
          "name": "stderr"
        },
        {
          "output_type": "stream",
          "text": [
            "Calling FFC just-in-time (JIT) compiler, this may take some time.\n"
          ],
          "name": "stdout"
        },
        {
          "output_type": "stream",
          "text": [
            "/usr/lib/python3/dist-packages/ffc/uflacs/analysis/dependencies.py:61: FutureWarning: Using a non-tuple sequence for multidimensional indexing is deprecated; use `arr[tuple(seq)]` instead of `arr[seq]`. In the future this will be interpreted as an array index, `arr[np.array(seq)]`, which will result either in an error or a different result.\n",
            "  active[targets] = 1\n"
          ],
          "name": "stderr"
        },
        {
          "output_type": "stream",
          "text": [
            "Calling FFC just-in-time (JIT) compiler, this may take some time.\n"
          ],
          "name": "stdout"
        },
        {
          "output_type": "stream",
          "text": [
            "/usr/lib/python3/dist-packages/ffc/uflacs/analysis/dependencies.py:61: FutureWarning: Using a non-tuple sequence for multidimensional indexing is deprecated; use `arr[tuple(seq)]` instead of `arr[seq]`. In the future this will be interpreted as an array index, `arr[np.array(seq)]`, which will result either in an error or a different result.\n",
            "  active[targets] = 1\n"
          ],
          "name": "stderr"
        },
        {
          "output_type": "stream",
          "text": [
            "Calling FFC just-in-time (JIT) compiler, this may take some time.\n"
          ],
          "name": "stdout"
        },
        {
          "output_type": "stream",
          "text": [
            "/usr/lib/python3/dist-packages/ffc/uflacs/analysis/dependencies.py:61: FutureWarning: Using a non-tuple sequence for multidimensional indexing is deprecated; use `arr[tuple(seq)]` instead of `arr[seq]`. In the future this will be interpreted as an array index, `arr[np.array(seq)]`, which will result either in an error or a different result.\n",
            "  active[targets] = 1\n"
          ],
          "name": "stderr"
        },
        {
          "output_type": "stream",
          "text": [
            "Calling FFC just-in-time (JIT) compiler, this may take some time.\n"
          ],
          "name": "stdout"
        },
        {
          "output_type": "stream",
          "text": [
            "/usr/lib/python3/dist-packages/ffc/uflacs/analysis/dependencies.py:61: FutureWarning: Using a non-tuple sequence for multidimensional indexing is deprecated; use `arr[tuple(seq)]` instead of `arr[seq]`. In the future this will be interpreted as an array index, `arr[np.array(seq)]`, which will result either in an error or a different result.\n",
            "  active[targets] = 1\n"
          ],
          "name": "stderr"
        },
        {
          "output_type": "stream",
          "text": [
            "Calling FFC just-in-time (JIT) compiler, this may take some time.\n"
          ],
          "name": "stdout"
        },
        {
          "output_type": "stream",
          "text": [
            "/usr/lib/python3/dist-packages/ffc/uflacs/analysis/dependencies.py:61: FutureWarning: Using a non-tuple sequence for multidimensional indexing is deprecated; use `arr[tuple(seq)]` instead of `arr[seq]`. In the future this will be interpreted as an array index, `arr[np.array(seq)]`, which will result either in an error or a different result.\n",
            "  active[targets] = 1\n"
          ],
          "name": "stderr"
        },
        {
          "output_type": "stream",
          "text": [
            "Calling FFC just-in-time (JIT) compiler, this may take some time.\n"
          ],
          "name": "stdout"
        },
        {
          "output_type": "stream",
          "text": [
            "/usr/lib/python3/dist-packages/ffc/uflacs/analysis/dependencies.py:61: FutureWarning: Using a non-tuple sequence for multidimensional indexing is deprecated; use `arr[tuple(seq)]` instead of `arr[seq]`. In the future this will be interpreted as an array index, `arr[np.array(seq)]`, which will result either in an error or a different result.\n",
            "  active[targets] = 1\n"
          ],
          "name": "stderr"
        },
        {
          "output_type": "stream",
          "text": [
            "Calling FFC just-in-time (JIT) compiler, this may take some time.\n"
          ],
          "name": "stdout"
        },
        {
          "output_type": "stream",
          "text": [
            "/usr/lib/python3/dist-packages/ffc/uflacs/analysis/dependencies.py:61: FutureWarning: Using a non-tuple sequence for multidimensional indexing is deprecated; use `arr[tuple(seq)]` instead of `arr[seq]`. In the future this will be interpreted as an array index, `arr[np.array(seq)]`, which will result either in an error or a different result.\n",
            "  active[targets] = 1\n"
          ],
          "name": "stderr"
        },
        {
          "output_type": "stream",
          "text": [
            "Calling FFC just-in-time (JIT) compiler, this may take some time.\n"
          ],
          "name": "stdout"
        },
        {
          "output_type": "stream",
          "text": [
            "/usr/lib/python3/dist-packages/ffc/uflacs/analysis/dependencies.py:61: FutureWarning: Using a non-tuple sequence for multidimensional indexing is deprecated; use `arr[tuple(seq)]` instead of `arr[seq]`. In the future this will be interpreted as an array index, `arr[np.array(seq)]`, which will result either in an error or a different result.\n",
            "  active[targets] = 1\n"
          ],
          "name": "stderr"
        },
        {
          "output_type": "stream",
          "text": [
            "Calling FFC just-in-time (JIT) compiler, this may take some time.\n"
          ],
          "name": "stdout"
        },
        {
          "output_type": "stream",
          "text": [
            "/usr/lib/python3/dist-packages/ffc/uflacs/analysis/dependencies.py:61: FutureWarning: Using a non-tuple sequence for multidimensional indexing is deprecated; use `arr[tuple(seq)]` instead of `arr[seq]`. In the future this will be interpreted as an array index, `arr[np.array(seq)]`, which will result either in an error or a different result.\n",
            "  active[targets] = 1\n"
          ],
          "name": "stderr"
        },
        {
          "output_type": "stream",
          "text": [
            "t: 10000.000000  T: 20000.0 dt: 400.0 gnorm: 3.872983e-05 Completed 49.02%\n",
            "Calling FFC just-in-time (JIT) compiler, this may take some time.\n"
          ],
          "name": "stdout"
        },
        {
          "output_type": "stream",
          "text": [
            "/usr/lib/python3/dist-packages/ffc/uflacs/analysis/dependencies.py:61: FutureWarning: Using a non-tuple sequence for multidimensional indexing is deprecated; use `arr[tuple(seq)]` instead of `arr[seq]`. In the future this will be interpreted as an array index, `arr[np.array(seq)]`, which will result either in an error or a different result.\n",
            "  active[targets] = 1\n"
          ],
          "name": "stderr"
        },
        {
          "output_type": "stream",
          "text": [
            "Calling FFC just-in-time (JIT) compiler, this may take some time.\n"
          ],
          "name": "stdout"
        },
        {
          "output_type": "stream",
          "text": [
            "/usr/lib/python3/dist-packages/ffc/uflacs/analysis/dependencies.py:61: FutureWarning: Using a non-tuple sequence for multidimensional indexing is deprecated; use `arr[tuple(seq)]` instead of `arr[seq]`. In the future this will be interpreted as an array index, `arr[np.array(seq)]`, which will result either in an error or a different result.\n",
            "  active[targets] = 1\n"
          ],
          "name": "stderr"
        },
        {
          "output_type": "stream",
          "text": [
            "Calling FFC just-in-time (JIT) compiler, this may take some time.\n"
          ],
          "name": "stdout"
        },
        {
          "output_type": "stream",
          "text": [
            "/usr/lib/python3/dist-packages/ffc/uflacs/analysis/dependencies.py:61: FutureWarning: Using a non-tuple sequence for multidimensional indexing is deprecated; use `arr[tuple(seq)]` instead of `arr[seq]`. In the future this will be interpreted as an array index, `arr[np.array(seq)]`, which will result either in an error or a different result.\n",
            "  active[targets] = 1\n"
          ],
          "name": "stderr"
        },
        {
          "output_type": "stream",
          "text": [
            "Calling FFC just-in-time (JIT) compiler, this may take some time.\n"
          ],
          "name": "stdout"
        },
        {
          "output_type": "stream",
          "text": [
            "/usr/lib/python3/dist-packages/ffc/uflacs/analysis/dependencies.py:61: FutureWarning: Using a non-tuple sequence for multidimensional indexing is deprecated; use `arr[tuple(seq)]` instead of `arr[seq]`. In the future this will be interpreted as an array index, `arr[np.array(seq)]`, which will result either in an error or a different result.\n",
            "  active[targets] = 1\n"
          ],
          "name": "stderr"
        },
        {
          "output_type": "stream",
          "text": [
            "Calling FFC just-in-time (JIT) compiler, this may take some time.\n"
          ],
          "name": "stdout"
        },
        {
          "output_type": "stream",
          "text": [
            "/usr/lib/python3/dist-packages/ffc/uflacs/analysis/dependencies.py:61: FutureWarning: Using a non-tuple sequence for multidimensional indexing is deprecated; use `arr[tuple(seq)]` instead of `arr[seq]`. In the future this will be interpreted as an array index, `arr[np.array(seq)]`, which will result either in an error or a different result.\n",
            "  active[targets] = 1\n"
          ],
          "name": "stderr"
        },
        {
          "output_type": "stream",
          "text": [
            "Calling FFC just-in-time (JIT) compiler, this may take some time.\n"
          ],
          "name": "stdout"
        },
        {
          "output_type": "stream",
          "text": [
            "/usr/lib/python3/dist-packages/ffc/uflacs/analysis/dependencies.py:61: FutureWarning: Using a non-tuple sequence for multidimensional indexing is deprecated; use `arr[tuple(seq)]` instead of `arr[seq]`. In the future this will be interpreted as an array index, `arr[np.array(seq)]`, which will result either in an error or a different result.\n",
            "  active[targets] = 1\n"
          ],
          "name": "stderr"
        },
        {
          "output_type": "stream",
          "text": [
            "t: 12000.000000  T: 20000.0 dt: 400.0 gnorm: 3.872983e-05 Completed 58.82%\n",
            "Calling FFC just-in-time (JIT) compiler, this may take some time.\n"
          ],
          "name": "stdout"
        },
        {
          "output_type": "stream",
          "text": [
            "/usr/lib/python3/dist-packages/ffc/uflacs/analysis/dependencies.py:61: FutureWarning: Using a non-tuple sequence for multidimensional indexing is deprecated; use `arr[tuple(seq)]` instead of `arr[seq]`. In the future this will be interpreted as an array index, `arr[np.array(seq)]`, which will result either in an error or a different result.\n",
            "  active[targets] = 1\n"
          ],
          "name": "stderr"
        },
        {
          "output_type": "stream",
          "text": [
            "Calling FFC just-in-time (JIT) compiler, this may take some time.\n"
          ],
          "name": "stdout"
        },
        {
          "output_type": "stream",
          "text": [
            "/usr/lib/python3/dist-packages/ffc/uflacs/analysis/dependencies.py:61: FutureWarning: Using a non-tuple sequence for multidimensional indexing is deprecated; use `arr[tuple(seq)]` instead of `arr[seq]`. In the future this will be interpreted as an array index, `arr[np.array(seq)]`, which will result either in an error or a different result.\n",
            "  active[targets] = 1\n"
          ],
          "name": "stderr"
        },
        {
          "output_type": "stream",
          "text": [
            "Calling FFC just-in-time (JIT) compiler, this may take some time.\n"
          ],
          "name": "stdout"
        },
        {
          "output_type": "stream",
          "text": [
            "/usr/lib/python3/dist-packages/ffc/uflacs/analysis/dependencies.py:61: FutureWarning: Using a non-tuple sequence for multidimensional indexing is deprecated; use `arr[tuple(seq)]` instead of `arr[seq]`. In the future this will be interpreted as an array index, `arr[np.array(seq)]`, which will result either in an error or a different result.\n",
            "  active[targets] = 1\n"
          ],
          "name": "stderr"
        },
        {
          "output_type": "stream",
          "text": [
            "Calling FFC just-in-time (JIT) compiler, this may take some time.\n"
          ],
          "name": "stdout"
        },
        {
          "output_type": "stream",
          "text": [
            "/usr/lib/python3/dist-packages/ffc/uflacs/analysis/dependencies.py:61: FutureWarning: Using a non-tuple sequence for multidimensional indexing is deprecated; use `arr[tuple(seq)]` instead of `arr[seq]`. In the future this will be interpreted as an array index, `arr[np.array(seq)]`, which will result either in an error or a different result.\n",
            "  active[targets] = 1\n"
          ],
          "name": "stderr"
        },
        {
          "output_type": "stream",
          "text": [
            "Calling FFC just-in-time (JIT) compiler, this may take some time.\n"
          ],
          "name": "stdout"
        },
        {
          "output_type": "stream",
          "text": [
            "/usr/lib/python3/dist-packages/ffc/uflacs/analysis/dependencies.py:61: FutureWarning: Using a non-tuple sequence for multidimensional indexing is deprecated; use `arr[tuple(seq)]` instead of `arr[seq]`. In the future this will be interpreted as an array index, `arr[np.array(seq)]`, which will result either in an error or a different result.\n",
            "  active[targets] = 1\n"
          ],
          "name": "stderr"
        },
        {
          "output_type": "stream",
          "text": [
            "t: 14000.000000  T: 20000.0 dt: 400.0 gnorm: 3.872983e-05 Completed 68.63%\n",
            "Calling FFC just-in-time (JIT) compiler, this may take some time.\n"
          ],
          "name": "stdout"
        },
        {
          "output_type": "stream",
          "text": [
            "/usr/lib/python3/dist-packages/ffc/uflacs/analysis/dependencies.py:61: FutureWarning: Using a non-tuple sequence for multidimensional indexing is deprecated; use `arr[tuple(seq)]` instead of `arr[seq]`. In the future this will be interpreted as an array index, `arr[np.array(seq)]`, which will result either in an error or a different result.\n",
            "  active[targets] = 1\n"
          ],
          "name": "stderr"
        },
        {
          "output_type": "stream",
          "text": [
            "Calling FFC just-in-time (JIT) compiler, this may take some time.\n"
          ],
          "name": "stdout"
        },
        {
          "output_type": "stream",
          "text": [
            "/usr/lib/python3/dist-packages/ffc/uflacs/analysis/dependencies.py:61: FutureWarning: Using a non-tuple sequence for multidimensional indexing is deprecated; use `arr[tuple(seq)]` instead of `arr[seq]`. In the future this will be interpreted as an array index, `arr[np.array(seq)]`, which will result either in an error or a different result.\n",
            "  active[targets] = 1\n"
          ],
          "name": "stderr"
        },
        {
          "output_type": "stream",
          "text": [
            "Calling FFC just-in-time (JIT) compiler, this may take some time.\n"
          ],
          "name": "stdout"
        },
        {
          "output_type": "stream",
          "text": [
            "/usr/lib/python3/dist-packages/ffc/uflacs/analysis/dependencies.py:61: FutureWarning: Using a non-tuple sequence for multidimensional indexing is deprecated; use `arr[tuple(seq)]` instead of `arr[seq]`. In the future this will be interpreted as an array index, `arr[np.array(seq)]`, which will result either in an error or a different result.\n",
            "  active[targets] = 1\n"
          ],
          "name": "stderr"
        },
        {
          "output_type": "stream",
          "text": [
            "Calling FFC just-in-time (JIT) compiler, this may take some time.\n"
          ],
          "name": "stdout"
        },
        {
          "output_type": "stream",
          "text": [
            "/usr/lib/python3/dist-packages/ffc/uflacs/analysis/dependencies.py:61: FutureWarning: Using a non-tuple sequence for multidimensional indexing is deprecated; use `arr[tuple(seq)]` instead of `arr[seq]`. In the future this will be interpreted as an array index, `arr[np.array(seq)]`, which will result either in an error or a different result.\n",
            "  active[targets] = 1\n"
          ],
          "name": "stderr"
        },
        {
          "output_type": "stream",
          "text": [
            "Calling FFC just-in-time (JIT) compiler, this may take some time.\n"
          ],
          "name": "stdout"
        },
        {
          "output_type": "stream",
          "text": [
            "/usr/lib/python3/dist-packages/ffc/uflacs/analysis/dependencies.py:61: FutureWarning: Using a non-tuple sequence for multidimensional indexing is deprecated; use `arr[tuple(seq)]` instead of `arr[seq]`. In the future this will be interpreted as an array index, `arr[np.array(seq)]`, which will result either in an error or a different result.\n",
            "  active[targets] = 1\n"
          ],
          "name": "stderr"
        },
        {
          "output_type": "stream",
          "text": [
            "t: 16000.000000  T: 20000.0 dt: 400.0 gnorm: 3.872983e-05 Completed 78.43%\n",
            "Calling FFC just-in-time (JIT) compiler, this may take some time.\n"
          ],
          "name": "stdout"
        },
        {
          "output_type": "stream",
          "text": [
            "/usr/lib/python3/dist-packages/ffc/uflacs/analysis/dependencies.py:61: FutureWarning: Using a non-tuple sequence for multidimensional indexing is deprecated; use `arr[tuple(seq)]` instead of `arr[seq]`. In the future this will be interpreted as an array index, `arr[np.array(seq)]`, which will result either in an error or a different result.\n",
            "  active[targets] = 1\n"
          ],
          "name": "stderr"
        },
        {
          "output_type": "stream",
          "text": [
            "Calling FFC just-in-time (JIT) compiler, this may take some time.\n"
          ],
          "name": "stdout"
        },
        {
          "output_type": "stream",
          "text": [
            "/usr/lib/python3/dist-packages/ffc/uflacs/analysis/dependencies.py:61: FutureWarning: Using a non-tuple sequence for multidimensional indexing is deprecated; use `arr[tuple(seq)]` instead of `arr[seq]`. In the future this will be interpreted as an array index, `arr[np.array(seq)]`, which will result either in an error or a different result.\n",
            "  active[targets] = 1\n"
          ],
          "name": "stderr"
        },
        {
          "output_type": "stream",
          "text": [
            "Calling FFC just-in-time (JIT) compiler, this may take some time.\n"
          ],
          "name": "stdout"
        },
        {
          "output_type": "stream",
          "text": [
            "/usr/lib/python3/dist-packages/ffc/uflacs/analysis/dependencies.py:61: FutureWarning: Using a non-tuple sequence for multidimensional indexing is deprecated; use `arr[tuple(seq)]` instead of `arr[seq]`. In the future this will be interpreted as an array index, `arr[np.array(seq)]`, which will result either in an error or a different result.\n",
            "  active[targets] = 1\n"
          ],
          "name": "stderr"
        },
        {
          "output_type": "stream",
          "text": [
            "Calling FFC just-in-time (JIT) compiler, this may take some time.\n"
          ],
          "name": "stdout"
        },
        {
          "output_type": "stream",
          "text": [
            "/usr/lib/python3/dist-packages/ffc/uflacs/analysis/dependencies.py:61: FutureWarning: Using a non-tuple sequence for multidimensional indexing is deprecated; use `arr[tuple(seq)]` instead of `arr[seq]`. In the future this will be interpreted as an array index, `arr[np.array(seq)]`, which will result either in an error or a different result.\n",
            "  active[targets] = 1\n"
          ],
          "name": "stderr"
        },
        {
          "output_type": "stream",
          "text": [
            "Calling FFC just-in-time (JIT) compiler, this may take some time.\n"
          ],
          "name": "stdout"
        },
        {
          "output_type": "stream",
          "text": [
            "/usr/lib/python3/dist-packages/ffc/uflacs/analysis/dependencies.py:61: FutureWarning: Using a non-tuple sequence for multidimensional indexing is deprecated; use `arr[tuple(seq)]` instead of `arr[seq]`. In the future this will be interpreted as an array index, `arr[np.array(seq)]`, which will result either in an error or a different result.\n",
            "  active[targets] = 1\n"
          ],
          "name": "stderr"
        },
        {
          "output_type": "stream",
          "text": [
            "t: 18000.000000  T: 20000.0 dt: 400.0 gnorm: 3.872983e-05 Completed 88.24%\n",
            "Calling FFC just-in-time (JIT) compiler, this may take some time.\n"
          ],
          "name": "stdout"
        },
        {
          "output_type": "stream",
          "text": [
            "/usr/lib/python3/dist-packages/ffc/uflacs/analysis/dependencies.py:61: FutureWarning: Using a non-tuple sequence for multidimensional indexing is deprecated; use `arr[tuple(seq)]` instead of `arr[seq]`. In the future this will be interpreted as an array index, `arr[np.array(seq)]`, which will result either in an error or a different result.\n",
            "  active[targets] = 1\n"
          ],
          "name": "stderr"
        },
        {
          "output_type": "stream",
          "text": [
            "Calling FFC just-in-time (JIT) compiler, this may take some time.\n"
          ],
          "name": "stdout"
        },
        {
          "output_type": "stream",
          "text": [
            "/usr/lib/python3/dist-packages/ffc/uflacs/analysis/dependencies.py:61: FutureWarning: Using a non-tuple sequence for multidimensional indexing is deprecated; use `arr[tuple(seq)]` instead of `arr[seq]`. In the future this will be interpreted as an array index, `arr[np.array(seq)]`, which will result either in an error or a different result.\n",
            "  active[targets] = 1\n"
          ],
          "name": "stderr"
        },
        {
          "output_type": "stream",
          "text": [
            "Calling FFC just-in-time (JIT) compiler, this may take some time.\n"
          ],
          "name": "stdout"
        },
        {
          "output_type": "stream",
          "text": [
            "/usr/lib/python3/dist-packages/ffc/uflacs/analysis/dependencies.py:61: FutureWarning: Using a non-tuple sequence for multidimensional indexing is deprecated; use `arr[tuple(seq)]` instead of `arr[seq]`. In the future this will be interpreted as an array index, `arr[np.array(seq)]`, which will result either in an error or a different result.\n",
            "  active[targets] = 1\n"
          ],
          "name": "stderr"
        },
        {
          "output_type": "stream",
          "text": [
            "Calling FFC just-in-time (JIT) compiler, this may take some time.\n"
          ],
          "name": "stdout"
        },
        {
          "output_type": "stream",
          "text": [
            "/usr/lib/python3/dist-packages/ffc/uflacs/analysis/dependencies.py:61: FutureWarning: Using a non-tuple sequence for multidimensional indexing is deprecated; use `arr[tuple(seq)]` instead of `arr[seq]`. In the future this will be interpreted as an array index, `arr[np.array(seq)]`, which will result either in an error or a different result.\n",
            "  active[targets] = 1\n"
          ],
          "name": "stderr"
        },
        {
          "output_type": "stream",
          "text": [
            "Calling FFC just-in-time (JIT) compiler, this may take some time.\n"
          ],
          "name": "stdout"
        },
        {
          "output_type": "stream",
          "text": [
            "/usr/lib/python3/dist-packages/ffc/uflacs/analysis/dependencies.py:61: FutureWarning: Using a non-tuple sequence for multidimensional indexing is deprecated; use `arr[tuple(seq)]` instead of `arr[seq]`. In the future this will be interpreted as an array index, `arr[np.array(seq)]`, which will result either in an error or a different result.\n",
            "  active[targets] = 1\n"
          ],
          "name": "stderr"
        },
        {
          "output_type": "stream",
          "text": [
            "t: 20000.000000  T: 20000.0 dt: 400.0 gnorm: 3.872983e-05 Completed 98.04%\n",
            "Calling FFC just-in-time (JIT) compiler, this may take some time.\n"
          ],
          "name": "stdout"
        },
        {
          "output_type": "stream",
          "text": [
            "/usr/lib/python3/dist-packages/ffc/uflacs/analysis/dependencies.py:61: FutureWarning: Using a non-tuple sequence for multidimensional indexing is deprecated; use `arr[tuple(seq)]` instead of `arr[seq]`. In the future this will be interpreted as an array index, `arr[np.array(seq)]`, which will result either in an error or a different result.\n",
            "  active[targets] = 1\n"
          ],
          "name": "stderr"
        },
        {
          "output_type": "stream",
          "text": [
            "Elapsed time: 171.357564 seconds\n",
            "b: 1000 Signal: 5.480e-02 kappa: 1.000e-01 , dt:  400 , hmin:  0.4239694427581647 , Free signal: 4.979e-02\n",
            "Signal on each compartment\n",
            "Signal0: 5.480e-02\n",
            "Signal1: 5.480e-02\n"
          ],
          "name": "stdout"
        },
        {
          "output_type": "execute_result",
          "data": {
            "text/plain": [
              "<mpl_toolkits.mplot3d.art3d.Path3DCollection at 0x7f58a629ab38>"
            ]
          },
          "metadata": {
            "tags": []
          },
          "execution_count": 62
        },
        {
          "output_type": "display_data",
          "data": {
            "image/png": "[encoded data removed]",
            "text/plain": [
              "<Figure size 432x288 with 1 Axes>"
            ]
          },
          "metadata": {
            "tags": []
          }
        }
      ]
    },
    {
      "metadata": {
        "id": "2PFBYd0QMw4U",
        "colab_type": "text"
      },
      "cell_type": "markdown",
      "source": [
        "# Reference solutions"
      ]
    },
    {
      "metadata": {
        "id": "3paAgRxbM3yW",
        "colab_type": "code",
        "colab": {}
      },
      "cell_type": "code",
      "source": [
        "# The results were generated by the Matrix Formalism method propsed in\n",
        "# D.S. Grebenkov, Pulsed-gradient spin-echo monitoring of restricted \n",
        "# diffusion in multilayered structures, J. Magn. Reson., 205 (2) (2010)\n",
        "# # # # # # # # # # # # # # # # # # # # # # # # # # # # # # # # # # # # \n",
        "# # # R=[5,7.5,10], kappa=5e-5m/s delta=Delta=40000\n",
        "#  bvalue  # signal attenuation\n",
        "# # # # # # # # # # # # # # #\n",
        "# # # # # # # # # # # # # # #"
      ],
      "execution_count": 0,
      "outputs": []
    }
  ]
}