{
  "nbformat": 4,
  "nbformat_minor": 0,
  "metadata": {
    "colab": {
      "name": "DMR_Multilayered_Domain.ipynb",
      "version": "0.3.2",
      "provenance": [],
      "collapsed_sections": [
        "vS_YdSbqFOln",
        "9SJXe6I5JUwF",
        "r6GW2fwLE042",
        "pfryWRtY-FU-"
      ],
      "toc_visible": true,
      "include_colab_link": true
    },
    "kernelspec": {
      "name": "python3",
      "display_name": "Python 3"
    },
    "accelerator": "GPU"
  },
  "cells": [
    {
      "cell_type": "markdown",
      "metadata": {
        "id": "view-in-github",
        "colab_type": "text"
      },
      "source": [
        "<a href=\"https://colab.research.google.com/github/van-dang/MRI-Cloud/blob/master/MultilayeredStructuresSim.ipynb\" target=\"_parent\"><img src=\"https://colab.research.google.com/assets/colab-badge.svg\" alt=\"Open In Colab\"/></a>"
      ]
    },
    {
      "metadata": {
        "id": "vS_YdSbqFOln",
        "colab_type": "text"
      },
      "cell_type": "markdown",
      "source": [
        "# About the code"
      ]
    },
    {
      "metadata": {
        "id": "CiQ9r51xKgWh",
        "colab_type": "code",
        "colab": {}
      },
      "cell_type": "code",
      "source": [
        "# This demo solves the Bloch-Torrey equation applied to computational diffusion MRI using \n",
        "# the finite element method coupled with the theta-method for the spatial discretization.\n",
        "\n",
        "# The scope of usage: \n",
        "# (1) multilayered structures, (2) membrane permeability, (3) pure homogeneous Neumann \n",
        "\n",
        "# Copyright (C) 2017 Van-Dang Nguyen (vdnguyen@kth.se)\n",
        "\n",
        "# This file is part of DOLFIN.\n",
        "\n",
        "# DOLFIN is free software: you can redistribute it and/or modify\n",
        "# it under the terms of the GNU Lesser General Public License as published by\n",
        "# the Free Software Foundation, either version 3 of the License, or\n",
        "# (at your option) any later version.\n",
        "\n",
        "# DOLFIN is distributed in the hope that it will be useful,\n",
        "# but WITHOUT ANY WARRANTY; without even the implied warranty of\n",
        "# MERCHANTABILITY or FITNESS FOR A PARTICULAR PURPOSE. See the\n",
        "# GNU Lesser General Public License for more details.\n",
        "\n",
        "# You should have received a copy of the GNU Lesser General Public License\n",
        "# along with DOLFIN. If not, see <http://www.gnu.org/licenses/>.\n",
        "\n",
        "# First added:  2017-10-10\n",
        "# Last changed: 2019-04-09\n",
        "\n",
        "# This demo is maintained by Van-Dang Nguyen\n",
        "# Please report problems to vdnguyen@kth.se"
      ],
      "execution_count": 0,
      "outputs": []
    },
    {
      "metadata": {
        "id": "9SJXe6I5JUwF",
        "colab_type": "text"
      },
      "cell_type": "markdown",
      "source": [
        "# Setting a working environment with FEniCS"
      ]
    },
    {
      "metadata": {
        "id": "4jWzVxURFVLj",
        "colab_type": "code",
        "outputId": "3d14a409-2574-4868-dde4-5522e9b9d8b4",
        "colab": {
          "base_uri": "https://localhost:8080/",
          "height": 63
        }
      },
      "cell_type": "code",
      "source": [
        "from google.colab import files\n",
        "\n",
        "from IPython import get_ipython\n",
        "get_ipython().magic('reset -sf')\n",
        "\n",
        "import platform, sys\n",
        "python_version=platform.python_version()\n",
        "from distutils.version import LooseVersion, StrictVersion\n",
        "\n",
        "if ( LooseVersion(python_version) < LooseVersion(\"3.0.0\")):\n",
        "    print(\"Python3 is needed!\");\n",
        "    print(\"How to fix: Runtime/Change_runtime_type/Python 3\");\n",
        "    sys.exit()\n",
        "    \n",
        "try:\n",
        "    from dolfin import *; from mshr import *\n",
        "except ImportError as e:\n",
        "    !apt-get install -y -qq software-properties-common python-software-properties module-init-tools\n",
        "    !add-apt-repository -y ppa:fenics-packages/fenics\n",
        "    !apt-get update -qq\n",
        "    !apt install -y --no-install-recommends fenics\n",
        "    from dolfin import *; from mshr import *\n",
        "    \n",
        "import matplotlib.pyplot as plt;\n",
        "from IPython.display import clear_output, display; import time; import dolfin.common.plotting as fenicsplot \n",
        "import time\n",
        "\n",
        "import os, sys, shutil\n",
        "\n",
        "clear_output()\n",
        "\n",
        "dolfin_version = dolfin.__version__\n",
        "print ('dolfin version:', dolfin_version)\n",
        "\n",
        "!rm -rf * # clean up all files\n",
        "# Useful commands\n",
        "# Remove an empty folder      : os.rmdir(\"my_results\")\n",
        "# Remove a folder with files  : shutil.rmtree(\"results\")\n",
        "# Make a folder               : os.mkdir(\"my_results\")\n",
        "# Runtime/Change_runtime_type/Python3\n",
        "\n"
      ],
      "execution_count": 20,
      "outputs": [
        {
          "output_type": "stream",
          "text": [
            "dolfin version: 2018.1.0\n"
          ],
          "name": "stdout"
        }
      ]
    },
    {
      "metadata": {
        "id": "6l4kvMZQb3z6",
        "colab_type": "text"
      },
      "cell_type": "markdown",
      "source": [
        "#Pre-defined functions"
      ]
    },
    {
      "metadata": {
        "id": "x3L26nGPb7kZ",
        "colab_type": "code",
        "colab": {}
      },
      "cell_type": "code",
      "source": [
        "def MyFunctionSpaces(mesh, porder):\n",
        "  Ve = FiniteElement(\"CG\", mesh.ufl_cell(), porder)\n",
        "  TH = MixedElement([Ve,Ve,Ve,Ve])\n",
        "  V = FunctionSpace(mesh,Ve);\n",
        "  W = FunctionSpace(mesh, TH)\n",
        "  return Ve, V, W\n",
        "\n",
        "def GdotX(gdir, mesh):\n",
        "  gdim = mesh.geometry().dim()\n",
        "  if (gdim==2):\n",
        "    GX=Expression(\"x[0]*g0+x[1]*g1\", g0=gdir.x(), g1=gdir.y(), domain=mesh, degree=3);\n",
        "  if (gdim==3):\n",
        "    GX=Expression(\"x[0]*g0+x[1]*g1+x[2]*g2\", g0=gdir.x(), g1=gdir.y(), g2=gdir.z(), domain=mesh, degree=3);\n",
        "  return GX;\n",
        "\n",
        "def Gdir(g0, g1, g2, mesh):\n",
        "  gdim = mesh.geometry().dim()\n",
        "  if (gdim==2):\n",
        "    gdir = Point(g0, g1);\n",
        "  if (gdim==3):\n",
        "    gdir = Point(g0, g1, g2);\n",
        "  return gdir/gdir.norm();\n",
        "\n",
        "def FuncF(ft, gnorm, gdir, ur, ui, vr, vi, K):\n",
        "    GX=GdotX(gdir, mesh)\n",
        "    Fr = ft*gnorm*GX*ui*vr - inner(K*grad(ur), grad(vr))\n",
        "    Fi = - ft*gnorm*GX*ur*vi - inner(K*grad(ui), grad(vi))\n",
        "    return Fr + Fi\n",
        "  \n",
        "def icondition(kappa, u0rm, u1rm, v0r, v1r, u0im, u1im, v0i, v1i):\n",
        "    F_bcr = kappa*(u0rm-u1rm)*(v0r-v1r)\n",
        "    F_bci = kappa*(u0im-u1im)*(v0i-v1i)\n",
        "    return F_bcr + F_bci\n",
        "\n",
        "def SubMeshSave(ur, ui, file_ur, file_ui, mesh, n, stepcounter, dolfin_version):\n",
        "  if dolfin_version=='1.6.0':\n",
        "    V = FunctionSpace(mesh, \"CG\", porder)\n",
        "  else:\n",
        "    # For FEniCS 2016, 2017\n",
        "    Ve = FiniteElement(\"CG\", mesh.ufl_cell(), porder)\n",
        "    V = FunctionSpace(mesh, Ve)\n",
        "  if stepcounter % n == 0:\n",
        "    ur_p = project(ur, V);\n",
        "    ui_p = project(ui, V);\n",
        "    ur_p.rename(\"Real\", \"label\");\n",
        "    ui_p.rename(\"Imag\", \"label\");\n",
        "    file_ur << ur_p;\n",
        "    file_ui << ui_p;\n",
        "\n",
        "def ieval(u,omega, phase):\n",
        "  if omega==1:\n",
        "    return u('+')*phase('+') + u('-')*phase('-');\n",
        "  if omega==0:\n",
        "    return u('+')*(1.-phase('+')) + u('-')*(1.-phase('-'))                      \n",
        "\n",
        "def time_profile(t, delta, Delta, stype):\n",
        "  ft1, ft2 = 0, 0;\n",
        "  if stype=='PGSE':\n",
        "    ft1 = 1.0*(t>=0 and t<delta) \n",
        "    ft2 = -1.0*(t>=Delta and t<=Delta+delta);\n",
        "  if stype=='cos_OGSE':\n",
        "    ft1 =  cos(2.0*nperiod*pi*t/delta)*(t>=0 and t<delta);\n",
        "    ft2 = -cos(2.0*nperiod*pi*(t-2.*delta)/delta)*(t>=Delta and t<=Delta+delta);\n",
        "  return ft1 + ft2; \n",
        "\n",
        "def itime_profile(t, delta, Delta, stype): # integrate ft\n",
        "    ft1, ft2, ft3 = 0, 0, 0;\n",
        "    if stype=='PGSE':\n",
        "      ft1 = t*(t>=0 and t<delta) \n",
        "      ft2 = delta*(t>=delta and t<Delta) \n",
        "      ft3 = (delta - t + Delta)*(t>=Delta and t<=Delta+delta) \n",
        "    return ft1 + ft2 + ft3;  \n",
        "\n",
        "  \n",
        "def ThetaMethod_L(ft, gnorm, dir, u0r, u0i, v0r, v0i, u1r, u1i, v1r, v1i, u0r_0, u0i_0, u1r_0, u1i_0,k, kappa, K, theta, phase):\n",
        "    L0 = (u0r_0/k*v0r + u0i_0/k*v0i+(1-theta)*FuncF(ft, gnorm, gdir, u0r_0, u0i_0, v0r, v0i, K))*(1-phase)*dx\n",
        "    L1 = (u1r_0/k*v1r +u1i_0/k*v1i+(1-theta)*FuncF(ft, gnorm, gdir, u1r_0, u1i_0, v1r, v1i, K))*phase*dx\n",
        "    L_bc = avg((1-theta)*icondition(kappa, u0r_0, u1r_0, v0r, v1r, u0i_0, u1i_0, v0i, v1i))*abs(jump(phase))*dS;\n",
        "    return L0+L1-L_bc\n",
        "\n",
        "\n",
        "def ThetaMethod_a(ft, gnorm, gdir, u0r, u0i, v0r, v0i, u1r, u1i, v1r, v1i, u0r_0, u0i_0, u1r_0, u1i_0,k,kappa, K, theta, phase):\n",
        "    a0 = (u0r/k*v0r   + u0i/k*v0i  -theta*FuncF(ft, gnorm, gdir, u0r  , u0i  , v0r, v0i, K))*(1-phase)*dx\n",
        "    a1 = (u1r/k*v1r   + u1i/k*v1i  -theta*FuncF(ft, gnorm, gdir, u1r  , u1i  , v1r, v1i, K))*phase*dx\n",
        "    a_bc = avg(  (theta*icondition(kappa, u0r  , u1r  , v0r, v1r, u0i  , u1i  , v0i, v1i)))*abs(jump(phase))*dS;\n",
        "    return a0+a1+a_bc\n",
        "\n",
        "\n",
        "def NoTimeMatrices(u0r, u0i, v0r, v0i, u1r, u1i, v1r, v1i, K, gdir, kappa, kappa_e, theta, phase):\n",
        "    GX=GdotX(gdir, mesh)\n",
        "    \n",
        "    m0 = (u0r*v0r   + u0i*v0i)*(1-phase)*dx\n",
        "    m1 = (u1r*v1r   + u1i*v1i)*phase*dx\n",
        "    M = assemble(m0+m1);\n",
        "        \n",
        "    j0 = -GX*(u0i*v0r   - u0r*v0i)*(1-phase)*dx\n",
        "    j1 = -GX*(u1i*v1r   - u1r*v1i)*phase*dx\n",
        "    J = assemble(j0+j1);    \n",
        "    s0 = ( inner(K*grad(u0r), grad(v0r)) + inner(K*grad(u0i), grad(v0i)) )*(1-phase)*dx\n",
        "    s1 = ( inner(K*grad(u1r), grad(v1r)) + inner(K*grad(u1i), grad(v1i)) )*phase*dx\n",
        "    S = assemble(s0+s1)\n",
        "\n",
        "    im = avg(  icondition(kappa, u0r  , u1r  , v0r, v1r, u0i  , u1i  , v0i, v1i) )*abs(jump(phase))*dS;\n",
        "    I = assemble(im)\n",
        "\n",
        "    ii = kappa_e*(u1r*v1r   + u1i*v1i)*phase*ds + kappa_e*(u0r*v0r   + u0i*v0i)*(1-phase)*ds;\n",
        "\n",
        "    II = assemble(ii)\n",
        "    \n",
        "    M.ident_zeros();\n",
        "    \n",
        "    return M, J, S, I, II\n",
        "\n",
        "def ThetaMethod_A(ft, gnorm, theta, k, M, J, S, I):\n",
        "    return 1./k*M + ft*gnorm*theta*J + theta*S + theta*I\n",
        "  \n",
        "def b2g(bvalue, delta, Delta, nperiod, stype):\n",
        "  gnorm = 0;\n",
        "  if (stype == 'PGSE'):\n",
        "      gnorm = sqrt(bvalue)/sqrt(delta*delta*(Delta-delta/3.0));\n",
        "  if (stype == 'cos_OGSE'):\n",
        "      gnorm = sqrt(bvalue/(1./8.*delta*delta*delta*(3.-cos(4.*nperiod*pi/delta*Delta))/(nperiod*nperiod)/(pi*pi)));\n",
        "  return gnorm;\n",
        "\n",
        "def g2b(gnorm, delta, Delta, nperiod, stype):\n",
        "  bvalue = 0;\n",
        "  if (stype == 'PGSE'):\n",
        "      bvalue = gnorm*gnorm*delta*delta*(Delta-delta/3.0);\n",
        "  if (stype == 'cos_OGSE'):\n",
        "      bvalue=gnorm*gnorm*1./8.*delta*delta*delta*(3.-cos(4.*nperiod*pi/delta*Delta))/(nperiod*nperiod)/(pi*pi);\n",
        "  return bvalue;  \n",
        "\n",
        "\n",
        "class PseudoPeriodic0(UserExpression):\n",
        "    def set_values(self, u, xmin, ymin, zmin, xmax, ymax, zmax, ift, gdir, pdir, gdim):\n",
        "        u.set_allow_extrapolation(True)\n",
        "        self.u                                         = u\n",
        "        self.xmin, self.ymin, self.zmin, self.xmax, self.ymax, self.zmax     = xmin, ymin, zmin, xmax, ymax, zmax \n",
        "        self.pdir = pdir\n",
        "        self.gdim = gdim\n",
        "        \n",
        "    def eval(self, value, x):\n",
        "        tol = 1E-7\n",
        "        is_eval = False;\n",
        "        xln, yln, zln = 0, 0, 0\n",
        "        temp_u0r, temp_u0i, temp_u1r, temp_u1i = 0, 0, 0, 0\n",
        "        if (self.pdir[0] == 1): # x-direction\n",
        "            if abs(x[0]-self.xmin) <= tol:\n",
        "                xln, yln, zln = self.xmax-x[0], 0, 0;\n",
        "                if self.gdim ==2:\n",
        "                  temp_u0r, temp_u0i, temp_u1r, temp_u1i = self.u([self.xmax, x[1]]);\n",
        "                if self.gdim ==3:\n",
        "                  temp_u0r, temp_u0i, temp_u1r, temp_u1i = self.u([self.xmax, x[1], x[2]]);\n",
        "\n",
        "            if abs(x[0]-self.xmax) <= tol:\n",
        "                xln, yln, zln = self.xmin-x[0], 0, 0;\n",
        "                if (self.gdim==2):\n",
        "                  temp_u0r, temp_u0i, temp_u1r, temp_u1i = self.u([self.xmin, x[1]]);\n",
        "                if (self.gdim==3):\n",
        "                  temp_u0r, temp_u0i, temp_u1r, temp_u1i = self.u([self.xmin, x[1], x[2]]);\n",
        "\n",
        "        if (self.pdir[1] == 1): # y-direction\n",
        "            if abs(x[1]-self.ymin) <= tol:\n",
        "                xln, yln, zln = 0, self.ymax-x[1], 0;\n",
        "                if self.gdim ==2:\n",
        "                  temp_u0r, temp_u0i, temp_u1r, temp_u1i = self.u([x[0],self.ymax]);\n",
        "                if self.gdim ==3:\n",
        "                  temp_u0r, temp_u0i, temp_u1r, temp_u1i = self.u([x[0], self.ymax, x[2]]);\n",
        "\n",
        "            if abs(x[1]-self.ymax) <= tol:\n",
        "                xln, yln, zln = 0, self.ymin-x[1], 0;\n",
        "                if (self.gdim==2):\n",
        "                  temp_u0r, temp_u0i, temp_u1r, temp_u1i = self.u([x[0], self.ymin]);\n",
        "                if (self.gdim==3):\n",
        "                  temp_u0r, temp_u0i, temp_u1r, temp_u1i = self.u([x[0], self.ymin, x[2]]);\n",
        "\n",
        "        if (self.pdir[2] == 1 and self.gdim==3): # z-direction\n",
        "            if abs(x[2]-self.zmin) <= tol:\n",
        "                xln, yln, zln = 0, 0, self.zmax-x[2];\n",
        "                temp_u0r, temp_u0i, temp_u1r, temp_u1i = self.u([x[0], x[1], self.zmax]);\n",
        "\n",
        "            if abs(x[2]-self.zmax) <= tol:\n",
        "                xln, yln, zln = 0, 0, self.zmin-x[2];\n",
        "                temp_u0r, temp_u0i, temp_u1r, temp_u1i = self.u([x[0], x[1], self.zmin]);\n",
        "\n",
        "        # exp(i*theta)= cos(theta)+i*sin(theta); \n",
        "        theta_ln = gnorm*(gdir.x()*xln + gdir.y()*yln + gdir.z()*zln)*ift;\n",
        "        value[0] = temp_u0r*cos(theta_ln)-temp_u0i*sin(theta_ln); # for Real part\n",
        "        value[1] = temp_u0r*sin(theta_ln)+temp_u0i*cos(theta_ln); # for Imag part\n",
        "\n",
        "        value[2] = temp_u1r*cos(theta_ln)-temp_u1i*sin(theta_ln); # for Real part\n",
        "        value[3] = temp_u1r*sin(theta_ln)+temp_u1i*cos(theta_ln); # for Imag part\n",
        "\n",
        "    def value_shape(self):\n",
        "        return (4,)"
      ],
      "execution_count": 0,
      "outputs": []
    },
    {
      "metadata": {
        "id": "r6GW2fwLE042",
        "colab_type": "text"
      },
      "cell_type": "markdown",
      "source": [
        "# Working on the mesh and submesh"
      ]
    },
    {
      "metadata": {
        "id": "ksCOgH6e6d8e",
        "colab_type": "code",
        "outputId": "c94573d6-77e6-4cad-954c-245758fb8a07",
        "colab": {
          "base_uri": "https://localhost:8080/",
          "height": 356
        }
      },
      "cell_type": "code",
      "source": [
        "#mesh_name = \"multi_layer_disk\"\n",
        "\n",
        "# mesh_name = \"CircleInSquare\"\n",
        "\n",
        "# mesh_name = \"SphereInBox\"\n",
        "\n",
        "mesh_name = \"multi_layered_cylinder\"\n",
        "\n",
        "!rm -rf *\n",
        "!wget --quiet https://raw.githubusercontent.com/van-dang/MRI-Cloud/mesh/GetPartitionMarkers.py\n",
        "!wget --quiet https://raw.githubusercontent.com/van-dang/MRI-Cloud/mesh/$mesh_name''.geo\n",
        "\n",
        "# !sed -i 's/5, 7.5, 10, 13/5, 7.5, 10/g' $mesh_name''.geo\n",
        "# !sed -i 's/lc = 1/lc = 0.5/g' $mesh_name''.geo\n",
        "\n",
        "!apt-get install gmsh\n",
        "\n",
        "!gmsh -3 $mesh_name''.geo -o $mesh_name''.msh\n",
        "!dolfin-convert $mesh_name''.msh $mesh_name''.xml\n",
        "\n",
        "mesh = Mesh(mesh_name+\".xml\");  \n",
        "\n",
        "\n",
        "clear_output()\n",
        "\n",
        "from GetPartitionMarkers import *\n",
        "\n",
        "partion_list=GetPartitionMarkers(mesh_name+\".msh\", \"pmk_\"+mesh_name+\".xml\")\n",
        "\n",
        "partition_marker = MeshFunction(\"size_t\", mesh, mesh.topology().dim())\n",
        "\n",
        "File(\"pmk_\"+mesh_name+\".xml\")>>partition_marker\n",
        "\n",
        "cmpt_mesh = SubMesh(mesh, partition_marker, 2)\n",
        "\n",
        "plot(cmpt_mesh)\n",
        "\n",
        "'''\n",
        "!rm -rf *\n",
        "!wget --quiet https://raw.githubusercontent.com/van-dang/MRI-Cloud/master/comri/meshes/multi_layer_torus.xml.zip\n",
        "!wget --quiet https://raw.githubusercontent.com/van-dang/MRI-Cloud/master/comri/meshes/multi_layer_torus_compt1.xml.zip\n",
        "!unzip -q multi_layer_torus.xml.zip\n",
        "!unzip -q multi_layer_torus_compt1.xml.zip\n",
        "!rm -rf *.zip *MACOSX\n",
        "\n",
        "# Load multilayered torus mesh and submesh\n",
        "mesh = Mesh(\"multi_layer_torus.xml\");  \n",
        "cmpt_mesh = Mesh('multi_layer_torus_compt1.xml')\n",
        "\n",
        "'''\n",
        "\n",
        "gdim = mesh.geometry().dim()\n",
        "\n",
        "xmin = mesh.coordinates()[:, 0].min()\n",
        "xmax = mesh.coordinates()[:, 0].max()\n",
        "\n",
        "ymin = mesh.coordinates()[:, 1].min()\n",
        "ymax = mesh.coordinates()[:, 1].max()\n",
        "\n",
        "zmin, zmax = 0, 0 \n",
        "if (gdim==3):\n",
        "  zmin = mesh.coordinates()[:, 2].min()\n",
        "  zmax = mesh.coordinates()[:, 2].max()\n",
        "\n",
        "V_DG = FunctionSpace(mesh, 'DG', 0)\n",
        "dofmap_DG = V_DG.dofmap()\n",
        "phase = Function(V_DG)\n",
        "cellmarker = MeshFunction(\"size_t\", mesh, mesh.topology().dim())\n",
        "\n",
        "for cell in cells(mesh):\n",
        "    p = cell.midpoint();\n",
        "    is_in_cmpt = cmpt_mesh.bounding_box_tree().compute_first_entity_collision(p)<4294967295\n",
        "    phase.vector()[dofmap_DG.cell_dofs(cell.index())] = is_in_cmpt;\n",
        "    cellmarker[cell.index()] = is_in_cmpt;\n",
        "\n",
        "\n",
        "# plot(phase, cmap=\"coolwarm\");\n",
        "mesh0 = SubMesh(mesh, cellmarker, 0)\n",
        "mesh1 = SubMesh(mesh, cellmarker, 1)\n",
        "File(\"Phase.pvd\")<<phase\n",
        "File(\"mesh0.xml\")<<mesh0\n",
        "File(\"mesh1.xml\")<<mesh1\n",
        "#plt.figure(2); plot(mesh0, title=\"Compartment 0\"); \n",
        "#plt.figure(3); plot(mesh1, title=\"Compartment 1\")  \n",
        "\n"
      ],
      "execution_count": 22,
      "outputs": [
        {
          "output_type": "stream",
          "text": [
            "Extracting cell markers from: multi_layered_cylinder.msh ...\n",
            "Extracted successfully on: 6000 elements\n",
            "Partition marker list: ['0', '1', '0', '1', '0', '1', '0', '1', '0', '1', '0', '1', '0', '1', '0', '1', '0', '1', '0', '1', '0', '1', '0', '1', '0', '1', '0', '1', '0', '1', '0', '1', '0', '1', '0', '1', '0', '1', '0', '1', '0', '1', '0', '1', '0', '1', '0', '1', '0', '1', '0', '1', '0', '1', '0', '1', '0', '1', '0', '1', '0', '1', '0', '1', '0', '1', '0', '1', '0', '1', '0', '1', '0', '1', '0', '1', '0', '1', '0', '1', '0', '1', '0', '1', '0', '1', '0', '1', '0', '1', '0', '1', '0', '1', '0', '1', '0', '1', '0', '1', '0', '1', '0', '1', '0', '1', '0', '1', '0', '1', '0', '1', '0', '1', '0', '1', '0', '1', '0', '1', '0', '1', '0', '1', '0', '1', '0', '1', '0', '1', '0', '1', '0', '1', '0', '1', '0', '1', '0', '1', '0', '1', '0', '1', '0', '1', '0', '1', '0', '1', '0', '1', '0', '1', '0', '1', '0', '1', '0', '1', '0', '1', '0', '1', '0', '1', '0', '1', '0', '1', '0', '1', '0', '1', '0', '1', '0', '1', '0', '1', '0', '1', '0', '1', '0', '1', '0', '1', '0', '1', '0', '1', '0', '1', '0', '1', '0', '1', '0', '1', '0', '1', '0', '1', '0', '1', '0', '1', '0', '1', '0', '1', '0', '1', '0', '1', '0', '1', '0', '1', '0', '1', '0', '1', '0', '1', '0', '1', '0', '1', '0', '1', '0', '1', '0', '1', '0', '1', '0', '1', '0', '1', '0', '1', '0', '1', '0', '1', '0', '1', '0', '1', '0', '1', '0', '1', '0', '1', '0', '1', '0', '1', '0', '1', '0', '1', '0', '1', '0', '1', '0', '1', '0', '1', '0', '1', '0', '1', '0', '1', '0', '1', '0', '1', '0', '1', '0', '1', '0', '1', '0', '1', '0', '1', '0', '1', '0', '1', '0', '1', '0', '1', '0', '1', '0', '1', '0', '1', '0', '1', '0', '1', '0', '1', '0', '1', '0', '1', '0', '1', '0', '1', '0', '1', '0', '1', '0', '1', '0', '1', '0', '1', '0', '1', '0', '1', '0', '1', '0', '1', '0', '1', '0', '1', '0', '1', '0', '1', '0', '1', '0', '1', '0', '1', '0', '1', '0', '1', '0', '1', '0', '1', '0', '1', '0', '1', '0', '1', '0', '1', '0', '1', '0', '1', '0', '1', '0', '1', '0', '1', '0', '1', '0', '1', '0', '1', '0', '1', '0', '1', '0', '1', '0', '1', '0', '1', '0', '1', '0', '1', '0', '1', '0', '1', '0', '1', '0', '1', '0', '1', '0', '1', '0', '1', '0', '1', '0', '1', '0', '1', '0', '1', '0', '1', '0', '1', '0', '1', '0', '1', '0', '1', '0', '1', '0', '1', '0', '1', '0', '1', '0', '1', '0', '1', '0', '1', '0', '1', '0', '1', '0', '1', '0', '1', '0', '1', '0', '1', '0', '1', '0', '1', '0', '1', '0', '1', '0', '1', '0', '1', '0', '1', '0', '1', '0', '1', '0', '1', '0', '1', '0', '1', '0', '1', '0', '1', '0', '1', '0', '1', '0', '1', '0', '1', '0', '1', '0', '1', '0', '1', '0', '1', '0', '1', '0', '1', '0', '1', '0', '1', '0', '1', '0', '1', '0', '1', '0', '1', '0', '1', '0', '1', '0', '1', '0', '1', '0', '1', '0', '1', '0', '1', '0', '1', '0', '1', '0', '1', '0', '1', '0', '1', '0', '1', '0', '1', '0', '1', '0', '1', '0', '1', '0', '1', '0', '1', '0', '1', '0', '1', '0', '1', '0', '1', '0', '1', '0', '1', '0', '1', '0', '1', '0', '1', '0', '1', '0', '1', '0', '1', '0', '1', '0', '1', '0', '1', '0', '1', '0', '1', '0', '1', '0', '1', '0', '1', '0', '1', '0', '1', '0', '1', '0', '1', '0', '1', '0', '1', '0', '1', '0', '1', '0', '1', '0', '1', '0', '1', '0', '1', '0', '1', '0', '1', '0', '1', '0', '1', '0', '1', '0', '1', '0', '1', '0', '1', '0', '1', '0', '1', '0', '1', '0', '1', '0', '1', '0', '1', '0', '1', '0', '1', '0', '1', '0', '1', '0', '1', '0', '1', '0', '1', '0', '1', '0', '1', '0', '1', '0', '1', '0', '1', '0', '1', '0', '1', '0', '1', '0', '1', '0', '1', '0', '1', '0', '1', '0', '1', '0', '1', '0', '1', '0', '1', '0', '1', '0', '1', '0', '1', '0', '1', '0', '1', '0', '1', '0', '1', '0', '1', '0', '1', '0', '1', '0', '1', '0', '1', '0', '1', '0', '1', '0', '1', '0', '1', '0', '1', '0', '1', '0', '1', '0', '1', '0', '1', '0', '1', '0', '1', '0', '1', '0', '1', '0', '1', '0', '1', '0', '1', '0', '1', '0', '1', '0', '1', '0', '1', '0', '1', '0', '1', '0', '1', '0', '1', '0', '1', '0', '1', '0', '1', '0', '1', '0', '1', '0', '1', '0', '1', '0', '1', '0', '1', '0', '1', '0', '1', '0', '1', '0', '1', '0', '1', '0', '1', '0', '1', '0', '1', '0', '1', '0', '1', '0', '1', '0', '1', '0', '1', '0', '1', '0', '1', '0', '1', '0', '1', '0', '1', '0', '1', '0', '1', '0', '1', '0', '1', '0', '1', '0', '1', '0', '1', '0', '1', '0', '1', '0', '1', '0', '1', '0', '1', '0', '1', '0', '1', '0', '1', '0', '1', '0', '1', '0', '1', '0', '1', '0', '1', '0', '1', '0', '1', '0', '1', '0', '1', '0', '1', '0', '1', '0', '1', '0', '1', '0', '1', '0', '1', '0', '1', '0', '1', '0', '1', '0', '1', '0', '1', '0', '1', '0', '1', '0', '1', '0', '1', '0', '1', '0', '1', '0', '1', '0', '1', '0', '1', '0', '1', '0', '1', '0', '1', '0', '1', '0', '1', '0', '1', '0', '1', '0', '1', '0', '1', '0', '1', '0', '1', '0', '1', '0', '1', '0', '1', '0', '1', '0', '1', '0', '1', '0', '1', '0', '1', '0', '1', '0', '1', '0', '1', '0', '1', '0', '1', '0', '1', '0', '1', '0', '1', '0', '1', '0', '1', '0', '1', '0', '1', '0', '1', '0', '1', '0', '1', '0', '1', '0', '1', '0', '1', '0', '1', '0', '1', '0', '1', '0', '1', '0', '1', '0', '1', '0', '1', '0', '1', '0', '1', '0', '1', '0', '1', '0', '1', '0', '1', '0', '1', '0', '1', '0', '1', '0', '1', '0', '1', '0', '1', '0', '1', '0', '1', '0', '1', '0', '1', '0', '1', '0', '1', '0', '1', '0', '1', '0', '1', '0', '1', '0', '1', '0', '1', '0', '1', '0', '1', '0', '1', '0', '1', '0', '1', '0', '1', '0', '1', '0', '1', '0', '1', '0', '1', '0', '1', '0', '1', '0', '1', '0', '1', '0', '1', '0', '1', '0', '1', '0', '1', '0', '1', '0', '1', '0', '1', '0', '1', '0', '1', '0', '1', '0', '1', '0', '1', '0', '1', '0', '1', '0', '1', '0', '1', '0', '1', '0', '1', '0', '1', '0', '1', '0', '1', '0', '1', '0', '1', '0', '1', '0', '1', '0', '1', '0', '1', '0', '1', '0', '1', '0', '1', '0', '1', '0', '1', '0', '1', '0', '1', '0', '1', '0', '1', '0', '1', '0', '1', '0', '1', '0', '1', '0', '1', '0', '1', '0', '1', '0', '1', '0', '1', '0', '1', '0', '1', '0', '1', '0', '1', '0', '1', '0', '1', '0', '1', '0', '1', '0', '1', '0', '1', '0', '1', '0', '1', '0', '1', '0', '1', '0', '1', '0', '1', '0', '1', '0', '1', '0', '1', '0', '1', '0', '1', '0', '1', '0', '1', '0', '1', '0', '1', '0', '1', '0', '1', '0', '1', '0', '1', '0', '1', '0', '1', '0', '1', '0', '1', '0', '1', '0', '1', '0', '1', '0', '1', '0', '1', '0', '1', '0', '1', '0', '1', '0', '1', '0', '1', '0', '1', '0', '1', '0', '1', '0', '1', '0', '1', '0', '1', '0', '1', '0', '1', '0', '1', '0', '1', '0', '1', '0', '1', '0', '1', '0', '1', '0', '1', '0', '1', '0', '1', '0', '1', '0', '1', '0', '1', '0', '1', '0', '1', '0', '1', '0', '1', '0', '1', '0', '1', '0', '1', '0', '1', '0', '1', '0', '1', '0', '1', '0', '1', '0', '1', '0', '1', '0', '1', '0', '1', '0', '1', '0', '1', '0', '1', '0', '1', '0', '1', '0', '1', '0', '1', '0', '1', '0', '1', '0', '1', '0', '1', '0', '1', '0', '1', '0', '1', '0', '1', '0', '1', '0', '1', '0', '1', '0', '1', '0', '1', '0', '1', '0', '1', '0', '1', '0', '1', '0', '1', '0', '1', '0', '1', '0', '1', '0', '1', '0', '1', '0', '1', '0', '1', '0', '1', '0', '1', '0', '1', '0', '1', '0', '1', '0', '1', '0', '1', '0', '1', '0', '1', '0', '1', '0', '1', '0', '1', '0', '1', '0', '1', '0', '1', '0', '1', '0', '1', '0', '1', '0', '1', '0', '1', '0', '1', '0', '1', '0', '1', '0', '1', '0', '1', '0', '1', '0', '1', '0', '1', '0', '1', '0', '1', '0', '1', '0', '1', '0', '1', '0', '1', '0', '1', '0', '1', '0', '1', '0', '1', '0', '1', '0', '1', '0', '1', '0', '1', '0', '1', '0', '1', '0', '1', '0', '1', '0', '1', '0', '1', '0', '1', '0', '1', '0', '1', '0', '1', '0', '1', '0', '1', '0', '1', '0', '1', '0', '1', '0', '1', '0', '1', '0', '1', '0', '1', '0', '1', '0', '1', '0', '1', '0', '1', '0', '1', '0', '1', '0', '1', '0', '1', '0', '1', '0', '1', '0', '1', '0', '1', '0', '1', '0', '1', '0', '1', '0', '1', '0', '1', '0', '1', '0', '1', '0', '1', '0', '1', '0', '1', '0', '1', '0', '1', '0', '1', '0', '1', '0', '1', '0', '1', '0', '1', '0', '1', '0', '1', '0', '1', '0', '1', '0', '1', '0', '1', '0', '1', '0', '1', '0', '1', '0', '1', '0', '1', '0', '1', '0', '1', '0', '1', '0', '1', '0', '1', '0', '1', '0', '1', '0', '1', '0', '1', '0', '1', '0', '1', '0', '1', '0', '1', '0', '1', '0', '1', '0', '1', '0', '1', '0', '1', '0', '1', '0', '1', '0', '1', '0', '1', '0', '1', '0', '1', '0', '1', '0', '1', '0', '1', '0', '1', '0', '1', '0', '1', '0', '1', '0', '1', '0', '1', '0', '1', '0', '1', '0', '1', '0', '1', '0', '1', '0', '1', '0', '1', '0', '1', '0', '1', '0', '1', '0', '1', '0', '1', '0', '1', '0', '1', '0', '1', '0', '1', '0', '1', '0', '1', '0', '1', '0', '1', '0', '1', '0', '1', '0', '1', '0', '1', '0', '1', '0', '1', '0', '1', '0', '1', '0', '1', '0', '1', '0', '1', '0', '1', '0', '1', '0', '1', '0', '1', '0', '1', '0', '1', '0', '1', '0', '1', '0', '1', '0', '1', '0', '1', '0', '1', '0', '1', '0', '1', '0', '1', '0', '1', '0', '1', '0', '1', '0', '1', '0', '1', '0', '1', '0', '1', '0', '1', '0', '1', '0', '1', '0', '1', '0', '1', '0', '1', '0', '1', '0', '1', '0', '1', '0', '1', '0', '1', '0', '1', '0', '1', '0', '1', '0', '1', '0', '1', '0', '1', '0', '1', '0', '1', '0', '1', '0', '1', '0', '1', '0', '1', '0', '1', '0', '1', '0', '1', '0', '1', '0', '1', '0', '1', '0', '1', '0', '1', '0', '1', '0', '1', '0', '1', '0', '1', '0', '1', '0', '1', '0', '1', '0', '1', '0', '1', '0', '1', '0', '1', '0', '1', '0', '1', '0', '1', '0', '1', '0', '1', '0', '1', '0', '1', '0', '1', '0', '1', '0', '1', '0', '1', '0', '1', '0', '1', '0', '1', '0', '1', '0', '1', '0', '1', '0', '1', '0', '1', '0', '1', '0', '1', '0', '1', '0', '1', '0', '1', '0', '1', '0', '1', '0', '1', '0', '1', '0', '1', '0', '1', '0', '1', '0', '1', '0', '1', '0', '1', '0', '1', '0', '1', '0', '1', '0', '1', '0', '1', '0', '1', '0', '1', '0', '1', '0', '1', '0', '1', '0', '1', '0', '1', '0', '1', '0', '1', '0', '1', '0', '1', '0', '1', '0', '1', '0', '1', '0', '1', '0', '1', '0', '1', '0', '1', '0', '1', '0', '1', '0', '1', '0', '1', '0', '1', '0', '1', '0', '1', '0', '1', '0', '1', '0', '1', '0', '1', '0', '1', '0', '1', '0', '1', '0', '1', '0', '1', '0', '1', '0', '1', '0', '1', '0', '1', '0', '1', '0', '1', '0', '1', '0', '1', '0', '1', '0', '1', '0', '1', '0', '1', '0', '1', '0', '1', '0', '1', '0', '1', '0', '1', '0', '1', '0', '1', '0', '1', '0', '1', '0', '1', '0', '1', '0', '1', '0', '1', '0', '1', '0', '1', '0', '1', '0', '1', '0', '1', '0', '1', '0', '1', '0', '1', '0', '1', '0', '1', '0', '1', '0', '1', '0', '1', '0', '1', '0', '1', '0', '1', '0', '1', '0', '1', '0', '1', '0', '1', '0', '1', '0', '1', '0', '1', '0', '1', '0', '1', '0', '1', '0', '1', '0', '1', '0', '1', '0', '1', '0', '1', '0', '1', '0', '1', '0', '1', '0', '1', '0', '1', '0', '1', '0', '1', '0', '1', '0', '1', '0', '1', '0', '1', '0', '1', '0', '1', '0', '1', '0', '1', '0', '1', '0', '1', '0', '1', '0', '1', '0', '1', '0', '1', '0', '1', '0', '1', '0', '1', '0', '1', '0', '1', '0', '1', '0', '1', '0', '1', '0', '1', '0', '1', '0', '1', '0', '1', '0', '1', '0', '1', '0', '1', '0', '1', '0', '1', '0', '1', '0', '1', '0', '1', '0', '1', '0', '1', '0', '1', '0', '1', '0', '1', '0', '1', '0', '1', '0', '1', '0', '1', '0', '1', '0', '1', '0', '1', '0', '1', '0', '1', '0', '1', '0', '1', '0', '1', '0', '1', '0', '1', '0', '1', '0', '1', '0', '1', '0', '1', '0', '1', '0', '1', '0', '1', '0', '1', '0', '1', '0', '1', '0', '1', '0', '1', '0', '1', '0', '1', '0', '1', '0', '1', '0', '1', '0', '1', '0', '1', '0', '1', '0', '1', '0', '1', '0', '1', '0', '1', '0', '1', '0', '1', '0', '1', '0', '1', '0', '1', '0', '1', '0', '1', '0', '1', '0', '1', '0', '1', '0', '1', '0', '1', '0', '1', '0', '1', '0', '1', '0', '1', '0', '1', '0', '1', '0', '1', '0', '1', '0', '1', '0', '1', '0', '1', '0', '1', '0', '1', '0', '1', '0', '1', '0', '1', '0', '1', '0', '1', '0', '1', '0', '1', '0', '1', '0', '1', '0', '1', '0', '1', '0', '1', '0', '1', '0', '1', '0', '1', '0', '1', '0', '1', '0', '1', '0', '1', '0', '1', '0', '1', '0', '1', '0', '1', '0', '1', '0', '1', '0', '1', '0', '1', '0', '1', '0', '1', '0', '1', '0', '1', '0', '1', '0', '1', '0', '1', '0', '1', '0', '1', '0', '1', '0', '1', '0', '1', '0', '1', '0', '1', '0', '1', '0', '1', '0', '1', '0', '1', '0', '1', '0', '1', '0', '1', '0', '1', '0', '1', '0', '1', '0', '1', '0', '1', '0', '1', '0', '1', '0', '1', '0', '1', '0', '1', '0', '1', '0', '1', '0', '1', '0', '1', '0', '1', '0', '1', '0', '1', '0', '1', '0', '1', '0', '1', '0', '1', '0', '1', '0', '1', '0', '1', '0', '1', '0', '1', '0', '1', '0', '1', '0', '1', '0', '1', '0', '1', '0', '1', '0', '1', '0', '1', '0', '1', '0', '1', '0', '1', '0', '1', '0', '1', '0', '1', '0', '1', '0', '1', '0', '1', '0', '1', '0', '1', '0', '1', '0', '1', '0', '1', '0', '1', '0', '1', '0', '1', '0', '1', '0', '1', '0', '1', '0', '1', '0', '1', '0', '1', '0', '1', '0', '1', '0', '1', '0', '1', '0', '1', '0', '1', '0', '1', '0', '1', '0', '1', '0', '1', '0', '1', '0', '1', '0', '1', '0', '1', '0', '1', '0', '1', '0', '1', '0', '1', '0', '1', '0', '1', '0', '1', '0', '1', '0', '1', '0', '1', '0', '1', '0', '1', '0', '1', '0', '1', '0', '1', '0', '1', '0', '1', '0', '1', '0', '1', '0', '1', '0', '1', '0', '1', '0', '1', '0', '1', '0', '1', '0', '1', '0', '1', '0', '1', '0', '1', '0', '1', '0', '1', '0', '1', '0', '1', '0', '1', '0', '1', '0', '1', '0', '1', '0', '1', '0', '1', '0', '1', '0', '1', '0', '1', '0', '1', '0', '1', '0', '1', '0', '1', '0', '1', '0', '1', '0', '1', '0', '1', '0', '1', '0', '1', '0', '1', '0', '1', '0', '1', '0', '1', '0', '1', '0', '1', '0', '1', '0', '1', '0', '1', '0', '1', '0', '1', '0', '1', '0', '1', '0', '1', '0', '1', '0', '1', '0', '1', '0', '1', '0', '1', '0', '1', '0', '1', '0', '1', '0', '1', '0', '1', '0', '1', '0', '1', '0', '1', '0', '1', '0', '1', '0', '1', '0', '1', '0', '1', '0', '1', '0', '1', '0', '1', '0', '1', '0', '1', '0', '1', '0', '1', '0', '1', '0', '1', '0', '1', '0', '1', '0', '1', '0', '1', '0', '1', '0', '1', '0', '1', '0', '1', '0', '1', '0', '1', '0', '1', '0', '1', '0', '1', '0', '1', '0', '1', '0', '1', '0', '1', '0', '1', '0', '1', '0', '1', '0', '1', '0', '1', '0', '1', '0', '1', '0', '1', '0', '1', '0', '1', '0', '1', '0', '1', '0', '1', '0', '1', '0', '1', '0', '1', '0', '1', '0', '1', '0', '1', '0', '1', '0', '1', '0', '1', '0', '1', '0', '1', '0', '1', '0', '1', '0', '1', '0', '1', '0', '1', '0', '1', '0', '1', '0', '1', '0', '1', '0', '1', '0', '1', '0', '1', '0', '1', '0', '1', '0', '1', '0', '1', '0', '1', '0', '1', '0', '1', '0', '1', '0', '1', '0', '1', '0', '1', '0', '1', '0', '1', '0', '1', '0', '1', '0', '1', '0', '1', '0', '1', '0', '1', '0', '1', '0', '1', '0', '1', '0', '1', '0', '1', '0', '1', '0', '1', '0', '1', '0', '1', '0', '1', '0', '1', '0', '1', '0', '1', '0', '1', '0', '1', '0', '1', '0', '1', '0', '1', '0', '1', '0', '1', '0', '1', '0', '1', '0', '1', '0', '1', '0', '1', '0', '1', '0', '1', '0', '1', '0', '1', '0', '1', '0', '1', '0', '1', '0', '1', '0', '1', '0', '1', '0', '1', '0', '1', '0', '1', '0', '1', '0', '1', '0', '1', '0', '1', '0', '1', '0', '1', '0', '1', '0', '1', '0', '1', '0', '1', '0', '1', '0', '1', '0', '1', '0', '1', '0', '1', '0', '1', '0', '1', '0', '1', '0', '1', '0', '1', '0', '1', '0', '1', '0', '1', '0', '1', '0', '1', '0', '1', '0', '1', '0', '1', '0', '1', '0', '1', '0', '1', '0', '1', '0', '1', '0', '1', '0', '1', '0', '1', '0', '1', '0', '1', '0', '1', '0', '1', '0', '1', '0', '1', '0', '1', '0', '1', '0', '1', '0', '1', '0', '1', '0', '1', '0', '1', '0', '1', '0', '1', '0', '1', '0', '1', '0', '1', '0', '1', '0', '1', '0', '1', '0', '1', '0', '1', '0', '1', '0', '1', '0', '1', '0', '1', '0', '1', '0', '1', '0', '1', '0', '1', '0', '1', '0', '1', '0', '1', '0', '1', '0', '1', '0', '1', '0', '1', '0', '1', '0', '1', '0', '1', '0', '1', '0', '1', '0', '1', '0', '1', '0', '1', '0', '1', '0', '1', '0', '1', '0', '1', '0', '1', '0', '1', '0', '1', '0', '1', '0', '1', '0', '1', '0', '1', '0', '1', '0', '1', '0', '1', '0', '1', '0', '1', '0', '1', '0', '1', '0', '1', '0', '1', '0', '1', '0', '1', '0', '1', '0', '1', '0', '1', '0', '1', '0', '1', '0', '1', '0', '1', '0', '1', '0', '1', '0', '1', '0', '1', '0', '1', '0', '1', '0', '1', '0', '1', '0', '1', '0', '1', '0', '1', '0', '1', '0', '1', '0', '1', '0', '1', '0', '1', '0', '1', '0', '1', '0', '1', '0', '1', '0', '1', '0', '1', '0', '1', '0', '1', '0', '1', '0', '1', '0', '1', '0', '1', '0', '1', '0', '1', '0', '1', '0', '1', '0', '1', '0', '1', '0', '1', '0', '1', '0', '1', '0', '1', '0', '1', '0', '1', '0', '1', '0', '1', '0', '1', '0', '1', '0', '1', '0', '1', '0', '1', '0', '1', '0', '1', '0', '1', '0', '1', '0', '1', '0', '1', '0', '1', '0', '1', '0', '1', '0', '1', '0', '1', '0', '1', '0', '1', '0', '1', '0', '1', '0', '1', '0', '1', '0', '1', '0', '1', '0', '1', '0', '1', '0', '1', '0', '1', '0', '1', '0', '1', '0', '1', '0', '1', '0', '1', '0', '1', '0', '1', '0', '1', '0', '1', '0', '1', '0', '1', '0', '1', '0', '1', '0', '1', '0', '1', '0', '1', '0', '1', '0', '1', '0', '1', '0', '1', '0', '1', '0', '1', '0', '1', '0', '1', '0', '1', '0', '1', '0', '1', '0', '1', '0', '1', '0', '1', '0', '1', '0', '1', '0', '1', '0', '1', '0', '1', '0', '1', '0', '1', '0', '1', '0', '1', '0', '1', '0', '1', '0', '1', '0', '1', '0', '1', '0', '1', '0', '1', '0', '1', '0', '1', '0', '1', '0', '1', '0', '1', '0', '1', '0', '1', '0', '1', '0', '1', '0', '1', '0', '1', '0', '1', '0', '1', '0', '1', '0', '1', '0', '1', '0', '1', '0', '1', '0', '1', '0', '1', '0', '1', '0', '1', '0', '1', '0', '1', '0', '1', '0', '1', '0', '1', '0', '1', '0', '1', '0', '1', '0', '1', '0', '1', '0', '1', '0', '1', '0', '1', '0', '1', '0', '1', '0', '1', '0', '1', '0', '1', '0', '1', '0', '1', '0', '1', '0', '1', '0', '1', '0', '1', '0', '1', '0', '1', '0', '1', '0', '1', '0', '1', '0', '1', '0', '1', '0', '1', '0', '1', '0', '1', '0', '1', '0', '1', '0', '1', '0', '1', '0', '1', '0', '1', '0', '1', '0', '1', '0', '1', '0', '1', '0', '1', '0', '1', '0', '1', '0', '1', '0', '1', '0', '1', '0', '1', '0', '1', '0', '1', '0', '1', '0', '1', '0', '1', '0', '1', '0', '1', '0', '1', '0', '1', '0', '1', '0', '1', '0', '1', '0', '1', '0', '1', '0', '1', '0', '1', '0', '1', '0', '1', '0', '1', '0', '1', '0', '1', '0', '1', '0', '1', '0', '1', '0', '1', '0', '1', '0', '1', '0', '1', '0', '1', '0', '1', '0', '1', '0', '1', '0', '1', '0', '1', '0', '1', '0', '1', '0', '1', '0', '1', '0', '1', '0', '1', '0', '1', '0', '1', '0', '1', '0', '1', '0', '1', '0', '1', '0', '1', '0', '1', '0', '1', '0', '1', '0', '1', '0', '1', '0', '1', '0', '1', '0', '1', '0', '1', '0', '1', '0', '1', '0', '1', '0', '1', '0', '1', '0', '1', '0', '1', '0', '1', '0', '1', '0', '1', '0', '1', '0', '1', '0', '1', '0', '1', '0', '1', '0', '1', '0', '1', '0', '1', '0', '1', '0', '1', '0', '1', '0', '1', '0', '1', '0', '1', '0', '1', '0', '1', '0', '1', '0', '1', '0', '1', '0', '1', '0', '1', '0', '1', '0', '1', '0', '1', '0', '1', '0', '1', '0', '1', '0', '1', '0', '1', '0', '1', '0', '1', '0', '1', '0', '1', '0', '1', '0', '1', '0', '1', '0', '1', '0', '1', '0', '1', '0', '1', '0', '1', '0', '1', '0', '1', '0', '1', '0', '1', '0', '1', '0', '1', '0', '1', '0', '1', '0', '1', '0', '1', '0', '1', '0', '1', '0', '1', '0', '1', '0', '1', '0', '1', '0', '1', '0', '1', '0', '1', '0', '1', '0', '1', '0', '1', '0', '1', '0', '1', '0', '1', '0', '1', '0', '1', '0', '1', '0', '1', '0', '1', '0', '1', '0', '1', '2']\n",
            "Wrote to: pmk_multi_layered_cylinder.xml\n"
          ],
          "name": "stdout"
        },
        {
          "output_type": "display_data",
          "data": {
            "image/png": "[encoded data removed]",
            "text/plain": [
              "<Figure size 432x288 with 1 Axes>"
            ]
          },
          "metadata": {
            "tags": []
          }
        }
      ]
    },
    {
      "metadata": {
        "id": "aFEvif9PF2yH",
        "colab_type": "text"
      },
      "cell_type": "markdown",
      "source": [
        "# Solve the Bloch-Torrey equation"
      ]
    },
    {
      "metadata": {
        "id": "DYZ5SWlw69tQ",
        "colab_type": "code",
        "colab": {
          "base_uri": "https://localhost:8080/",
          "height": 1323
        },
        "outputId": "6aa23297-a0dc-4136-b36f-4d7ceb85c541"
      },
      "cell_type": "code",
      "source": [
        "#################################################################################\n",
        "#########################  Pre-defined parameters ###############################\n",
        "bvalue = 1000;                      # bvalue\n",
        "delta, Delta = 10000, 10000         # Time sequence\n",
        "g0, g1, g2 = 0, 1, 0;               # gradient direction\n",
        "PeriodicDir = [0, 0, 0];            # Direction of the periodicity\n",
        "theta = 0.5;                        # theta=0.5: midpoint method\n",
        "K = 3e-3;                           # Diffusion coefficient\n",
        "kappa = 1e2                         # Permeability\n",
        "nskip = 5;                          # Output frequency (for visualization only)\n",
        "porder = 1;                         # order of basis functions of FEM\n",
        "Nsteps = 200;                       # number of time intervals\n",
        "nperiod = 0;\n",
        "stype='PGSE'                        # Sequence type\n",
        "t, T = 0, Delta+delta;\n",
        "k = 10; # Time-step size\n",
        "#################################################################################\n",
        "#################################################################################\n",
        "    \n",
        "gdir=Gdir(g0, g1, g2, mesh)\n",
        "gnorm = b2g(bvalue, delta, Delta, nperiod, stype)\n",
        "\n",
        "#################################\n",
        "## output files \n",
        "file_u0r = File(\"results/u0r.pvd\")\n",
        "file_u0i = File(\"results/u0i.pvd\")\n",
        "file_u1r = File(\"results/u1r.pvd\")\n",
        "file_u1i = File(\"results/u1i.pvd\")\n",
        "#################################\n",
        "\n",
        "#################################################################################\n",
        "# FUNCTION SPACES\n",
        "Ve, V, W = MyFunctionSpaces(mesh, porder)\n",
        "v = TestFunction(W)\n",
        "v0r, v0i, v1r, v1i = v[0], v[1], v[2], v[3]\n",
        "\n",
        "w = TrialFunction(W);\n",
        "u0r, u0i, u1r, u1i = w[0], w[1], w[2], w[3]\n",
        "#################################################################################\n",
        "\n",
        "#################################################################################\n",
        "# Initial conditions\n",
        "one = Function(V);\n",
        "one.vector()[:] = 1.0;\n",
        "u_0 = Function(W);\n",
        "assign(u_0.sub(0), one)\n",
        "assign(u_0.sub(2), one)\n",
        "u0r_0, u0i_0, u1r_0, u1i_0 = u_0[0], u_0[1], u_0[2], u_0[3]\n",
        "#################################################################################\n",
        "\n",
        "stepcounter = 0;\n",
        "\n",
        "hmin = mesh.hmin();\n",
        "\n",
        "\n",
        "pperiodic0 = PseudoPeriodic0(degree=1)\n",
        "\n",
        "h = 0.5*CellDiameter(mesh);\n",
        "\n",
        "if gdim==2:\n",
        "    kappa_e = K/h*Expression(\"(x[0]<xmin+eps || x[0]>xmax-eps)*p0+(x[1]<ymin+eps || x[1]>ymax-eps)*p1\", \n",
        "                         xmin=xmin, xmax=xmax, ymin=ymin, ymax=ymax, \n",
        "                         eps=1e-10, p0 = PeriodicDir[0], p1 = PeriodicDir[1], domain=mesh, degree=1);\n",
        "if gdim==3:\n",
        "    kappa_e = K/h*Expression(\"(x[0]<xmin+eps || x[0]>xmax-eps)*p0+(x[1]<ymin+eps || x[1]>ymax-eps)*p1+(x[2]<zmin+eps || x[2]>zmax-eps)*p2\", \n",
        "                         xmin=xmin, xmax=xmax, ymin=ymin, ymax=ymax, zmin=zmin, zmax=zmax, \n",
        "                         eps=1e-10, p0 = PeriodicDir[0], p1 = PeriodicDir[1], p2 = PeriodicDir[2], domain=mesh, degree=1);\n",
        "\n",
        "M, J, S, I, II = NoTimeMatrices(u0r, u0i, v0r, v0i, u1r, u1i, v1r, v1i, K, gdir, kappa, kappa_e, theta, phase);\n",
        "\n",
        "\n",
        "ft_prev = time_profile(t, delta, Delta, stype);\n",
        "\n",
        "start_time = time.time()\n",
        "\n",
        "solver = PETScLUSolver(\"mumps\")\n",
        "\n",
        "u = Function(W)\n",
        "\n",
        "u.vector()[:] = u_0.vector()[:];\n",
        "\n",
        "while t < T + k: # Time-stepping loop\n",
        "    if stepcounter % nskip == 0:\n",
        "        print('t: %f '%t, 'T: %.1f'%T, 'dt: %.1f'%k,'gnorm: %e'%gnorm,'Completed %.2f%%'%(float(t)/float(T+k)*100.0));\n",
        "\n",
        "    ft = time_profile(t, delta, Delta, stype);\n",
        "    ift = itime_profile(t, delta, Delta, stype);\n",
        "\n",
        "    L = ThetaMethod_L(ft_prev, gnorm, gdir, u0r, u0i, v0r, v0i, u1r, u1i, v1r, v1i, u0r_0, u0i_0, u1r_0, u1i_0,k, kappa, K, theta, phase);\n",
        "    A = ThetaMethod_A(ft, gnorm, theta, k, M, J, S, I);\n",
        "    \n",
        "    if (PeriodicDir[0]+PeriodicDir[1]+PeriodicDir[2])>0:\n",
        "      # Start applying the weak pseudo-periodic BC\n",
        "      A += theta*II;\n",
        "      pperiodic0.set_values(u, xmin, ymin, zmin, xmax, ymax, zmax, ift, gdir, PeriodicDir, gdim);\n",
        "      u0r_bc, u0i_bc, u1r_bc, u1i_bc = pperiodic0[0], pperiodic0[1], pperiodic0[2], pperiodic0[3]\n",
        "      L_bc =  (1-theta)*kappa_e*(u1r_bc*v1r   + u1i_bc*v1i)*    phase*ds; # u1r_0, u1i_0                                                          \n",
        "      L_bc += (1-theta)*kappa_e*(u0r_bc*v0r   + u0i_bc*v0i)*(1-phase)*ds; # u0r_0, u0i_0                                                          \n",
        "      L += L_bc;\n",
        "      # End of applying the weak pseudo-periodic BC\n",
        "    \n",
        "    b = assemble(L);\n",
        "\n",
        "    solver.solve(A,u.vector(),b);\n",
        "    \n",
        "    u0r_0, u0i_0, u1r_0, u1i_0 = split(u)\n",
        "    \n",
        "    SubMeshSave(u0r_0, u0i_0, file_u0r, file_u0i, mesh0, nskip, stepcounter, dolfin_version);\n",
        "    SubMeshSave(u1r_0, u1i_0, file_u1r, file_u1i, mesh1, nskip, stepcounter, dolfin_version);\n",
        "    \n",
        "    ft_prev = ft;\n",
        "    \n",
        "    t += k;\n",
        "    stepcounter += 1;\n",
        "    \n",
        "elapsed_time = time.time() - start_time\n",
        "print(\"Elapsed time: %f seconds\"%elapsed_time)\n",
        "\n",
        "signal0 = assemble(((1-phase)*u0r_0)*dx)/assemble((1-phase)*one*dx);\n",
        "signal1 = assemble((phase*u1r_0)*dx)/assemble(phase*one*dx);\n",
        "signal = assemble((phase*u1r_0+(1-phase)*u0r_0)*dx)/assemble(one*dx);\n",
        "\n",
        "print('b:',bvalue, 'Signal: %.3e'%signal,'kappa: %.3e'%kappa,', dt: ',k,', hmin: ',hmin, ', Free signal: %.3e'%(exp(-bvalue*K)))\n",
        "\n",
        "print('Signal on each compartment')\n",
        "print('Signal0: %.3e'%signal0)\n",
        "print('Signal1: %.3e'%signal1)\n",
        "\n",
        "V0 = FunctionSpace(mesh0,Ve);\n",
        "V1 = FunctionSpace(mesh1,Ve);\n",
        "u0r_0p = project(u0r_0,V0)\n",
        "u1r_0p = project(u1r_0,V1)\n",
        "plot(u0r_0p, cmap=\"coolwarm\")\n",
        "plot(u1r_0p, cmap=\"coolwarm\")"
      ],
      "execution_count": 8,
      "outputs": [
        {
          "output_type": "stream",
          "text": [
            "  Calling FFC just-in-time (JIT) compiler, this may take some time.\n",
            "  Calling FFC just-in-time (JIT) compiler, this may take some time.\n"
          ],
          "name": "stdout"
        },
        {
          "output_type": "stream",
          "text": [
            "/usr/lib/python3/dist-packages/ffc/uflacs/analysis/dependencies.py:61: FutureWarning: Using a non-tuple sequence for multidimensional indexing is deprecated; use `arr[tuple(seq)]` instead of `arr[seq]`. In the future this will be interpreted as an array index, `arr[np.array(seq)]`, which will result either in an error or a different result.\n",
            "  active[targets] = 1\n"
          ],
          "name": "stderr"
        },
        {
          "output_type": "stream",
          "text": [
            "  Calling FFC just-in-time (JIT) compiler, this may take some time.\n",
            "  Calling FFC just-in-time (JIT) compiler, this may take some time.\n",
            "  Calling FFC just-in-time (JIT) compiler, this may take some time.\n",
            "  Calling FFC just-in-time (JIT) compiler, this may take some time.\n",
            "  Calling FFC just-in-time (JIT) compiler, this may take some time.\n",
            "  Calling FFC just-in-time (JIT) compiler, this may take some time.\n"
          ],
          "name": "stdout"
        },
        {
          "output_type": "stream",
          "text": [
            "/usr/lib/python3/dist-packages/ffc/uflacs/analysis/dependencies.py:61: FutureWarning: Using a non-tuple sequence for multidimensional indexing is deprecated; use `arr[tuple(seq)]` instead of `arr[seq]`. In the future this will be interpreted as an array index, `arr[np.array(seq)]`, which will result either in an error or a different result.\n",
            "  active[targets] = 1\n"
          ],
          "name": "stderr"
        },
        {
          "output_type": "stream",
          "text": [
            "  Calling FFC just-in-time (JIT) compiler, this may take some time.\n"
          ],
          "name": "stdout"
        },
        {
          "output_type": "stream",
          "text": [
            "/usr/lib/python3/dist-packages/ffc/uflacs/analysis/dependencies.py:61: FutureWarning: Using a non-tuple sequence for multidimensional indexing is deprecated; use `arr[tuple(seq)]` instead of `arr[seq]`. In the future this will be interpreted as an array index, `arr[np.array(seq)]`, which will result either in an error or a different result.\n",
            "  active[targets] = 1\n"
          ],
          "name": "stderr"
        },
        {
          "output_type": "stream",
          "text": [
            "  Calling FFC just-in-time (JIT) compiler, this may take some time.\n"
          ],
          "name": "stdout"
        },
        {
          "output_type": "stream",
          "text": [
            "/usr/lib/python3/dist-packages/ffc/uflacs/analysis/dependencies.py:61: FutureWarning: Using a non-tuple sequence for multidimensional indexing is deprecated; use `arr[tuple(seq)]` instead of `arr[seq]`. In the future this will be interpreted as an array index, `arr[np.array(seq)]`, which will result either in an error or a different result.\n",
            "  active[targets] = 1\n"
          ],
          "name": "stderr"
        },
        {
          "output_type": "stream",
          "text": [
            "  Calling FFC just-in-time (JIT) compiler, this may take some time.\n"
          ],
          "name": "stdout"
        },
        {
          "output_type": "stream",
          "text": [
            "/usr/lib/python3/dist-packages/ffc/uflacs/analysis/dependencies.py:61: FutureWarning: Using a non-tuple sequence for multidimensional indexing is deprecated; use `arr[tuple(seq)]` instead of `arr[seq]`. In the future this will be interpreted as an array index, `arr[np.array(seq)]`, which will result either in an error or a different result.\n",
            "  active[targets] = 1\n"
          ],
          "name": "stderr"
        },
        {
          "output_type": "stream",
          "text": [
            "t: 0.000000  T: 20000.0 dt: 10.0 gnorm: 3.872983e-05 Completed 0.00%\n",
            "  Calling FFC just-in-time (JIT) compiler, this may take some time.\n"
          ],
          "name": "stdout"
        },
        {
          "output_type": "stream",
          "text": [
            "/usr/lib/python3/dist-packages/ffc/uflacs/analysis/dependencies.py:61: FutureWarning: Using a non-tuple sequence for multidimensional indexing is deprecated; use `arr[tuple(seq)]` instead of `arr[seq]`. In the future this will be interpreted as an array index, `arr[np.array(seq)]`, which will result either in an error or a different result.\n",
            "  active[targets] = 1\n"
          ],
          "name": "stderr"
        },
        {
          "output_type": "stream",
          "text": [
            "  Calling FFC just-in-time (JIT) compiler, this may take some time.\n"
          ],
          "name": "stdout"
        },
        {
          "output_type": "stream",
          "text": [
            "/usr/lib/python3/dist-packages/ffc/uflacs/analysis/dependencies.py:61: FutureWarning: Using a non-tuple sequence for multidimensional indexing is deprecated; use `arr[tuple(seq)]` instead of `arr[seq]`. In the future this will be interpreted as an array index, `arr[np.array(seq)]`, which will result either in an error or a different result.\n",
            "  active[targets] = 1\n"
          ],
          "name": "stderr"
        },
        {
          "output_type": "stream",
          "text": [
            "  Calling FFC just-in-time (JIT) compiler, this may take some time.\n"
          ],
          "name": "stdout"
        },
        {
          "output_type": "stream",
          "text": [
            "/usr/lib/python3/dist-packages/ffc/uflacs/analysis/dependencies.py:61: FutureWarning: Using a non-tuple sequence for multidimensional indexing is deprecated; use `arr[tuple(seq)]` instead of `arr[seq]`. In the future this will be interpreted as an array index, `arr[np.array(seq)]`, which will result either in an error or a different result.\n",
            "  active[targets] = 1\n"
          ],
          "name": "stderr"
        },
        {
          "output_type": "stream",
          "text": [
            "  Calling FFC just-in-time (JIT) compiler, this may take some time.\n"
          ],
          "name": "stdout"
        },
        {
          "output_type": "stream",
          "text": [
            "/usr/lib/python3/dist-packages/ffc/uflacs/analysis/dependencies.py:61: FutureWarning: Using a non-tuple sequence for multidimensional indexing is deprecated; use `arr[tuple(seq)]` instead of `arr[seq]`. In the future this will be interpreted as an array index, `arr[np.array(seq)]`, which will result either in an error or a different result.\n",
            "  active[targets] = 1\n"
          ],
          "name": "stderr"
        },
        {
          "output_type": "stream",
          "text": [
            "  Calling FFC just-in-time (JIT) compiler, this may take some time.\n"
          ],
          "name": "stdout"
        },
        {
          "output_type": "stream",
          "text": [
            "/usr/lib/python3/dist-packages/ffc/uflacs/analysis/dependencies.py:61: FutureWarning: Using a non-tuple sequence for multidimensional indexing is deprecated; use `arr[tuple(seq)]` instead of `arr[seq]`. In the future this will be interpreted as an array index, `arr[np.array(seq)]`, which will result either in an error or a different result.\n",
            "  active[targets] = 1\n"
          ],
          "name": "stderr"
        },
        {
          "output_type": "stream",
          "text": [
            "  Calling FFC just-in-time (JIT) compiler, this may take some time.\n"
          ],
          "name": "stdout"
        },
        {
          "output_type": "stream",
          "text": [
            "/usr/lib/python3/dist-packages/ffc/uflacs/analysis/dependencies.py:61: FutureWarning: Using a non-tuple sequence for multidimensional indexing is deprecated; use `arr[tuple(seq)]` instead of `arr[seq]`. In the future this will be interpreted as an array index, `arr[np.array(seq)]`, which will result either in an error or a different result.\n",
            "  active[targets] = 1\n"
          ],
          "name": "stderr"
        },
        {
          "output_type": "stream",
          "text": [
            "t: 50.000000  T: 20000.0 dt: 10.0 gnorm: 3.872983e-05 Completed 0.25%\n",
            "t: 100.000000  T: 20000.0 dt: 10.0 gnorm: 3.872983e-05 Completed 0.50%\n"
          ],
          "name": "stdout"
        },
        {
          "output_type": "error",
          "ename": "KeyboardInterrupt",
          "evalue": "ignored",
          "traceback": [
            "\u001b[0;31m---------------------------------------------------------------------------\u001b[0m",
            "\u001b[0;31mKeyboardInterrupt\u001b[0m                         Traceback (most recent call last)",
            "\u001b[0;32m<ipython-input-8-1d9a0c31ce3d>\u001b[0m in \u001b[0;36m<module>\u001b[0;34m()\u001b[0m\n\u001b[1;32m    104\u001b[0m     \u001b[0mu0r_0\u001b[0m\u001b[0;34m,\u001b[0m \u001b[0mu0i_0\u001b[0m\u001b[0;34m,\u001b[0m \u001b[0mu1r_0\u001b[0m\u001b[0;34m,\u001b[0m \u001b[0mu1i_0\u001b[0m \u001b[0;34m=\u001b[0m \u001b[0msplit\u001b[0m\u001b[0;34m(\u001b[0m\u001b[0mu\u001b[0m\u001b[0;34m)\u001b[0m\u001b[0;34m\u001b[0m\u001b[0;34m\u001b[0m\u001b[0m\n\u001b[1;32m    105\u001b[0m \u001b[0;34m\u001b[0m\u001b[0m\n\u001b[0;32m--> 106\u001b[0;31m     \u001b[0mSubMeshSave\u001b[0m\u001b[0;34m(\u001b[0m\u001b[0mu0r_0\u001b[0m\u001b[0;34m,\u001b[0m \u001b[0mu0i_0\u001b[0m\u001b[0;34m,\u001b[0m \u001b[0mfile_u0r\u001b[0m\u001b[0;34m,\u001b[0m \u001b[0mfile_u0i\u001b[0m\u001b[0;34m,\u001b[0m \u001b[0mmesh0\u001b[0m\u001b[0;34m,\u001b[0m \u001b[0mnskip\u001b[0m\u001b[0;34m,\u001b[0m \u001b[0mstepcounter\u001b[0m\u001b[0;34m,\u001b[0m \u001b[0mdolfin_version\u001b[0m\u001b[0;34m)\u001b[0m\u001b[0;34m;\u001b[0m\u001b[0;34m\u001b[0m\u001b[0;34m\u001b[0m\u001b[0m\n\u001b[0m\u001b[1;32m    107\u001b[0m     \u001b[0mSubMeshSave\u001b[0m\u001b[0;34m(\u001b[0m\u001b[0mu1r_0\u001b[0m\u001b[0;34m,\u001b[0m \u001b[0mu1i_0\u001b[0m\u001b[0;34m,\u001b[0m \u001b[0mfile_u1r\u001b[0m\u001b[0;34m,\u001b[0m \u001b[0mfile_u1i\u001b[0m\u001b[0;34m,\u001b[0m \u001b[0mmesh1\u001b[0m\u001b[0;34m,\u001b[0m \u001b[0mnskip\u001b[0m\u001b[0;34m,\u001b[0m \u001b[0mstepcounter\u001b[0m\u001b[0;34m,\u001b[0m \u001b[0mdolfin_version\u001b[0m\u001b[0;34m)\u001b[0m\u001b[0;34m;\u001b[0m\u001b[0;34m\u001b[0m\u001b[0;34m\u001b[0m\u001b[0m\n\u001b[1;32m    108\u001b[0m \u001b[0;34m\u001b[0m\u001b[0m\n",
            "\u001b[0;32m<ipython-input-3-70a8b425469b>\u001b[0m in \u001b[0;36mSubMeshSave\u001b[0;34m(ur, ui, file_ur, file_ui, mesh, n, stepcounter, dolfin_version)\u001b[0m\n\u001b[1;32m     41\u001b[0m     \u001b[0mV\u001b[0m \u001b[0;34m=\u001b[0m \u001b[0mFunctionSpace\u001b[0m\u001b[0;34m(\u001b[0m\u001b[0mmesh\u001b[0m\u001b[0;34m,\u001b[0m \u001b[0mVe\u001b[0m\u001b[0;34m)\u001b[0m\u001b[0;34m\u001b[0m\u001b[0;34m\u001b[0m\u001b[0m\n\u001b[1;32m     42\u001b[0m   \u001b[0;32mif\u001b[0m \u001b[0mstepcounter\u001b[0m \u001b[0;34m%\u001b[0m \u001b[0mn\u001b[0m \u001b[0;34m==\u001b[0m \u001b[0;36m0\u001b[0m\u001b[0;34m:\u001b[0m\u001b[0;34m\u001b[0m\u001b[0;34m\u001b[0m\u001b[0m\n\u001b[0;32m---> 43\u001b[0;31m     \u001b[0mur_p\u001b[0m \u001b[0;34m=\u001b[0m \u001b[0mproject\u001b[0m\u001b[0;34m(\u001b[0m\u001b[0mur\u001b[0m\u001b[0;34m,\u001b[0m \u001b[0mV\u001b[0m\u001b[0;34m)\u001b[0m\u001b[0;34m;\u001b[0m\u001b[0;34m\u001b[0m\u001b[0;34m\u001b[0m\u001b[0m\n\u001b[0m\u001b[1;32m     44\u001b[0m     \u001b[0mui_p\u001b[0m \u001b[0;34m=\u001b[0m \u001b[0mproject\u001b[0m\u001b[0;34m(\u001b[0m\u001b[0mui\u001b[0m\u001b[0;34m,\u001b[0m \u001b[0mV\u001b[0m\u001b[0;34m)\u001b[0m\u001b[0;34m;\u001b[0m\u001b[0;34m\u001b[0m\u001b[0;34m\u001b[0m\u001b[0m\n\u001b[1;32m     45\u001b[0m     \u001b[0mur_p\u001b[0m\u001b[0;34m.\u001b[0m\u001b[0mrename\u001b[0m\u001b[0;34m(\u001b[0m\u001b[0;34m\"Real\"\u001b[0m\u001b[0;34m,\u001b[0m \u001b[0;34m\"label\"\u001b[0m\u001b[0;34m)\u001b[0m\u001b[0;34m;\u001b[0m\u001b[0;34m\u001b[0m\u001b[0;34m\u001b[0m\u001b[0m\n",
            "\u001b[0;32m/usr/lib/python3/dist-packages/dolfin/fem/projection.py\u001b[0m in \u001b[0;36mproject\u001b[0;34m(v, V, bcs, mesh, function, solver_type, preconditioner_type, form_compiler_parameters)\u001b[0m\n\u001b[1;32m    131\u001b[0m     \u001b[0;31m# Assemble linear system\u001b[0m\u001b[0;34m\u001b[0m\u001b[0;34m\u001b[0m\u001b[0;34m\u001b[0m\u001b[0m\n\u001b[1;32m    132\u001b[0m     A, b = assemble_system(a, L, bcs=bcs,\n\u001b[0;32m--> 133\u001b[0;31m                            form_compiler_parameters=form_compiler_parameters)\n\u001b[0m\u001b[1;32m    134\u001b[0m \u001b[0;34m\u001b[0m\u001b[0m\n\u001b[1;32m    135\u001b[0m     \u001b[0;31m# Solve linear system for projection\u001b[0m\u001b[0;34m\u001b[0m\u001b[0;34m\u001b[0m\u001b[0;34m\u001b[0m\u001b[0m\n",
            "\u001b[0;32m/usr/lib/python3/dist-packages/dolfin/fem/assembling.py\u001b[0m in \u001b[0;36massemble_system\u001b[0;34m(A_form, b_form, bcs, x0, form_compiler_parameters, add_values, finalize_tensor, keep_diagonal, A_tensor, b_tensor, backend)\u001b[0m\n\u001b[1;32m    380\u001b[0m         \u001b[0massembler\u001b[0m\u001b[0;34m.\u001b[0m\u001b[0massemble\u001b[0m\u001b[0;34m(\u001b[0m\u001b[0mA_tensor\u001b[0m\u001b[0;34m,\u001b[0m \u001b[0mb_tensor\u001b[0m\u001b[0;34m,\u001b[0m \u001b[0mx0\u001b[0m\u001b[0;34m)\u001b[0m\u001b[0;34m\u001b[0m\u001b[0;34m\u001b[0m\u001b[0m\n\u001b[1;32m    381\u001b[0m     \u001b[0;32melse\u001b[0m\u001b[0;34m:\u001b[0m\u001b[0;34m\u001b[0m\u001b[0;34m\u001b[0m\u001b[0m\n\u001b[0;32m--> 382\u001b[0;31m         \u001b[0massembler\u001b[0m\u001b[0;34m.\u001b[0m\u001b[0massemble\u001b[0m\u001b[0;34m(\u001b[0m\u001b[0mA_tensor\u001b[0m\u001b[0;34m,\u001b[0m \u001b[0mb_tensor\u001b[0m\u001b[0;34m)\u001b[0m\u001b[0;34m\u001b[0m\u001b[0;34m\u001b[0m\u001b[0m\n\u001b[0m\u001b[1;32m    383\u001b[0m \u001b[0;34m\u001b[0m\u001b[0m\n\u001b[1;32m    384\u001b[0m     \u001b[0;32mreturn\u001b[0m \u001b[0mA_tensor\u001b[0m\u001b[0;34m,\u001b[0m \u001b[0mb_tensor\u001b[0m\u001b[0;34m\u001b[0m\u001b[0;34m\u001b[0m\u001b[0m\n",
            "\u001b[0;31mKeyboardInterrupt\u001b[0m: "
          ]
        }
      ]
    },
    {
      "metadata": {
        "id": "2PFBYd0QMw4U",
        "colab_type": "text"
      },
      "cell_type": "markdown",
      "source": [
        "# Reference solutions"
      ]
    },
    {
      "metadata": {
        "id": "3paAgRxbM3yW",
        "colab_type": "code",
        "colab": {}
      },
      "cell_type": "code",
      "source": [
        "# The results were generated by the Matrix Formalism method propsed in\n",
        "# D.S. Grebenkov, Pulsed-gradient spin-echo monitoring of restricted \n",
        "# diffusion in multilayered structures, J. Magn. Reson., 205 (2) (2010)\n",
        "# # # # # # # # # # # # # # # # # # # # # # # # # # # # # # # # # # # # \n",
        "# # # R=[5,7.5,10], kappa=5e-5m/s delta=Delta=40000\n",
        "#  bvalue  # signal attenuation\n",
        "# # # # # # # # # # # # # # #\n",
        "# # # # # # # # # # # # # # #\n"
      ],
      "execution_count": 0,
      "outputs": []
    }
  ]
}