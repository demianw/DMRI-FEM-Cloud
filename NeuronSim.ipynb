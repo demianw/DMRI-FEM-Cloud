{
  "nbformat": 4,
  "nbformat_minor": 0,
  "metadata": {
    "colab": {
      "name": "NeuronSim.ipynb",
      "version": "0.3.2",
      "provenance": [],
      "collapsed_sections": [
        "vS_YdSbqFOln",
        "9SJXe6I5JUwF",
        "r6GW2fwLE042"
      ],
      "toc_visible": true,
      "include_colab_link": true
    },
    "kernelspec": {
      "name": "python3",
      "display_name": "Python 3"
    },
    "accelerator": "GPU"
  },
  "cells": [
    {
      "cell_type": "markdown",
      "metadata": {
        "id": "view-in-github",
        "colab_type": "text"
      },
      "source": [
        "<a href=\"https://colab.research.google.com/github/van-dang/MRI-Cloud/blob/master/NeuronSim.ipynb\" target=\"_parent\"><img src=\"https://colab.research.google.com/assets/colab-badge.svg\" alt=\"Open In Colab\"/></a>"
      ]
    },
    {
      "metadata": {
        "id": "vS_YdSbqFOln",
        "colab_type": "text"
      },
      "cell_type": "markdown",
      "source": [
        "# About the code"
      ]
    },
    {
      "metadata": {
        "id": "CiQ9r51xKgWh",
        "colab_type": "code",
        "colab": {}
      },
      "cell_type": "code",
      "source": [
        "# This demo solves the Bloch-Torrey equation applied to computational diffusion MRI using \n",
        "# the finite element method coupled with the theta-method for the spatial discretization.\n",
        "\n",
        "# The scope of usage: \n",
        "# (1) one single domain, (2) pure homogeneous Neumann, \n",
        "# (3) Surface/volume diffusion, (4) Arbitrary profiles\n",
        "# (5) Diffusion tensor/scalar\n",
        "\n",
        "# Copyright (C) 2017 Van-Dang Nguyen (vdnguyen@kth.se)\n",
        "\n",
        "# This file is part of DOLFIN.\n",
        "\n",
        "# DOLFIN is free software: you can redistribute it and/or modify\n",
        "# it under the terms of the GNU Lesser General Public License as published by\n",
        "# the Free Software Foundation, either version 3 of the License, or\n",
        "# (at your option) any later version.\n",
        "\n",
        "# DOLFIN is distributed in the hope that it will be useful,\n",
        "# but WITHOUT ANY WARRANTY; without even the implied warranty of\n",
        "# MERCHANTABILITY or FITNESS FOR A PARTICULAR PURPOSE. See the\n",
        "# GNU Lesser General Public License for more details.\n",
        "\n",
        "# You should have received a copy of the GNU Lesser General Public License\n",
        "# along with DOLFIN. If not, see <http://www.gnu.org/licenses/>.\n",
        "\n",
        "# First added:  2017-10-10\n",
        "# Last changed: 2019-04-09\n",
        "\n",
        "# This demo is maintained by Van-Dang Nguyen\n",
        "# Please report possible problems to vdnguyen@kth.se"
      ],
      "execution_count": 0,
      "outputs": []
    },
    {
      "metadata": {
        "id": "9SJXe6I5JUwF",
        "colab_type": "text"
      },
      "cell_type": "markdown",
      "source": [
        "# Setting a working environment with FEniCS"
      ]
    },
    {
      "metadata": {
        "id": "4jWzVxURFVLj",
        "colab_type": "code",
        "outputId": "f18c5435-7605-410b-b957-a750c7fca9b2",
        "colab": {
          "base_uri": "https://localhost:8080/",
          "height": 35
        }
      },
      "cell_type": "code",
      "source": [
        "from google.colab import files\n",
        "\n",
        "import platform, sys\n",
        "python_version=platform.python_version()\n",
        "from distutils.version import LooseVersion, StrictVersion\n",
        "\n",
        "if ( LooseVersion(python_version) < LooseVersion(\"3.0.0\")):\n",
        "    print(\"Python3 is needed!\");\n",
        "    print(\"How to fix: Runtime/Change_runtime_type/Python 3\");\n",
        "    sys.exit()\n",
        "    \n",
        "try:\n",
        "    from dolfin import *; from mshr import *\n",
        "except ImportError as e:\n",
        "    !apt-get install -y -qq software-properties-common python-software-properties module-init-tools\n",
        "    !add-apt-repository -y ppa:fenics-packages/fenics\n",
        "    !apt-get update -qq\n",
        "    !apt install -y --no-install-recommends fenics\n",
        "    from dolfin import *; from mshr import *\n",
        "    \n",
        "\n",
        "import matplotlib.pyplot as plt;\n",
        "from IPython.display import clear_output, display; import time; import dolfin.common.plotting as fenicsplot \n",
        "import time\n",
        "\n",
        "import os, sys, shutil\n",
        "\n",
        "clear_output(); # Plotting setup\n",
        "\n",
        "dolfin_version = dolfin.__version__\n",
        "print ('dolfin version:', dolfin_version)\n",
        "\n",
        "\n",
        "!rm -rf * # clean up all files\n",
        "\n",
        "# dolfin setting\n",
        "q_degree = 3\n",
        "dx = dx(metadata={'quadrature_degree': q_degree})\n",
        "\n",
        "# Useful commands\n",
        "# Remove an empty folder      : os.rmdir(\"my_results\")\n",
        "# Remove a folder with files  : shutil.rmtree(\"results\")\n",
        "# Make a folder               : os.mkdir(\"my_results\")\n",
        "# Runtime/Change_runtime_type/Python3"
      ],
      "execution_count": 38,
      "outputs": [
        {
          "output_type": "stream",
          "text": [
            "dolfin version: 2018.1.0\n"
          ],
          "name": "stdout"
        }
      ]
    },
    {
      "metadata": {
        "id": "r6GW2fwLE042",
        "colab_type": "text"
      },
      "cell_type": "markdown",
      "source": [
        "# Download the mesh of a realistic neuron"
      ]
    },
    {
      "metadata": {
        "id": "ksCOgH6e6d8e",
        "colab_type": "code",
        "outputId": "1baed7ca-4f3c-45aa-fc5a-b2b1b4962a0b",
        "colab": {
          "base_uri": "https://localhost:8080/",
          "height": 161
        }
      },
      "cell_type": "code",
      "source": [
        "!rm -rf *\n",
        "spindle_list=['03a_spindle2aFI','03a_spindle6aFI','03b_spindle4aACC','03b_spindle5aACC',\n",
        "              '03b_spindle6aACC','03b_spindle7aACC','04b_spindle3aFI','05b_spindle5aFI',\n",
        "              '06b_spindle8aACC','07b_spindle9aACC','08a_spindle13aACC','09o_spindle7aFI',\n",
        "              '09o_spindle8aFI','10a_spindle18aACC','12a_spindle19aACC','12o_spindle9aFI',\n",
        "              '13o_spindle10aFI','15o_spindle12aFI','16o_spindle13aFI','19o_spindle14aFI',\n",
        "              '21o_spindle15aFI','23o_spindle16aFI','25o_spindle17aFI','26o_spindle18aFI',\n",
        "              '27o_spindle19aFI','28o_spindle20aFI','28o_spindle21aFI','29o_spindle22aFI',\n",
        "              '30o_spindle23aFI',\n",
        "];\n",
        "\n",
        "pyramidal_list=['02a_pyramidal2aFI','02b_pyramidal1aACC','02b_pyramidal1aFI','03a_pyramidal9aFI',\n",
        "                '03b_pyramidal2aACC','03b_pyramidal3aACC','03b_pyramidal3aFI','03b_pyramidal4aFI',\n",
        "                '03b_pyramidal9aFI','04a_pyramidal4aACC','04a_pyramidal5aACC','04b_pyramidal5aFI',\n",
        "                '04b_pyramidal6aACC','04b_pyramidal6aFI','04b_pyramidal7aACC','05a_pyramidal10aACC',\n",
        "                '05a_pyramidal8aACC','05b_pyramidal7aFI','05b_pyramidal8aFI','05b_pyramidal9aACC',\n",
        "                '06a_pyramidal11aACC','06b_pyramidal10aFI','06b_pyramidal12aACC','07a_pyramidal13aACC',\n",
        "                '07b_pyramidal14aACC','08o_pyramidal11aFI','10a_pyramidal15aACC','11a_pyramidal16aACC',\n",
        "                '11o_pyramidal12aFI','17o_pyramidal13aFI','18o_pyramidal14aFI','20o_pyramidal15aFI',\n",
        "                '22o_pyramidal16aFI','24o_pyramidal17aFI','25o_pyramidal18aFI','31o_pyramidal19aFI',\n",
        "];\n",
        "\n",
        "neuron_id = 14;\n",
        "neuron_type = 'pyramidals';\n",
        "\n",
        "if neuron_type == 'spindles':\n",
        "    neuron_list = spindle_list;\n",
        "if neuron_type == 'pyramidals':\n",
        "    neuron_list = pyramidal_list;\n",
        "    \n",
        "neuron_name = neuron_list[neuron_id];\n",
        "print(neuron_name)\n",
        "\n",
        "neuron_dir='https://raw.githubusercontent.com/van-dang/NeuronVolumeMeshes/master/'+neuron_type+'/'+neuron_name+'.msh.zip'\n",
        "\n",
        "#neuron_name='undyAxon_Ax_5E_6_vol'\n",
        "#neuron_dir='https://raw.githubusercontent.com/van-dang/MRI-Cloud/master/comri/meshes/'+neuron_name+'.msh.zip'\n",
        "\n",
        "neuron_name='2E_ExtraCellular_group_vol'\n",
        "neuron_dir='https://raw.githubusercontent.com/van-dang/MRI-Cloud/mesh/'+neuron_name+'.msh.zip'\n",
        "\n",
        "!wget -q $neuron_dir\n",
        "!unzip -q $neuron_name''.msh.zip\n",
        "!dolfin-convert $neuron_name''.msh $neuron_name''.xml\n",
        "\n",
        "mesh = Mesh(neuron_name+'.xml');\n",
        "gdim = mesh.geometry().dim()\n",
        "print('Mesh size: #vertices: '+str(mesh.num_vertices()) +', #elements: '+str(mesh.num_cells()) );"
      ],
      "execution_count": 39,
      "outputs": [
        {
          "output_type": "stream",
          "text": [
            "04b_pyramidal7aACC\n",
            "Converting from Gmsh format (.msh, .gmsh) to DOLFIN XML format\n",
            "Expecting 190818 vertices\n",
            "Found all vertices\n",
            "Expecting 773149 cells\n",
            "Found all cells\n",
            "Conversion done\n",
            "Mesh size: #vertices: 190818, #elements: 773149\n"
          ],
          "name": "stdout"
        }
      ]
    },
    {
      "metadata": {
        "id": "UbggC47PJF-6",
        "colab_type": "text"
      },
      "cell_type": "markdown",
      "source": [
        "# Pre-defined functions"
      ]
    },
    {
      "metadata": {
        "id": "LYh5tTdsJJ7T",
        "colab_type": "code",
        "colab": {}
      },
      "cell_type": "code",
      "source": [
        "def b2g(bvalue, delta, Delta, nperiod, stype):\n",
        "  gnorm = 0;\n",
        "  if (stype == 'PGSE'):\n",
        "      gnorm = sqrt(bvalue)/sqrt(delta*delta*(Delta-delta/3.0));\n",
        "  if (stype == 'cos_OGSE'):\n",
        "      gnorm = sqrt(bvalue/(1./8.*delta*delta*delta*(3.-cos(4.*nperiod*pi/delta*Delta))/(nperiod*nperiod)/(pi*pi)));\n",
        "  return gnorm;\n",
        "\n",
        "def g2b(gnorm, delta, Delta, nperiod, stype):\n",
        "  bvalue = 0;\n",
        "  if (stype == 'PGSE'):\n",
        "      bvalue = gnorm*gnorm*delta*delta*(Delta-delta/3.0);\n",
        "  if (stype == 'cos_OGSE'):\n",
        "      bvalue=gnorm*gnorm*1./8.*delta*delta*delta*(3.-cos(4.*nperiod*pi/delta*Delta))/(nperiod*nperiod)/(pi*pi);\n",
        "  return bvalue;  \n",
        "\n",
        "def initial_condition(mesh, R):\n",
        "  gdim = mesh.geometry().dim()\n",
        "  if (gdim==2):\n",
        "    f = Expression(\"x[0]*x[0]+x[1]*x[1]<eps\",eps=R, domain=mesh, degree=2);\n",
        "  if (gdim==3):\n",
        "    f = Expression(\"x[0]*x[0]+x[1]*x[1]+x[2]*x[2]<eps\",eps=R, domain=mesh, degree=2);\n",
        "  return f;\n",
        "\n",
        "def time_profile(t, delta, Delta, stype):\n",
        "  ft1, ft2 = 0, 0;\n",
        "  if stype=='PGSE':\n",
        "    ft1 = 1.0*(t>=0 and t<delta) \n",
        "    ft2 = -1.0*(t>=Delta and t<=Delta+delta);\n",
        "  if stype=='cos_OGSE':\n",
        "    ft1 =  cos(2.0*nperiod*pi*t/delta)*(t>=0 and t<delta);\n",
        "    ft2 = -cos(2.0*nperiod*pi*(t-2.*delta)/delta)*(t>=Delta and t<=Delta+delta);\n",
        "  return ft1 + ft2;  \n",
        "\n",
        "def GdotX(gdir, mesh):\n",
        "  gdim = mesh.geometry().dim()\n",
        "  if (gdim==2):\n",
        "    GX=Expression(\"x[0]*g0+x[1]*g1\", g0=gdir.x(), g1=gdir.y(), domain=mesh, degree=1);\n",
        "  if (gdim==3):\n",
        "    GX=Expression(\"x[0]*g0+x[1]*g1+x[2]*g2\", g0=gdir.x(), g1=gdir.y(), g2=gdir.z(), domain=mesh, degree=1);\n",
        "  return GX;\n",
        "\n",
        "## Theta method\n",
        "def FuncF(ft, gnorm, GX, ur, ui, vr, vi, K):\n",
        "    Fr = ft*gnorm*GX*ui*vr - inner(K*grad(ur), grad(vr))\n",
        "    Fi = - ft*gnorm*GX*ur*vi - inner(K*grad(ui), grad(vi))\n",
        "    return Fr + Fi\n",
        "\n",
        "def ThetaMethod_L(ft, gnorm, GX, u1r, u1i, v1r, v1i,k, K, theta):\n",
        "    L1 = (u1r_0/k*v1r +u1i_0/k*v1i+(1-theta)*FuncF(ft, gnorm, GX, u1r_0, u1i_0, v1r, v1i, K))*dx\n",
        "    return L1\n",
        "\n",
        "def ThetaMethod_a(ft, gnorm, GX, u1r, u1i, v1r, v1i,k, K, theta):\n",
        "    a1 = (u1r/k*v1r   + u1i/k*v1i  -theta*FuncF(ft, gnorm, GX, u1r  , u1i  , v1r, v1i, K))*dx\n",
        "    return a1\n",
        "\n",
        "def NoTimeMatrices(u1r, u1i, v1r, v1i, K, GX, theta):\n",
        "    m1 = (u1r*v1r   + u1i*v1i)*dx\n",
        "    M = assemble(m1);\n",
        "    j1 = -GX*(u1i*v1r   - u1r*v1i)*dx\n",
        "    J = assemble(j1);    \n",
        "    s1 = inner(K*grad(u1r), grad(v1r))*dx + inner(K*grad(u1i), grad(v1i)) *dx\n",
        "    S = assemble(s1)\n",
        "    return M, J, S\n",
        "\n",
        "def ThetaMethod_A(ft, gnorm, theta, k, M, J, S):\n",
        "    return 1./k*M + ft*gnorm*theta*J + theta*S\n",
        "  \n",
        "def MyFunctionSpaces(mesh, porder):\n",
        "  dolfin_version = dolfin.__version__\n",
        "  if dolfin_version=='1.6.0':\n",
        "    V = FunctionSpace(mesh , \"CG\", porder); # order 1, 2 components\n",
        "    W = MixedFunctionSpace([V, V])\n",
        "  else:\n",
        "    # For FEniCS 2016, 2017, 2018\n",
        "    Ve = FiniteElement(\"CG\", mesh.ufl_cell(), porder)\n",
        "    V = FunctionSpace(mesh,Ve);\n",
        "    TH = MixedElement([Ve,Ve])\n",
        "    W = FunctionSpace(mesh, TH)\n",
        "  return V, W"
      ],
      "execution_count": 0,
      "outputs": []
    },
    {
      "metadata": {
        "id": "p40vN6yfVFzd",
        "colab_type": "text"
      },
      "cell_type": "markdown",
      "source": [
        "# Pre-defined parameters"
      ]
    },
    {
      "metadata": {
        "id": "dOW2zna9VHID",
        "colab_type": "code",
        "colab": {}
      },
      "cell_type": "code",
      "source": [
        "bvalue = 3000;              # bvalue\n",
        "stype = 'PGSE'; # sequence type\n",
        "nperiod = 1;\n",
        "delta, Delta = 10600, 43100 # PGSE sequence\n",
        "T = Delta+delta;\n",
        "if (Delta-delta/3.0<=0):\n",
        "    print('Check time sequence!');\n",
        "    exit(0);\n",
        "\n",
        "g0, g1, g2 = 1, 1, 1;       # gradient direction\n",
        "\n",
        "if (gdim==2):\n",
        "  gdir=Point(g0, g1)\n",
        "if (gdim==3):\n",
        "  gdir=Point(g0, g1, g2)\n",
        "\n",
        "gdir /= gdir.norm();\n",
        "\n",
        "  \n",
        "dcoeff = 2.4e-3;                   # Diffusion coefficient\n",
        "if gdim==2:\n",
        "  K = as_matrix(((dcoeff, 0), (0, dcoeff))) # Diffusion tensor\n",
        "if gdim==3:\n",
        "  K = as_matrix(((dcoeff, 0, 0), (0, dcoeff, 0), (0, 0, dcoeff))) # Diffusion tensor\n",
        "  \n",
        "nskip = 1;                  # Output frequency (for visualization only)\n",
        "porder = 1;                 # order of basis functions of FEM\n",
        "Nsteps = 200;               # number of time intervals\n",
        "\n",
        "# k = T/Nsteps;\n",
        "k = 500; # Time-step size\n",
        "\n",
        "theta = 0.5; # 0.5 - Midpoint method\n",
        "\n",
        "stepcounter = 0;"
      ],
      "execution_count": 0,
      "outputs": []
    },
    {
      "metadata": {
        "id": "TNODFhwpH7kg",
        "colab_type": "text"
      },
      "cell_type": "markdown",
      "source": [
        "# Solve the Bloch-Torrey equation"
      ]
    },
    {
      "metadata": {
        "id": "DYZ5SWlw69tQ",
        "colab_type": "code",
        "outputId": "ddd45ac3-0acc-469f-dc59-ef581c1b5e4a",
        "colab": {
          "base_uri": "https://localhost:8080/",
          "height": 919
        }
      },
      "cell_type": "code",
      "source": [
        "t = 0;\n",
        "gnorm = b2g(bvalue, delta, Delta, nperiod, stype)\n",
        "\n",
        "V, W = MyFunctionSpaces(mesh, porder)   \n",
        "v = TestFunction(W)\n",
        "v1r, v1i = v[0], v[1]\n",
        "\n",
        "u = TrialFunction(W);\n",
        "u1r, u1i = u[0], u[1]\n",
        "\n",
        "# Initial conditions\n",
        "Dirac_Delta = initial_condition(mesh, 1e6)\n",
        "Dirac_Delta = interpolate(Dirac_Delta, V);\n",
        "\n",
        "import math, sys\n",
        "checknan = math.isnan(Dirac_Delta.vector().norm('l2'));\n",
        "if (checknan):\n",
        "  print(\"The mesh may be invalid! Please double check\");\n",
        "  sys.exit()\n",
        "\n",
        "u_0 = Function(W);\n",
        "assign(u_0.sub(0), Dirac_Delta)\n",
        "u1r_0, u1i_0 = split(u_0)\n",
        "\n",
        "GX = GdotX(gdir, mesh)   \n",
        "\n",
        "print('mesh.hmin: ', mesh.hmin(),'mesh.hmax: ',mesh.hmax());\n",
        "\n",
        "M, J, S = NoTimeMatrices(u1r, u1i, v1r, v1i, K, GX, theta);\n",
        "\n",
        "stepcounter = 0;\n",
        "\n",
        "ft_prev = time_profile(t, delta, Delta, stype);\n",
        "\n",
        "solver = PETScLUSolver('mumps')\n",
        "#solver.parameters[\"absolute_tolerance\"] = 1e-4\n",
        "#solver.parameters[\"relative_tolerance\"] = 1e-3\n",
        "#solver.parameters[\"maximum_iterations\"] = 1000\n",
        "\n",
        "start_time = time.time()\n",
        "\n",
        "while t < T + k: # Time-stepping loop\n",
        "    if stepcounter % nskip == 0:\n",
        "        print('t: %f '%t, 'T: %.1f'%T, 'dt: %.1f'%k,'gnorm: %e'%gnorm,'Completed %.2f%%'%(float(t)/float(T+k)*100.0));\n",
        "    ft=time_profile(t, delta, Delta, stype);\n",
        "    L=ThetaMethod_L(ft_prev, gnorm, GX, u1r, u1i, v1r, v1i,k, K, theta);\n",
        "    A=ThetaMethod_A(ft, gnorm, theta, k, M, J, S)\n",
        "    b = assemble(L);\n",
        "    u = Function(W)\n",
        "    solver.solve(A,u.vector(),b);\n",
        "    u1r_0, u1i_0 = split(u)\n",
        "    ft_prev = ft;\n",
        "    t += k;\n",
        "    stepcounter += 1;\n",
        "\n",
        "elapsed_time = time.time() - start_time\n",
        "\n",
        "\n",
        "signal = assemble(u1r_0*dx)/assemble(Dirac_Delta*dx);\n",
        "print('b:',bvalue, 'Signal: %.3e'%signal,', dt: ',k,', hmin: ',mesh.hmin())\n",
        "\n",
        "\n",
        "print(\"Elapsed time: %f seconds\"%elapsed_time)\n",
        "\n",
        "u1r_0p = project(u1r_0, V);\n",
        "u1i_0p = project(u1i_0, V);\n",
        "\n",
        "File('RealSol.pvd')<<u1r_0p;\n",
        "File('ImagSol.pvd')<<u1i_0p;\n",
        "\n",
        "#plt.figure(1); plot(u1r_0p, cmap=\"coolwarm\", title=\"Real part\");\n",
        "#plt.figure(2); plot(u1i_0p, cmap=\"coolwarm\", title=\"Imaginary part\");"
      ],
      "execution_count": 0,
      "outputs": [
        {
          "output_type": "stream",
          "text": [
            "mesh.hmin:  0.00042734878258709243 mesh.hmax:  0.16072598823685708\n",
            "Calling FFC just-in-time (JIT) compiler, this may take some time.\n"
          ],
          "name": "stdout"
        },
        {
          "output_type": "stream",
          "text": [
            "/usr/lib/python3/dist-packages/ffc/uflacs/analysis/dependencies.py:61: FutureWarning: Using a non-tuple sequence for multidimensional indexing is deprecated; use `arr[tuple(seq)]` instead of `arr[seq]`. In the future this will be interpreted as an array index, `arr[np.array(seq)]`, which will result either in an error or a different result.\n",
            "  active[targets] = 1\n"
          ],
          "name": "stderr"
        },
        {
          "output_type": "stream",
          "text": [
            "Calling FFC just-in-time (JIT) compiler, this may take some time.\n"
          ],
          "name": "stdout"
        },
        {
          "output_type": "stream",
          "text": [
            "/usr/lib/python3/dist-packages/ffc/uflacs/analysis/dependencies.py:61: FutureWarning: Using a non-tuple sequence for multidimensional indexing is deprecated; use `arr[tuple(seq)]` instead of `arr[seq]`. In the future this will be interpreted as an array index, `arr[np.array(seq)]`, which will result either in an error or a different result.\n",
            "  active[targets] = 1\n"
          ],
          "name": "stderr"
        },
        {
          "output_type": "stream",
          "text": [
            "t: 0.000000  T: 53700.0 dt: 500.0 gnorm: 2.597706e-05 Completed 0.00%\n",
            "Calling FFC just-in-time (JIT) compiler, this may take some time.\n"
          ],
          "name": "stdout"
        },
        {
          "output_type": "stream",
          "text": [
            "/usr/lib/python3/dist-packages/ffc/uflacs/analysis/dependencies.py:61: FutureWarning: Using a non-tuple sequence for multidimensional indexing is deprecated; use `arr[tuple(seq)]` instead of `arr[seq]`. In the future this will be interpreted as an array index, `arr[np.array(seq)]`, which will result either in an error or a different result.\n",
            "  active[targets] = 1\n"
          ],
          "name": "stderr"
        },
        {
          "output_type": "stream",
          "text": [
            "t: 500.000000  T: 53700.0 dt: 500.0 gnorm: 2.597706e-05 Completed 0.92%\n",
            "Calling FFC just-in-time (JIT) compiler, this may take some time.\n"
          ],
          "name": "stdout"
        },
        {
          "output_type": "stream",
          "text": [
            "/usr/lib/python3/dist-packages/ffc/uflacs/analysis/dependencies.py:61: FutureWarning: Using a non-tuple sequence for multidimensional indexing is deprecated; use `arr[tuple(seq)]` instead of `arr[seq]`. In the future this will be interpreted as an array index, `arr[np.array(seq)]`, which will result either in an error or a different result.\n",
            "  active[targets] = 1\n"
          ],
          "name": "stderr"
        },
        {
          "output_type": "stream",
          "text": [
            "t: 1000.000000  T: 53700.0 dt: 500.0 gnorm: 2.597706e-05 Completed 1.85%\n",
            "t: 1500.000000  T: 53700.0 dt: 500.0 gnorm: 2.597706e-05 Completed 2.77%\n",
            "t: 2000.000000  T: 53700.0 dt: 500.0 gnorm: 2.597706e-05 Completed 3.69%\n",
            "t: 2500.000000  T: 53700.0 dt: 500.0 gnorm: 2.597706e-05 Completed 4.61%\n",
            "t: 3000.000000  T: 53700.0 dt: 500.0 gnorm: 2.597706e-05 Completed 5.54%\n",
            "t: 3500.000000  T: 53700.0 dt: 500.0 gnorm: 2.597706e-05 Completed 6.46%\n",
            "t: 4000.000000  T: 53700.0 dt: 500.0 gnorm: 2.597706e-05 Completed 7.38%\n",
            "t: 4500.000000  T: 53700.0 dt: 500.0 gnorm: 2.597706e-05 Completed 8.30%\n",
            "t: 5000.000000  T: 53700.0 dt: 500.0 gnorm: 2.597706e-05 Completed 9.23%\n",
            "t: 5500.000000  T: 53700.0 dt: 500.0 gnorm: 2.597706e-05 Completed 10.15%\n",
            "t: 6000.000000  T: 53700.0 dt: 500.0 gnorm: 2.597706e-05 Completed 11.07%\n",
            "t: 6500.000000  T: 53700.0 dt: 500.0 gnorm: 2.597706e-05 Completed 11.99%\n",
            "t: 7000.000000  T: 53700.0 dt: 500.0 gnorm: 2.597706e-05 Completed 12.92%\n",
            "t: 7500.000000  T: 53700.0 dt: 500.0 gnorm: 2.597706e-05 Completed 13.84%\n",
            "t: 8000.000000  T: 53700.0 dt: 500.0 gnorm: 2.597706e-05 Completed 14.76%\n",
            "t: 8500.000000  T: 53700.0 dt: 500.0 gnorm: 2.597706e-05 Completed 15.68%\n",
            "t: 9000.000000  T: 53700.0 dt: 500.0 gnorm: 2.597706e-05 Completed 16.61%\n",
            "t: 9500.000000  T: 53700.0 dt: 500.0 gnorm: 2.597706e-05 Completed 17.53%\n",
            "t: 10000.000000  T: 53700.0 dt: 500.0 gnorm: 2.597706e-05 Completed 18.45%\n",
            "t: 10500.000000  T: 53700.0 dt: 500.0 gnorm: 2.597706e-05 Completed 19.37%\n",
            "t: 11000.000000  T: 53700.0 dt: 500.0 gnorm: 2.597706e-05 Completed 20.30%\n",
            "t: 11500.000000  T: 53700.0 dt: 500.0 gnorm: 2.597706e-05 Completed 21.22%\n",
            "Calling FFC just-in-time (JIT) compiler, this may take some time.\n"
          ],
          "name": "stdout"
        },
        {
          "output_type": "stream",
          "text": [
            "/usr/lib/python3/dist-packages/ffc/uflacs/analysis/dependencies.py:61: FutureWarning: Using a non-tuple sequence for multidimensional indexing is deprecated; use `arr[tuple(seq)]` instead of `arr[seq]`. In the future this will be interpreted as an array index, `arr[np.array(seq)]`, which will result either in an error or a different result.\n",
            "  active[targets] = 1\n"
          ],
          "name": "stderr"
        },
        {
          "output_type": "stream",
          "text": [
            "t: 12000.000000  T: 53700.0 dt: 500.0 gnorm: 2.597706e-05 Completed 22.14%\n",
            "t: 12500.000000  T: 53700.0 dt: 500.0 gnorm: 2.597706e-05 Completed 23.06%\n",
            "t: 13000.000000  T: 53700.0 dt: 500.0 gnorm: 2.597706e-05 Completed 23.99%\n",
            "t: 13500.000000  T: 53700.0 dt: 500.0 gnorm: 2.597706e-05 Completed 24.91%\n",
            "t: 14000.000000  T: 53700.0 dt: 500.0 gnorm: 2.597706e-05 Completed 25.83%\n",
            "t: 14500.000000  T: 53700.0 dt: 500.0 gnorm: 2.597706e-05 Completed 26.75%\n",
            "t: 15000.000000  T: 53700.0 dt: 500.0 gnorm: 2.597706e-05 Completed 27.68%\n",
            "t: 15500.000000  T: 53700.0 dt: 500.0 gnorm: 2.597706e-05 Completed 28.60%\n",
            "t: 16000.000000  T: 53700.0 dt: 500.0 gnorm: 2.597706e-05 Completed 29.52%\n"
          ],
          "name": "stdout"
        }
      ]
    }
  ]
}