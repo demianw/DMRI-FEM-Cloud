{
  "nbformat": 4,
  "nbformat_minor": 0,
  "metadata": {
    "colab": {
      "name": "PeriodicBarriers.ipynb",
      "version": "0.3.2",
      "provenance": [],
      "collapsed_sections": [
        "vS_YdSbqFOln",
        "9SJXe6I5JUwF",
        "6l4kvMZQb3z6",
        "r6GW2fwLE042"
      ],
      "toc_visible": true,
      "include_colab_link": true
    },
    "kernelspec": {
      "name": "python3",
      "display_name": "Python 3"
    },
    "accelerator": "GPU"
  },
  "cells": [
    {
      "cell_type": "markdown",
      "metadata": {
        "id": "view-in-github",
        "colab_type": "text"
      },
      "source": [
        "<a href=\"https://colab.research.google.com/github/van-dang/MRI-Cloud/blob/master/PeriodicBarriers.ipynb\" target=\"_parent\"><img src=\"https://colab.research.google.com/assets/colab-badge.svg\" alt=\"Open In Colab\"/></a>"
      ]
    },
    {
      "cell_type": "markdown",
      "metadata": {
        "id": "vS_YdSbqFOln",
        "colab_type": "text"
      },
      "source": [
        "# About the code"
      ]
    },
    {
      "cell_type": "code",
      "metadata": {
        "id": "CiQ9r51xKgWh",
        "colab_type": "code",
        "colab": {}
      },
      "source": [
        "# This program solves the Bloch-Torrey equation applied to computational diffusion MRI using \n",
        "# the finite element method coupled with the theta-method for the spatial discretization.\n",
        "\n",
        "# The scope of usage: \n",
        "# (1) Single domains, Multilayered structures, manifolds\n",
        "# (2) Membrane permeability for internal interfaces\n",
        "#     Artificial permeability at the external interfaces\n",
        "# (3) pure homogeneous Neumann BCs, (4) pseudo-periodic BCs\n",
        "\n",
        "# Copyright (C) 2019 Van-Dang Nguyen (vdnguyen@kth.se)\n",
        "\n",
        "# This file is part of DOLFIN.\n",
        "\n",
        "# DOLFIN is free software: you can redistribute it and/or modify\n",
        "# it under the terms of the GNU Lesser General Public License as published by\n",
        "# the Free Software Foundation, either version 3 of the License, or\n",
        "# (at your option) any later version.\n",
        "\n",
        "# DOLFIN is distributed in the hope that it will be useful,\n",
        "# but WITHOUT ANY WARRANTY; without even the implied warranty of\n",
        "# MERCHANTABILITY or FITNESS FOR A PARTICULAR PURPOSE. See the\n",
        "# GNU Lesser General Public License for more details.\n",
        "\n",
        "# You should have received a copy of the GNU Lesser General Public License\n",
        "# along with DOLFIN. If not, see <http://www.gnu.org/licenses/>.\n",
        "\n",
        "# First added:  2017-10-10\n",
        "# Last changed: 2019-04-25\n",
        "\n",
        "# This demo is maintained by Van-Dang Nguyen\n",
        "# Please report possible problems to vdnguyen@kth.se"
      ],
      "execution_count": 0,
      "outputs": []
    },
    {
      "cell_type": "markdown",
      "metadata": {
        "id": "9SJXe6I5JUwF",
        "colab_type": "text"
      },
      "source": [
        "# Setting a working environment with FEniCS"
      ]
    },
    {
      "cell_type": "code",
      "metadata": {
        "id": "4jWzVxURFVLj",
        "colab_type": "code",
        "outputId": "192a42b1-1013-417a-e794-95e06c0da66c",
        "colab": {
          "base_uri": "https://localhost:8080/",
          "height": 51
        }
      },
      "source": [
        "# !rm *.py *.xml *.txt *.zip *.pvd *.vtu *.geo *.msh\n",
        "try:\n",
        "    from google.colab import files\n",
        "except:\n",
        "    print(\"This is not google.colab\")\n",
        "    \n",
        "import platform, sys\n",
        "python_version=platform.python_version()\n",
        "from distutils.version import LooseVersion, StrictVersion\n",
        "\n",
        "if ( LooseVersion(python_version) < LooseVersion(\"3.0.0\")):\n",
        "    print(\"Python3 is needed!\");\n",
        "    print(\"How to fix: Runtime/Change_runtime_type/Python 3\");\n",
        "    sys.exit()\n",
        "    \n",
        "try:\n",
        "    from dolfin import *; from mshr import *\n",
        "except ImportError as e:\n",
        "    !apt-get install -y -qq software-properties-common python-software-properties module-init-tools\n",
        "    !add-apt-repository -y ppa:fenics-packages/fenics\n",
        "    !apt-get update -qq\n",
        "    !apt install -y --no-install-recommends fenics\n",
        "    from dolfin import *; from mshr import *\n",
        "\n",
        "gmsh_dir=!which gmsh\n",
        "if len(gmsh_dir)==0:\n",
        "    !sudo apt-get update\n",
        "    !sudo apt-get install -y gmsh\n",
        "    \n",
        "import matplotlib.pyplot as plt;\n",
        "from IPython.display import clear_output, display; import time; import dolfin.common.plotting as fenicsplot \n",
        "import time\n",
        "\n",
        "import os, sys, shutil\n",
        "\n",
        "dolfin_version = dolfin.__version__\n",
        "print ('dolfin version:', dolfin_version)\n",
        "\n",
        "# Disable warnings\n",
        "import logging\n",
        "logging.basicConfig(level=logging.DEBUG)\n",
        "logger = logging.getLogger(\"rothemain.rothe_utils\")\n",
        "logging.getLogger('UFL').setLevel(logging.WARNING)\n",
        "logging.getLogger('FFC').setLevel(logging.WARNING)\n",
        "\n",
        "import warnings\n",
        "warnings.filterwarnings(\"ignore\")\n"
      ],
      "execution_count": 17,
      "outputs": [
        {
          "output_type": "stream",
          "text": [
            "This is not google.colab\n",
            "dolfin version: 2019.1.0\n"
          ],
          "name": "stdout"
        }
      ]
    },
    {
      "cell_type": "markdown",
      "metadata": {
        "id": "6l4kvMZQb3z6",
        "colab_type": "text"
      },
      "source": [
        "#Load pre-defined functions"
      ]
    },
    {
      "cell_type": "code",
      "metadata": {
        "id": "x3L26nGPb7kZ",
        "colab_type": "code",
        "colab": {}
      },
      "source": [
        "import sympy as sp  \n",
        "exists = os.path.isfile('DmriFemBuitInFunc.py')\n",
        "isupdate = False\n",
        "if (exists==False or isupdate==True):\n",
        "    if isupdate==True:\n",
        "        !rm DmriFemBuitInFunc.py\n",
        "    print(\"Load pre-defined functions from GitHub\")\n",
        "    !wget --quiet https://raw.githubusercontent.com/van-dang/MRI-Cloud/master/DmriFemBuitInFunc.py\n",
        "from DmriFemBuitInFunc import *"
      ],
      "execution_count": 0,
      "outputs": []
    },
    {
      "cell_type": "markdown",
      "metadata": {
        "id": "r6GW2fwLE042",
        "colab_type": "text"
      },
      "source": [
        "# Working on the mesh"
      ]
    },
    {
      "cell_type": "code",
      "metadata": {
        "id": "ksCOgH6e6d8e",
        "colab_type": "code",
        "outputId": "47fc0a3c-e6ea-445b-9237-3148cabbad98",
        "colab": {
          "base_uri": "https://localhost:8080/",
          "height": 85
        }
      },
      "source": [
        "mesh_name = \"CirclesInSquare\"\n",
        "is_partition_function_exist = os.path.isfile('GetPartitionMarkers.py')\n",
        "if is_partition_function_exist==False:\n",
        "    !wget --quiet https://raw.githubusercontent.com/van-dang/MRI-Cloud/mesh/GetPartitionMarkers.py\n",
        "\n",
        "is_geo_file_exist = os.path.isfile(mesh_name+'.geo')  \n",
        "if is_geo_file_exist==False:\n",
        "    !wget --quiet https://raw.githubusercontent.com/van-dang/MRI-Cloud/mesh/$mesh_name''.geo\n",
        "\n",
        "# Create mesh from geo file by gmsh\n",
        "!gmsh -2 $mesh_name''.geo -o $mesh_name''.msh\n",
        "\n",
        "\n",
        "# Convert .msh to .xml using dolfin-convert\n",
        "!dolfin-convert $mesh_name''.msh $mesh_name''.xml\n",
        "clear_output()\n",
        "\n",
        "mymesh = Mesh(mesh_name+\".xml\");  \n",
        "\n",
        "from GetPartitionMarkers import *\n",
        "\n",
        "GetPartitionMarkers(mesh_name+\".msh\", \"pmk_\"+mesh_name+\".xml\")\n",
        "\n",
        "partition_marker = MeshFunction(\"size_t\", mymesh, mymesh.topology().dim())\n",
        "\n",
        "File(\"pmk_\"+mesh_name+\".xml\")>>partition_marker\n",
        "\n",
        "cellmarker, phase, partition_marker, partion_list = Create_phase_func(mymesh, None, partition_marker)    \n",
        "\n",
        "File(\"Phase.pvd\")<<phase\n"
      ],
      "execution_count": 19,
      "outputs": [
        {
          "output_type": "stream",
          "text": [
            "Extracting cell markers from: CirclesInSquare.msh ...\n",
            "Extracted successfully on: 6614 elements\n",
            "Partition marker list: ['1', '0']\n",
            "Wrote to: pmk_CirclesInSquare.xml\n"
          ],
          "name": "stdout"
        }
      ]
    },
    {
      "cell_type": "markdown",
      "metadata": {
        "id": "aFEvif9PF2yH",
        "colab_type": "text"
      },
      "source": [
        "# Solve the Bloch-Torrey equation"
      ]
    },
    {
      "cell_type": "code",
      "metadata": {
        "id": "DYZ5SWlw69tQ",
        "colab_type": "code",
        "outputId": "6e26f57c-3430-486f-c4af-7bc2b74b31da",
        "colab": {
          "base_uri": "https://localhost:8080/",
          "height": 1000
        }
      },
      "source": [
        "mri_simu = MRI_simulation()\n",
        "mri_para = MRI_parameters()\n",
        "\n",
        "#### \n",
        "def Post_processing(mydomain, mri_para, mri_simu, plt, ms=''):\n",
        "    comm = MPI.comm_world\n",
        "    rank = comm.Get_rank()    \n",
        "\n",
        "    one = Function(mydomain.V)\n",
        "    one.vector()[:] = 1\n",
        "    whole_vol = assemble(one*dx)\n",
        "    voi = assemble(mri_simu.Dirac_Delta*dx)\n",
        "    if mydomain.IsDomainMultiple == True:\n",
        "        u0r_0, u0i_0, u1r_0, u1i_0 = split(mri_simu.u_0)\n",
        "        initial0 = assemble((1-mydomain.phase)*mri_simu.Dirac_Delta*dx);\n",
        "        signal0 = assemble(((1-mydomain.phase)*u0r_0)*dx);\n",
        "        initial1 = assemble(mydomain.phase*mri_simu.Dirac_Delta*dx)\n",
        "        signal1 = assemble((mydomain.phase*u1r_0)*dx);\n",
        "        signal = assemble((mydomain.phase*u1r_0+(1-mydomain.phase)*u0r_0)*dx);\n",
        "        out_text = 'b: %.3f, g: %.3f, q: %.3e, Signal: %.3e, Normalized signal: %.6e, kappa: %.3e, dt: %.3f, hmin: %.3e, hmax: %.3e, whole_vol: %.3f, vol_of_interest: %.3f, Free signal: %.3e, elasped time %.3f (s)\\n'%(mri_para.bvalue, mri_para.gvalue, mri_para.qvalue, signal, signal/voi, mydomain.kappa, mri_simu.k, mydomain.hmin, mydomain.hmax, whole_vol, voi, exp(-mri_para.bvalue*mydomain.D0), mri_simu.elapsed_time)\n",
        "        if rank==0:\n",
        "            print('Signal on each compartment')\n",
        "            print('Sum initial0: %.3e, Signal0: %.3e'%(initial0, signal0))\n",
        "            print('Sum initial1: %.3e, Signal1: %.3e'%(initial1, signal1))\n",
        "            print(out_text)\n",
        "        try:               \n",
        "            dm = mydomain.V_DG.dofmap()\n",
        "            mydomain.mphase = MeshFunction(\"size_t\", mydomain.V_DG.mesh(), mydomain.V_DG.mesh().topology().dim())\n",
        "            for cell in cells(mydomain.V_DG.mesh()):\n",
        "                  mydomain.mphase[cell] = mydomain.phase.vector()[dm.cell_dofs(cell.index())]\n",
        "                \n",
        "            mydomain.mesh0 = SubMesh(mydomain.mymesh, mydomain.mphase, 0)\n",
        "            mydomain.mesh1 = SubMesh(mydomain.mymesh, mydomain.mphase, 1)\n",
        "            \n",
        "            V0 = FunctionSpace(mydomain.mesh0, mydomain.Ve);\n",
        "            V1 = FunctionSpace(mydomain.mesh1, mydomain.Ve);\n",
        "            u0r_0p = project(u0r_0,V0)\n",
        "            u1r_0p = project(u1r_0,V1)\n",
        "            u0i_0p = project(u0i_0,V0)\n",
        "            u1i_0p = project(u1i_0,V1)\n",
        "            \n",
        "            if mydomain.tdim==mydomain.gdim and not(plt==None):\n",
        "                plt.figure(10000);\n",
        "                plot(u0r_0p, cmap=\"coolwarm\")\n",
        "                plt.figure(10001);            \n",
        "                plot(u1r_0p, cmap=\"coolwarm\")  \n",
        "            File(\"u0r.pvd\")<<u0r_0p\n",
        "            File(\"u1r.pvd\")<<u1r_0p\n",
        "            File(\"u0i.pvd\")<<u0i_0p\n",
        "            File(\"u1i.pvd\")<<u1i_0p\n",
        "        except:\n",
        "            print(\"Could not post-process the solutions for the visualization purposes due to some reasons.\")\n",
        "    else:\n",
        "        ur, ui = split(mri_simu.u_0)\n",
        "        signal = assemble(ur*dx);\n",
        "        out_text = 'b: %.3f, g: %.3f, q: %.3e, Signal: %.3e, Normalized signal: %.6e, dt: %.3f, hmin: %.3e, hmax: %.3e, whole_vol: %.3f, vol_of_interest: %.3f, Free signal: %.3e, elasped time %.3f (s)\\n'%(mri_para.bvalue, mri_para.gvalue, mri_para.qvalue, signal, signal/voi, mri_simu.k, mydomain.hmin, mydomain.hmax, whole_vol, voi, exp(-mri_para.bvalue*mydomain.D0), mri_simu.elapsed_time)\n",
        "        if rank==0:\n",
        "            print(out_text)\n",
        "        V = FunctionSpace(mydomain.mymesh,mydomain.Ve);\n",
        "        ur_p = project(ur,V)\n",
        "        if mydomain.tdim==mydomain.gdim and not(plt==None): \n",
        "            plt.figure(10000);\n",
        "            plot(ur_p, cmap=\"coolwarm\")\n",
        "        File(\"ur.pvd\")<<ur_p\n",
        "        \n",
        "    if int(rank) == 0:\n",
        "        print(\"save to log.txt\")\n",
        "        outfile = open('log.txt', 'a')\n",
        "        if not(ms == ''):\n",
        "            outfile.write('%'+ms+'\\n')\n",
        "        outfile.write(out_text)\n",
        "        outfile.close()\n",
        "\n",
        "####\n",
        "\n",
        "bvalues = [1000]\n",
        "signals = [];\n",
        "for bvalue in bvalues:\n",
        "    #################################################################################\n",
        "    #########################  Pre-defined parameters ###############################\n",
        "    mri_para.stype='PGSE'                                # sequence type\n",
        "    mri_para.bvalue = bvalue;                            # bvalue\n",
        "    mri_para.delta, mri_para.Delta = 5000, 5000           # time sequence\n",
        "    mri_para.set_gradient_dir(mymesh, 1, 1, 0)           # gradient direction\n",
        "\n",
        "    mri_para.T = mri_para.Delta+mri_para.delta\n",
        "    mri_para.fs_sym = sp.Piecewise(\n",
        "                    (  1., mri_para.s < mri_para.delta ),\n",
        "                    (  0., mri_para.s < mri_para.Delta ),\n",
        "                    ( -1., mri_para.s < mri_para.T ),\n",
        "                    (  0., True )  \n",
        "                ) \n",
        "\n",
        "\n",
        "    mri_para.Apply()\n",
        "    mri_simu.k = 100;                                    # time-step size\n",
        "    mri_simu.nskip = 5;                                  # frequency to print ouputs\n",
        "    mydomain = MyDomain(mymesh, mri_para)\n",
        "    mydomain.phase = phase \n",
        "    mydomain.PeriodicDir = [1, 1, 0];             # Direction of the periodicity\n",
        "    mydomain.IsDomainPeriodic = True              # Confirm if the mesh if periodic\n",
        "    mydomain.IsDomainMultiple = True             # Confirm if the mesh is multiple\n",
        "    ################################################################################\n",
        "    mydomain.kappa_e_scalar = 5e-5;\n",
        "    mydomain.kappa = 1e-5;\n",
        "    mydomain.Apply()   # Call Apply before setting the diffusion tensor\n",
        "    ################################################################################\n",
        "    # Impose the diffusion coefficient\n",
        "    mydomain.D0 = 3e-3\n",
        "    mydomain.D  = mydomain.D0;\n",
        "    #################################################################################\n",
        "\n",
        "    # linsolver = PETScLUSolver(\"mumps\")\n",
        "    linsolver = KrylovSolver(\"bicgstab\")\n",
        "\n",
        "    mri_simu.solve(mydomain, mri_para, linsolver)\n",
        "\n",
        "    ctext = \"\"\n",
        "    if bvalue==0:\n",
        "        ctext = \"2D realistic neuron, kcoeff=3e-3, delta=10600us, Delta=43100us, dt=200us, gdir=100\"\n",
        "    Post_processing(mydomain, mri_para, mri_simu, plt, ctext)\n",
        "    "
      ],
      "execution_count": 30,
      "outputs": [
        {
          "output_type": "stream",
          "text": [
            "Function Space for Two-compartment Domains has 4 components\n",
            "(ur0, ui0, ur1, ur1): r-real, i-imaginary\n",
            "Initialize peridodic function spaces.\n",
            "The pseudo-periodic BCS are strongly imposed.\n",
            "The mesh needs to be periodic.\n",
            "t:   0.00  T: 10000.00 dt: 100.0 qvalue: 1.095445e-04 Completed 0.00%\n",
            "t: 500.00  T: 10000.00 dt: 100.0 qvalue: 1.095445e-04 Completed 4.95%\n",
            "t: 1000.00  T: 10000.00 dt: 100.0 qvalue: 1.095445e-04 Completed 9.90%\n",
            "t: 1500.00  T: 10000.00 dt: 100.0 qvalue: 1.095445e-04 Completed 14.85%\n",
            "t: 2000.00  T: 10000.00 dt: 100.0 qvalue: 1.095445e-04 Completed 19.80%\n",
            "t: 2500.00  T: 10000.00 dt: 100.0 qvalue: 1.095445e-04 Completed 24.75%\n",
            "t: 3000.00  T: 10000.00 dt: 100.0 qvalue: 1.095445e-04 Completed 29.70%\n",
            "t: 3500.00  T: 10000.00 dt: 100.0 qvalue: 1.095445e-04 Completed 34.65%\n",
            "t: 4000.00  T: 10000.00 dt: 100.0 qvalue: 1.095445e-04 Completed 39.60%\n",
            "t: 4500.00  T: 10000.00 dt: 100.0 qvalue: 1.095445e-04 Completed 44.55%\n",
            "t: 5000.00  T: 10000.00 dt: 100.0 qvalue: 1.095445e-04 Completed 49.50%\n",
            "t: 5500.00  T: 10000.00 dt: 100.0 qvalue: 1.095445e-04 Completed 54.46%\n",
            "t: 6000.00  T: 10000.00 dt: 100.0 qvalue: 1.095445e-04 Completed 59.41%\n",
            "t: 6500.00  T: 10000.00 dt: 100.0 qvalue: 1.095445e-04 Completed 64.36%\n",
            "t: 7000.00  T: 10000.00 dt: 100.0 qvalue: 1.095445e-04 Completed 69.31%\n",
            "t: 7500.00  T: 10000.00 dt: 100.0 qvalue: 1.095445e-04 Completed 74.26%\n",
            "t: 8000.00  T: 10000.00 dt: 100.0 qvalue: 1.095445e-04 Completed 79.21%\n",
            "t: 8500.00  T: 10000.00 dt: 100.0 qvalue: 1.095445e-04 Completed 84.16%\n",
            "t: 9000.00  T: 10000.00 dt: 100.0 qvalue: 1.095445e-04 Completed 89.11%\n",
            "t: 9500.00  T: 10000.00 dt: 100.0 qvalue: 1.095445e-04 Completed 94.06%\n",
            "t: 10000.00  T: 10000.00 dt: 100.0 qvalue: 1.095445e-04 Completed 99.01%\n",
            "Successfully Completed! Elapsed time: 37.729595 seconds\n",
            "Signal on each compartment\n",
            "Sum initial0: 4.349e+01, Signal0: 1.259e+01\n",
            "Sum initial1: 5.651e+01, Signal1: 4.547e+01\n",
            "b: 1000.000, g: 0.410, q: 1.095e-04, Signal: 5.806e+01, Normalized signal: 5.805768e-01, kappa: 1.000e-05, dt: 100.000, hmin: 1.369e-01, hmax: 2.838e-01, whole_vol: 100.000, vol_of_interest: 100.000, Free signal: 4.979e-02, elasped time 37.730 (s)\n",
            "\n"
          ],
          "name": "stdout"
        },
        {
          "output_type": "stream",
          "text": [
            "DEBUG:matplotlib.axes._base:update_title_pos\n",
            "DEBUG:matplotlib.axes._base:update_title_pos\n",
            "DEBUG:matplotlib.axes._base:update_title_pos\n",
            "DEBUG:matplotlib.axes._base:update_title_pos\n",
            "DEBUG:matplotlib.axes._base:update_title_pos\n"
          ],
          "name": "stderr"
        },
        {
          "output_type": "stream",
          "text": [
            "save to log.txt\n"
          ],
          "name": "stdout"
        },
        {
          "output_type": "stream",
          "text": [
            "DEBUG:matplotlib.axes._base:update_title_pos\n"
          ],
          "name": "stderr"
        },
        {
          "output_type": "display_data",
          "data": {
            "text/plain": [
              "<Figure size 432x288 with 1 Axes>"
            ],
            "image/png": "[encoded data removed]"
          },
          "metadata": {
            "tags": [],
            "needs_background": "light"
          }
        },
        {
          "output_type": "stream",
          "text": [
            "DEBUG:matplotlib.axes._base:update_title_pos\n",
            "DEBUG:matplotlib.axes._base:update_title_pos\n",
            "DEBUG:matplotlib.axes._base:update_title_pos\n",
            "DEBUG:matplotlib.axes._base:update_title_pos\n"
          ],
          "name": "stderr"
        },
        {
          "output_type": "display_data",
          "data": {
            "text/plain": [
              "<Figure size 432x288 with 1 Axes>"
            ],
            "image/png": "[encoded data removed]"
          },
          "metadata": {
            "tags": [],
            "needs_background": "light"
          }
        }
      ]
    }
  ]
}