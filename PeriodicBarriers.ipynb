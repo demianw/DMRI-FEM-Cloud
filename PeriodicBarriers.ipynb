{
  "nbformat": 4,
  "nbformat_minor": 0,
  "metadata": {
    "colab": {
      "name": "PeriodicBarriers.ipynb",
      "version": "0.3.2",
      "provenance": [],
      "collapsed_sections": [
        "vS_YdSbqFOln",
        "9SJXe6I5JUwF",
        "6l4kvMZQb3z6",
        "r6GW2fwLE042"
      ],
      "toc_visible": true,
      "include_colab_link": true
    },
    "kernelspec": {
      "name": "python3",
      "display_name": "Python 3"
    },
    "accelerator": "GPU"
  },
  "cells": [
    {
      "cell_type": "markdown",
      "metadata": {
        "id": "view-in-github",
        "colab_type": "text"
      },
      "source": [
        "<a href=\"https://colab.research.google.com/github/van-dang/MRI-Cloud/blob/master/PeriodicBarriers.ipynb\" target=\"_parent\"><img src=\"https://colab.research.google.com/assets/colab-badge.svg\" alt=\"Open In Colab\"/></a>"
      ]
    },
    {
      "cell_type": "markdown",
      "metadata": {
        "id": "vS_YdSbqFOln",
        "colab_type": "text"
      },
      "source": [
        "# About the code"
      ]
    },
    {
      "cell_type": "code",
      "metadata": {
        "id": "CiQ9r51xKgWh",
        "colab_type": "code",
        "colab": {}
      },
      "source": [
        "# This program solves the Bloch-Torrey equation applied to computational diffusion MRI using \n",
        "# the finite element method coupled with the theta-method for the spatial discretization.\n",
        "\n",
        "# The scope of usage: \n",
        "# (1) Single domains, Multilayered structures, manifolds\n",
        "# (2) Membrane permeability for internal interfaces\n",
        "#     Artificial permeability at the external interfaces\n",
        "# (3) pure homogeneous Neumann BCs, (4) pseudo-periodic BCs\n",
        "\n",
        "# Copyright (C) 2019 Van-Dang Nguyen (vdnguyen@kth.se)\n",
        "\n",
        "# This file is part of DOLFIN.\n",
        "\n",
        "# DOLFIN is free software: you can redistribute it and/or modify\n",
        "# it under the terms of the GNU Lesser General Public License as published by\n",
        "# the Free Software Foundation, either version 3 of the License, or\n",
        "# (at your option) any later version.\n",
        "\n",
        "# DOLFIN is distributed in the hope that it will be useful,\n",
        "# but WITHOUT ANY WARRANTY; without even the implied warranty of\n",
        "# MERCHANTABILITY or FITNESS FOR A PARTICULAR PURPOSE. See the\n",
        "# GNU Lesser General Public License for more details.\n",
        "\n",
        "# You should have received a copy of the GNU Lesser General Public License\n",
        "# along with DOLFIN. If not, see <http://www.gnu.org/licenses/>.\n",
        "\n",
        "# First added:  2017-10-10\n",
        "# Last changed: 2019-04-25\n",
        "\n",
        "# This demo is maintained by Van-Dang Nguyen\n",
        "# Please report possible problems to vdnguyen@kth.se"
      ],
      "execution_count": 0,
      "outputs": []
    },
    {
      "cell_type": "markdown",
      "metadata": {
        "id": "9SJXe6I5JUwF",
        "colab_type": "text"
      },
      "source": [
        "# Setting a working environment with FEniCS"
      ]
    },
    {
      "cell_type": "code",
      "metadata": {
        "id": "4jWzVxURFVLj",
        "colab_type": "code",
        "outputId": "6d7a0c68-fa54-4621-f6b6-f7fd8570307a",
        "colab": {
          "base_uri": "https://localhost:8080/",
          "height": 51
        }
      },
      "source": [
        "try:\n",
        "    from google.colab import files\n",
        "except:\n",
        "    print(\"This is not google.colab\")\n",
        "    \n",
        "import platform, sys\n",
        "python_version=platform.python_version()\n",
        "from distutils.version import LooseVersion, StrictVersion\n",
        "\n",
        "if ( LooseVersion(python_version) < LooseVersion(\"3.0.0\")):\n",
        "    print(\"Python3 is needed!\");\n",
        "    print(\"How to fix: Runtime/Change_runtime_type/Python 3\");\n",
        "    sys.exit()\n",
        "    \n",
        "try:\n",
        "    from dolfin import *; from mshr import *\n",
        "except ImportError as e:\n",
        "    !apt-get install -y -qq software-properties-common python-software-properties module-init-tools\n",
        "    !add-apt-repository -y ppa:fenics-packages/fenics\n",
        "    !apt-get update -qq\n",
        "    !apt install -y --no-install-recommends fenics\n",
        "    from dolfin import *; from mshr import *\n",
        "\n",
        "gmsh_dir=!which gmsh\n",
        "if len(gmsh_dir)==0:\n",
        "    !sudo apt-get update\n",
        "    !sudo apt-get install -y gmsh\n",
        "    \n",
        "import matplotlib.pyplot as plt;\n",
        "from IPython.display import clear_output, display; import time; import dolfin.common.plotting as fenicsplot \n",
        "import time\n",
        "\n",
        "import os, sys, shutil\n",
        "\n",
        "# clear_output()\n",
        "\n",
        "dolfin_version = dolfin.__version__\n",
        "print ('dolfin version:', dolfin_version)\n",
        "\n",
        "# Disable warnings\n",
        "import logging\n",
        "logging.basicConfig(level=logging.DEBUG)\n",
        "logger = logging.getLogger(\"rothemain.rothe_utils\")\n",
        "logging.getLogger('UFL').setLevel(logging.WARNING)\n",
        "logging.getLogger('FFC').setLevel(logging.WARNING)\n",
        "\n",
        "import warnings\n",
        "warnings.filterwarnings(\"ignore\")\n"
      ],
      "execution_count": 20,
      "outputs": [
        {
          "output_type": "stream",
          "text": [
            "This is not google.colab\n",
            "dolfin version: 2019.1.0\n"
          ],
          "name": "stdout"
        }
      ]
    },
    {
      "cell_type": "markdown",
      "metadata": {
        "id": "6l4kvMZQb3z6",
        "colab_type": "text"
      },
      "source": [
        "#Load pre-defined functions"
      ]
    },
    {
      "cell_type": "code",
      "metadata": {
        "id": "x3L26nGPb7kZ",
        "colab_type": "code",
        "outputId": "a35f813f-b748-44fb-8a46-047545746c82",
        "colab": {
          "base_uri": "https://localhost:8080/",
          "height": 34
        }
      },
      "source": [
        "import sympy as sp  \n",
        "exists = os.path.isfile('DmriFemBuitInFunc.py')\n",
        "isupdate = False\n",
        "if (exists==False or isupdate==True):\n",
        "    if isupdate==True:\n",
        "        !rm DmriFemBuitInFunc.py\n",
        "    print(\"Load pre-defined functions from GitHub\")\n",
        "    !wget --quiet https://raw.githubusercontent.com/van-dang/MRI-Cloud/master/DmriFemBuitInFunc.py\n",
        "from DmriFemBuitInFunc import *"
      ],
      "execution_count": 5,
      "outputs": [
        {
          "output_type": "stream",
          "text": [
            "Load pre-defined functions from GitHub\n"
          ],
          "name": "stdout"
        }
      ]
    },
    {
      "cell_type": "markdown",
      "metadata": {
        "id": "r6GW2fwLE042",
        "colab_type": "text"
      },
      "source": [
        "# Working on the mesh"
      ]
    },
    {
      "cell_type": "code",
      "metadata": {
        "id": "ksCOgH6e6d8e",
        "colab_type": "code",
        "outputId": "805081de-273f-43d5-fc8e-3d14f6ed6293",
        "colab": {
          "base_uri": "https://localhost:8080/",
          "height": 71
        }
      },
      "source": [
        "mesh_name = \"CirclesInSquare\"\n",
        "is_partition_function_exist = os.path.isfile('GetPartitionMarkers.py')\n",
        "if is_partition_function_exist==False:\n",
        "    !wget --quiet https://raw.githubusercontent.com/van-dang/MRI-Cloud/mesh/GetPartitionMarkers.py\n",
        "\n",
        "is_geo_file_exist = os.path.isfile(mesh_name+'.geo')  \n",
        "if is_geo_file_exist==False:\n",
        "    !wget --quiet https://raw.githubusercontent.com/van-dang/MRI-Cloud/mesh/$mesh_name''.geo\n",
        "\n",
        "# Create mesh from geo file by gmsh\n",
        "!gmsh -2 $mesh_name''.geo -o $mesh_name''.msh\n",
        "\n",
        "'''\n",
        "# Convert .msh to .xml using dolfin-convert\n",
        "!dolfin-convert $mesh_name''.msh $mesh_name''.xml\n",
        "clear_output()\n",
        "\n",
        "mymesh = Mesh(mesh_name+\".xml\");  \n",
        "\n",
        "from GetPartitionMarkers import *\n",
        "\n",
        "GetPartitionMarkers(mesh_name+\".msh\", \"pmk_\"+mesh_name+\".xml\")\n",
        "\n",
        "partition_marker = MeshFunction(\"size_t\", mymesh, mymesh.topology().dim())\n",
        "\n",
        "File(\"pmk_\"+mesh_name+\".xml\")>>partition_marker\n",
        "\n",
        "cellmarker, phase, partition_marker, partion_list = Create_phase_func(mymesh, None, partition_marker)    \n",
        "'''\n"
      ],
      "execution_count": 7,
      "outputs": [
        {
          "output_type": "stream",
          "text": [
            "/bin/sh: 1: gmsh: not found\r\n"
          ],
          "name": "stdout"
        },
        {
          "output_type": "execute_result",
          "data": {
            "text/plain": [
              "'\\n# Convert .msh to .xml using dolfin-convert\\n!dolfin-convert $mesh_name\\'\\'.msh $mesh_name\\'\\'.xml\\nclear_output()\\n\\nmymesh = Mesh(mesh_name+\".xml\");  \\n\\nfrom GetPartitionMarkers import *\\n\\nGetPartitionMarkers(mesh_name+\".msh\", \"pmk_\"+mesh_name+\".xml\")\\n\\npartition_marker = MeshFunction(\"size_t\", mymesh, mymesh.topology().dim())\\n\\nFile(\"pmk_\"+mesh_name+\".xml\")>>partition_marker\\n\\ncellmarker, phase, partition_marker, partion_list = Create_phase_func(mymesh, None, partition_marker)    \\n'"
            ]
          },
          "metadata": {
            "tags": []
          },
          "execution_count": 7
        }
      ]
    },
    {
      "cell_type": "markdown",
      "metadata": {
        "id": "aFEvif9PF2yH",
        "colab_type": "text"
      },
      "source": [
        "# Solve the Bloch-Torrey equation"
      ]
    },
    {
      "cell_type": "code",
      "metadata": {
        "id": "DYZ5SWlw69tQ",
        "colab_type": "code",
        "outputId": "97c080dd-e46f-4991-d77b-ce46e6797829",
        "colab": {
          "base_uri": "https://localhost:8080/",
          "height": 71
        }
      },
      "source": [
        "mri_simu = MRI_simulation()\n",
        "mri_para = MRI_parameters()\n",
        "\n",
        "bvalues = [0, 500, 1000, 1500, 2000, 2500, 3000, 4000, 5000]\n",
        "signals = [];\n",
        "for bvalue in bvalues:\n",
        "    #################################################################################\n",
        "    #########################  Pre-defined parameters ###############################\n",
        "    mri_para.stype='PGSE'                                # sequence type\n",
        "    mri_para.bvalue = bvalue;                            # bvalue\n",
        "    mri_para.delta, mri_para.Delta = 500, 100000           # time sequence\n",
        "    mri_para.set_gradient_dir(mymesh, 1, 0, 0)           # gradient direction\n",
        "\n",
        "    mri_para.T = mri_para.Delta+mri_para.delta\n",
        "    mri_para.fs_sym = sp.Piecewise(\n",
        "                    (  1., mri_para.s < mri_para.delta ),\n",
        "                    (  0., mri_para.s < mri_para.Delta ),\n",
        "                    ( -1., mri_para.s < mri_para.T ),\n",
        "                    (  0., True )  \n",
        "                ) \n",
        "\n",
        "\n",
        "    mri_para.Apply()\n",
        "    mri_simu.k = 100;                                    # time-step size\n",
        "    mri_simu.nskip = 200;                                  # frequency to print ouputs\n",
        "    mydomain = MyDomain(mymesh, mri_para)\n",
        "    mydomain.phase = None\n",
        "    mydomain.PeriodicDir = [1, 0, 0];             # Direction of the periodicity\n",
        "    mydomain.IsDomainPeriodic = False              # Confirm if the mesh if periodic\n",
        "    mydomain.IsDomainMultiple = False             # Confirm if the mesh is multiple\n",
        "    ################################################################################\n",
        "    mydomain.kappa_e_scalar = 5e-5;\n",
        "    mydomain.Apply()   # Call Apply before setting the diffusion tensor\n",
        "    ################################################################################\n",
        "    # Impose the diffusion coefficient\n",
        "    mydomain.D0 = 3e-3\n",
        "    mydomain.D  = mydomain.D0;\n",
        "    #################################################################################\n",
        "\n",
        "    # linsolver = PETScLUSolver(\"mumps\")\n",
        "    linsolver = KrylovSolver(\"bicgstab\")\n",
        "\n",
        "    mri_simu.solve(mydomain, mri_para, linsolver)\n",
        "\n",
        "    ctext = \"\"\n",
        "    if bvalue==0:\n",
        "        ctext = \"2D realistic neuron, kcoeff=3e-3, delta=10600us, Delta=43100us, dt=200us, gdir=100\"\n",
        "    Post_processing(mydomain, mri_para, mri_simu, None, ctext)\n",
        "    \n",
        "    ur, ui = split(mri_simu.u_0)\n",
        "    signal = assemble(ur*dx)\n",
        "    signals.append(signal)\n",
        "\n",
        "clear_output()    \n",
        "print(bvalues)\n",
        "print(signals)"
      ],
      "execution_count": 0,
      "outputs": [
        {
          "output_type": "stream",
          "text": [
            "[0, 500, 1000, 1500, 2000, 2500, 3000, 4000, 5000]\n",
            "[49.41313401559501, 42.45322494175274, 36.74060329577961, 32.02475585665777, 28.10810555619855, 24.837418857473423, 22.09009240515948, 17.80268149971606, 14.683385544071617]\n"
          ],
          "name": "stdout"
        }
      ]
    }
  ]
}