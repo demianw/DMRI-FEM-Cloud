{
  "nbformat": 4,
  "nbformat_minor": 0,
  "metadata": {
    "colab": {
      "name": "PeriodicBarriers.ipynb",
      "version": "0.3.2",
      "provenance": [],
      "collapsed_sections": [
        "vS_YdSbqFOln",
        "9SJXe6I5JUwF",
        "6l4kvMZQb3z6",
        "r6GW2fwLE042"
      ],
      "toc_visible": true,
      "include_colab_link": true
    },
    "kernelspec": {
      "name": "python3",
      "display_name": "Python 3"
    },
    "accelerator": "GPU"
  },
  "cells": [
    {
      "cell_type": "markdown",
      "metadata": {
        "id": "view-in-github",
        "colab_type": "text"
      },
      "source": [
        "<a href=\"https://colab.research.google.com/github/van-dang/MRI-Cloud/blob/master/PeriodicBarriers.ipynb\" target=\"_parent\"><img src=\"https://colab.research.google.com/assets/colab-badge.svg\" alt=\"Open In Colab\"/></a>"
      ]
    },
    {
      "cell_type": "markdown",
      "metadata": {
        "id": "vS_YdSbqFOln",
        "colab_type": "text"
      },
      "source": [
        "# About the code"
      ]
    },
    {
      "cell_type": "code",
      "metadata": {
        "id": "CiQ9r51xKgWh",
        "colab_type": "code",
        "colab": {}
      },
      "source": [
        "# This program solves the Bloch-Torrey equation applied to computational diffusion MRI using \n",
        "# the finite element method coupled with the theta-method for the spatial discretization.\n",
        "\n",
        "# The scope of usage: \n",
        "# (1) Single domains, Multilayered structures, manifolds\n",
        "# (2) Membrane permeability for internal interfaces\n",
        "#     Artificial permeability at the external interfaces\n",
        "# (3) pure homogeneous Neumann BCs, (4) pseudo-periodic BCs\n",
        "\n",
        "# Copyright (C) 2019 Van-Dang Nguyen (vdnguyen@kth.se)\n",
        "\n",
        "# This file is part of DOLFIN.\n",
        "\n",
        "# DOLFIN is free software: you can redistribute it and/or modify\n",
        "# it under the terms of the GNU Lesser General Public License as published by\n",
        "# the Free Software Foundation, either version 3 of the License, or\n",
        "# (at your option) any later version.\n",
        "\n",
        "# DOLFIN is distributed in the hope that it will be useful,\n",
        "# but WITHOUT ANY WARRANTY; without even the implied warranty of\n",
        "# MERCHANTABILITY or FITNESS FOR A PARTICULAR PURPOSE. See the\n",
        "# GNU Lesser General Public License for more details.\n",
        "\n",
        "# You should have received a copy of the GNU Lesser General Public License\n",
        "# along with DOLFIN. If not, see <http://www.gnu.org/licenses/>.\n",
        "\n",
        "# First added:  2017-10-10\n",
        "# Last changed: 2019-04-25\n",
        "\n",
        "# This demo is maintained by Van-Dang Nguyen\n",
        "# Please report possible problems to vdnguyen@kth.se"
      ],
      "execution_count": 0,
      "outputs": []
    },
    {
      "cell_type": "markdown",
      "metadata": {
        "id": "9SJXe6I5JUwF",
        "colab_type": "text"
      },
      "source": [
        "# Setting a working environment with FEniCS"
      ]
    },
    {
      "cell_type": "code",
      "metadata": {
        "id": "4jWzVxURFVLj",
        "colab_type": "code",
        "outputId": "62755a58-76ee-4bb1-f8c6-31839cc26927",
        "colab": {
          "base_uri": "https://localhost:8080/",
          "height": 51
        }
      },
      "source": [
        "# !rm *.py *.xml *.txt *.zip *.pvd *.vtu *.geo *.msh\n",
        "try:\n",
        "    from google.colab import files\n",
        "except:\n",
        "    print(\"This is not google.colab\")\n",
        "    \n",
        "import platform, sys\n",
        "python_version=platform.python_version()\n",
        "from distutils.version import LooseVersion, StrictVersion\n",
        "\n",
        "if ( LooseVersion(python_version) < LooseVersion(\"3.0.0\")):\n",
        "    print(\"Python3 is needed!\");\n",
        "    print(\"How to fix: Runtime/Change_runtime_type/Python 3\");\n",
        "    sys.exit()\n",
        "    \n",
        "try:\n",
        "    from dolfin import *; from mshr import *\n",
        "except ImportError as e:\n",
        "    !apt-get install -y -qq software-properties-common python-software-properties module-init-tools\n",
        "    !add-apt-repository -y ppa:fenics-packages/fenics\n",
        "    !apt-get update -qq\n",
        "    !apt install -y --no-install-recommends fenics\n",
        "    from dolfin import *; from mshr import *\n",
        "\n",
        "gmsh_dir=!which gmsh\n",
        "if len(gmsh_dir)==0:\n",
        "    !sudo apt-get update\n",
        "    !sudo apt-get install -y gmsh\n",
        "    \n",
        "import matplotlib.pyplot as plt;\n",
        "from IPython.display import clear_output, display; import time; import dolfin.common.plotting as fenicsplot \n",
        "import time\n",
        "\n",
        "import os, sys, shutil\n",
        "\n",
        "dolfin_version = dolfin.__version__\n",
        "print ('dolfin version:', dolfin_version)\n",
        "\n",
        "# Disable warnings\n",
        "import logging\n",
        "logging.basicConfig(level=logging.DEBUG)\n",
        "logger = logging.getLogger(\"rothemain.rothe_utils\")\n",
        "logging.getLogger('UFL').setLevel(logging.WARNING)\n",
        "logging.getLogger('FFC').setLevel(logging.WARNING)\n",
        "\n",
        "import warnings\n",
        "warnings.filterwarnings(\"ignore\")\n"
      ],
      "execution_count": 14,
      "outputs": [
        {
          "output_type": "stream",
          "text": [
            "This is not google.colab\n",
            "dolfin version: 2019.1.0\n"
          ],
          "name": "stdout"
        }
      ]
    },
    {
      "cell_type": "markdown",
      "metadata": {
        "id": "6l4kvMZQb3z6",
        "colab_type": "text"
      },
      "source": [
        "#Load pre-defined functions"
      ]
    },
    {
      "cell_type": "code",
      "metadata": {
        "id": "x3L26nGPb7kZ",
        "colab_type": "code",
        "outputId": "3a913a5e-3880-4464-a05e-17d7a1f1a349",
        "colab": {
          "base_uri": "https://localhost:8080/",
          "height": 34
        }
      },
      "source": [
        "import sympy as sp  \n",
        "exists = os.path.isfile('DmriFemBuitInFunc.py')\n",
        "isupdate = False\n",
        "if (exists==False or isupdate==True):\n",
        "    if isupdate==True:\n",
        "        !rm DmriFemBuitInFunc.py\n",
        "    print(\"Load pre-defined functions from GitHub\")\n",
        "    !wget --quiet https://raw.githubusercontent.com/van-dang/MRI-Cloud/master/DmriFemBuitInFunc.py\n",
        "from DmriFemBuitInFunc import *"
      ],
      "execution_count": 15,
      "outputs": [
        {
          "output_type": "stream",
          "text": [
            "Load pre-defined functions from GitHub\n"
          ],
          "name": "stdout"
        }
      ]
    },
    {
      "cell_type": "markdown",
      "metadata": {
        "id": "r6GW2fwLE042",
        "colab_type": "text"
      },
      "source": [
        "# Working on the mesh"
      ]
    },
    {
      "cell_type": "code",
      "metadata": {
        "id": "ksCOgH6e6d8e",
        "colab_type": "code",
        "outputId": "a5d0d367-ddf3-4288-efbc-139cc07b1123",
        "colab": {
          "base_uri": "https://localhost:8080/",
          "height": 85
        }
      },
      "source": [
        "mesh_name = \"CirclesInSquare\"\n",
        "is_partition_function_exist = os.path.isfile('GetPartitionMarkers.py')\n",
        "if is_partition_function_exist==False:\n",
        "    !wget --quiet https://raw.githubusercontent.com/van-dang/MRI-Cloud/mesh/GetPartitionMarkers.py\n",
        "\n",
        "is_geo_file_exist = os.path.isfile(mesh_name+'.geo')  \n",
        "if is_geo_file_exist==False:\n",
        "    !wget --quiet https://raw.githubusercontent.com/van-dang/MRI-Cloud/mesh/$mesh_name''.geo\n",
        "\n",
        "# Create mesh from geo file by gmsh\n",
        "!gmsh -2 $mesh_name''.geo -o $mesh_name''.msh\n",
        "\n",
        "\n",
        "# Convert .msh to .xml using dolfin-convert\n",
        "!dolfin-convert $mesh_name''.msh $mesh_name''.xml\n",
        "clear_output()\n",
        "\n",
        "mymesh = Mesh(mesh_name+\".xml\");  \n",
        "\n",
        "from GetPartitionMarkers import *\n",
        "\n",
        "GetPartitionMarkers(mesh_name+\".msh\", \"pmk_\"+mesh_name+\".xml\")\n",
        "\n",
        "partition_marker = MeshFunction(\"size_t\", mymesh, mymesh.topology().dim())\n",
        "\n",
        "File(\"pmk_\"+mesh_name+\".xml\")>>partition_marker\n",
        "\n",
        "cellmarker, phase, partition_marker, partion_list = Create_phase_func(mymesh, None, partition_marker)    \n",
        "\n",
        "File(\"Phase.pvd\")<<phase\n"
      ],
      "execution_count": 4,
      "outputs": [
        {
          "output_type": "stream",
          "text": [
            "Extracting cell markers from: CirclesInSquare.msh ...\n",
            "Extracted successfully on: 6614 elements\n",
            "Partition marker list: ['1', '0']\n",
            "Wrote to: pmk_CirclesInSquare.xml\n"
          ],
          "name": "stdout"
        }
      ]
    },
    {
      "cell_type": "markdown",
      "metadata": {
        "id": "aFEvif9PF2yH",
        "colab_type": "text"
      },
      "source": [
        "# Solve the Bloch-Torrey equation"
      ]
    },
    {
      "cell_type": "code",
      "metadata": {
        "id": "DYZ5SWlw69tQ",
        "colab_type": "code",
        "outputId": "d3af72c6-ec19-48bf-a46f-d2454f8e6499",
        "colab": {
          "base_uri": "https://localhost:8080/",
          "height": 915
        }
      },
      "source": [
        "mri_simu = MRI_simulation()\n",
        "mri_para = MRI_parameters()\n",
        "\n",
        "bvalues = [1000]\n",
        "signals = [];\n",
        "for bvalue in bvalues:\n",
        "    #################################################################################\n",
        "    #########################  Pre-defined parameters ###############################\n",
        "    mri_para.stype='PGSE'                                # sequence type\n",
        "    mri_para.bvalue = bvalue;                            # bvalue\n",
        "    mri_para.delta, mri_para.Delta = 5000, 5000           # time sequence\n",
        "    mri_para.set_gradient_dir(mymesh, 1, 1, 0)           # gradient direction\n",
        "\n",
        "    mri_para.T = mri_para.Delta+mri_para.delta\n",
        "    mri_para.fs_sym = sp.Piecewise(\n",
        "                    (  1., mri_para.s < mri_para.delta ),\n",
        "                    (  0., mri_para.s < mri_para.Delta ),\n",
        "                    ( -1., mri_para.s < mri_para.T ),\n",
        "                    (  0., True )  \n",
        "                ) \n",
        "\n",
        "\n",
        "    mri_para.Apply()\n",
        "    mri_simu.k = 100;                                    # time-step size\n",
        "    mri_simu.nskip = 5;                                  # frequency to print ouputs\n",
        "    mydomain = MyDomain(mymesh, mri_para)\n",
        "    mydomain.phase = phase\n",
        "    mydomain.PeriodicDir = [1, 1, 0];             # Direction of the periodicity\n",
        "    mydomain.IsDomainPeriodic = True              # Confirm if the mesh if periodic\n",
        "    mydomain.IsDomainMultiple = True             # Confirm if the mesh is multiple\n",
        "    ################################################################################\n",
        "    mydomain.kappa_e_scalar = 5e-5;\n",
        "    mydomain.kappa = 1e-5;\n",
        "    mydomain.Apply()   # Call Apply before setting the diffusion tensor\n",
        "    ################################################################################\n",
        "    # Impose the diffusion coefficient\n",
        "    mydomain.D0 = 3e-3\n",
        "    mydomain.D  = mydomain.D0;\n",
        "    #################################################################################\n",
        "\n",
        "    # linsolver = PETScLUSolver(\"mumps\")\n",
        "    linsolver = KrylovSolver(\"bicgstab\")\n",
        "\n",
        "    mri_simu.solve(mydomain, mri_para, linsolver)\n",
        "\n",
        "    ctext = \"\"\n",
        "    if bvalue==0:\n",
        "        ctext = \"2D realistic neuron, kcoeff=3e-3, delta=10600us, Delta=43100us, dt=200us, gdir=100\"\n",
        "    Post_processing(mydomain, mri_para, mri_simu, None, ctext)\n",
        "    \n",
        "    ur, ui = split(mri_simu.u_0)\n",
        "    signal = assemble(ur*dx)\n",
        "    signals.append(signal)\n"
      ],
      "execution_count": 9,
      "outputs": [
        {
          "output_type": "stream",
          "text": [
            "Function Space for Two-compartment Domains has 4 components\n",
            "(ur0, ui0, ur1, ur1): r-real, i-imaginary\n",
            "Initialize peridodic function spaces.\n",
            "The pseudo-periodic BCS are strongly imposed.\n",
            "The mesh needs to be periodic.\n",
            "t:   0.00  T: 10000.00 dt: 100.0 qvalue: 1.095445e-04 Completed 0.00%\n",
            "t: 500.00  T: 10000.00 dt: 100.0 qvalue: 1.095445e-04 Completed 4.95%\n",
            "t: 1000.00  T: 10000.00 dt: 100.0 qvalue: 1.095445e-04 Completed 9.90%\n",
            "t: 1500.00  T: 10000.00 dt: 100.0 qvalue: 1.095445e-04 Completed 14.85%\n",
            "t: 2000.00  T: 10000.00 dt: 100.0 qvalue: 1.095445e-04 Completed 19.80%\n",
            "t: 2500.00  T: 10000.00 dt: 100.0 qvalue: 1.095445e-04 Completed 24.75%\n",
            "t: 3000.00  T: 10000.00 dt: 100.0 qvalue: 1.095445e-04 Completed 29.70%\n",
            "t: 3500.00  T: 10000.00 dt: 100.0 qvalue: 1.095445e-04 Completed 34.65%\n",
            "t: 4000.00  T: 10000.00 dt: 100.0 qvalue: 1.095445e-04 Completed 39.60%\n",
            "t: 4500.00  T: 10000.00 dt: 100.0 qvalue: 1.095445e-04 Completed 44.55%\n",
            "t: 5000.00  T: 10000.00 dt: 100.0 qvalue: 1.095445e-04 Completed 49.50%\n",
            "t: 5500.00  T: 10000.00 dt: 100.0 qvalue: 1.095445e-04 Completed 54.46%\n",
            "t: 6000.00  T: 10000.00 dt: 100.0 qvalue: 1.095445e-04 Completed 59.41%\n",
            "t: 6500.00  T: 10000.00 dt: 100.0 qvalue: 1.095445e-04 Completed 64.36%\n",
            "t: 7000.00  T: 10000.00 dt: 100.0 qvalue: 1.095445e-04 Completed 69.31%\n",
            "t: 7500.00  T: 10000.00 dt: 100.0 qvalue: 1.095445e-04 Completed 74.26%\n",
            "t: 8000.00  T: 10000.00 dt: 100.0 qvalue: 1.095445e-04 Completed 79.21%\n",
            "t: 8500.00  T: 10000.00 dt: 100.0 qvalue: 1.095445e-04 Completed 84.16%\n",
            "t: 9000.00  T: 10000.00 dt: 100.0 qvalue: 1.095445e-04 Completed 89.11%\n",
            "t: 9500.00  T: 10000.00 dt: 100.0 qvalue: 1.095445e-04 Completed 94.06%\n",
            "t: 10000.00  T: 10000.00 dt: 100.0 qvalue: 1.095445e-04 Completed 99.01%\n",
            "Successfully Completed! Elapsed time: 201.246963 seconds\n",
            "Signal on each compartment\n",
            "Sum initial0: 4.349e+01, Signal0: 1.259e+01\n",
            "Sum initial1: 5.651e+01, Signal1: 4.547e+01\n",
            "b: 1000.000, g: 0.410, q: 1.095e-04, Signal: 5.806e+01, Normalized signal: 5.805768e-01, kappa: 1.000e-05, dt: 100.000, hmin: 1.369e-01, hmax: 2.838e-01, whole_vol: 100.000, vol_of_interest: 100.000, Free signal: 4.979e-02, elasped time 201.247 (s)\n",
            "\n"
          ],
          "name": "stdout"
        },
        {
          "output_type": "error",
          "ename": "AttributeError",
          "evalue": "ignored",
          "traceback": [
            "\u001b[0;31m\u001b[0m",
            "\u001b[0;31mAttributeError\u001b[0mTraceback (most recent call last)",
            "\u001b[0;32m<ipython-input-9-4b9308aa4a09>\u001b[0m in \u001b[0;36m<module>\u001b[0;34m\u001b[0m\n\u001b[1;32m     47\u001b[0m     \u001b[0;32mif\u001b[0m \u001b[0mbvalue\u001b[0m\u001b[0;34m==\u001b[0m\u001b[0;36m0\u001b[0m\u001b[0;34m:\u001b[0m\u001b[0;34m\u001b[0m\u001b[0;34m\u001b[0m\u001b[0m\n\u001b[1;32m     48\u001b[0m         \u001b[0mctext\u001b[0m \u001b[0;34m=\u001b[0m \u001b[0;34m\"2D realistic neuron, kcoeff=3e-3, delta=10600us, Delta=43100us, dt=200us, gdir=100\"\u001b[0m\u001b[0;34m\u001b[0m\u001b[0;34m\u001b[0m\u001b[0m\n\u001b[0;32m---> 49\u001b[0;31m     \u001b[0mPost_processing\u001b[0m\u001b[0;34m(\u001b[0m\u001b[0mmydomain\u001b[0m\u001b[0;34m,\u001b[0m \u001b[0mmri_para\u001b[0m\u001b[0;34m,\u001b[0m \u001b[0mmri_simu\u001b[0m\u001b[0;34m,\u001b[0m \u001b[0;32mNone\u001b[0m\u001b[0;34m,\u001b[0m \u001b[0mctext\u001b[0m\u001b[0;34m)\u001b[0m\u001b[0;34m\u001b[0m\u001b[0;34m\u001b[0m\u001b[0m\n\u001b[0m\u001b[1;32m     50\u001b[0m \u001b[0;34m\u001b[0m\u001b[0m\n\u001b[1;32m     51\u001b[0m     \u001b[0mur\u001b[0m\u001b[0;34m,\u001b[0m \u001b[0mui\u001b[0m \u001b[0;34m=\u001b[0m \u001b[0msplit\u001b[0m\u001b[0;34m(\u001b[0m\u001b[0mmri_simu\u001b[0m\u001b[0;34m.\u001b[0m\u001b[0mu_0\u001b[0m\u001b[0;34m)\u001b[0m\u001b[0;34m\u001b[0m\u001b[0;34m\u001b[0m\u001b[0m\n",
            "\u001b[0;32m~/DmriFemBuitInFunc.py\u001b[0m in \u001b[0;36mPost_processing\u001b[0;34m(mydomain, mri_para, mri_simu, plt, ms)\u001b[0m\n\u001b[1;32m    763\u001b[0m             \u001b[0mprint\u001b[0m\u001b[0;34m(\u001b[0m\u001b[0;34m'Sum initial1: %.3e, Signal1: %.3e'\u001b[0m\u001b[0;34m%\u001b[0m\u001b[0;34m(\u001b[0m\u001b[0minitial1\u001b[0m\u001b[0;34m,\u001b[0m \u001b[0msignal1\u001b[0m\u001b[0;34m)\u001b[0m\u001b[0;34m)\u001b[0m\u001b[0;34m\u001b[0m\u001b[0;34m\u001b[0m\u001b[0m\n\u001b[1;32m    764\u001b[0m             \u001b[0mprint\u001b[0m\u001b[0;34m(\u001b[0m\u001b[0mout_text\u001b[0m\u001b[0;34m)\u001b[0m\u001b[0;34m\u001b[0m\u001b[0;34m\u001b[0m\u001b[0m\n\u001b[0;32m--> 765\u001b[0;31m         \u001b[0mV0\u001b[0m \u001b[0;34m=\u001b[0m \u001b[0mFunctionSpace\u001b[0m\u001b[0;34m(\u001b[0m\u001b[0mmydomain\u001b[0m\u001b[0;34m.\u001b[0m\u001b[0mmesh0\u001b[0m\u001b[0;34m,\u001b[0m \u001b[0mmydomain\u001b[0m\u001b[0;34m.\u001b[0m\u001b[0mVe\u001b[0m\u001b[0;34m)\u001b[0m\u001b[0;34m;\u001b[0m\u001b[0;34m\u001b[0m\u001b[0;34m\u001b[0m\u001b[0m\n\u001b[0m\u001b[1;32m    766\u001b[0m         \u001b[0mV1\u001b[0m \u001b[0;34m=\u001b[0m \u001b[0mFunctionSpace\u001b[0m\u001b[0;34m(\u001b[0m\u001b[0mmydomain\u001b[0m\u001b[0;34m.\u001b[0m\u001b[0mmesh1\u001b[0m\u001b[0;34m,\u001b[0m \u001b[0mmydomain\u001b[0m\u001b[0;34m.\u001b[0m\u001b[0mVe\u001b[0m\u001b[0;34m)\u001b[0m\u001b[0;34m;\u001b[0m\u001b[0;34m\u001b[0m\u001b[0;34m\u001b[0m\u001b[0m\n\u001b[1;32m    767\u001b[0m         \u001b[0mu0r_0p\u001b[0m \u001b[0;34m=\u001b[0m \u001b[0mproject\u001b[0m\u001b[0;34m(\u001b[0m\u001b[0mu0r_0\u001b[0m\u001b[0;34m,\u001b[0m\u001b[0mV0\u001b[0m\u001b[0;34m)\u001b[0m\u001b[0;34m\u001b[0m\u001b[0;34m\u001b[0m\u001b[0m\n",
            "\u001b[0;31mAttributeError\u001b[0m: 'MyDomain' object has no attribute 'mesh0'"
          ]
        }
      ]
    }
  ]
}