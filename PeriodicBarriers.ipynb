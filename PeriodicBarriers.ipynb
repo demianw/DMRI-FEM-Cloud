{
  "nbformat": 4,
  "nbformat_minor": 0,
  "metadata": {
    "colab": {
      "name": "PeriodicBarriers.ipynb",
      "version": "0.3.2",
      "provenance": [],
      "collapsed_sections": [
        "vS_YdSbqFOln",
        "9SJXe6I5JUwF",
        "6l4kvMZQb3z6",
        "r6GW2fwLE042"
      ],
      "toc_visible": true,
      "include_colab_link": true
    },
    "kernelspec": {
      "name": "python3",
      "display_name": "Python 3"
    },
    "accelerator": "GPU"
  },
  "cells": [
    {
      "cell_type": "markdown",
      "metadata": {
        "id": "view-in-github",
        "colab_type": "text"
      },
      "source": [
        "<a href=\"https://colab.research.google.com/github/van-dang/MRI-Cloud/blob/master/PeriodicBarriers.ipynb\" target=\"_parent\"><img src=\"https://colab.research.google.com/assets/colab-badge.svg\" alt=\"Open In Colab\"/></a>"
      ]
    },
    {
      "cell_type": "markdown",
      "metadata": {
        "id": "vS_YdSbqFOln",
        "colab_type": "text"
      },
      "source": [
        "# About the code"
      ]
    },
    {
      "cell_type": "code",
      "metadata": {
        "id": "CiQ9r51xKgWh",
        "colab_type": "code",
        "colab": {}
      },
      "source": [
        "# This program solves the Bloch-Torrey equation applied to computational diffusion MRI using \n",
        "# the finite element method coupled with the theta-method for the spatial discretization.\n",
        "\n",
        "# The scope of usage: \n",
        "# (1) Single domains, Multilayered structures, manifolds\n",
        "# (2) Membrane permeability for internal interfaces\n",
        "#     Artificial permeability at the external interfaces\n",
        "# (3) pure homogeneous Neumann BCs, (4) pseudo-periodic BCs\n",
        "\n",
        "# Copyright (C) 2019 Van-Dang Nguyen (vdnguyen@kth.se)\n",
        "\n",
        "# This file is part of DOLFIN.\n",
        "\n",
        "# DOLFIN is free software: you can redistribute it and/or modify\n",
        "# it under the terms of the GNU Lesser General Public License as published by\n",
        "# the Free Software Foundation, either version 3 of the License, or\n",
        "# (at your option) any later version.\n",
        "\n",
        "# DOLFIN is distributed in the hope that it will be useful,\n",
        "# but WITHOUT ANY WARRANTY; without even the implied warranty of\n",
        "# MERCHANTABILITY or FITNESS FOR A PARTICULAR PURPOSE. See the\n",
        "# GNU Lesser General Public License for more details.\n",
        "\n",
        "# You should have received a copy of the GNU Lesser General Public License\n",
        "# along with DOLFIN. If not, see <http://www.gnu.org/licenses/>.\n",
        "\n",
        "# First added:  2017-10-10\n",
        "# Last changed: 2019-04-25\n",
        "\n",
        "# This demo is maintained by Van-Dang Nguyen\n",
        "# Please report possible problems to vdnguyen@kth.se"
      ],
      "execution_count": 0,
      "outputs": []
    },
    {
      "cell_type": "markdown",
      "metadata": {
        "id": "9SJXe6I5JUwF",
        "colab_type": "text"
      },
      "source": [
        "# Setting a working environment with FEniCS"
      ]
    },
    {
      "cell_type": "code",
      "metadata": {
        "id": "4jWzVxURFVLj",
        "colab_type": "code",
        "outputId": "b98108bb-cc3f-4164-9383-c541a5d90d95",
        "colab": {
          "base_uri": "https://localhost:8080/",
          "height": 0
        }
      },
      "source": [
        "from google.colab import files\n",
        "\n",
        "import platform, sys\n",
        "python_version=platform.python_version()\n",
        "from distutils.version import LooseVersion, StrictVersion\n",
        "\n",
        "if ( LooseVersion(python_version) < LooseVersion(\"3.0.0\")):\n",
        "    print(\"Python3 is needed!\");\n",
        "    print(\"How to fix: Runtime/Change_runtime_type/Python 3\");\n",
        "    sys.exit()\n",
        "    \n",
        "try:\n",
        "    from dolfin import *; from mshr import *\n",
        "except ImportError as e:\n",
        "    !apt-get install -y -qq software-properties-common python-software-properties module-init-tools\n",
        "    !add-apt-repository -y ppa:fenics-packages/fenics\n",
        "    !apt-get update -qq\n",
        "    !apt install -y --no-install-recommends fenics\n",
        "    from dolfin import *; from mshr import *\n",
        "\n",
        "gmsh_dir=!which gmsh\n",
        "if len(gmsh_dir)==0:\n",
        "  !apt-get install gmsh\n",
        "    \n",
        "import matplotlib.pyplot as plt;\n",
        "from IPython.display import clear_output, display; import time; import dolfin.common.plotting as fenicsplot \n",
        "import time\n",
        "\n",
        "import os, sys, shutil\n",
        "\n",
        "import sympy as sp\n",
        "\n",
        "\n",
        "clear_output()\n",
        "\n",
        "dolfin_version = dolfin.__version__\n",
        "print ('dolfin version:', dolfin_version)\n",
        "\n",
        "# Disable warnings\n",
        "import logging\n",
        "logging.basicConfig(level=logging.DEBUG)\n",
        "logger = logging.getLogger(\"rothemain.rothe_utils\")\n",
        "logging.getLogger('UFL').setLevel(logging.WARNING)\n",
        "logging.getLogger('FFC').setLevel(logging.WARNING)\n",
        "\n",
        "import warnings\n",
        "warnings.filterwarnings(\"ignore\")\n"
      ],
      "execution_count": 2,
      "outputs": [
        {
          "output_type": "stream",
          "text": [
            "dolfin version: 2019.1.0\n"
          ],
          "name": "stdout"
        }
      ]
    },
    {
      "cell_type": "markdown",
      "metadata": {
        "id": "6l4kvMZQb3z6",
        "colab_type": "text"
      },
      "source": [
        "#Load pre-defined functions"
      ]
    },
    {
      "cell_type": "code",
      "metadata": {
        "id": "x3L26nGPb7kZ",
        "colab_type": "code",
        "colab": {
          "base_uri": "https://localhost:8080/",
          "height": 0
        },
        "outputId": "59f0286e-c78b-4705-ebab-1dbd01c05e1a"
      },
      "source": [
        "import sympy as sp  \n",
        "exists = os.path.isfile('DmriFemBuitInFunc.py')\n",
        "isupdate = False\n",
        "if (exists==False or isupdate==True):\n",
        "    if isupdate==True:\n",
        "        !rm DmriFemBuitInFunc.py\n",
        "    print(\"Load pre-defined functions from GitHub\")\n",
        "    !wget --quiet https://raw.githubusercontent.com/van-dang/MRI-Cloud/master/DmriFemBuitInFunc.py\n",
        "from DmriFemBuitInFunc import *"
      ],
      "execution_count": 3,
      "outputs": [
        {
          "output_type": "stream",
          "text": [
            "Load pre-defined functions from GitHub\n"
          ],
          "name": "stdout"
        }
      ]
    },
    {
      "cell_type": "markdown",
      "metadata": {
        "id": "r6GW2fwLE042",
        "colab_type": "text"
      },
      "source": [
        "# Working on the mesh"
      ]
    },
    {
      "cell_type": "code",
      "metadata": {
        "id": "ksCOgH6e6d8e",
        "colab_type": "code",
        "colab": {
          "base_uri": "https://localhost:8080/",
          "height": 155
        },
        "outputId": "4dde4ad4-eddf-40b9-81bd-ef08d8b25894"
      },
      "source": [
        "a = 6;\n",
        "p0=Point(0,0,0)\n",
        "p1=Point(a,1,1)\n",
        "nx, ny, nz = int(5*a), 5, 5\n",
        "mymesh = BoxMesh(p0, p1, nx, ny, nz);\n",
        "plot(mymesh)\n"
      ],
      "execution_count": 10,
      "outputs": [
        {
          "output_type": "stream",
          "text": [
            "DEBUG:matplotlib.axes._base:update_title_pos\n",
            "DEBUG:matplotlib.axes._base:update_title_pos\n",
            "DEBUG:matplotlib.axes._base:update_title_pos\n",
            "DEBUG:matplotlib.axes._base:update_title_pos\n"
          ],
          "name": "stderr"
        },
        {
          "output_type": "display_data",
          "data": {
            "image/png": "[encoded data removed]",
            "text/plain": [
              "<Figure size 432x288 with 1 Axes>"
            ]
          },
          "metadata": {
            "tags": []
          }
        }
      ]
    },
    {
      "cell_type": "markdown",
      "metadata": {
        "id": "aFEvif9PF2yH",
        "colab_type": "text"
      },
      "source": [
        "# Solve the Bloch-Torrey equation"
      ]
    },
    {
      "cell_type": "code",
      "metadata": {
        "id": "DYZ5SWlw69tQ",
        "colab_type": "code",
        "outputId": "889b11ae-f006-4c64-bb48-74d6f74ca781",
        "colab": {
          "base_uri": "https://localhost:8080/",
          "height": 612
        }
      },
      "source": [
        "mri_simu = MRI_simulation()\n",
        "mri_para = MRI_parameters()\n",
        "\n",
        "bvalues = [1000]\n",
        "\n",
        "for bvalue in bvalues:\n",
        "    #################################################################################\n",
        "    #########################  Pre-defined parameters ###############################\n",
        "    mri_para.stype='PGSE'                                # sequence type\n",
        "    mri_para.bvalue = bvalue;                              # bvalue\n",
        "    mri_para.delta, mri_para.Delta = 10600, 43100        # time sequence\n",
        "    mri_para.set_gradient_dir(mymesh, 1, 0, 0)           # gradient direction\n",
        "\n",
        "    mri_para.T = mri_para.Delta+mri_para.delta\n",
        "    mri_para.fs_sym = sp.Piecewise(\n",
        "                    (  1., mri_para.s < mri_para.delta ),\n",
        "                    (  0., mri_para.s < mri_para.Delta ),\n",
        "                    ( -1., mri_para.s < mri_para.T ),\n",
        "                    (  0., True )  \n",
        "                ) \n",
        "\n",
        "\n",
        "    mri_para.Apply()\n",
        "    mri_simu.k = 200;                                    # time-step size\n",
        "    mri_simu.nskip = 1;                                  # frequency to print ouputs\n",
        "    mydomain = MyDomain(mymesh, mri_para)\n",
        "    mydomain.phase = None\n",
        "    mydomain.PeriodicDir = [1, 0, 0];             # Direction of the periodicity\n",
        "    mydomain.IsDomainPeriodic = False             # Confirm if the mesh if periodic\n",
        "    mydomain.IsDomainMultiple = False             # Confirm if the mesh is multiple\n",
        "    ################################################################################\n",
        "    mydomain.Apply()   # Call Apply before setting the diffusion tensor\n",
        "    ################################################################################\n",
        "    # Impose the diffusion coefficient\n",
        "    mydomain.D0 = 3e-3\n",
        "    mydomain.D = mydomain.D0;\n",
        "    #################################################################################\n",
        "\n",
        "    # linsolver = PETScLUSolver(\"mumps\")\n",
        "    linsolver = KrylovSolver(\"bicgstab\")\n",
        "\n",
        "    mri_simu.solve(mydomain, mri_para, linsolver)\n",
        "\n",
        "    ctext = \"\"\n",
        "    if bvalue==1000:\n",
        "        ctext = \"3D realistic neuron, kcoeff=3e-3, delta=10600us, Delta=43100us, dt=200us, gdir=200\"\n",
        "    Post_processing(mydomain, mri_para, mri_simu, None, ctext)"
      ],
      "execution_count": 0,
      "outputs": [
        {
          "output_type": "stream",
          "text": [
            "Function Space for Single Domains has 2 components\n",
            "(ur, ui): r-real, i-imaginary\n",
            "Initialize a standard function space.\n",
            "The pseudo-periodic BCS are weakly imposed.\n",
            "The mesh does not need to be periodic.\n",
            "t:   0.00  T: 53700.00 dt: 200.0 gnorm: 1.499786e-05 Completed 0.00%\n",
            "t: 200.00  T: 53700.00 dt: 200.0 gnorm: 1.499786e-05 Completed 0.37%\n",
            "t: 400.00  T: 53700.00 dt: 200.0 gnorm: 1.499786e-05 Completed 0.74%\n",
            "t: 600.00  T: 53700.00 dt: 200.0 gnorm: 1.499786e-05 Completed 1.11%\n",
            "t: 800.00  T: 53700.00 dt: 200.0 gnorm: 1.499786e-05 Completed 1.48%\n",
            "t: 1000.00  T: 53700.00 dt: 200.0 gnorm: 1.499786e-05 Completed 1.86%\n",
            "t: 1200.00  T: 53700.00 dt: 200.0 gnorm: 1.499786e-05 Completed 2.23%\n",
            "t: 1400.00  T: 53700.00 dt: 200.0 gnorm: 1.499786e-05 Completed 2.60%\n",
            "t: 1600.00  T: 53700.00 dt: 200.0 gnorm: 1.499786e-05 Completed 2.97%\n",
            "t: 1800.00  T: 53700.00 dt: 200.0 gnorm: 1.499786e-05 Completed 3.34%\n",
            "t: 2000.00  T: 53700.00 dt: 200.0 gnorm: 1.499786e-05 Completed 3.71%\n",
            "t: 2200.00  T: 53700.00 dt: 200.0 gnorm: 1.499786e-05 Completed 4.08%\n",
            "t: 2400.00  T: 53700.00 dt: 200.0 gnorm: 1.499786e-05 Completed 4.45%\n",
            "t: 2600.00  T: 53700.00 dt: 200.0 gnorm: 1.499786e-05 Completed 4.82%\n",
            "t: 2800.00  T: 53700.00 dt: 200.0 gnorm: 1.499786e-05 Completed 5.19%\n",
            "t: 3000.00  T: 53700.00 dt: 200.0 gnorm: 1.499786e-05 Completed 5.57%\n",
            "t: 3200.00  T: 53700.00 dt: 200.0 gnorm: 1.499786e-05 Completed 5.94%\n",
            "t: 3400.00  T: 53700.00 dt: 200.0 gnorm: 1.499786e-05 Completed 6.31%\n",
            "t: 3600.00  T: 53700.00 dt: 200.0 gnorm: 1.499786e-05 Completed 6.68%\n",
            "t: 3800.00  T: 53700.00 dt: 200.0 gnorm: 1.499786e-05 Completed 7.05%\n",
            "t: 4000.00  T: 53700.00 dt: 200.0 gnorm: 1.499786e-05 Completed 7.42%\n",
            "t: 4200.00  T: 53700.00 dt: 200.0 gnorm: 1.499786e-05 Completed 7.79%\n",
            "t: 4400.00  T: 53700.00 dt: 200.0 gnorm: 1.499786e-05 Completed 8.16%\n",
            "t: 4600.00  T: 53700.00 dt: 200.0 gnorm: 1.499786e-05 Completed 8.53%\n",
            "t: 4800.00  T: 53700.00 dt: 200.0 gnorm: 1.499786e-05 Completed 8.91%\n",
            "t: 5000.00  T: 53700.00 dt: 200.0 gnorm: 1.499786e-05 Completed 9.28%\n",
            "t: 5200.00  T: 53700.00 dt: 200.0 gnorm: 1.499786e-05 Completed 9.65%\n",
            "t: 5400.00  T: 53700.00 dt: 200.0 gnorm: 1.499786e-05 Completed 10.02%\n",
            "t: 5600.00  T: 53700.00 dt: 200.0 gnorm: 1.499786e-05 Completed 10.39%\n",
            "t: 5800.00  T: 53700.00 dt: 200.0 gnorm: 1.499786e-05 Completed 10.76%\n"
          ],
          "name": "stdout"
        }
      ]
    }
  ]
}