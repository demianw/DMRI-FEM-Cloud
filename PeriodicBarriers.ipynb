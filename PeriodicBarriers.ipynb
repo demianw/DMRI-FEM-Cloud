{
  "nbformat": 4,
  "nbformat_minor": 0,
  "metadata": {
    "colab": {
      "name": "PeriodicBarriers.ipynb",
      "version": "0.3.2",
      "provenance": [],
      "collapsed_sections": [
        "vS_YdSbqFOln",
        "9SJXe6I5JUwF",
        "6l4kvMZQb3z6",
        "r6GW2fwLE042"
      ],
      "toc_visible": true,
      "include_colab_link": true
    },
    "kernelspec": {
      "name": "python3",
      "display_name": "Python 3"
    },
    "accelerator": "GPU"
  },
  "cells": [
    {
      "cell_type": "markdown",
      "metadata": {
        "id": "view-in-github",
        "colab_type": "text"
      },
      "source": [
        "<a href=\"https://colab.research.google.com/github/van-dang/MRI-Cloud/blob/master/PeriodicBarriers.ipynb\" target=\"_parent\"><img src=\"https://colab.research.google.com/assets/colab-badge.svg\" alt=\"Open In Colab\"/></a>"
      ]
    },
    {
      "cell_type": "markdown",
      "metadata": {
        "id": "vS_YdSbqFOln",
        "colab_type": "text"
      },
      "source": [
        "# About the code"
      ]
    },
    {
      "cell_type": "code",
      "metadata": {
        "id": "CiQ9r51xKgWh",
        "colab_type": "code",
        "colab": {}
      },
      "source": [
        "# This program solves the Bloch-Torrey equation applied to computational diffusion MRI using \n",
        "# the finite element method coupled with the theta-method for the spatial discretization.\n",
        "\n",
        "# The scope of usage: \n",
        "# (1) Single domains, Multilayered structures, manifolds\n",
        "# (2) Membrane permeability for internal interfaces\n",
        "#     Artificial permeability at the external interfaces\n",
        "# (3) pure homogeneous Neumann BCs, (4) pseudo-periodic BCs\n",
        "\n",
        "# Copyright (C) 2019 Van-Dang Nguyen (vdnguyen@kth.se)\n",
        "\n",
        "# This file is part of DOLFIN.\n",
        "\n",
        "# DOLFIN is free software: you can redistribute it and/or modify\n",
        "# it under the terms of the GNU Lesser General Public License as published by\n",
        "# the Free Software Foundation, either version 3 of the License, or\n",
        "# (at your option) any later version.\n",
        "\n",
        "# DOLFIN is distributed in the hope that it will be useful,\n",
        "# but WITHOUT ANY WARRANTY; without even the implied warranty of\n",
        "# MERCHANTABILITY or FITNESS FOR A PARTICULAR PURPOSE. See the\n",
        "# GNU Lesser General Public License for more details.\n",
        "\n",
        "# You should have received a copy of the GNU Lesser General Public License\n",
        "# along with DOLFIN. If not, see <http://www.gnu.org/licenses/>.\n",
        "\n",
        "# First added:  2017-10-10\n",
        "# Last changed: 2019-04-25\n",
        "\n",
        "# This demo is maintained by Van-Dang Nguyen\n",
        "# Please report possible problems to vdnguyen@kth.se"
      ],
      "execution_count": 0,
      "outputs": []
    },
    {
      "cell_type": "markdown",
      "metadata": {
        "id": "9SJXe6I5JUwF",
        "colab_type": "text"
      },
      "source": [
        "# Setting a working environment with FEniCS"
      ]
    },
    {
      "cell_type": "code",
      "metadata": {
        "id": "4jWzVxURFVLj",
        "colab_type": "code",
        "outputId": "4cc30435-40e3-438b-aa72-546bb094de12",
        "colab": {
          "base_uri": "https://localhost:8080/",
          "height": 51
        }
      },
      "source": [
        "# !rm *.py *.xml *.txt *.zip *.pvd *.vtu *.geo *.msh\n",
        "try:\n",
        "    from google.colab import files\n",
        "except:\n",
        "    print(\"This is not google.colab\")\n",
        "    \n",
        "import platform, sys\n",
        "python_version=platform.python_version()\n",
        "from distutils.version import LooseVersion, StrictVersion\n",
        "\n",
        "if ( LooseVersion(python_version) < LooseVersion(\"3.0.0\")):\n",
        "    print(\"Python3 is needed!\");\n",
        "    print(\"How to fix: Runtime/Change_runtime_type/Python 3\");\n",
        "    sys.exit()\n",
        "    \n",
        "try:\n",
        "    from dolfin import *; from mshr import *\n",
        "except ImportError as e:\n",
        "    !apt-get install -y -qq software-properties-common python-software-properties module-init-tools\n",
        "    !add-apt-repository -y ppa:fenics-packages/fenics\n",
        "    !apt-get update -qq\n",
        "    !apt install -y --no-install-recommends fenics\n",
        "    from dolfin import *; from mshr import *\n",
        "\n",
        "gmsh_dir=!which gmsh\n",
        "if len(gmsh_dir)==0:\n",
        "    !sudo apt-get update\n",
        "    !sudo apt-get install -y gmsh\n",
        "    \n",
        "import matplotlib.pyplot as plt;\n",
        "from IPython.display import clear_output, display; import time; import dolfin.common.plotting as fenicsplot \n",
        "import time\n",
        "\n",
        "import os, sys, shutil\n",
        "\n",
        "dolfin_version = dolfin.__version__\n",
        "print ('dolfin version:', dolfin_version)\n",
        "\n",
        "# Disable warnings\n",
        "import logging\n",
        "logging.basicConfig(level=logging.DEBUG)\n",
        "logger = logging.getLogger(\"rothemain.rothe_utils\")\n",
        "logging.getLogger('UFL').setLevel(logging.WARNING)\n",
        "logging.getLogger('FFC').setLevel(logging.WARNING)\n",
        "\n",
        "import warnings\n",
        "warnings.filterwarnings(\"ignore\")\n"
      ],
      "execution_count": 35,
      "outputs": [
        {
          "output_type": "stream",
          "text": [
            "This is not google.colab\n",
            "dolfin version: 2019.1.0\n"
          ],
          "name": "stdout"
        }
      ]
    },
    {
      "cell_type": "markdown",
      "metadata": {
        "id": "6l4kvMZQb3z6",
        "colab_type": "text"
      },
      "source": [
        "#Load pre-defined functions"
      ]
    },
    {
      "cell_type": "code",
      "metadata": {
        "id": "x3L26nGPb7kZ",
        "colab_type": "code",
        "colab": {}
      },
      "source": [
        "import sympy as sp  \n",
        "exists = os.path.isfile('DmriFemBuitInFunc.py')\n",
        "isupdate = False\n",
        "if (exists==False or isupdate==True):\n",
        "    if isupdate==True:\n",
        "        !rm DmriFemBuitInFunc.py\n",
        "    print(\"Load pre-defined functions from GitHub\")\n",
        "    !wget --quiet https://raw.githubusercontent.com/van-dang/MRI-Cloud/master/DmriFemBuitInFunc.py\n",
        "from DmriFemBuitInFunc import *"
      ],
      "execution_count": 0,
      "outputs": []
    },
    {
      "cell_type": "markdown",
      "metadata": {
        "id": "r6GW2fwLE042",
        "colab_type": "text"
      },
      "source": [
        "# Working on the mesh"
      ]
    },
    {
      "cell_type": "code",
      "metadata": {
        "id": "ksCOgH6e6d8e",
        "colab_type": "code",
        "outputId": "6d826116-d139-47df-ff0b-13249fddf49f",
        "colab": {
          "base_uri": "https://localhost:8080/",
          "height": 561
        }
      },
      "source": [
        "if 1==2:\n",
        "    mesh_name = \"CirclesInSquare\"\n",
        "\n",
        "    is_partition_function_exist = os.path.isfile('GetPartitionMarkers.py')\n",
        "    if is_partition_function_exist==False:\n",
        "        !wget --quiet https://raw.githubusercontent.com/van-dang/MRI-Cloud/mesh/GetPartitionMarkers.py\n",
        "\n",
        "    is_geo_file_exist = os.path.isfile(mesh_name+'.geo')  \n",
        "    if is_geo_file_exist==False:\n",
        "        !wget --quiet https://raw.githubusercontent.com/van-dang/MRI-Cloud/mesh/$mesh_name''.geo\n",
        "\n",
        "    # Create mesh from geo file by gmsh\n",
        "    !gmsh -2 $mesh_name''.geo -o $mesh_name''.msh\n",
        "\n",
        "    # Convert .msh to .xml using dolfin-convert\n",
        "    !dolfin-convert $mesh_name''.msh $mesh_name''.xml\n",
        "\n",
        "    clear_output()\n",
        "\n",
        "    mymesh = Mesh(mesh_name+\".xml\");  \n",
        "\n",
        "    from GetPartitionMarkers import *\n",
        "\n",
        "    GetPartitionMarkers(mesh_name+\".msh\", \"pmk_\"+mesh_name+\".xml\")\n",
        "\n",
        "    partition_marker = MeshFunction(\"size_t\", mymesh, mymesh.topology().dim())\n",
        "\n",
        "    File(\"pmk_\"+mesh_name+\".xml\")>>partition_marker\n",
        "\n",
        "    cellmarker, phase, partition_marker, partion_list = Create_phase_func(mymesh, None, partition_marker)    \n",
        "\n",
        "    File(\"Phase.pvd\")<<phase\n",
        "else:\n",
        "    !rm -rf *xml* *MAC*\n",
        "    !wget https://github.com/van-dang/MRI-Cloud/raw/mesh/SpheresInBox.xml.zip\n",
        "    !wget https://github.com/van-dang/MRI-Cloud/raw/mesh/SpheresInBox_cmpt1.xml.zip  \n",
        "    !unzip -q SpheresInBox.xml.zip\n",
        "    !unzip -q SpheresInBox_cmpt1.xml.zip \n",
        "    \n",
        "    mymesh = Mesh(\"SpheresInBox.xml\");  \n",
        "    cmpt_mesh = Mesh('SpheresInBox_cmpt1.xml')\n",
        "    cellmarker, phase, partition_marker, partion_list = Create_phase_func(mymesh, cmpt_mesh, None)    \n"
      ],
      "execution_count": 64,
      "outputs": [
        {
          "output_type": "stream",
          "text": [
            "--2019-07-09 10:01:41--  https://github.com/van-dang/MRI-Cloud/raw/mesh/SpheresInBox.xml.zip\r\n",
            "Resolving github.com (github.com)... 140.82.118.3\r\n",
            "Connecting to github.com (github.com)|140.82.118.3|:443... connected.\n",
            "HTTP request sent, awaiting response... 302 Found\n",
            "Location: https://raw.githubusercontent.com/van-dang/MRI-Cloud/mesh/SpheresInBox.xml.zip [following]\n",
            "--2019-07-09 10:01:41--  https://raw.githubusercontent.com/van-dang/MRI-Cloud/mesh/SpheresInBox.xml.zip\n",
            "Resolving raw.githubusercontent.com (raw.githubusercontent.com)... 151.101.84.133\n",
            "Connecting to raw.githubusercontent.com (raw.githubusercontent.com)|151.101.84.133|:443... connected.\n",
            "HTTP request sent, awaiting response... 200 OK\n",
            "Length: 735950 (719K) [application/zip]\n",
            "Saving to: ‘SpheresInBox.xml.zip’\n",
            "\n",
            "SpheresInBox.xml.zi 100%[===================>] 718.70K  --.-KB/s    in 0.1s    \n",
            "\n",
            "2019-07-09 10:01:42 (7.22 MB/s) - ‘SpheresInBox.xml.zip’ saved [735950/735950]\n",
            "\n",
            "--2019-07-09 10:01:42--  https://github.com/van-dang/MRI-Cloud/raw/mesh/SpheresInBox_cmpt1.xml.zip\n",
            "Resolving github.com (github.com)... 140.82.118.3\n",
            "Connecting to github.com (github.com)|140.82.118.3|:443... connected.\n",
            "HTTP request sent, awaiting response... 302 Found\n",
            "Location: https://raw.githubusercontent.com/van-dang/MRI-Cloud/mesh/SpheresInBox_cmpt1.xml.zip [following]\n",
            "--2019-07-09 10:01:42--  https://raw.githubusercontent.com/van-dang/MRI-Cloud/mesh/SpheresInBox_cmpt1.xml.zip\n",
            "Resolving raw.githubusercontent.com (raw.githubusercontent.com)... 151.101.84.133\n",
            "Connecting to raw.githubusercontent.com (raw.githubusercontent.com)|151.101.84.133|:443... connected.\n",
            "HTTP request sent, awaiting response... 200 OK\n",
            "Length: 385188 (376K) [application/zip]\n",
            "Saving to: ‘SpheresInBox_cmpt1.xml.zip’\n",
            "\n",
            "SpheresInBox_cmpt1. 100%[===================>] 376.16K  --.-KB/s    in 0.07s   \n",
            "\n",
            "2019-07-09 10:01:42 (5.65 MB/s) - ‘SpheresInBox_cmpt1.xml.zip’ saved [385188/385188]\n",
            "\n"
          ],
          "name": "stdout"
        }
      ]
    },
    {
      "cell_type": "markdown",
      "metadata": {
        "id": "aFEvif9PF2yH",
        "colab_type": "text"
      },
      "source": [
        "# Solve the Bloch-Torrey equation"
      ]
    },
    {
      "cell_type": "code",
      "metadata": {
        "id": "DYZ5SWlw69tQ",
        "colab_type": "code",
        "outputId": "04cd710e-60f1-4227-aac9-7379b13a6803",
        "colab": {
          "base_uri": "https://localhost:8080/",
          "height": 1000
        }
      },
      "source": [
        "mri_simu = MRI_simulation()\n",
        "mri_para = MRI_parameters()\n",
        "\n",
        "bvalues = [10000]\n",
        "signals = [];\n",
        "for bvalue in bvalues:\n",
        "    #################################################################################\n",
        "    #########################  Pre-defined parameters ###############################\n",
        "    mri_para.stype='PGSE'                                # sequence type\n",
        "    mri_para.bvalue = bvalue;                            # bvalue\n",
        "    mri_para.delta, mri_para.Delta = 10000, 10000           # time sequence\n",
        "    mri_para.set_gradient_dir(mymesh, 1, 1, 0)           # gradient direction\n",
        "\n",
        "    mri_para.T = mri_para.Delta+mri_para.delta\n",
        "    mri_para.fs_sym = sp.Piecewise(\n",
        "                    (  1., mri_para.s < mri_para.delta ),\n",
        "                    (  0., mri_para.s < mri_para.Delta ),\n",
        "                    ( -1., mri_para.s < mri_para.T ),\n",
        "                    (  0., True )  \n",
        "                ) \n",
        "\n",
        "    mri_para.Apply()\n",
        "    mri_simu.k = 50;                                    # time-step size\n",
        "    mri_simu.nskip = 5;                                  # frequency to print ouputs\n",
        "    mydomain = MyDomain(mymesh, mri_para)\n",
        "    mydomain.phase = phase \n",
        "    mydomain.PeriodicDir = [1, 1, 0];             # Direction of the periodicity\n",
        "    mydomain.IsDomainPeriodic = False             # Confirm if the mesh if periodic\n",
        "    mydomain.IsDomainMultiple = True             # Confirm if the mesh is multiple\n",
        "    ################################################################################\n",
        "    # mydomain.kappa_e_scalar = 5e-4;\n",
        "    mydomain.kappa = 1e-5;\n",
        "    mydomain.Apply()   # Call Apply before setting the diffusion tensor\n",
        "    ################################################################################\n",
        "    # Impose the diffusion coefficient\n",
        "    mydomain.D0 = 3e-3\n",
        "    mydomain.D  = mydomain.D0;\n",
        "    #################################################################################\n",
        "\n",
        "    # linsolver = PETScLUSolver(\"mumps\")\n",
        "    linsolver = KrylovSolver(\"bicgstab\")\n",
        "    linsolver.parameters[\"absolute_tolerance\"] = 1e-4\n",
        "    linsolver.parameters[\"relative_tolerance\"] = 1e-4\n",
        "    linsolver.parameters[\"maximum_iterations\"] = 10000\n",
        "    \n",
        "    mri_simu.solve(mydomain, mri_para, linsolver)\n",
        "\n",
        "    ctext = \"\"\n",
        "    Post_processing(mydomain, mri_para, mri_simu, None, ctext)    "
      ],
      "execution_count": 55,
      "outputs": [
        {
          "output_type": "stream",
          "text": [
            "Function Space for Two-compartment Domains has 4 components\n",
            "(ur0, ui0, ur1, ur1): r-real, i-imaginary\n",
            "Initialize a standard function space.\n",
            "The pseudo-periodic BCS are weakly imposed.\n",
            "The mesh does not need to be periodic.\n",
            "t:   0.00  T: 20000.00 dt: 50.0 qvalue: 1.224745e-04 Completed 0.00%\n",
            "t: 250.00  T: 20000.00 dt: 50.0 qvalue: 1.224745e-04 Completed 1.25%\n",
            "t: 500.00  T: 20000.00 dt: 50.0 qvalue: 1.224745e-04 Completed 2.49%\n",
            "t: 750.00  T: 20000.00 dt: 50.0 qvalue: 1.224745e-04 Completed 3.74%\n",
            "t: 1000.00  T: 20000.00 dt: 50.0 qvalue: 1.224745e-04 Completed 4.99%\n",
            "t: 1250.00  T: 20000.00 dt: 50.0 qvalue: 1.224745e-04 Completed 6.23%\n",
            "t: 1500.00  T: 20000.00 dt: 50.0 qvalue: 1.224745e-04 Completed 7.48%\n",
            "t: 1750.00  T: 20000.00 dt: 50.0 qvalue: 1.224745e-04 Completed 8.73%\n",
            "t: 2000.00  T: 20000.00 dt: 50.0 qvalue: 1.224745e-04 Completed 9.98%\n",
            "t: 2250.00  T: 20000.00 dt: 50.0 qvalue: 1.224745e-04 Completed 11.22%\n",
            "t: 2500.00  T: 20000.00 dt: 50.0 qvalue: 1.224745e-04 Completed 12.47%\n",
            "t: 2750.00  T: 20000.00 dt: 50.0 qvalue: 1.224745e-04 Completed 13.72%\n",
            "t: 3000.00  T: 20000.00 dt: 50.0 qvalue: 1.224745e-04 Completed 14.96%\n",
            "t: 3250.00  T: 20000.00 dt: 50.0 qvalue: 1.224745e-04 Completed 16.21%\n",
            "t: 3500.00  T: 20000.00 dt: 50.0 qvalue: 1.224745e-04 Completed 17.46%\n",
            "t: 3750.00  T: 20000.00 dt: 50.0 qvalue: 1.224745e-04 Completed 18.70%\n",
            "t: 4000.00  T: 20000.00 dt: 50.0 qvalue: 1.224745e-04 Completed 19.95%\n",
            "t: 4250.00  T: 20000.00 dt: 50.0 qvalue: 1.224745e-04 Completed 21.20%\n",
            "t: 4500.00  T: 20000.00 dt: 50.0 qvalue: 1.224745e-04 Completed 22.44%\n",
            "t: 4750.00  T: 20000.00 dt: 50.0 qvalue: 1.224745e-04 Completed 23.69%\n",
            "t: 5000.00  T: 20000.00 dt: 50.0 qvalue: 1.224745e-04 Completed 24.94%\n",
            "t: 5250.00  T: 20000.00 dt: 50.0 qvalue: 1.224745e-04 Completed 26.18%\n",
            "t: 5500.00  T: 20000.00 dt: 50.0 qvalue: 1.224745e-04 Completed 27.43%\n",
            "t: 5750.00  T: 20000.00 dt: 50.0 qvalue: 1.224745e-04 Completed 28.68%\n",
            "t: 6000.00  T: 20000.00 dt: 50.0 qvalue: 1.224745e-04 Completed 29.93%\n",
            "t: 6250.00  T: 20000.00 dt: 50.0 qvalue: 1.224745e-04 Completed 31.17%\n",
            "t: 6500.00  T: 20000.00 dt: 50.0 qvalue: 1.224745e-04 Completed 32.42%\n",
            "t: 6750.00  T: 20000.00 dt: 50.0 qvalue: 1.224745e-04 Completed 33.67%\n",
            "t: 7000.00  T: 20000.00 dt: 50.0 qvalue: 1.224745e-04 Completed 34.91%\n",
            "t: 7250.00  T: 20000.00 dt: 50.0 qvalue: 1.224745e-04 Completed 36.16%\n",
            "t: 7500.00  T: 20000.00 dt: 50.0 qvalue: 1.224745e-04 Completed 37.41%\n",
            "t: 7750.00  T: 20000.00 dt: 50.0 qvalue: 1.224745e-04 Completed 38.65%\n",
            "t: 8000.00  T: 20000.00 dt: 50.0 qvalue: 1.224745e-04 Completed 39.90%\n",
            "t: 8250.00  T: 20000.00 dt: 50.0 qvalue: 1.224745e-04 Completed 41.15%\n",
            "t: 8500.00  T: 20000.00 dt: 50.0 qvalue: 1.224745e-04 Completed 42.39%\n",
            "t: 8750.00  T: 20000.00 dt: 50.0 qvalue: 1.224745e-04 Completed 43.64%\n",
            "t: 9000.00  T: 20000.00 dt: 50.0 qvalue: 1.224745e-04 Completed 44.89%\n",
            "t: 9250.00  T: 20000.00 dt: 50.0 qvalue: 1.224745e-04 Completed 46.13%\n",
            "t: 9500.00  T: 20000.00 dt: 50.0 qvalue: 1.224745e-04 Completed 47.38%\n",
            "t: 9750.00  T: 20000.00 dt: 50.0 qvalue: 1.224745e-04 Completed 48.63%\n",
            "t: 10000.00  T: 20000.00 dt: 50.0 qvalue: 1.224745e-04 Completed 49.88%\n",
            "t: 10250.00  T: 20000.00 dt: 50.0 qvalue: 1.224745e-04 Completed 51.12%\n",
            "t: 10500.00  T: 20000.00 dt: 50.0 qvalue: 1.224745e-04 Completed 52.37%\n",
            "t: 10750.00  T: 20000.00 dt: 50.0 qvalue: 1.224745e-04 Completed 53.62%\n",
            "t: 11000.00  T: 20000.00 dt: 50.0 qvalue: 1.224745e-04 Completed 54.86%\n",
            "t: 11250.00  T: 20000.00 dt: 50.0 qvalue: 1.224745e-04 Completed 56.11%\n",
            "t: 11500.00  T: 20000.00 dt: 50.0 qvalue: 1.224745e-04 Completed 57.36%\n",
            "t: 11750.00  T: 20000.00 dt: 50.0 qvalue: 1.224745e-04 Completed 58.60%\n",
            "t: 12000.00  T: 20000.00 dt: 50.0 qvalue: 1.224745e-04 Completed 59.85%\n",
            "t: 12250.00  T: 20000.00 dt: 50.0 qvalue: 1.224745e-04 Completed 61.10%\n",
            "t: 12500.00  T: 20000.00 dt: 50.0 qvalue: 1.224745e-04 Completed 62.34%\n",
            "t: 12750.00  T: 20000.00 dt: 50.0 qvalue: 1.224745e-04 Completed 63.59%\n",
            "t: 13000.00  T: 20000.00 dt: 50.0 qvalue: 1.224745e-04 Completed 64.84%\n",
            "t: 13250.00  T: 20000.00 dt: 50.0 qvalue: 1.224745e-04 Completed 66.08%\n",
            "t: 13500.00  T: 20000.00 dt: 50.0 qvalue: 1.224745e-04 Completed 67.33%\n",
            "t: 13750.00  T: 20000.00 dt: 50.0 qvalue: 1.224745e-04 Completed 68.58%\n",
            "t: 14000.00  T: 20000.00 dt: 50.0 qvalue: 1.224745e-04 Completed 69.83%\n",
            "t: 14250.00  T: 20000.00 dt: 50.0 qvalue: 1.224745e-04 Completed 71.07%\n",
            "t: 14500.00  T: 20000.00 dt: 50.0 qvalue: 1.224745e-04 Completed 72.32%\n",
            "t: 14750.00  T: 20000.00 dt: 50.0 qvalue: 1.224745e-04 Completed 73.57%\n",
            "t: 15000.00  T: 20000.00 dt: 50.0 qvalue: 1.224745e-04 Completed 74.81%\n",
            "t: 15250.00  T: 20000.00 dt: 50.0 qvalue: 1.224745e-04 Completed 76.06%\n",
            "t: 15500.00  T: 20000.00 dt: 50.0 qvalue: 1.224745e-04 Completed 77.31%\n",
            "t: 15750.00  T: 20000.00 dt: 50.0 qvalue: 1.224745e-04 Completed 78.55%\n",
            "t: 16000.00  T: 20000.00 dt: 50.0 qvalue: 1.224745e-04 Completed 79.80%\n",
            "t: 16250.00  T: 20000.00 dt: 50.0 qvalue: 1.224745e-04 Completed 81.05%\n",
            "t: 16500.00  T: 20000.00 dt: 50.0 qvalue: 1.224745e-04 Completed 82.29%\n",
            "t: 16750.00  T: 20000.00 dt: 50.0 qvalue: 1.224745e-04 Completed 83.54%\n",
            "t: 17000.00  T: 20000.00 dt: 50.0 qvalue: 1.224745e-04 Completed 84.79%\n",
            "t: 17250.00  T: 20000.00 dt: 50.0 qvalue: 1.224745e-04 Completed 86.03%\n",
            "t: 17500.00  T: 20000.00 dt: 50.0 qvalue: 1.224745e-04 Completed 87.28%\n",
            "t: 17750.00  T: 20000.00 dt: 50.0 qvalue: 1.224745e-04 Completed 88.53%\n",
            "t: 18000.00  T: 20000.00 dt: 50.0 qvalue: 1.224745e-04 Completed 89.78%\n",
            "t: 18250.00  T: 20000.00 dt: 50.0 qvalue: 1.224745e-04 Completed 91.02%\n",
            "t: 18500.00  T: 20000.00 dt: 50.0 qvalue: 1.224745e-04 Completed 92.27%\n",
            "t: 18750.00  T: 20000.00 dt: 50.0 qvalue: 1.224745e-04 Completed 93.52%\n",
            "t: 19000.00  T: 20000.00 dt: 50.0 qvalue: 1.224745e-04 Completed 94.76%\n",
            "t: 19250.00  T: 20000.00 dt: 50.0 qvalue: 1.224745e-04 Completed 96.01%\n",
            "t: 19500.00  T: 20000.00 dt: 50.0 qvalue: 1.224745e-04 Completed 97.26%\n",
            "t: 19750.00  T: 20000.00 dt: 50.0 qvalue: 1.224745e-04 Completed 98.50%\n",
            "t: 20000.00  T: 20000.00 dt: 50.0 qvalue: 1.224745e-04 Completed 99.75%\n",
            "Successfully Completed! Elapsed time: 228.366826 seconds\n",
            "Signal on each compartment\n",
            "Sum initial0: 4.349e+01, Signal0: 6.734e+00\n",
            "Sum initial1: 5.651e+01, Signal1: 2.017e+01\n",
            "b: 10000.000, g: 0.458, q: 1.225e-04, Signal: 2.691e+01, Normalized signal: 2.690758e-01, kappa: 1.000e-05, dt: 50.000, hmin: 1.369e-01, hmax: 2.838e-01, whole_vol: 100.000, vol_of_interest: 100.000, Free signal: 9.358e-14, elasped time 228.367 (s)\n",
            "\n",
            "save to log.txt\n"
          ],
          "name": "stdout"
        }
      ]
    }
  ]
}