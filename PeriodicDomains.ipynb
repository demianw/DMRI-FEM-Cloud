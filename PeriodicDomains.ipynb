{
  "nbformat": 4,
  "nbformat_minor": 0,
  "metadata": {
    "colab": {
      "name": "PeriodicDomains.ipynb",
      "version": "0.3.2",
      "provenance": [],
      "collapsed_sections": [
        "vS_YdSbqFOln",
        "9SJXe6I5JUwF",
        "6l4kvMZQb3z6",
        "r6GW2fwLE042"
      ],
      "toc_visible": true,
      "include_colab_link": true
    },
    "kernelspec": {
      "name": "python3",
      "display_name": "Python 3"
    },
    "accelerator": "GPU"
  },
  "cells": [
    {
      "cell_type": "markdown",
      "metadata": {
        "id": "view-in-github",
        "colab_type": "text"
      },
      "source": [
        "<a href=\"https://colab.research.google.com/github/van-dang/MRI-Cloud/blob/master/PeriodicBarriers.ipynb\" target=\"_parent\"><img src=\"https://colab.research.google.com/assets/colab-badge.svg\" alt=\"Open In Colab\"/></a>"
      ]
    },
    {
      "cell_type": "markdown",
      "metadata": {
        "id": "vS_YdSbqFOln",
        "colab_type": "text"
      },
      "source": [
        "# About the code"
      ]
    },
    {
      "cell_type": "code",
      "metadata": {
        "id": "CiQ9r51xKgWh",
        "colab_type": "code",
        "colab": {}
      },
      "source": [
        "# This program solves the Bloch-Torrey equation applied to computational diffusion MRI using \n",
        "# the finite element method coupled with the theta-method for the spatial discretization.\n",
        "\n",
        "# The scope of usage: \n",
        "# (1) Single domains, Multilayered structures, manifolds\n",
        "# (2) Membrane permeability for internal interfaces\n",
        "#     Artificial permeability at the external interfaces\n",
        "# (3) pure homogeneous Neumann BCs, (4) pseudo-periodic BCs\n",
        "\n",
        "# Copyright (C) 2019 Van-Dang Nguyen (vdnguyen@kth.se)\n",
        "\n",
        "# This file is part of DOLFIN.\n",
        "\n",
        "# DOLFIN is free software: you can redistribute it and/or modify\n",
        "# it under the terms of the GNU Lesser General Public License as published by\n",
        "# the Free Software Foundation, either version 3 of the License, or\n",
        "# (at your option) any later version.\n",
        "\n",
        "# DOLFIN is distributed in the hope that it will be useful,\n",
        "# but WITHOUT ANY WARRANTY; without even the implied warranty of\n",
        "# MERCHANTABILITY or FITNESS FOR A PARTICULAR PURPOSE. See the\n",
        "# GNU Lesser General Public License for more details.\n",
        "\n",
        "# You should have received a copy of the GNU Lesser General Public License\n",
        "# along with DOLFIN. If not, see <http://www.gnu.org/licenses/>.\n",
        "\n",
        "# First added:  2017-10-10\n",
        "# Last changed: 2019-04-25\n",
        "\n",
        "# This demo is maintained by Van-Dang Nguyen\n",
        "# Please report possible problems to vdnguyen@kth.se"
      ],
      "execution_count": 0,
      "outputs": []
    },
    {
      "cell_type": "markdown",
      "metadata": {
        "id": "9SJXe6I5JUwF",
        "colab_type": "text"
      },
      "source": [
        "# Setting a working environment with FEniCS"
      ]
    },
    {
      "cell_type": "code",
      "metadata": {
        "id": "4jWzVxURFVLj",
        "colab_type": "code",
        "outputId": "d6438158-ce63-4231-e06f-4e46210a3489",
        "colab": {
          "base_uri": "https://localhost:8080/",
          "height": 51
        }
      },
      "source": [
        "# !rm *.py *.xml *.txt *.zip *.pvd *.vtu *.geo *.msh\n",
        "try:\n",
        "    from google.colab import files\n",
        "except:\n",
        "    print(\"This is not google.colab\")\n",
        "    \n",
        "import platform, sys\n",
        "python_version=platform.python_version()\n",
        "from distutils.version import LooseVersion, StrictVersion\n",
        "\n",
        "if ( LooseVersion(python_version) < LooseVersion(\"3.0.0\")):\n",
        "    print(\"Python3 is needed!\");\n",
        "    print(\"How to fix: Runtime/Change_runtime_type/Python 3\");\n",
        "    sys.exit()\n",
        "    \n",
        "try:\n",
        "    from dolfin import *; from mshr import *\n",
        "except ImportError as e:\n",
        "    !apt-get install -y -qq software-properties-common python-software-properties module-init-tools\n",
        "    !add-apt-repository -y ppa:fenics-packages/fenics\n",
        "    !apt-get update -qq\n",
        "    !apt install -y --no-install-recommends fenics\n",
        "    from dolfin import *; from mshr import *\n",
        "\n",
        "gmsh_dir=!which gmsh\n",
        "if len(gmsh_dir)==0:\n",
        "    !sudo apt-get update\n",
        "    !sudo apt-get install -y gmsh\n",
        "    \n",
        "import matplotlib.pyplot as plt;\n",
        "from IPython.display import clear_output, display; import time; import dolfin.common.plotting as fenicsplot \n",
        "import time\n",
        "\n",
        "import os, sys, shutil\n",
        "\n",
        "dolfin_version = dolfin.__version__\n",
        "print ('dolfin version:', dolfin_version)\n",
        "\n",
        "# Disable warnings\n",
        "import logging\n",
        "logging.basicConfig(level=logging.DEBUG)\n",
        "logger = logging.getLogger(\"rothemain.rothe_utils\")\n",
        "logging.getLogger('UFL').setLevel(logging.WARNING)\n",
        "logging.getLogger('FFC').setLevel(logging.WARNING)\n",
        "\n",
        "import warnings\n",
        "warnings.filterwarnings(\"ignore\")\n"
      ],
      "execution_count": 78,
      "outputs": [
        {
          "output_type": "stream",
          "text": [
            "This is not google.colab\n",
            "dolfin version: 2019.1.0\n"
          ],
          "name": "stdout"
        }
      ]
    },
    {
      "cell_type": "markdown",
      "metadata": {
        "id": "6l4kvMZQb3z6",
        "colab_type": "text"
      },
      "source": [
        "#Load pre-defined functions"
      ]
    },
    {
      "cell_type": "code",
      "metadata": {
        "id": "x3L26nGPb7kZ",
        "colab_type": "code",
        "outputId": "e77f5cff-5797-41a1-8263-6fd19e1d0d6f",
        "colab": {
          "base_uri": "https://localhost:8080/",
          "height": 34
        }
      },
      "source": [
        "import sympy as sp  \n",
        "exists = os.path.isfile('DmriFemBuitInFunc.py')\n",
        "isupdate = False\n",
        "if (exists==False or isupdate==True):\n",
        "    if isupdate==True:\n",
        "        !rm DmriFemBuitInFunc.py\n",
        "    print(\"Load pre-defined functions from GitHub\")\n",
        "    !wget --quiet https://raw.githubusercontent.com/van-dang/MRI-Cloud/master/DmriFemBuitInFunc.py\n",
        "from DmriFemBuitInFunc import *"
      ],
      "execution_count": 79,
      "outputs": [
        {
          "output_type": "stream",
          "text": [
            "Load pre-defined functions from GitHub\n"
          ],
          "name": "stdout"
        }
      ]
    },
    {
      "cell_type": "markdown",
      "metadata": {
        "id": "r6GW2fwLE042",
        "colab_type": "text"
      },
      "source": [
        "# Working on the mesh"
      ]
    },
    {
      "cell_type": "code",
      "metadata": {
        "id": "ksCOgH6e6d8e",
        "colab_type": "code",
        "outputId": "8fe5ea48-5fee-4b74-a050-a42c5fdfe8cc",
        "colab": {
          "base_uri": "https://localhost:8080/",
          "height": 119
        }
      },
      "source": [
        "geo_choice = 1;\n",
        "\n",
        "if geo_choice==1:\n",
        "    mesh_name = \"CirclesInSquare\"\n",
        "\n",
        "    is_partition_function_exist = os.path.isfile('GetPartitionMarkers.py')\n",
        "    if is_partition_function_exist==False:\n",
        "        !wget --quiet https://raw.githubusercontent.com/van-dang/MRI-Cloud/mesh/GetPartitionMarkers.py\n",
        "\n",
        "    is_geo_file_exist = os.path.isfile(mesh_name+'.geo')  \n",
        "    if is_geo_file_exist==False:\n",
        "        !wget --quiet https://raw.githubusercontent.com/van-dang/MRI-Cloud/mesh/$mesh_name''.geo\n",
        "\n",
        "    # Create mesh from geo file by gmsh\n",
        "    !gmsh -2 $mesh_name''.geo -o $mesh_name''.msh\n",
        "\n",
        "    # Convert .msh to .xml using dolfin-convert\n",
        "    !dolfin-convert $mesh_name''.msh $mesh_name''.xml\n",
        "\n",
        "    clear_output()\n",
        "\n",
        "    mymesh = Mesh(mesh_name+\".xml\");  \n",
        "\n",
        "    from GetPartitionMarkers import *\n",
        "\n",
        "    GetPartitionMarkers(mesh_name+\".msh\", \"pmk_\"+mesh_name+\".xml\")\n",
        "\n",
        "    partition_marker = MeshFunction(\"size_t\", mymesh, mymesh.topology().dim())\n",
        "\n",
        "    File(\"pmk_\"+mesh_name+\".xml\")>>partition_marker\n",
        "\n",
        "    cellmarker, phase, partition_marker, partion_list = Create_phase_func(mymesh, None, partition_marker)    \n",
        "\n",
        "    File(\"Phase.pvd\")<<phase\n",
        "else:\n",
        "    !rm -rf *xml* *MAC*\n",
        "    !wget https://github.com/van-dang/MRI-Cloud/raw/mesh/SpheresInBox.xml.zip\n",
        "    !wget https://github.com/van-dang/MRI-Cloud/raw/mesh/SpheresInBox_cmpt1.xml.zip  \n",
        "    !unzip -q SpheresInBox.xml.zip\n",
        "    !unzip -q SpheresInBox_cmpt1.xml.zip \n",
        "    clear_output()\n",
        "    mymesh = Mesh(\"SpheresInBox.xml\");  \n",
        "    cmpt_mesh = Mesh('SpheresInBox_cmpt1.xml')\n",
        "    cellmarker, phase, partition_marker, partion_list = Create_phase_func(mymesh, cmpt_mesh, None)\n",
        "    File(\"Phase.pvd\")<<phase"
      ],
      "execution_count": 80,
      "outputs": [
        {
          "output_type": "stream",
          "text": [
            "Extracting cell markers from: CirclesInSquare.msh ...\n",
            "6614 2 2 0 7 2718 3297 3387\n",
            "\n",
            "Extracted successfully on: 6614 elements\n",
            "Partition marker list: ['1', '0']\n",
            "Wrote to: pmk_CirclesInSquare.xml\n"
          ],
          "name": "stdout"
        }
      ]
    },
    {
      "cell_type": "markdown",
      "metadata": {
        "id": "aFEvif9PF2yH",
        "colab_type": "text"
      },
      "source": [
        "# Solve the Bloch-Torrey equation"
      ]
    },
    {
      "cell_type": "code",
      "metadata": {
        "id": "DYZ5SWlw69tQ",
        "colab_type": "code",
        "outputId": "3e6ed623-3e42-43fe-c9b2-3bb9196fd5a8",
        "colab": {
          "base_uri": "https://localhost:8080/",
          "height": 598
        }
      },
      "source": [
        "mri_simu = MRI_simulation()\n",
        "mri_para = MRI_parameters()\n",
        "\n",
        "bvalues = [1000]\n",
        "signals = [];\n",
        "for bvalue in bvalues:\n",
        "    #################################################################################\n",
        "    #########################  Pre-defined parameters ###############################\n",
        "    mri_para.stype='PGSE'                                # sequence type\n",
        "    mri_para.bvalue = bvalue;                            # bvalue\n",
        "    mri_para.delta, mri_para.Delta = 10000, 10000           # time sequence\n",
        "    mri_para.set_gradient_dir(mymesh, 1, 1, 1)           # gradient direction\n",
        "\n",
        "    mri_para.T = mri_para.Delta+mri_para.delta\n",
        "    mri_para.fs_sym = sp.Piecewise(\n",
        "                    (  1., mri_para.s < mri_para.delta ),\n",
        "                    (  0., mri_para.s < mri_para.Delta ),\n",
        "                    ( -1., mri_para.s < mri_para.T ),\n",
        "                    (  0., True )  \n",
        "                ) \n",
        "\n",
        "    mri_para.Apply()\n",
        "    mri_simu.k = 200;                                    # time-step size\n",
        "    mri_simu.nskip = 5;                                  # frequency to print ouputs\n",
        "    mydomain = MyDomain(mymesh, mri_para)\n",
        "    mydomain.phase = phase \n",
        "    mydomain.PeriodicDir = [1, 1, 1];             # Direction of the periodicity\n",
        "    mydomain.IsDomainPeriodic = True             # Confirm if the mesh if periodic\n",
        "    mydomain.IsDomainMultiple = True              # Confirm if the mesh is multiple\n",
        "    ################################################################################\n",
        "    # mydomain.kappa_e_scalar = 5e-4;\n",
        "    mydomain.kappa = 1e-5;\n",
        "    mydomain.Apply()   # Call Apply before setting the diffusion tensor\n",
        "    ################################################################################\n",
        "    # Impose the diffusion coefficient\n",
        "    mydomain.D0 = 3e-3\n",
        "    mydomain.D  = mydomain.D0;\n",
        "    #################################################################################\n",
        "\n",
        "    # linsolver = PETScLUSolver(\"mumps\")\n",
        "    linsolver = KrylovSolver(\"bicgstab\")\n",
        "    linsolver.parameters[\"absolute_tolerance\"] = 1e-4\n",
        "    linsolver.parameters[\"relative_tolerance\"] = 1e-4\n",
        "    linsolver.parameters[\"maximum_iterations\"] = 10000\n",
        "    \n",
        "    mri_simu.solve(mydomain, mri_para, linsolver)\n",
        "\n",
        "    ctext = \"\"\n",
        "    Post_processing(mydomain, mri_para, mri_simu, None, ctext)    "
      ],
      "execution_count": 81,
      "outputs": [
        {
          "output_type": "stream",
          "text": [
            "Function Space for Two-compartment Domains has 4 components\n",
            "(ur0, ui0, ur1, ur1): r-real, i-imaginary\n",
            "Initialize peridodic function spaces.\n",
            "The pseudo-periodic BCS are strongly imposed.\n",
            "The mesh needs to be periodic.\n",
            "t:   0.00  T: 20000.00 dt: 200.0 qvalue: 3.872983e-05 Completed 0.00%\n",
            "t: 1000.00  T: 20000.00 dt: 200.0 qvalue: 3.872983e-05 Completed 4.95%\n",
            "t: 2000.00  T: 20000.00 dt: 200.0 qvalue: 3.872983e-05 Completed 9.90%\n",
            "t: 3000.00  T: 20000.00 dt: 200.0 qvalue: 3.872983e-05 Completed 14.85%\n",
            "t: 4000.00  T: 20000.00 dt: 200.0 qvalue: 3.872983e-05 Completed 19.80%\n",
            "t: 5000.00  T: 20000.00 dt: 200.0 qvalue: 3.872983e-05 Completed 24.75%\n",
            "t: 6000.00  T: 20000.00 dt: 200.0 qvalue: 3.872983e-05 Completed 29.70%\n",
            "t: 7000.00  T: 20000.00 dt: 200.0 qvalue: 3.872983e-05 Completed 34.65%\n",
            "t: 8000.00  T: 20000.00 dt: 200.0 qvalue: 3.872983e-05 Completed 39.60%\n",
            "t: 9000.00  T: 20000.00 dt: 200.0 qvalue: 3.872983e-05 Completed 44.55%\n",
            "t: 10000.00  T: 20000.00 dt: 200.0 qvalue: 3.872983e-05 Completed 49.50%\n",
            "t: 11000.00  T: 20000.00 dt: 200.0 qvalue: 3.872983e-05 Completed 54.46%\n",
            "t: 12000.00  T: 20000.00 dt: 200.0 qvalue: 3.872983e-05 Completed 59.41%\n",
            "t: 13000.00  T: 20000.00 dt: 200.0 qvalue: 3.872983e-05 Completed 64.36%\n",
            "t: 14000.00  T: 20000.00 dt: 200.0 qvalue: 3.872983e-05 Completed 69.31%\n",
            "t: 15000.00  T: 20000.00 dt: 200.0 qvalue: 3.872983e-05 Completed 74.26%\n",
            "t: 16000.00  T: 20000.00 dt: 200.0 qvalue: 3.872983e-05 Completed 79.21%\n",
            "t: 17000.00  T: 20000.00 dt: 200.0 qvalue: 3.872983e-05 Completed 84.16%\n",
            "t: 18000.00  T: 20000.00 dt: 200.0 qvalue: 3.872983e-05 Completed 89.11%\n",
            "t: 19000.00  T: 20000.00 dt: 200.0 qvalue: 3.872983e-05 Completed 94.06%\n",
            "t: 20000.00  T: 20000.00 dt: 200.0 qvalue: 3.872983e-05 Completed 99.01%\n",
            "Successfully Completed! Elapsed time: 102.362838 seconds\n",
            "Signal on each compartment\n",
            "Sum initial0: 4.349e+01, Signal0: 1.099e+01\n",
            "Sum initial1: 5.651e+01, Signal1: 4.988e+01\n",
            "b: 1000.000, g: 0.145, q: 3.873e-05, Signal: 6.087e+01, Normalized signal: 6.086701e-01, kappa: 1.000e-05, dt: 200.000, hmin: 1.369e-01, hmax: 2.838e-01, whole_vol: 100.000, vol_of_interest: 100.000, Free signal: 4.979e-02, elasped time 102.363 (s)\n",
            "\n",
            "save to log.txt\n"
          ],
          "name": "stdout"
        }
      ]
    }
  ]
}
