{
  "nbformat": 4,
  "nbformat_minor": 0,
  "metadata": {
    "colab": {
      "name": "RealNeurons.ipynb",
      "version": "0.3.2",
      "provenance": [],
      "collapsed_sections": [
        "vS_YdSbqFOln",
        "9SJXe6I5JUwF",
        "6l4kvMZQb3z6",
        "r6GW2fwLE042"
      ],
      "toc_visible": true,
      "include_colab_link": true
    },
    "kernelspec": {
      "name": "python3",
      "display_name": "Python 3"
    },
    "accelerator": "GPU"
  },
  "cells": [
    {
      "cell_type": "markdown",
      "metadata": {
        "id": "view-in-github",
        "colab_type": "text"
      },
      "source": [
        "<a href=\"https://colab.research.google.com/github/van-dang/MRI-Cloud/blob/master/RealNeurons.ipynb\" target=\"_parent\"><img src=\"https://colab.research.google.com/assets/colab-badge.svg\" alt=\"Open In Colab\"/></a>"
      ]
    },
    {
      "cell_type": "markdown",
      "metadata": {
        "id": "vS_YdSbqFOln",
        "colab_type": "text"
      },
      "source": [
        "# About the code"
      ]
    },
    {
      "cell_type": "code",
      "metadata": {
        "id": "CiQ9r51xKgWh",
        "colab_type": "code",
        "colab": {}
      },
      "source": [
        "# This program solves the Bloch-Torrey equation applied to computational diffusion MRI using \n",
        "# the finite element method coupled with the theta-method for the spatial discretization.\n",
        "\n",
        "# The scope of usage: \n",
        "# (1) Single domains, Multilayered structures, manifolds\n",
        "# (2) Membrane permeability for internal interfaces\n",
        "#     Artificial permeability at the external interfaces\n",
        "# (3) pure homogeneous Neumann BCs, (4) pseudo-periodic BCs\n",
        "\n",
        "# Copyright (C) 2019 Van-Dang Nguyen (vdnguyen@kth.se)\n",
        "\n",
        "# This file is part of DOLFIN.\n",
        "\n",
        "# DOLFIN is free software: you can redistribute it and/or modify\n",
        "# it under the terms of the GNU Lesser General Public License as published by\n",
        "# the Free Software Foundation, either version 3 of the License, or\n",
        "# (at your option) any later version.\n",
        "\n",
        "# DOLFIN is distributed in the hope that it will be useful,\n",
        "# but WITHOUT ANY WARRANTY; without even the implied warranty of\n",
        "# MERCHANTABILITY or FITNESS FOR A PARTICULAR PURPOSE. See the\n",
        "# GNU Lesser General Public License for more details.\n",
        "\n",
        "# You should have received a copy of the GNU Lesser General Public License\n",
        "# along with DOLFIN. If not, see <http://www.gnu.org/licenses/>.\n",
        "\n",
        "# First added:  2017-10-10\n",
        "# Last changed: 2019-04-25\n",
        "\n",
        "# This demo is maintained by Van-Dang Nguyen\n",
        "# Please report possible problems to vdnguyen@kth.se"
      ],
      "execution_count": 0,
      "outputs": []
    },
    {
      "cell_type": "markdown",
      "metadata": {
        "id": "9SJXe6I5JUwF",
        "colab_type": "text"
      },
      "source": [
        "# Setting a working environment with FEniCS"
      ]
    },
    {
      "cell_type": "code",
      "metadata": {
        "id": "4jWzVxURFVLj",
        "colab_type": "code",
        "outputId": "bcc6bc4c-ba78-4ce4-c38d-be136f64219e",
        "colab": {
          "base_uri": "https://localhost:8080/",
          "height": 54
        }
      },
      "source": [
        "from google.colab import files\n",
        "\n",
        "import platform, sys\n",
        "python_version=platform.python_version()\n",
        "from distutils.version import LooseVersion, StrictVersion\n",
        "\n",
        "if ( LooseVersion(python_version) < LooseVersion(\"3.0.0\")):\n",
        "    print(\"Python3 is needed!\");\n",
        "    print(\"How to fix: Runtime/Change_runtime_type/Python 3\");\n",
        "    sys.exit()\n",
        "    \n",
        "try:\n",
        "    from dolfin import *; from mshr import *\n",
        "except ImportError as e:\n",
        "    !apt-get install -y -qq software-properties-common python-software-properties module-init-tools\n",
        "    !add-apt-repository -y ppa:fenics-packages/fenics\n",
        "    !apt-get update -qq\n",
        "    !apt install -y --no-install-recommends fenics\n",
        "    from dolfin import *; from mshr import *\n",
        "\n",
        "gmsh_dir=!which gmsh\n",
        "if len(gmsh_dir)==0:\n",
        "  !apt-get install gmsh\n",
        "    \n",
        "import matplotlib.pyplot as plt;\n",
        "from IPython.display import clear_output, display; import time; import dolfin.common.plotting as fenicsplot \n",
        "import time\n",
        "\n",
        "import os, sys, shutil\n",
        "\n",
        "import sympy as sp\n",
        "\n",
        "\n",
        "clear_output()\n",
        "\n",
        "dolfin_version = dolfin.__version__\n",
        "print ('dolfin version:', dolfin_version)\n",
        "\n",
        "# Disable warnings\n",
        "import logging\n",
        "logging.basicConfig(level=logging.DEBUG)\n",
        "logger = logging.getLogger(\"rothemain.rothe_utils\")\n",
        "logging.getLogger('UFL').setLevel(logging.WARNING)\n",
        "logging.getLogger('FFC').setLevel(logging.WARNING)\n",
        "\n",
        "import warnings\n",
        "warnings.filterwarnings(\"ignore\")\n"
      ],
      "execution_count": 2,
      "outputs": [
        {
          "output_type": "stream",
          "text": [
            "dolfin version: 2019.1.0\n"
          ],
          "name": "stdout"
        }
      ]
    },
    {
      "cell_type": "markdown",
      "metadata": {
        "id": "6l4kvMZQb3z6",
        "colab_type": "text"
      },
      "source": [
        "#Load pre-defined functions"
      ]
    },
    {
      "cell_type": "code",
      "metadata": {
        "id": "x3L26nGPb7kZ",
        "colab_type": "code",
        "outputId": "91f509f0-e9fb-49c1-ccb7-d7e36b4267c1",
        "colab": {
          "base_uri": "https://localhost:8080/",
          "height": 54
        }
      },
      "source": [
        "import sympy as sp  \n",
        "exists = os.path.isfile('DmriFemBuitInFunc.py')\n",
        "isupdate = False\n",
        "if (exists==False or isupdate==True):\n",
        "    if isupdate==True:\n",
        "        !rm DmriFemBuitInFunc.py\n",
        "    print(\"Load pre-defined functions from GitHub\")\n",
        "    !wget --quiet https://raw.githubusercontent.com/van-dang/MRI-Cloud/master/DmriFemBuitInFunc.py\n",
        "from DmriFemBuitInFunc import *"
      ],
      "execution_count": 3,
      "outputs": [
        {
          "output_type": "stream",
          "text": [
            "Load pre-defined functions from GitHub\n"
          ],
          "name": "stdout"
        }
      ]
    },
    {
      "cell_type": "markdown",
      "metadata": {
        "id": "r6GW2fwLE042",
        "colab_type": "text"
      },
      "source": [
        "# Working on the mesh"
      ]
    },
    {
      "cell_type": "code",
      "metadata": {
        "id": "ksCOgH6e6d8e",
        "colab_type": "code",
        "outputId": "26a9528e-dfc0-43bd-a95b-ff31a33d4442",
        "colab": {
          "base_uri": "https://localhost:8080/",
          "height": 187
        }
      },
      "source": [
        "geo_choice = 2\n",
        "\n",
        "if geo_choice == 1:\n",
        "      mesh_file = \"fru_M_100383_1D.xml\"\n",
        "      mesh_file_exists = os.path.isfile('fru_M_100383_1D.xml')\n",
        "      if (mesh_file_exists==False):\n",
        "          !wget https://raw.githubusercontent.com/van-dang/MRI-Cloud/mesh/$mesh_file''.zip\n",
        "          !unzip -q $mesh_file''.zip\n",
        "      mymesh = Mesh(mesh_file);\n",
        "\n",
        "if geo_choice == 2:\n",
        "      spindle_list=['03a_spindle2aFI','03a_spindle6aFI','03b_spindle4aACC','03b_spindle5aACC',\n",
        "                    '03b_spindle6aACC','03b_spindle7aACC','04b_spindle3aFI','05b_spindle5aFI',\n",
        "                    '06b_spindle8aACC','07b_spindle9aACC','08a_spindle13aACC','09o_spindle7aFI',\n",
        "                    '09o_spindle8aFI','10a_spindle18aACC','12a_spindle19aACC','12o_spindle9aFI',\n",
        "                    '13o_spindle10aFI','15o_spindle12aFI','16o_spindle13aFI','19o_spindle14aFI',\n",
        "                    '21o_spindle15aFI','23o_spindle16aFI','25o_spindle17aFI','26o_spindle18aFI',\n",
        "                    '27o_spindle19aFI','28o_spindle20aFI','28o_spindle21aFI','29o_spindle22aFI',\n",
        "                    '30o_spindle23aFI',\n",
        "      ];\n",
        "\n",
        "      pyramidal_list=['02a_pyramidal2aFI','02b_pyramidal1aACC','02b_pyramidal1aFI','03a_pyramidal9aFI',\n",
        "                      '03b_pyramidal2aACC','03b_pyramidal3aACC','03b_pyramidal3aFI','03b_pyramidal4aFI',\n",
        "                      '03b_pyramidal9aFI','04a_pyramidal4aACC','04a_pyramidal5aACC','04b_pyramidal5aFI',\n",
        "                      '04b_pyramidal6aACC','04b_pyramidal6aFI','04b_pyramidal7aACC','05a_pyramidal10aACC',\n",
        "                      '05a_pyramidal8aACC','05b_pyramidal7aFI','05b_pyramidal8aFI','05b_pyramidal9aACC',\n",
        "                      '06a_pyramidal11aACC','06b_pyramidal10aFI','06b_pyramidal12aACC','07a_pyramidal13aACC',\n",
        "                      '07b_pyramidal14aACC','08o_pyramidal11aFI','10a_pyramidal15aACC','11a_pyramidal16aACC',\n",
        "                      '11o_pyramidal12aFI','17o_pyramidal13aFI','18o_pyramidal14aFI','20o_pyramidal15aFI',\n",
        "                      '22o_pyramidal16aFI','24o_pyramidal17aFI','25o_pyramidal18aFI','31o_pyramidal19aFI',\n",
        "      ];\n",
        "\n",
        "      neuron_id = 0;\n",
        "      neuron_type = 'spindles';\n",
        "\n",
        "      if neuron_type == 'spindles':\n",
        "          neuron_list = spindle_list;\n",
        "      if neuron_type == 'pyramidals':\n",
        "          neuron_list = pyramidal_list;\n",
        "\n",
        "      neuron_name = neuron_list[neuron_id];\n",
        "      print(neuron_name)\n",
        "\n",
        "      neuron_dir='https://github.com/van-dang/RealNeuronMeshes/raw/master/volume_meshes/'+neuron_type+'/'+neuron_name+'.msh.zip'\n",
        "\n",
        "      mesh_file_exists = os.path.isfile(neuron_name+'.xml')\n",
        "\n",
        "      if (mesh_file_exists == False):\n",
        "          !wget -q $neuron_dir\n",
        "          !unzip -q $neuron_name''.msh.zip\n",
        "          !dolfin-convert $neuron_name''.msh $neuron_name''.xml\n",
        "          !sed -i 's/dim=\"2\"/dim=\"3\"/g' $neuron_name''.xml\n",
        "      mymesh = Mesh(neuron_name+'.xml');\n",
        "      \n",
        "gdim = mymesh.geometry().dim()\n",
        "tdim = mymesh.topology().dim()\n",
        "\n",
        "print('Topological dimension: ',tdim)\n",
        "print('Geometrical dimension: ',gdim)\n",
        "print('Mesh size: #vertices: '+str(mymesh.num_vertices()) +', #elements: '+str(mymesh.num_cells()) );"
      ],
      "execution_count": 5,
      "outputs": [
        {
          "output_type": "stream",
          "text": [
            "03a_spindle2aFI\n",
            "Converting from Gmsh format (.msh, .gmsh) to DOLFIN XML format\n",
            "Expecting 101374 vertices\n",
            "Found all vertices\n",
            "Expecting 403906 cells\n",
            "Found all cells\n",
            "Conversion done\n",
            "Topological dimension:  3\n",
            "Geometrical dimension:  3\n",
            "Mesh size: #vertices: 101374, #elements: 403906\n"
          ],
          "name": "stdout"
        }
      ]
    },
    {
      "cell_type": "markdown",
      "metadata": {
        "id": "aFEvif9PF2yH",
        "colab_type": "text"
      },
      "source": [
        "# Solve the Bloch-Torrey equation"
      ]
    },
    {
      "cell_type": "code",
      "metadata": {
        "id": "DYZ5SWlw69tQ",
        "colab_type": "code",
        "outputId": "a76a399c-fe9c-4891-e0f7-e7c08b8b52c8",
        "colab": {
          "base_uri": "https://localhost:8080/",
          "height": 691
        }
      },
      "source": [
        "mri_simu = MRI_simulation()\n",
        "mri_para = MRI_parameters()\n",
        "\n",
        "#################################################################################\n",
        "#########################  Pre-defined parameters ###############################\n",
        "mri_para.stype='PGSE'                                # sequence type\n",
        "mri_para.bvalue = 1000;                              # bvalue\n",
        "mri_para.delta, mri_para.Delta = 10000, 13000        # time sequence\n",
        "mri_para.set_gradient_dir(mymesh, 1, 1, 0)           # gradient direction\n",
        "\n",
        "mri_para.T = mri_para.Delta+mri_para.delta\n",
        "mri_para.fs_sym = sp.Piecewise(\n",
        "                (  1., mri_para.s < mri_para.delta ),\n",
        "                (  0., mri_para.s < mri_para.Delta ),\n",
        "                ( -1., mri_para.s < mri_para.T ),\n",
        "                (  0., True )  \n",
        "            ) \n",
        "\n",
        "\n",
        "mri_para.Apply()\n",
        "mri_simu.k = 200;                                    # time-step size\n",
        "mri_simu.nskip = 1;                                  # frequency to print ouputs\n",
        "mydomain = MyDomain(mymesh, mri_para)\n",
        "mydomain.phase = None\n",
        "mydomain.PeriodicDir = [0, 0, 0];             # Direction of the periodicity\n",
        "mydomain.IsDomainPeriodic = False             # Confirm if the mesh if periodic\n",
        "mydomain.IsDomainMultiple = False             # Confirm if the mesh is multiple\n",
        "################################################################################\n",
        "mydomain.Apply()   # Call Apply before setting the diffusion tensor\n",
        "################################################################################\n",
        "# Impose the diffusion coefficient\n",
        "mydomain.D0 = 2e-3\n",
        "mydomain.D = mydomain.D0;\n",
        "#################################################################################\n",
        "\n",
        "parameters[\"krylov_solver\"][\"nonzero_initial_guess\"] = True\n",
        "# linsolver = PETScLUSolver(\"mumps\")\n",
        "linsolver = KrylovSolver(\"bicgstab\",\"petsc_amg\")\n",
        "linsolver.parameters[\"relative_tolerance\"] = 1E-4\n",
        "linsolver.parameters[\"absolute_tolerance\"] = 1E-8\n",
        "\n",
        "mri_simu.solve(mydomain, mri_para, linsolver)\n",
        "\n",
        "Post_processing(mydomain, mri_para, mri_simu, plt)"
      ],
      "execution_count": 14,
      "outputs": [
        {
          "output_type": "stream",
          "text": [
            "Function Space for Single Domains has 2 components\n",
            "(ur, ui): r-real, i-imaginary\n",
            "Initialize a standard function space.\n",
            "t: 200.00  T: 23000.00 dt: 200.0 qvalue: 3.216338e-05 Completed 0.86%\n",
            "t: 400.00  T: 23000.00 dt: 200.0 qvalue: 3.216338e-05 Completed 1.72%\n",
            "t: 600.00  T: 23000.00 dt: 200.0 qvalue: 3.216338e-05 Completed 2.59%\n",
            "t: 800.00  T: 23000.00 dt: 200.0 qvalue: 3.216338e-05 Completed 3.45%\n",
            "t: 1000.00  T: 23000.00 dt: 200.0 qvalue: 3.216338e-05 Completed 4.31%\n",
            "t: 1200.00  T: 23000.00 dt: 200.0 qvalue: 3.216338e-05 Completed 5.17%\n",
            "t: 1400.00  T: 23000.00 dt: 200.0 qvalue: 3.216338e-05 Completed 6.03%\n",
            "t: 1600.00  T: 23000.00 dt: 200.0 qvalue: 3.216338e-05 Completed 6.90%\n",
            "t: 1800.00  T: 23000.00 dt: 200.0 qvalue: 3.216338e-05 Completed 7.76%\n",
            "t: 2000.00  T: 23000.00 dt: 200.0 qvalue: 3.216338e-05 Completed 8.62%\n",
            "t: 2200.00  T: 23000.00 dt: 200.0 qvalue: 3.216338e-05 Completed 9.48%\n",
            "t: 2400.00  T: 23000.00 dt: 200.0 qvalue: 3.216338e-05 Completed 10.34%\n",
            "t: 2600.00  T: 23000.00 dt: 200.0 qvalue: 3.216338e-05 Completed 11.21%\n",
            "t: 2800.00  T: 23000.00 dt: 200.0 qvalue: 3.216338e-05 Completed 12.07%\n",
            "t: 3000.00  T: 23000.00 dt: 200.0 qvalue: 3.216338e-05 Completed 12.93%\n",
            "t: 3200.00  T: 23000.00 dt: 200.0 qvalue: 3.216338e-05 Completed 13.79%\n",
            "t: 3400.00  T: 23000.00 dt: 200.0 qvalue: 3.216338e-05 Completed 14.66%\n"
          ],
          "name": "stdout"
        },
        {
          "output_type": "error",
          "ename": "KeyboardInterrupt",
          "evalue": "ignored",
          "traceback": [
            "\u001b[0;31m---------------------------------------------------------------------------\u001b[0m",
            "\u001b[0;31mKeyboardInterrupt\u001b[0m                         Traceback (most recent call last)",
            "\u001b[0;32m<ipython-input-14-17de100dc089>\u001b[0m in \u001b[0;36m<module>\u001b[0;34m()\u001b[0m\n\u001b[1;32m     40\u001b[0m \u001b[0mlinsolver\u001b[0m\u001b[0;34m.\u001b[0m\u001b[0mparameters\u001b[0m\u001b[0;34m[\u001b[0m\u001b[0;34m\"absolute_tolerance\"\u001b[0m\u001b[0;34m]\u001b[0m \u001b[0;34m=\u001b[0m \u001b[0;36m1E-8\u001b[0m\u001b[0;34m\u001b[0m\u001b[0;34m\u001b[0m\u001b[0m\n\u001b[1;32m     41\u001b[0m \u001b[0;34m\u001b[0m\u001b[0m\n\u001b[0;32m---> 42\u001b[0;31m \u001b[0mmri_simu\u001b[0m\u001b[0;34m.\u001b[0m\u001b[0msolve\u001b[0m\u001b[0;34m(\u001b[0m\u001b[0mmydomain\u001b[0m\u001b[0;34m,\u001b[0m \u001b[0mmri_para\u001b[0m\u001b[0;34m,\u001b[0m \u001b[0mlinsolver\u001b[0m\u001b[0;34m)\u001b[0m\u001b[0;34m\u001b[0m\u001b[0;34m\u001b[0m\u001b[0m\n\u001b[0m\u001b[1;32m     43\u001b[0m \u001b[0;34m\u001b[0m\u001b[0m\n\u001b[1;32m     44\u001b[0m \u001b[0mPost_processing\u001b[0m\u001b[0;34m(\u001b[0m\u001b[0mmydomain\u001b[0m\u001b[0;34m,\u001b[0m \u001b[0mmri_para\u001b[0m\u001b[0;34m,\u001b[0m \u001b[0mmri_simu\u001b[0m\u001b[0;34m,\u001b[0m \u001b[0mplt\u001b[0m\u001b[0;34m)\u001b[0m\u001b[0;34m\u001b[0m\u001b[0;34m\u001b[0m\u001b[0m\n",
            "\u001b[0;32m/content/DmriFemBuitInFunc.py\u001b[0m in \u001b[0;36msolve\u001b[0;34m(self, mydomain, mri_para, linsolver, ic)\u001b[0m\n\u001b[1;32m    730\u001b[0m               \u001b[0mb\u001b[0m \u001b[0;34m=\u001b[0m \u001b[0massemble\u001b[0m\u001b[0;34m(\u001b[0m\u001b[0mL\u001b[0m\u001b[0;34m)\u001b[0m\u001b[0;34m;\u001b[0m\u001b[0;34m\u001b[0m\u001b[0;34m\u001b[0m\u001b[0m\n\u001b[1;32m    731\u001b[0m \u001b[0;34m\u001b[0m\u001b[0m\n\u001b[0;32m--> 732\u001b[0;31m               \u001b[0mlinsolver\u001b[0m\u001b[0;34m.\u001b[0m\u001b[0msolve\u001b[0m\u001b[0;34m(\u001b[0m\u001b[0mA\u001b[0m\u001b[0;34m,\u001b[0m \u001b[0mself\u001b[0m\u001b[0;34m.\u001b[0m\u001b[0mu_0\u001b[0m\u001b[0;34m.\u001b[0m\u001b[0mvector\u001b[0m\u001b[0;34m(\u001b[0m\u001b[0;34m)\u001b[0m\u001b[0;34m,\u001b[0m\u001b[0mb\u001b[0m\u001b[0;34m)\u001b[0m\u001b[0;34m;\u001b[0m\u001b[0;34m\u001b[0m\u001b[0;34m\u001b[0m\u001b[0m\n\u001b[0m\u001b[1;32m    733\u001b[0m \u001b[0;34m\u001b[0m\u001b[0m\n\u001b[1;32m    734\u001b[0m               \u001b[0mtp\u001b[0m \u001b[0;34m=\u001b[0m \u001b[0mself\u001b[0m\u001b[0;34m.\u001b[0m\u001b[0mt\u001b[0m\u001b[0;34m;\u001b[0m\u001b[0;34m\u001b[0m\u001b[0;34m\u001b[0m\u001b[0m\n",
            "\u001b[0;31mKeyboardInterrupt\u001b[0m: "
          ]
        }
      ]
    }
  ]
}