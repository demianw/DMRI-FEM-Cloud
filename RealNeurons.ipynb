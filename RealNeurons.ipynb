{
  "nbformat": 4,
  "nbformat_minor": 0,
  "metadata": {
    "colab": {
      "name": "RealNeurons.ipynb",
      "version": "0.3.2",
      "provenance": [],
      "collapsed_sections": [
        "vS_YdSbqFOln",
        "9SJXe6I5JUwF",
        "6l4kvMZQb3z6",
        "r6GW2fwLE042"
      ],
      "toc_visible": true,
      "include_colab_link": true
    },
    "kernelspec": {
      "name": "python3",
      "display_name": "Python 3"
    },
    "accelerator": "GPU"
  },
  "cells": [
    {
      "cell_type": "markdown",
      "metadata": {
        "id": "view-in-github",
        "colab_type": "text"
      },
      "source": [
        "<a href=\"https://colab.research.google.com/github/van-dang/MRI-Cloud/blob/master/RealNeurons.ipynb\" target=\"_parent\"><img src=\"https://colab.research.google.com/assets/colab-badge.svg\" alt=\"Open In Colab\"/></a>"
      ]
    },
    {
      "cell_type": "markdown",
      "metadata": {
        "id": "vS_YdSbqFOln",
        "colab_type": "text"
      },
      "source": [
        "# About the code"
      ]
    },
    {
      "cell_type": "code",
      "metadata": {
        "id": "CiQ9r51xKgWh",
        "colab_type": "code",
        "colab": {}
      },
      "source": [
        "# This program solves the Bloch-Torrey equation applied to computational diffusion MRI using \n",
        "# the finite element method coupled with the theta-method for the spatial discretization.\n",
        "\n",
        "# The scope of usage: \n",
        "# (1) Single domains, Multilayered structures, manifolds\n",
        "# (2) Membrane permeability for internal interfaces\n",
        "#     Artificial permeability at the external interfaces\n",
        "# (3) pure homogeneous Neumann BCs, (4) pseudo-periodic BCs\n",
        "\n",
        "# Copyright (C) 2019 Van-Dang Nguyen (vdnguyen@kth.se)\n",
        "\n",
        "# This file is part of DOLFIN.\n",
        "\n",
        "# DOLFIN is free software: you can redistribute it and/or modify\n",
        "# it under the terms of the GNU Lesser General Public License as published by\n",
        "# the Free Software Foundation, either version 3 of the License, or\n",
        "# (at your option) any later version.\n",
        "\n",
        "# DOLFIN is distributed in the hope that it will be useful,\n",
        "# but WITHOUT ANY WARRANTY; without even the implied warranty of\n",
        "# MERCHANTABILITY or FITNESS FOR A PARTICULAR PURPOSE. See the\n",
        "# GNU Lesser General Public License for more details.\n",
        "\n",
        "# You should have received a copy of the GNU Lesser General Public License\n",
        "# along with DOLFIN. If not, see <http://www.gnu.org/licenses/>.\n",
        "\n",
        "# First added:  2017-10-10\n",
        "# Last changed: 2019-04-25\n",
        "\n",
        "# This demo is maintained by Van-Dang Nguyen\n",
        "# Please report possible problems to vdnguyen@kth.se"
      ],
      "execution_count": 0,
      "outputs": []
    },
    {
      "cell_type": "markdown",
      "metadata": {
        "id": "9SJXe6I5JUwF",
        "colab_type": "text"
      },
      "source": [
        "# Setting a working environment with FEniCS"
      ]
    },
    {
      "cell_type": "code",
      "metadata": {
        "id": "4jWzVxURFVLj",
        "colab_type": "code",
        "outputId": "27b661a6-43db-4ac5-a506-cf7f84c3eccb",
        "colab": {
          "base_uri": "https://localhost:8080/",
          "height": 54
        }
      },
      "source": [
        "from google.colab import files\n",
        "\n",
        "import platform, sys\n",
        "python_version=platform.python_version()\n",
        "from distutils.version import LooseVersion, StrictVersion\n",
        "\n",
        "if ( LooseVersion(python_version) < LooseVersion(\"3.0.0\")):\n",
        "    print(\"Python3 is needed!\");\n",
        "    print(\"How to fix: Runtime/Change_runtime_type/Python 3\");\n",
        "    sys.exit()\n",
        "    \n",
        "try:\n",
        "    from dolfin import *; from mshr import *\n",
        "except ImportError as e:\n",
        "    !apt-get install -y -qq software-properties-common python-software-properties module-init-tools\n",
        "    !add-apt-repository -y ppa:fenics-packages/fenics\n",
        "    !apt-get update -qq\n",
        "    !apt install -y --no-install-recommends fenics\n",
        "    from dolfin import *; from mshr import *\n",
        "\n",
        "gmsh_dir=!which gmsh\n",
        "if len(gmsh_dir)==0:\n",
        "  !apt-get install gmsh\n",
        "    \n",
        "import matplotlib.pyplot as plt;\n",
        "from IPython.display import clear_output, display; import time; import dolfin.common.plotting as fenicsplot \n",
        "import time\n",
        "\n",
        "import os, sys, shutil\n",
        "\n",
        "import sympy as sp\n",
        "\n",
        "\n",
        "clear_output()\n",
        "\n",
        "dolfin_version = dolfin.__version__\n",
        "print ('dolfin version:', dolfin_version)\n",
        "\n",
        "# Disable warnings\n",
        "import logging\n",
        "logging.basicConfig(level=logging.DEBUG)\n",
        "logger = logging.getLogger(\"rothemain.rothe_utils\")\n",
        "logging.getLogger('UFL').setLevel(logging.WARNING)\n",
        "logging.getLogger('FFC').setLevel(logging.WARNING)\n",
        "\n",
        "import warnings\n",
        "warnings.filterwarnings(\"ignore\")\n"
      ],
      "execution_count": 2,
      "outputs": [
        {
          "output_type": "stream",
          "text": [
            "dolfin version: 2019.1.0\n"
          ],
          "name": "stdout"
        }
      ]
    },
    {
      "cell_type": "markdown",
      "metadata": {
        "id": "6l4kvMZQb3z6",
        "colab_type": "text"
      },
      "source": [
        "#Load pre-defined functions"
      ]
    },
    {
      "cell_type": "code",
      "metadata": {
        "id": "x3L26nGPb7kZ",
        "colab_type": "code",
        "colab": {
          "base_uri": "https://localhost:8080/",
          "height": 63
        },
        "outputId": "53fcbf3e-5f78-45f2-ec1a-a7a1fd988848"
      },
      "source": [
        "import sympy as sp  \n",
        "exists = os.path.isfile('DmriFemBuitInFunc.py')\n",
        "isupdate = False\n",
        "if (exists==False or isupdate==True):\n",
        "    if isupdate==True:\n",
        "        !rm DmriFemBuitInFunc.py\n",
        "    print(\"Load pre-defined functions from GitHub\")\n",
        "    !wget --quiet https://raw.githubusercontent.com/van-dang/MRI-Cloud/master/DmriFemBuitInFunc.py\n",
        "from DmriFemBuitInFunc import *"
      ],
      "execution_count": 3,
      "outputs": [
        {
          "output_type": "stream",
          "text": [
            "Load pre-defined functions from GitHub\n"
          ],
          "name": "stdout"
        }
      ]
    },
    {
      "cell_type": "markdown",
      "metadata": {
        "id": "r6GW2fwLE042",
        "colab_type": "text"
      },
      "source": [
        "# Working on the mesh"
      ]
    },
    {
      "cell_type": "code",
      "metadata": {
        "id": "ksCOgH6e6d8e",
        "colab_type": "code",
        "outputId": "fb17245e-6352-4ba6-f9f2-005f9fbc567c",
        "colab": {
          "base_uri": "https://localhost:8080/",
          "height": 275
        }
      },
      "source": [
        "geo_choice = 1\n",
        "\n",
        "if geo_choice == 1:\n",
        "      mesh_file = \"fru_M_100383_1D.xml\"\n",
        "      mesh_file_exists = os.path.isfile('fru_M_100383_1D.xml')\n",
        "      if (mesh_file_exists==False):\n",
        "          !wget https://raw.githubusercontent.com/van-dang/MRI-Cloud/mesh/$mesh_file''.zip\n",
        "          !unzip -q $mesh_file''.zip\n",
        "      mymesh = Mesh(mesh_file);\n",
        "\n",
        "if geo_choice == 2:\n",
        "      spindle_list=['03a_spindle2aFI','03a_spindle6aFI','03b_spindle4aACC','03b_spindle5aACC',\n",
        "                    '03b_spindle6aACC','03b_spindle7aACC','04b_spindle3aFI','05b_spindle5aFI',\n",
        "                    '06b_spindle8aACC','07b_spindle9aACC','08a_spindle13aACC','09o_spindle7aFI',\n",
        "                    '09o_spindle8aFI','10a_spindle18aACC','12a_spindle19aACC','12o_spindle9aFI',\n",
        "                    '13o_spindle10aFI','15o_spindle12aFI','16o_spindle13aFI','19o_spindle14aFI',\n",
        "                    '21o_spindle15aFI','23o_spindle16aFI','25o_spindle17aFI','26o_spindle18aFI',\n",
        "                    '27o_spindle19aFI','28o_spindle20aFI','28o_spindle21aFI','29o_spindle22aFI',\n",
        "                    '30o_spindle23aFI',\n",
        "      ];\n",
        "\n",
        "      pyramidal_list=['02a_pyramidal2aFI','02b_pyramidal1aACC','02b_pyramidal1aFI','03a_pyramidal9aFI',\n",
        "                      '03b_pyramidal2aACC','03b_pyramidal3aACC','03b_pyramidal3aFI','03b_pyramidal4aFI',\n",
        "                      '03b_pyramidal9aFI','04a_pyramidal4aACC','04a_pyramidal5aACC','04b_pyramidal5aFI',\n",
        "                      '04b_pyramidal6aACC','04b_pyramidal6aFI','04b_pyramidal7aACC','05a_pyramidal10aACC',\n",
        "                      '05a_pyramidal8aACC','05b_pyramidal7aFI','05b_pyramidal8aFI','05b_pyramidal9aACC',\n",
        "                      '06a_pyramidal11aACC','06b_pyramidal10aFI','06b_pyramidal12aACC','07a_pyramidal13aACC',\n",
        "                      '07b_pyramidal14aACC','08o_pyramidal11aFI','10a_pyramidal15aACC','11a_pyramidal16aACC',\n",
        "                      '11o_pyramidal12aFI','17o_pyramidal13aFI','18o_pyramidal14aFI','20o_pyramidal15aFI',\n",
        "                      '22o_pyramidal16aFI','24o_pyramidal17aFI','25o_pyramidal18aFI','31o_pyramidal19aFI',\n",
        "      ];\n",
        "\n",
        "      neuron_id = 14;\n",
        "      neuron_type = 'pyramidals';\n",
        "\n",
        "      if neuron_type == 'spindles':\n",
        "          neuron_list = spindle_list;\n",
        "      if neuron_type == 'pyramidals':\n",
        "          neuron_list = pyramidal_list;\n",
        "\n",
        "      neuron_name = neuron_list[neuron_id];\n",
        "      print(neuron_name)\n",
        "\n",
        "      neuron_dir='https://raw.githubusercontent.com/van-dang/NeuronVolumeMeshes/master/'+neuron_type+'/'+neuron_name+'.msh.zip'\n",
        "\n",
        "      mesh_file_exists = os.path.isfile(neuron_name+'.xml')\n",
        "\n",
        "      if (mesh_file_exists == False):\n",
        "          !wget -q $neuron_dir\n",
        "          !unzip -q $neuron_name''.msh.zip\n",
        "          !dolfin-convert $neuron_name''.msh $neuron_name''.xml\n",
        "          !sed -i 's/dim=\"2\"/dim=\"3\"/g' $neuron_name''.xml\n",
        "      mymesh = Mesh(neuron_name+'.xml');\n",
        "      \n",
        "gdim = mymesh.geometry().dim()\n",
        "tdim = mymesh.topology().dim()\n",
        "\n",
        "print('Topological dimension: ',tdim)\n",
        "print('Geometrical dimension: ',gdim)\n",
        "print('Mesh size: #vertices: '+str(mymesh.num_vertices()) +', #elements: '+str(mymesh.num_cells()) );"
      ],
      "execution_count": 4,
      "outputs": [
        {
          "output_type": "stream",
          "text": [
            "--2019-05-02 17:57:08--  https://raw.githubusercontent.com/van-dang/MRI-Cloud/mesh/fru_M_100383_1D.xml.zip\n",
            "Resolving raw.githubusercontent.com (raw.githubusercontent.com)... 151.101.0.133, 151.101.64.133, 151.101.128.133, ...\n",
            "Connecting to raw.githubusercontent.com (raw.githubusercontent.com)|151.101.0.133|:443... connected.\n",
            "HTTP request sent, awaiting response... 200 OK\n",
            "Length: 33864 (33K) [application/zip]\n",
            "Saving to: ‘fru_M_100383_1D.xml.zip’\n",
            "\n",
            "\rfru_M_100383_1D.xml   0%[                    ]       0  --.-KB/s               \rfru_M_100383_1D.xml 100%[===================>]  33.07K  --.-KB/s    in 0.008s  \n",
            "\n",
            "2019-05-02 17:57:08 (4.10 MB/s) - ‘fru_M_100383_1D.xml.zip’ saved [33864/33864]\n",
            "\n",
            "Topological dimension:  1\n",
            "Geometrical dimension:  3\n",
            "Mesh size: #vertices: 1335, #elements: 1342\n"
          ],
          "name": "stdout"
        }
      ]
    },
    {
      "cell_type": "markdown",
      "metadata": {
        "id": "aFEvif9PF2yH",
        "colab_type": "text"
      },
      "source": [
        "# Solve the Bloch-Torrey equation"
      ]
    },
    {
      "cell_type": "code",
      "metadata": {
        "id": "DYZ5SWlw69tQ",
        "colab_type": "code",
        "outputId": "b692fe61-08cf-46ed-f0d4-bd0c26b53002",
        "colab": {
          "base_uri": "https://localhost:8080/",
          "height": 873
        }
      },
      "source": [
        "mri_simu = MRI_simulation()\n",
        "mri_para = MRI_parameters()\n",
        "\n",
        "#################################################################################\n",
        "#########################  Pre-defined parameters ###############################\n",
        "mri_para.stype='PGSE'                                # sequence type\n",
        "mri_para.bvalue = 1000;                              # bvalue\n",
        "mri_para.delta, mri_para.Delta = 10000, 10000        # time sequence\n",
        "mri_para.set_gradient_dir(mymesh, 0, 1, 0)           # gradient direction\n",
        "\n",
        "mri_para.T = mri_para.Delta+mri_para.delta\n",
        "mri_para.fs_sym = sp.Piecewise(\n",
        "                (  1., mri_para.s < mri_para.delta ),\n",
        "                (  0., mri_para.s < mri_para.Delta ),\n",
        "                ( -1., mri_para.s < mri_para.T ),\n",
        "                (  0., True )  \n",
        "            ) \n",
        "\n",
        "\n",
        "mri_para.Apply()\n",
        "mri_simu.k = 500;                                    # time-step size\n",
        "mri_simu.nskip = 1;                                  # frequency to print ouputs\n",
        "mydomain = MyDomain(mymesh, mri_para)\n",
        "mydomain.phase = None\n",
        "mydomain.PeriodicDir = [0, 0, 0];             # Direction of the periodicity\n",
        "mydomain.IsDomainPeriodic = False             # Confirm if the mesh if periodic\n",
        "mydomain.IsDomainMultiple = False             # Confirm if the mesh is multiple\n",
        "mydomain.kappa = 1e-5                         # Permeability\n",
        "################################################################################\n",
        "mydomain.Apply()   # Call Apply before setting the diffusion tensor\n",
        "################################################################################\n",
        "# Impose the diffusion coefficient\n",
        "mydomain.D0 = 3e-3\n",
        "mydomain.D = mydomain.D0;\n",
        "#################################################################################\n",
        "\n",
        "linsolver = PETScLUSolver(\"mumps\")\n",
        "\n",
        "mri_simu.solve(mydomain, mri_para, linsolver)\n",
        "\n",
        "Post_processing(mydomain, mri_para, mri_simu)"
      ],
      "execution_count": 6,
      "outputs": [
        {
          "output_type": "stream",
          "text": [
            "Function Space for Single Domains has 2 components\n",
            "(ur, ui): r-real, i-imaginary\n",
            "Initialize a standard function space.\n",
            "t:   0.00  T: 20000.00 dt: 500.0 gnorm: 3.872983e-05 Completed 0.00%\n",
            "t: 500.00  T: 20000.00 dt: 500.0 gnorm: 3.872983e-05 Completed 2.44%\n",
            "t: 1000.00  T: 20000.00 dt: 500.0 gnorm: 3.872983e-05 Completed 4.88%\n",
            "t: 1500.00  T: 20000.00 dt: 500.0 gnorm: 3.872983e-05 Completed 7.32%\n",
            "t: 2000.00  T: 20000.00 dt: 500.0 gnorm: 3.872983e-05 Completed 9.76%\n",
            "t: 2500.00  T: 20000.00 dt: 500.0 gnorm: 3.872983e-05 Completed 12.20%\n",
            "t: 3000.00  T: 20000.00 dt: 500.0 gnorm: 3.872983e-05 Completed 14.63%\n",
            "t: 3500.00  T: 20000.00 dt: 500.0 gnorm: 3.872983e-05 Completed 17.07%\n",
            "t: 4000.00  T: 20000.00 dt: 500.0 gnorm: 3.872983e-05 Completed 19.51%\n",
            "t: 4500.00  T: 20000.00 dt: 500.0 gnorm: 3.872983e-05 Completed 21.95%\n",
            "t: 5000.00  T: 20000.00 dt: 500.0 gnorm: 3.872983e-05 Completed 24.39%\n",
            "t: 5500.00  T: 20000.00 dt: 500.0 gnorm: 3.872983e-05 Completed 26.83%\n",
            "t: 6000.00  T: 20000.00 dt: 500.0 gnorm: 3.872983e-05 Completed 29.27%\n",
            "t: 6500.00  T: 20000.00 dt: 500.0 gnorm: 3.872983e-05 Completed 31.71%\n",
            "t: 7000.00  T: 20000.00 dt: 500.0 gnorm: 3.872983e-05 Completed 34.15%\n",
            "t: 7500.00  T: 20000.00 dt: 500.0 gnorm: 3.872983e-05 Completed 36.59%\n",
            "t: 8000.00  T: 20000.00 dt: 500.0 gnorm: 3.872983e-05 Completed 39.02%\n",
            "t: 8500.00  T: 20000.00 dt: 500.0 gnorm: 3.872983e-05 Completed 41.46%\n",
            "t: 9000.00  T: 20000.00 dt: 500.0 gnorm: 3.872983e-05 Completed 43.90%\n",
            "t: 9500.00  T: 20000.00 dt: 500.0 gnorm: 3.872983e-05 Completed 46.34%\n",
            "t: 10000.00  T: 20000.00 dt: 500.0 gnorm: 3.872983e-05 Completed 48.78%\n",
            "t: 10500.00  T: 20000.00 dt: 500.0 gnorm: 3.872983e-05 Completed 51.22%\n",
            "t: 11000.00  T: 20000.00 dt: 500.0 gnorm: 3.872983e-05 Completed 53.66%\n",
            "t: 11500.00  T: 20000.00 dt: 500.0 gnorm: 3.872983e-05 Completed 56.10%\n",
            "t: 12000.00  T: 20000.00 dt: 500.0 gnorm: 3.872983e-05 Completed 58.54%\n",
            "t: 12500.00  T: 20000.00 dt: 500.0 gnorm: 3.872983e-05 Completed 60.98%\n",
            "t: 13000.00  T: 20000.00 dt: 500.0 gnorm: 3.872983e-05 Completed 63.41%\n",
            "t: 13500.00  T: 20000.00 dt: 500.0 gnorm: 3.872983e-05 Completed 65.85%\n",
            "t: 14000.00  T: 20000.00 dt: 500.0 gnorm: 3.872983e-05 Completed 68.29%\n",
            "t: 14500.00  T: 20000.00 dt: 500.0 gnorm: 3.872983e-05 Completed 70.73%\n",
            "t: 15000.00  T: 20000.00 dt: 500.0 gnorm: 3.872983e-05 Completed 73.17%\n",
            "t: 15500.00  T: 20000.00 dt: 500.0 gnorm: 3.872983e-05 Completed 75.61%\n",
            "t: 16000.00  T: 20000.00 dt: 500.0 gnorm: 3.872983e-05 Completed 78.05%\n",
            "t: 16500.00  T: 20000.00 dt: 500.0 gnorm: 3.872983e-05 Completed 80.49%\n",
            "t: 17000.00  T: 20000.00 dt: 500.0 gnorm: 3.872983e-05 Completed 82.93%\n",
            "t: 17500.00  T: 20000.00 dt: 500.0 gnorm: 3.872983e-05 Completed 85.37%\n",
            "t: 18000.00  T: 20000.00 dt: 500.0 gnorm: 3.872983e-05 Completed 87.80%\n",
            "t: 18500.00  T: 20000.00 dt: 500.0 gnorm: 3.872983e-05 Completed 90.24%\n",
            "t: 19000.00  T: 20000.00 dt: 500.0 gnorm: 3.872983e-05 Completed 92.68%\n",
            "t: 19500.00  T: 20000.00 dt: 500.0 gnorm: 3.872983e-05 Completed 95.12%\n",
            "t: 20000.00  T: 20000.00 dt: 500.0 gnorm: 3.872983e-05 Completed 97.56%\n",
            "Successfully Completed! Elapsed time: 6.516606 seconds\n",
            "b: 1000.000, Signal: 1.996e+03, Normalized signal: 8.107e-01, dt: 500.000, hmin: 7.022e-01, whole_vol: 2462.124, vol_of_interest: 2462.124, Free signal: 4.979e-02, elasped time 6.517 (s)\n",
            "\n",
            "save to log.txt\n"
          ],
          "name": "stdout"
        }
      ]
    }
  ]
}