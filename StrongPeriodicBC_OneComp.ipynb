{
  "nbformat": 4,
  "nbformat_minor": 0,
  "metadata": {
    "colab": {
      "name": "Untitled8.ipynb",
      "version": "0.3.2",
      "provenance": [],
      "include_colab_link": true
    },
    "kernelspec": {
      "name": "python3",
      "display_name": "Python 3"
    }
  },
  "cells": [
    {
      "cell_type": "markdown",
      "metadata": {
        "id": "view-in-github",
        "colab_type": "text"
      },
      "source": [
        "<a href=\"https://colab.research.google.com/github/van-dang/MRI-Cloud/blob/master/StrongPeriodicBC_OneComp.ipynb\" target=\"_parent\"><img src=\"https://colab.research.google.com/assets/colab-badge.svg\" alt=\"Open In Colab\"/></a>"
      ]
    },
    {
      "metadata": {
        "id": "EPfIcLF9vpKx",
        "colab_type": "text"
      },
      "cell_type": "markdown",
      "source": [
        "# About the solver"
      ]
    },
    {
      "metadata": {
        "id": "vTVbStYFvxLg",
        "colab_type": "code",
        "colab": {}
      },
      "cell_type": "code",
      "source": [
        "# This demo solves the transformed Bloch-Torrey equation applied to diffusion MRI \n",
        "# using the standard finite element method coupled with the theta-method \n",
        "# for the space discretization.\n",
        "\n",
        "# This demo allows a single domain with periodic boundaries and the spins can\n",
        "# enter and exit the computational domain freely by using the periodic boundary\n",
        "# conditions\n",
        "\n",
        "# Copyright (C) 2017 Van-Dang Nguyen\n",
        "\n",
        "# This file is part of DOLFIN.\n",
        "\n",
        "# DOLFIN is free software: you can redistribute it and/or modify\n",
        "# it under the terms of the GNU Lesser General Public License as published by\n",
        "# the Free Software Foundation, either version 3 of the License, or\n",
        "# (at your option) any later version.\n",
        "\n",
        "# DOLFIN is distributed in the hope that it will be useful,\n",
        "# but WITHOUT ANY WARRANTY; without even the implied warranty of\n",
        "# MERCHANTABILITY or FITNESS FOR A PARTICULAR PURPOSE. See the\n",
        "# GNU Lesser General Public License for more details.\n",
        "\n",
        "# You should have received a copy of the GNU Lesser General Public License\n",
        "# along with DOLFIN. If not, see <http://www.gnu.org/licenses/>.\n",
        "\n",
        "# First added:  2017-10-10\n",
        "# Last changed: 2019-04-10"
      ],
      "execution_count": 0,
      "outputs": []
    },
    {
      "metadata": {
        "id": "I1TkhxBWxBRg",
        "colab_type": "text"
      },
      "cell_type": "markdown",
      "source": [
        "# Setting a working environment"
      ]
    },
    {
      "metadata": {
        "id": "WxI_EJwMxEV7",
        "colab_type": "code",
        "colab": {
          "base_uri": "https://localhost:8080/",
          "height": 63
        },
        "outputId": "5981e071-3563-4827-caf9-3bb9e73c5784"
      },
      "cell_type": "code",
      "source": [
        "from google.colab import files\n",
        "\n",
        "import platform, sys\n",
        "python_version=platform.python_version()\n",
        "from distutils.version import LooseVersion, StrictVersion\n",
        "\n",
        "if ( LooseVersion(python_version) < LooseVersion(\"3.0.0\")):\n",
        "    print(\"Python3 is needed!\");\n",
        "    print(\"How to fix: Runtime/Change_runtime_type/Python 3\");\n",
        "    sys.exit()\n",
        "    \n",
        "try:\n",
        "    from dolfin import *; from mshr import *\n",
        "except ImportError as e:\n",
        "    !apt-get install -y -qq software-properties-common python-software-properties module-init-tools\n",
        "    !add-apt-repository -y ppa:fenics-packages/fenics\n",
        "    !apt-get update -qq\n",
        "    !apt install -y --no-install-recommends fenics\n",
        "    from dolfin import *; from mshr import *\n",
        "    \n",
        "import matplotlib.pyplot as plt;\n",
        "from IPython.display import clear_output, display; import time; import dolfin.common.plotting as fenicsplot \n",
        "import time\n",
        "\n",
        "import os, sys, shutil\n",
        "\n",
        "dolfin_version = dolfin.__version__\n",
        "print ('dolfin version:', dolfin_version)\n",
        "\n",
        "!rm -rf * # clean up all files"
      ],
      "execution_count": 121,
      "outputs": [
        {
          "output_type": "stream",
          "text": [
            "dolfin version: 2018.1.0\n"
          ],
          "name": "stdout"
        }
      ]
    },
    {
      "metadata": {
        "id": "9hEUVSG9xWK2",
        "colab_type": "text"
      },
      "cell_type": "markdown",
      "source": [
        "# Generate a periodic mesh"
      ]
    },
    {
      "metadata": {
        "id": "2gKJpfF7xTzm",
        "colab_type": "code",
        "colab": {
          "base_uri": "https://localhost:8080/",
          "height": 269
        },
        "outputId": "d6b23827-f9b9-4642-d50c-49aae1859631"
      },
      "cell_type": "code",
      "source": [
        "xmin, ymin, xmax, ymax = -10, -10, 10, 10\n",
        "nx, ny = 20, 20;\n",
        "factor = 1;\n",
        "mesh = RectangleMesh(Point(xmin, ymin), Point(xmax, ymax), factor*nx, factor*ny, \"right\")\n",
        "\n",
        "plot(mesh)\n",
        "\n",
        "tol = 1e-6*mesh.hmin();\n",
        "gdim = mesh.geometry().dim()\n",
        "\n",
        "PeriodicDir = [0, 1, 0]\n",
        "\n",
        "gdir = Point(0,1,0);\n",
        "\n",
        "gdir /= gdir.norm()\n",
        "\n",
        "class PeriodicBD(SubDomain):\n",
        "    # Left boundary is \"target domain\" G\n",
        "    def inside(self, x, on_boundary):\n",
        "        return bool(x[0] < xmin + tol and x[0] > xmin - tol and on_boundary)\n",
        "    # Map right boundary (H) to left boundary (G)\n",
        "    def map(self, x, y):\n",
        "      if PeriodicDir[0]==1:\n",
        "        y[0] = x[0] - (xmax-xmin)\n",
        "        y[1] = x[1]\n",
        "        if (gdim ==3):\n",
        "          y[2] = x[2]\n",
        "      if PeriodicDir[1]==1:          \n",
        "        y[0] = x[0] \n",
        "        y[1] = x[1] - (ymax-ymin)\n",
        "        if (gdim==3):\n",
        "          y[2] = x[2] "
      ],
      "execution_count": 122,
      "outputs": [
        {
          "output_type": "display_data",
          "data": {
            "image/png": "[encoded data removed]",
            "text/plain": [
              "<Figure size 432x288 with 1 Axes>"
            ]
          },
          "metadata": {
            "tags": []
          }
        }
      ]
    },
    {
      "metadata": {
        "id": "YmgPYKIY5X1Q",
        "colab_type": "code",
        "colab": {}
      },
      "cell_type": "code",
      "source": [
        "pbc = PeriodicBD()\n",
        "def MyFunctionSpaces(mesh, porder):\n",
        "  Ve = FiniteElement(\"CG\", mesh.ufl_cell(), porder)\n",
        "  V = FunctionSpace(mesh,Ve)\n",
        "  TH = MixedElement([Ve,Ve])\n",
        "  W = FunctionSpace(mesh, TH, constrained_domain=pbc)\n",
        "  return V, W\n",
        "\n",
        "V, W = MyFunctionSpaces(mesh, 1)"
      ],
      "execution_count": 0,
      "outputs": []
    },
    {
      "metadata": {
        "id": "0NJyFPNP6PAc",
        "colab_type": "code",
        "colab": {
          "base_uri": "https://localhost:8080/",
          "height": 728
        },
        "outputId": "ec5f615c-2a88-44a8-ecd1-dee33aa4dccc"
      },
      "cell_type": "code",
      "source": [
        "dolfin_version = dolfin.__version__\n",
        "\n",
        "# parameters\n",
        "#####################################################################################################################\n",
        "#####################################################################################################################\n",
        "porder = 1;\n",
        "delta, Delta = 50000, 50000\n",
        "t, T = 0, Delta+delta;\n",
        "K0, K1 = 3e-3, 3e-3;\n",
        "\n",
        "nskip = 2;\n",
        "bvalue = 2000;\n",
        "gnorm = sqrt(bvalue)/sqrt(delta*delta*(Delta-delta/3.0));\n",
        "#####################################################################################################################\n",
        "#####################################################################################################################\n",
        "# Sub domain for Periodic boundary condition\n",
        "\n",
        "'''\n",
        "# FUNCTION SPACES\n",
        "Ve = FiniteElement(\"CG\", mesh.ufl_cell(), 1)\n",
        "V = FunctionSpace(mesh,Ve);\n",
        "TH = MixedElement([Ve,Ve])\n",
        "W = FunctionSpace(mesh, TH, constrained_domain=PeriodicBoundary())\n",
        "'''\n",
        "\n",
        "v = TestFunction(W)\n",
        "v1r, v1i = v[0], v[1]\n",
        "\n",
        "u = TrialFunction(W);\n",
        "u1r, u1i = u[0], u[1]\n",
        "#####################################################################################################################\n",
        "#####################################################################################################################\n",
        "# Initial conditions\n",
        "Dirac_Delta = Expression(\"x[0]*x[0]+x[1]*x[1]<eps\",eps=1e6, domain=mesh, degree=3);\n",
        "Dirac_Delta = interpolate(Dirac_Delta, V);\n",
        "\n",
        "File(\"Dirac.pvd\")<<Dirac_Delta;\n",
        "\n",
        "one = Function(V);\n",
        "one.vector()[:] = 1.0;\n",
        "\n",
        "u_0 = Function(W);\n",
        "assign(u_0.sub(0), one)\n",
        "u1r_0, u1i_0 = split(u_0)\n",
        "\n",
        "#####################################################################################################################\n",
        "#####################################################################################################################\n",
        "\n",
        "g = Expression((\"g0\",\"g1\"), g0=gdir.x(), g1=gdir.y(),domain=mesh,degree=3);\n",
        "\n",
        "\n",
        "#####################################################################################################################\n",
        "#####################################################################################################################\n",
        "def FT(t, delta, Delta):\n",
        "    ft1 = 1.0*(t>=0 and t<delta) \n",
        "    ft2 = -1.0*(t>=Delta and t<=Delta+delta);\n",
        "    return ft1 + ft2;  \n",
        "\n",
        "def iFT(t, delta, Delta): # integrate ft\n",
        "    ft1 = t*(t>=0 and t<delta) \n",
        "    ft2 = delta*(t>=delta and t<Delta) \n",
        "    ft3 = (delta - t + Delta)*(t>=Delta and t<=Delta+delta) \n",
        "    return ft1 + ft2 + ft3;  \n",
        "\n",
        "stepcounter = 0;\n",
        "####################################################################################################################\n",
        "####################################################################################################################\n",
        "def FuncF(ift, gnorm, g, ur, ui, vr, vi, K):\n",
        "    Fr =   ift*gnorm*(inner(g,K*grad(ui))+inner(grad(ui),K*g))*vr - inner(g,K*g)*gnorm*gnorm*ift*ift*ur*vr-K*inner(grad(ur), grad(vr))\n",
        "    Fi = - ift*gnorm*(inner(g,K*grad(ur))+inner(grad(ur),K*g))*vi - inner(g,K*g)*gnorm*gnorm*ift*ift*ui*vi-K*inner(grad(ui), grad(vi))\n",
        "    return Fr + Fi\n",
        "\n",
        "def outer_interface(ift, gnorm, K, n, ur, ui, vr, vi, g):\n",
        "    F_bcr =  (ift*gnorm+1e-16)*inner(K*g, n)*ui*vr \n",
        "    F_bci = -(ift*gnorm+1e-16)*inner(K*g, n)*ur*vi\n",
        "    return F_bcr + F_bci\n",
        "\n",
        "def ThetaMethod_L(ift, gnorm, g, u1r, u1i, v1r, v1i, u1r_0, u1i_0,k,  K1, theta, n):\n",
        "    L1 = (u1r_0/k*v1r + u1i_0/k*v1i +theta*FuncF(ift, gnorm, g, u1r_0, u1i_0, v1r, v1i, K1))*dx\n",
        "    L1_outer_bc = -theta*outer_interface(ift, gnorm, K1, n, u1r_0, u1i_0, v1r, v1i, g)*ds\n",
        "    return L1 + L1_outer_bc\n",
        "\n",
        "\n",
        "def ThetaMethod_a(ift, gnorm, g, u1r, u1i, v1r, v1i, u1r_0, u1i_0,k, K1, theta, n):\n",
        "    a1 = (u1r/k*v1r   + u1i/k*v1i  -theta*FuncF(ift, gnorm, g, u1r  , u1i  , v1r, v1i, K1))*dx\n",
        "    a1_outer_bc = theta*outer_interface(ift, gnorm ,K1, n, u1r, u1i, v1r, v1i, g)*ds\n",
        "    return a1 + a1_outer_bc\n",
        "\n",
        "#############################################################################################################################\n",
        "#############################################################################################################################\n",
        "# Theta method\n",
        "\n",
        "stepcounter = 0;\n",
        "theta = 0.5;\n",
        "Nsteps = 50\n",
        "k = T/Nsteps;\n",
        "\n",
        "n = FacetNormal(mesh);\n",
        "\n",
        "ift_prev = iFT(t, delta, Delta);\n",
        "\n",
        "  \n",
        "while t < T+k: # Time-stepping loop\n",
        "\n",
        "    ft = FT(t, delta, Delta);\n",
        "    ift = iFT(t, delta, Delta);\n",
        "    \n",
        "    if stepcounter % nskip == 0:\n",
        "        print('t=%f '%t, 'gnorm: %f'%gnorm, 'ift: %f'%ift,'ft: %f'%ft);\n",
        "\n",
        "    L = ThetaMethod_L(ift_prev, gnorm, g, u1r, u1i, v1r, v1i, u1r_0, u1i_0, k, K1, theta, n);\n",
        "    a = ThetaMethod_a(ift, gnorm, g, u1r, u1i, v1r, v1i, u1r_0, u1i_0, k, K1, theta, n);\n",
        "    A = assemble(a);\n",
        "    b = assemble(L);\n",
        " \n",
        "    u = Function(W)\n",
        "    solve(A,u.vector(),b, \"gmres\");\n",
        "    \n",
        "    u1r_0, u1i_0 = split(u)\n",
        "    \n",
        "    # SubMeshSave(u0r_0, u0i_0, file_u0r, file_u0i, mesh0, nskip, stepcounter, dolfin_version);\n",
        "    # SubMeshSave(u1r_0, u1i_0, file_u1r, file_u1i, mesh1, nskip, stepcounter, dolfin_version);\n",
        "    ift_prev = ift\n",
        "    t += k;\n",
        "    stepcounter += 1;\n",
        "plot(u1r_0);\n",
        "signal = assemble((u1r_0)*dx)/assemble(Dirac_Delta*dx);\n",
        "print('b:',bvalue, 'Signal: %.3e'%signal, 'Exact signal: %.3e'%(exp(-bvalue*K1)))\n"
      ],
      "execution_count": 124,
      "outputs": [
        {
          "output_type": "stream",
          "text": [
            "t=0.000000  gnorm: 0.000005 ift: 0.000000 ft: 1.000000\n",
            "t=4000.000000  gnorm: 0.000005 ift: 4000.000000 ft: 1.000000\n",
            "t=8000.000000  gnorm: 0.000005 ift: 8000.000000 ft: 1.000000\n",
            "t=12000.000000  gnorm: 0.000005 ift: 12000.000000 ft: 1.000000\n",
            "t=16000.000000  gnorm: 0.000005 ift: 16000.000000 ft: 1.000000\n",
            "t=20000.000000  gnorm: 0.000005 ift: 20000.000000 ft: 1.000000\n",
            "t=24000.000000  gnorm: 0.000005 ift: 24000.000000 ft: 1.000000\n",
            "t=28000.000000  gnorm: 0.000005 ift: 28000.000000 ft: 1.000000\n",
            "t=32000.000000  gnorm: 0.000005 ift: 32000.000000 ft: 1.000000\n",
            "t=36000.000000  gnorm: 0.000005 ift: 36000.000000 ft: 1.000000\n",
            "t=40000.000000  gnorm: 0.000005 ift: 40000.000000 ft: 1.000000\n",
            "t=44000.000000  gnorm: 0.000005 ift: 44000.000000 ft: 1.000000\n",
            "t=48000.000000  gnorm: 0.000005 ift: 48000.000000 ft: 1.000000\n",
            "t=52000.000000  gnorm: 0.000005 ift: 48000.000000 ft: -1.000000\n",
            "t=56000.000000  gnorm: 0.000005 ift: 44000.000000 ft: -1.000000\n",
            "t=60000.000000  gnorm: 0.000005 ift: 40000.000000 ft: -1.000000\n",
            "t=64000.000000  gnorm: 0.000005 ift: 36000.000000 ft: -1.000000\n",
            "t=68000.000000  gnorm: 0.000005 ift: 32000.000000 ft: -1.000000\n",
            "t=72000.000000  gnorm: 0.000005 ift: 28000.000000 ft: -1.000000\n",
            "t=76000.000000  gnorm: 0.000005 ift: 24000.000000 ft: -1.000000\n",
            "t=80000.000000  gnorm: 0.000005 ift: 20000.000000 ft: -1.000000\n",
            "t=84000.000000  gnorm: 0.000005 ift: 16000.000000 ft: -1.000000\n",
            "t=88000.000000  gnorm: 0.000005 ift: 12000.000000 ft: -1.000000\n",
            "t=92000.000000  gnorm: 0.000005 ift: 8000.000000 ft: -1.000000\n",
            "t=96000.000000  gnorm: 0.000005 ift: 4000.000000 ft: -1.000000\n",
            "t=100000.000000  gnorm: 0.000005 ift: 0.000000 ft: -1.000000\n",
            "b: 2000 Signal: 5.014e-01 Exact signal: 2.479e-03\n"
          ],
          "name": "stdout"
        },
        {
          "output_type": "display_data",
          "data": {
            "image/png": "[encoded data removed]",
            "text/plain": [
              "<Figure size 432x288 with 1 Axes>"
            ]
          },
          "metadata": {
            "tags": []
          }
        }
      ]
    }
  ]
}