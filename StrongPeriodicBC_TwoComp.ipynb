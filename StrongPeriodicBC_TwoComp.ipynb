{
  "nbformat": 4,
  "nbformat_minor": 0,
  "metadata": {
    "colab": {
      "name": "StrongPeriodicBC_TwoComp.ipynb",
      "version": "0.3.2",
      "provenance": [],
      "toc_visible": true,
      "include_colab_link": true
    },
    "kernelspec": {
      "name": "python3",
      "display_name": "Python 3"
    }
  },
  "cells": [
    {
      "cell_type": "markdown",
      "metadata": {
        "id": "view-in-github",
        "colab_type": "text"
      },
      "source": [
        "<a href=\"https://colab.research.google.com/github/van-dang/MRI-Cloud/blob/master/StrongPeriodicBC_TwoComp.ipynb\" target=\"_parent\"><img src=\"https://colab.research.google.com/assets/colab-badge.svg\" alt=\"Open In Colab\"/></a>"
      ]
    },
    {
      "metadata": {
        "id": "QzFVFIJQnSSQ",
        "colab_type": "text"
      },
      "cell_type": "markdown",
      "source": [
        "#About the solver"
      ]
    },
    {
      "metadata": {
        "id": "-NWxNERom8Ej",
        "colab_type": "code",
        "colab": {}
      },
      "cell_type": "code",
      "source": [
        "# This demo solves the transformed Bloch-Torrey equation applied to diffusion MRI \n",
        "# using the standard finite element method coupled with the theta-method \n",
        "# for the space discretization.\n",
        "\n",
        "# This demo allows for a two-compartment domain with periodic boundaries and the \n",
        "# spins can enter and exit the computational domain freely by using the periodic \n",
        "# boundary conditions\n",
        "\n",
        "# Copyright (C) 2017 Van-Dang Nguyen\n",
        "\n",
        "# This file is part of DOLFIN.\n",
        "\n",
        "# DOLFIN is free software: you can redistribute it and/or modify\n",
        "# it under the terms of the GNU Lesser General Public License as published by\n",
        "# the Free Software Foundation, either version 3 of the License, or\n",
        "# (at your option) any later version.\n",
        "\n",
        "# DOLFIN is distributed in the hope that it will be useful,\n",
        "# but WITHOUT ANY WARRANTY; without even the implied warranty of\n",
        "# MERCHANTABILITY or FITNESS FOR A PARTICULAR PURPOSE. See the\n",
        "# GNU Lesser General Public License for more details.\n",
        "\n",
        "# You should have received a copy of the GNU Lesser General Public License\n",
        "# along with DOLFIN. If not, see <http://www.gnu.org/licenses/>.\n",
        "\n",
        "# First added:  2017-10-10\n",
        "# Last changed: 2019-04-10"
      ],
      "execution_count": 0,
      "outputs": []
    },
    {
      "metadata": {
        "id": "_fZ7pT7knpyh",
        "colab_type": "text"
      },
      "cell_type": "markdown",
      "source": [
        "# Setting a working environment"
      ]
    },
    {
      "metadata": {
        "id": "HUvZRtlSnrER",
        "colab_type": "code",
        "outputId": "145a2653-327e-47f8-837d-8368d288eb30",
        "colab": {
          "base_uri": "https://localhost:8080/",
          "height": 63
        }
      },
      "cell_type": "code",
      "source": [
        "from google.colab import files\n",
        "\n",
        "import platform, sys\n",
        "python_version=platform.python_version()\n",
        "from distutils.version import LooseVersion, StrictVersion\n",
        "\n",
        "if ( LooseVersion(python_version) < LooseVersion(\"3.0.0\")):\n",
        "    print(\"Python3 is needed!\");\n",
        "    print(\"How to fix: Runtime/Change_runtime_type/Python 3\");\n",
        "    sys.exit()\n",
        "    \n",
        "try:\n",
        "    from dolfin import *; from mshr import *\n",
        "except ImportError as e:\n",
        "    !apt-get install -y -qq software-properties-common python-software-properties module-init-tools\n",
        "    !add-apt-repository -y ppa:fenics-packages/fenics\n",
        "    !apt-get update -qq\n",
        "    !apt install -y --no-install-recommends fenics\n",
        "    from dolfin import *; from mshr import *\n",
        "    \n",
        "\n",
        "import matplotlib.pyplot as plt;\n",
        "from IPython.display import clear_output, display; import time; import dolfin.common.plotting as fenicsplot \n",
        "import time\n",
        "\n",
        "import os, sys, shutil\n",
        "\n",
        "clear_output(); # Plotting setup\n",
        "\n",
        "dolfin_version = dolfin.__version__\n",
        "print ('dolfin version:', dolfin_version)\n",
        "\n",
        "\n",
        "!rm -rf * # clean up all files\n",
        "\n",
        "# dolfin setting\n",
        "q_degree = 3\n",
        "dx = dx(metadata={'quadrature_degree': q_degree})\n",
        "\n",
        "# Useful commands\n",
        "# Remove an empty folder      : os.rmdir(\"my_results\")\n",
        "# Remove a folder with files  : shutil.rmtree(\"results\")\n",
        "# Make a folder               : os.mkdir(\"my_results\")\n",
        "# Runtime/Change_runtime_type/Python3"
      ],
      "execution_count": 160,
      "outputs": [
        {
          "output_type": "stream",
          "text": [
            "dolfin version: 2018.1.0\n"
          ],
          "name": "stdout"
        }
      ]
    },
    {
      "metadata": {
        "id": "b0MBnn6ltedp",
        "colab_type": "code",
        "colab": {}
      },
      "cell_type": "code",
      "source": [
        "xmin, ymin, xmax, ymax = -10, -10, 10, 10\n",
        "\n",
        "geo = \"circle\"\n",
        "\n",
        "if geo == \"circle\":\n",
        "    xc, yc = 0.0, 0.0\n",
        "    R0, R1 = 5.0, 10.0\n",
        "    factor =2;\n",
        "    mresolution=20*factor\n",
        "    segment0 = 15*factor;\n",
        "    segment1 = 20*factor;\n",
        "\n",
        "    domain0 = Circle(Point(xc, yc), R0, segment0)\n",
        "    # domain  = Circle(Point(xc, yc), R1, segment1)\n",
        "    domain = Rectangle(Point(xmin, ymin), Point(xmax, ymax))\n",
        "\n",
        "    domain.set_subdomain(1, domain0)\n",
        "    mesh = generate_mesh(domain, mresolution)\n",
        "else:\n",
        "    eps = 1e-4;\n",
        "    nx, ny = 10, 10;\n",
        "    factor = 1;\n",
        "    mesh = RectangleMesh(Point(xmin, ymin), Point(xmax, ymax), factor*nx, factor*ny, \"right\")\n",
        "\n",
        "hmin = mesh.hmin();\n",
        "class Exterior(SubDomain):\n",
        "    def inside (self,x,on_boundary):\n",
        "        if geo==\"circle\":\n",
        "            d = sqrt((x[0])*(x[0])+(x[1])*(x[1]));\n",
        "            return d>=R0-hmin/4.0;\n",
        "        else:\n",
        "            return x[0]*x[0]>4*4-hmin/10. or x[1]*x[1]>4*4-hmin/10.\n",
        "\n",
        "class Interior(SubDomain):\n",
        "    def inside (self,x,on_boundary):\n",
        "        exterior = Exterior()\n",
        "        return not(exterior.inside(x, True))\n",
        "# Mark exterior domain to 1, interior domain to 0\n",
        "exterior = Exterior();\n",
        "interior = Interior();\n",
        "cellmarker = MeshFunction(\"size_t\", mesh, mesh.topology().dim())\n",
        "cellmarker.set_all(0)\n",
        "exterior.mark(cellmarker,1)\n",
        "\n",
        "mesh0 = SubMesh(mesh, cellmarker, 0)\n",
        "mesh1 = SubMesh(mesh, cellmarker, 1)\n",
        "V_DG = FunctionSpace(mesh, 'DG', 0)\n",
        "dofmap_DG = V_DG.dofmap()\n",
        "phase = Function(V_DG)\n",
        "vol = CellVolume(mesh)\n",
        "h = 0.5*CellDiameter(mesh);\n",
        "\n",
        "for cell in cells(mesh):\n",
        "    phase.vector()[dofmap_DG.cell_dofs(cell.index())] = cellmarker[cell.index()];\n",
        "\n",
        "# plot(phase); interactive(); stop\n",
        "File(\"mesh.xml\") << mesh\n",
        "File(\"mesh_cmpt1.xml\") << mesh1"
      ],
      "execution_count": 0,
      "outputs": []
    },
    {
      "metadata": {
        "id": "AMkd2eaAy7qZ",
        "colab_type": "text"
      },
      "cell_type": "markdown",
      "source": [
        "#Download the mesh and submesh"
      ]
    },
    {
      "metadata": {
        "id": "ksI7jMiqy8Iy",
        "colab_type": "code",
        "outputId": "a1689b4c-e631-4e66-edaf-7b370a3836a4",
        "colab": {
          "base_uri": "https://localhost:8080/",
          "height": 34
        }
      },
      "cell_type": "code",
      "source": [
        "'''\n",
        "!rm -rf *\n",
        "!wget --quiet https://raw.githubusercontent.com/van-dang/MRI-Cloud/mesh/mesh2comp_R9_periodic.xml.zip\n",
        "!wget --quiet https://raw.githubusercontent.com/van-dang/MRI-Cloud/mesh/mesh2comp_R9_periodic_cmp1.xml.zip\n",
        "!unzip -q mesh2comp_R9_periodic.xml.zip\n",
        "!unzip -q mesh2comp_R9_periodic_cmp1.xml.zip\n",
        "# Load multilayered torus mesh and submesh\n",
        "mesh = Mesh(\"mesh2comp_R9_periodic.xml\");  \n",
        "cmpt_mesh = Mesh('mesh2comp_R9_periodic_cmp1.xml')\n",
        "# cmpt_mesh = Mesh('mesh0.xml')\n",
        "'''\n",
        "# Load multilayered torus mesh and submesh\n",
        "mesh = Mesh(\"mesh.xml\");  \n",
        "cmpt_mesh = Mesh('mesh_cmpt1.xml')\n",
        "\n",
        "\n",
        "hmin = mesh.hmin();\n",
        "gdim = mesh.geometry().dim()\n",
        "\n",
        "\n",
        "xmin = mesh.coordinates()[:, 0].min()\n",
        "xmax = mesh.coordinates()[:, 0].max()\n",
        "\n",
        "ymin = mesh.coordinates()[:, 1].min()\n",
        "ymax = mesh.coordinates()[:, 1].max()\n",
        "\n",
        "zmin, zmax = 0, 0 \n",
        "if (gdim==3):\n",
        "  zmin = mesh.coordinates()[:, 2].min()\n",
        "  zmax = mesh.coordinates()[:, 2].max()\n",
        "  \n",
        "\n",
        "print(xmin, ymin, zmin, xmax, ymax, zmax)\n",
        "\n",
        "\n",
        "gdim = mesh.geometry().dim()\n",
        "\n",
        "PeriodicDir = [1, 0, 0]\n",
        "\n",
        "g0, g1, g2 = 1, 0, 0\n",
        "if gdim==2:\n",
        "  gdir = Point(g0,g1);\n",
        "\n",
        "if gdim==3:\n",
        "  gdir = Point(g0,g1,g2);\n",
        "  \n",
        "gdir /= gdir.norm()\n",
        "\n",
        "\n",
        "tol = 1e-2*mesh.hmin();\n",
        "class PeriodicBD(SubDomain):\n",
        "    # Left boundary is \"target domain\" G\n",
        "    def inside(self, x, on_boundary):\n",
        "        return bool(  abs(x[0] - xmin)<tol and on_boundary)\n",
        "\n",
        "    # Map right boundary (H) to left boundary (G)\n",
        "    def map(self, x, y):\n",
        "      \n",
        "        Lxx, Lyy, Lzz = 0, 0, 0\n",
        "        if PeriodicDir[0] == 0:\n",
        "          Lxx = 1e7;\n",
        "        if PeriodicDir[1] == 0:\n",
        "          Lyy = 1e7;\n",
        "        if PeriodicDir[2] == 0:\n",
        "          Lzz = 1e7;\n",
        "        \n",
        "        if abs(x[0] - xmax) < tol:\n",
        "          y[0] = x[0] - (xmax-xmin) + Lxx\n",
        "          y[1] = x[1]\n",
        "          if gdim==3:\n",
        "            y[2] = x[2]\n",
        "\n",
        "class PeriodicBD(SubDomain):\n",
        "    # Left boundary is \"target domain\" G\n",
        "    def inside(self, x, on_boundary):\n",
        "        # return True if on left or bottom boundary AND NOT on one of the two corners (0, 1) and (1, 0) \n",
        "        bcx = abs(x[0] - xmin)<tol and PeriodicDir[0] == 1\n",
        "        bcy = abs(x[1] - ymin)<tol and PeriodicDir[1] == 1\n",
        "        bcz = 0\n",
        "        if (gdim==3):\n",
        "          bcz = abs(x[2] - zmin) < tol and PeriodicDir[2] == 1\n",
        "          \n",
        "        return bool((bcx or bcy or bcz) and on_boundary)\n",
        "\n",
        "    def map(self, x, y):\n",
        "        Lxx, Lyy, Lzz = 0, 0, 0\n",
        "        if PeriodicDir[0] == 0:\n",
        "          Lxx = 1e7;\n",
        "        if PeriodicDir[1] == 0:\n",
        "          Lyy = 1e7;\n",
        "        if PeriodicDir[2] == 0:\n",
        "          Lzz = 1e7;\n",
        "          \n",
        "        if abs(x[0] - xmax) < tol and PeriodicDir[0] == 1:\n",
        "            y[0] = x[0] - (xmax-xmin) + Lxx\n",
        "            y[1] = x[1]\n",
        "            if (gdim==3):\n",
        "              y[2] = x[2]\n",
        "        elif abs(x[1] - ymax) < tol and PeriodicDir[1] == 1:\n",
        "            y[0] = x[0]\n",
        "            y[1] = x[1] - (ymax-ymin) + Lyy \n",
        "            if (gdim==3):\n",
        "              y[2] = x[2]\n",
        "        elif (gdim==3) and abs(x[2] - zmax)<tol and PeriodicDir[2] == 1:\n",
        "            y[0] = x[0]\n",
        "            y[1] = x[1]\n",
        "            y[2] = x[2] - (zmax-zmin) + Lzz \n",
        "        else:\n",
        "            y[0] = x[0] - (xmax-xmin) + Lxx\n",
        "            y[1] = x[1] - (ymax-ymin) + Lyy\n",
        "            if (gdim==3):\n",
        "              y[2] = x[2] - (zmax-zmin) + Lzz  "
      ],
      "execution_count": 162,
      "outputs": [
        {
          "output_type": "stream",
          "text": [
            "-10.0 -10.0 0 10.0 10.0 0\n"
          ],
          "name": "stdout"
        }
      ]
    },
    {
      "metadata": {
        "id": "Ap-8CmCu4mYY",
        "colab_type": "text"
      },
      "cell_type": "markdown",
      "source": [
        "#Setup phase function"
      ]
    },
    {
      "metadata": {
        "id": "RCCLHNds4pyB",
        "colab_type": "code",
        "colab": {
          "base_uri": "https://localhost:8080/",
          "height": 303
        },
        "outputId": "d7ea2383-ca54-40be-876e-c57aa170d7d5"
      },
      "cell_type": "code",
      "source": [
        "V_DG = FunctionSpace(mesh, 'DG', 0)\n",
        "dofmap_DG = V_DG.dofmap()\n",
        "phase = Function(V_DG)\n",
        "cellmarker = MeshFunction(\"size_t\", mesh, mesh.topology().dim())\n",
        "\n",
        "for cell in cells(mesh):\n",
        "    p = cell.midpoint();\n",
        "    is_in_cmpt = cmpt_mesh.bounding_box_tree().compute_first_entity_collision(p)<4294967295\n",
        "    phase.vector()[dofmap_DG.cell_dofs(cell.index())] = is_in_cmpt;\n",
        "    cellmarker[cell.index()] = is_in_cmpt;\n",
        "\n",
        "\n",
        "# plot(phase, cmap=\"coolwarm\");\n",
        "mesh0 = SubMesh(mesh, cellmarker, 0)\n",
        "mesh1 = SubMesh(mesh, cellmarker, 1)\n",
        "File(\"Phase.pvd\")<<phase\n",
        "File(\"mesh0.xml\")<<mesh0\n",
        "File(\"mesh1.xml\")<<mesh1\n",
        "\n",
        "plot(mesh1)"
      ],
      "execution_count": 163,
      "outputs": [
        {
          "output_type": "execute_result",
          "data": {
            "text/plain": [
              "[<matplotlib.lines.Line2D at 0x7fe121e91a90>,\n",
              " <matplotlib.lines.Line2D at 0x7fe125c37a20>]"
            ]
          },
          "metadata": {
            "tags": []
          },
          "execution_count": 163
        },
        {
          "output_type": "display_data",
          "data": {
            "image/png": "[encoded data removed]",
            "text/plain": [
              "<Figure size 432x288 with 1 Axes>"
            ]
          },
          "metadata": {
            "tags": []
          }
        }
      ]
    },
    {
      "metadata": {
        "id": "BNi4cvMT7nge",
        "colab_type": "text"
      },
      "cell_type": "markdown",
      "source": [
        "#Pre-define functions"
      ]
    },
    {
      "metadata": {
        "id": "FXsYcZc67F1M",
        "colab_type": "code",
        "colab": {}
      },
      "cell_type": "code",
      "source": [
        "def SubMeshSave(ur, ui, file_ur, file_ui, mesh, n, stepcounter, dolfin_version):\n",
        "  if dolfin_version=='1.6.0':\n",
        "    V = FunctionSpace(mesh, \"CG\", porder)\n",
        "  else:\n",
        "    # For FEniCS 2016, 2017\n",
        "    Ve = FiniteElement(\"CG\", mesh.ufl_cell(), porder)\n",
        "    V = FunctionSpace(mesh, Ve)\n",
        "  if stepcounter % n == 0:\n",
        "    ur_p = project(ur, V);\n",
        "    ui_p = project(ui, V);\n",
        "    ur_p.rename(\"Real\", \"label\");\n",
        "    ui_p.rename(\"Imag\", \"label\");\n",
        "    file_ur << ur_p;\n",
        "    file_ui << ui_p;\n",
        "\n",
        "def ieval(u,omega, phase):\n",
        "  if omega==1:\n",
        "    return u('+')*phase('+') + u('-')*phase('-');\n",
        "  if omega==0:\n",
        "    return u('+')*(1.-phase('+')) + u('-')*(1.-phase('-'))                              \n"
      ],
      "execution_count": 0,
      "outputs": []
    },
    {
      "metadata": {
        "id": "ILNdQPdxoBeA",
        "colab_type": "code",
        "outputId": "96e7bee6-32fc-429b-cf5f-f83d1889c641",
        "colab": {
          "base_uri": "https://localhost:8080/",
          "height": 394
        }
      },
      "cell_type": "code",
      "source": [
        "Nsteps = 50;\n",
        "bvalue = 1000;\n",
        "\n",
        "delta, Delta = 10000, 10000\n",
        "t, T = 0, Delta+delta;\n",
        "\n",
        "k = T/Nsteps\n",
        "\n",
        "\n",
        "gnorm = sqrt(bvalue)/sqrt(delta*delta*(Delta-delta/3.0));\n",
        "print(\"Nsteps: \", Nsteps, \"bvalue: \",bvalue)\n",
        "\n",
        "\n",
        "# parameters\n",
        "#####################################################################################################################\n",
        "#####################################################################################################################\n",
        "porder = 1;\n",
        "\n",
        "# delta, Delta = 50000, 50000\n",
        "K0, K1 = 3e-3, 3e-3;\n",
        "\n",
        "kappa = 1e1; # permeability\n",
        "# kappa = 100.0; # permeability\n",
        "\n",
        "nskip = 2;\n",
        "\n",
        "# bvalue = 1000;\n",
        "# gnorm = sqrt(bvalue)/sqrt(delta*delta*(Delta-delta/3.0));\n",
        "#####################################################################################################################\n",
        "#####################################################################################################################\n",
        "# Sub domain for Periodic boundary condition\n",
        "\n",
        "\n",
        "#####################################################################################################################\n",
        "#####################################################################################################################\n",
        "# FUNCTION SPACES\n",
        "if dolfin_version=='1.6.0':\n",
        "    V = FunctionSpace(mesh , \"CG\", 1, constrained_domain=PeriodicBD());\n",
        "    # V = FunctionSpace(mesh , \"CG\", 1);\n",
        "    W = MixedFunctionSpace([V, V, V, V])\n",
        "    VV = MixedFunctionSpace([V, V])\n",
        "else:\n",
        "    # For FEniCS 2016, 2017\n",
        "    Ve = FiniteElement(\"CG\", mesh.ufl_cell(), 1)\n",
        "    TH = MixedElement([Ve,Ve,Ve,Ve])\n",
        "    VVe = MixedElement([Ve,Ve])\n",
        "    V = FunctionSpace(mesh,Ve, constrained_domain=PeriodicBD());\n",
        "    VV = FunctionSpace(mesh,VVe, constrained_domain=PeriodicBD());\n",
        "    W = FunctionSpace(mesh, TH, constrained_domain=PeriodicBD())\n",
        "\n",
        "v = TestFunction(W)\n",
        "v0r, v0i, v1r, v1i = v[0], v[1], v[2], v[3]\n",
        "\n",
        "w = TrialFunction(W);\n",
        "u0r, u0i, u1r, u1i = w[0], w[1], w[2], w[3]\n",
        "#####################################################################################################################\n",
        "#####################################################################################################################\n",
        "# Initial conditions\n",
        "# one = Function(V);\n",
        "Dirac_Delta = Expression(\"x[0]*x[0]+x[1]*x[1]<eps\",eps=1e6, domain=mesh, degree=2);\n",
        "if gdim==3:\n",
        "  Dirac_Delta = Expression(\"x[0]*x[0]+x[1]*x[1]+x[2]*x[2]<eps\",eps=1e6, domain=mesh, degree=2);\n",
        "Dirac_Delta = interpolate(Dirac_Delta, V);\n",
        "# plot(Dirac_Delta); interactive(); stop;\n",
        "# one.vector()[:] = 1;\n",
        "u_0 = Function(W);\n",
        "assign(u_0.sub(0), Dirac_Delta)\n",
        "assign(u_0.sub(2), Dirac_Delta)\n",
        "u0r_0, u0i_0, u1r_0, u1i_0 = u_0[0], u_0[1], u_0[2], u_0[3]\n",
        "#####################################################################################################################\n",
        "#####################################################################################################################\n",
        "\n",
        "g = Expression((\"g0\",\"g1\"), g0=gdir.x(), g1=gdir.y(),domain=mesh,degree=2);\n",
        "\n",
        "if gdim==3:\n",
        "  g = Expression((\"g0\",\"g1\",\"g2\"), g0=gdir.x(), g1=gdir.y(), g2=gdir.z(),domain=mesh,degree=2);\n",
        "\n",
        "#####################################################################################################################\n",
        "#####################################################################################################################\n",
        "## output files \n",
        "file_u0r = File(\"results/u0r.pvd\")\n",
        "file_u0i = File(\"results/u0i.pvd\")\n",
        "file_u1r = File(\"results/u1r.pvd\")\n",
        "file_u1i = File(\"results/u1i.pvd\")\n",
        "#####################################################################################################################\n",
        "#####################################################################################################################\n",
        "def FT(t, delta, Delta):\n",
        "    ft1 = 1.0*(t>=0 and t<delta) \n",
        "    ft2 = -1.0*(t>=Delta and t<=Delta+delta);\n",
        "    return ft1 + ft2;  \n",
        "\n",
        "def iFT(t, delta, Delta): # integrate ft\n",
        "    ft1 = t*(t>=0 and t<delta) \n",
        "    ft2 = delta*(t>=delta and t<Delta) \n",
        "    ft3 = (delta - t + Delta)*(t>=Delta and t<=Delta+delta) \n",
        "    return ft1 + ft2 + ft3;  \n",
        "\n",
        "stepcounter = 0;\n",
        "####################################################################################################################\n",
        "####################################################################################################################\n",
        "def FuncF(ift, gnorm, g, ur, ui, vr, vi, K):\n",
        "    Fr =   ift*gnorm*(inner(g,K*grad(ui))+inner(grad(ui),K*g))*vr - inner(g,K*g)*gnorm*gnorm*ift*ift*ur*vr-K*inner(grad(ur), grad(vr))\n",
        "    Fi = - ift*gnorm*(inner(g,K*grad(ur))+inner(grad(ur),K*g))*vi - inner(g,K*g)*gnorm*gnorm*ift*ift*ui*vi-K*inner(grad(ui), grad(vi))\n",
        "    return Fr + Fi\n",
        "\n",
        "def icondition(kappa, u0rm, u1rm, v0r, v1r, u0im, u1im, v0i, v1i):\n",
        "    F_bcr = kappa*(u0rm-u1rm)*(v0r-v1r)\n",
        "    F_bci = kappa*(u0im-u1im)*(v0i-v1i)\n",
        "    return F_bcr + F_bci\n",
        "\n",
        "def inner_interface(kappa, u0rm, u1rm, v0r, v1r, u0im, u1im, v0i, v1i, n, g, K0, K1):\n",
        "    F_bcr  = (-kappa*avg(u0rm-u1rm)-0.5*gnorm*ift*(avg(u0im)*inner(K0*avg(g),n)+avg(u1im)*inner(K1*avg(g),n)))*avg(v0r-v1r)                      \n",
        "    F_bcr += -gnorm*ift*( avg(u0im)*inner(K0*avg(g),n)-avg(u1im)*inner(K1*avg(g),n) )*0.5*avg(v0r+v1r)                                         \n",
        "                                                                                                                                                \n",
        "    F_bci  = (-kappa*avg(u0im-u1im)+0.5*gnorm*ift*(avg(u0rm)*inner(K0*avg(g),n)+avg(u1rm)*inner(K0*avg(g),n)))*avg(v0i-v1i)                      \n",
        "    F_bci += gnorm*ift*(  avg(u0rm)*inner(K0*avg(g),n)-avg(u1rm)*inner(K1*avg(g),n) )*0.5*avg(v0i+v1i)                                         \n",
        "\n",
        "\n",
        "    return -F_bcr - F_bci\n",
        "\n",
        "def outer_interface(ift, gnorm, K, n, ur, ui, vr, vi, g):\n",
        "    F_bcr =  (ift*gnorm+1e-16)*inner(K*g, n)*ui*vr\n",
        "    F_bci = -(ift*gnorm+1e-16)*inner(K*g, n)*ur*vi\n",
        "    return F_bcr + F_bci\n",
        "\n",
        "#############################################################################################################################\n",
        "#############################################################################################################################\n",
        "def ThetaMethod_L(ift, gnorm, g, u0r, u0i, v0r, v0i, u1r, u1i, v1r, v1i, u0r_0, u0i_0, u1r_0, u1i_0,k, kappa, K0, K1, theta, phase,n, n0):\n",
        "    L0 = (u0r_0/k*v0r + u0i_0/k*v0i +theta*FuncF(ift, gnorm, g, u0r_0, u0i_0, v0r, v0i, K0))*(1-phase)*dx\n",
        "    L1 = (u1r_0/k*v1r + u1i_0/k*v1i +theta*FuncF(ift, gnorm, g, u1r_0, u1i_0, v1r, v1i, K1))*phase*dx\n",
        "    L_inner_bc  = -(theta*inner_interface(kappa, u0r_0, u1r_0, v0r, v1r, u0i_0, u1i_0, v0i, v1i, n0, g, K0, K1))*abs(jump(phase))*dS;\n",
        "    L0_outer_bc = -theta*outer_interface(ift, gnorm, K0, n, u0r_0, u0i_0, v0r, v0i, g)*ds\n",
        "    L1_outer_bc = -theta*outer_interface(ift, gnorm, K1, n, u1r_0, u1i_0, v1r, v1i, g)*ds\n",
        "    return L0+L1+L_inner_bc + L0_outer_bc+L1_outer_bc\n",
        "\n",
        "def MassMatrix(u0r, u0i, v0r, v0i, u1r, u1i, v1r, v1i, phase):\n",
        "    m0 = (u0r*v0r   + u0i*v0i)*(1-phase)*dx\n",
        "    m1 = (u1r*v1r   + u1i*v1i)*phase*dx\n",
        "    M = assemble(m0+m1);\n",
        "    M.ident_zeros()\n",
        "    return M;\n",
        "  \n",
        "  \n",
        "def ThetaMethod_a(ift, gnorm, g, u0r, u0i, v0r, v0i, u1r, u1i, v1r, v1i, u0r_0, u0i_0, u1r_0, u1i_0,k,kappa, K0, K1, theta, phase,n, n0):\n",
        "    a0 = (u0r/k*v0r   + u0i/k*v0i  -theta*FuncF(ift, gnorm, g, u0r  , u0i  , v0r, v0i, K0))*(1-phase)*dx\n",
        "    a1 = (u1r/k*v1r   + u1i/k*v1i  -theta*FuncF(ift, gnorm, g, u1r  , u1i  , v1r, v1i, K1))*phase*dx\n",
        "    a_inner_bc  = (  (theta*inner_interface(kappa, u0r  , u1r  , v0r, v1r, u0i  , u1i  , v0i, v1i, n0, g, K0, K1)))*abs(jump(phase))*dS;\n",
        "    a0_outer_bc = theta*outer_interface(ift, gnorm ,K0, n, u0r, u0i, v0r, v0i, g)*ds\n",
        "    a1_outer_bc = theta*outer_interface(ift, gnorm ,K1, n, u1r, u1i, v1r, v1i, g)*ds\n",
        "    return a0+a1+a_inner_bc + a0_outer_bc + a1_outer_bc\n",
        "\n",
        "def ThetaMethod_F(ift, gnorm, g, u0r, u0i, v0r, v0i, u1r, u1i, v1r, v1i, u0r_0, u0i_0, u1r_0, u1i_0,k,kappa, K0, K1, theta, phase,n, n0):\n",
        "    a0 = (  -theta*FuncF(ift, gnorm, g, u0r  , u0i  , v0r, v0i, K0))*(1-phase)*dx\n",
        "    a1 = (  -theta*FuncF(ift, gnorm, g, u1r  , u1i  , v1r, v1i, K1))*phase*dx\n",
        "    a_inner_bc  = (  (theta*inner_interface(kappa, u0r  , u1r  , v0r, v1r, u0i  , u1i  , v0i, v1i, n0, g, K0, K1)))*abs(jump(phase))*dS;\n",
        "    a0_outer_bc = theta*outer_interface(ift, gnorm ,K0, n, u0r, u0i, v0r, v0i, g)*ds\n",
        "    a1_outer_bc = theta*outer_interface(ift, gnorm ,K1, n, u1r, u1i, v1r, v1i, g)*ds\n",
        "    return a0+a1+a_inner_bc + a0_outer_bc + a1_outer_bc\n",
        "  \n",
        "#############################################################################################################################\n",
        "#############################################################################################################################\n",
        "# Theta method\n",
        "\n",
        "stepcounter = 0;\n",
        "theta = 0.5;\n",
        "\n",
        "n = FacetNormal(mesh);\n",
        "n0 = ieval(n, 0, phase);\n",
        "\n",
        "M = MassMatrix(u0r, u0i, v0r, v0i, u1r, u1i, v1r, v1i, phase)\n",
        "\n",
        "start_time = time.time()\n",
        "\n",
        "solver = PETScLUSolver(\"mumps\")\n",
        "while t < T + k: # Time-stepping loop\n",
        "    if stepcounter % nskip == 0:\n",
        "        print('t: %f '%t, 'T: %.1f'%T, 'dt:%.1f'%k,'gnorm: %e'%gnorm,'Completed %.2f%%'%(float(t)/float(T+k)*100.0));\n",
        "\n",
        "    ft = FT(t, delta, Delta);\n",
        "    ift = iFT(t, delta, Delta);\n",
        "\n",
        "    L = ThetaMethod_L(ift, gnorm, g, u0r, u0i, v0r, v0i, u1r, u1i, v1r, v1i, u0r_0, u0i_0, u1r_0, u1i_0,k, kappa, K0, K1, theta, phase,n, n0);\n",
        "\n",
        "    A = M/k + assemble(ThetaMethod_F(ift, gnorm, g, u0r, u0i, v0r, v0i, u1r, u1i, v1r, v1i, u0r_0, u0i_0, u1r_0, u1i_0,k, kappa, K0, K1, theta, phase,n, n0) )\n",
        "    b = assemble(L);\n",
        " \n",
        "    u = Function(W)\n",
        "    # solve(A,u.vector(),b, \"gmres\");\n",
        "    solver.solve(A,u.vector(),b);\n",
        "    \n",
        "    u0r_0, u0i_0, u1r_0, u1i_0 = split(u)\n",
        "    \n",
        "    # SubMeshSave(u0r_0, u0i_0, file_u0r, file_u0i, mesh0, nskip, stepcounter, dolfin_version);\n",
        "    # SubMeshSave(u1r_0, u1i_0, file_u1r, file_u1i, mesh1, nskip, stepcounter, dolfin_version);\n",
        "    \n",
        "    t += k;\n",
        "    stepcounter += 1;\n",
        "\n",
        "elapsed_time = time.time() - start_time\n",
        "print(\"Elapsed time: %f seconds\"%elapsed_time)\n",
        "\n",
        "plot(u0r_0); plot(u1r_0); \n",
        "signal = assemble((phase*u1r_0+(1-phase)*u0r_0)*dx)/assemble(Dirac_Delta*dx);\n",
        "\n",
        "print('b:',bvalue, 'Signal: %.3e'%signal,'kappa: %.3e'%kappa,', dt:',k,', hmin:',hmin, ', Free signal: %.3e'%(exp(-bvalue*K0)))\n"
      ],
      "execution_count": 0,
      "outputs": [
        {
          "output_type": "stream",
          "text": [
            "Nsteps:  50 bvalue:  1000\n",
            "t: 0.000000  T: 20000.0 dt:400.0 gnorm: 3.872983e-05 Completed 0.00%\n",
            "Calling FFC just-in-time (JIT) compiler, this may take some time.\n"
          ],
          "name": "stdout"
        },
        {
          "output_type": "stream",
          "text": [
            "/usr/lib/python3/dist-packages/ffc/uflacs/analysis/dependencies.py:61: FutureWarning: Using a non-tuple sequence for multidimensional indexing is deprecated; use `arr[tuple(seq)]` instead of `arr[seq]`. In the future this will be interpreted as an array index, `arr[np.array(seq)]`, which will result either in an error or a different result.\n",
            "  active[targets] = 1\n"
          ],
          "name": "stderr"
        },
        {
          "output_type": "stream",
          "text": [
            "Calling FFC just-in-time (JIT) compiler, this may take some time.\n"
          ],
          "name": "stdout"
        },
        {
          "output_type": "stream",
          "text": [
            "/usr/lib/python3/dist-packages/ffc/uflacs/analysis/dependencies.py:61: FutureWarning: Using a non-tuple sequence for multidimensional indexing is deprecated; use `arr[tuple(seq)]` instead of `arr[seq]`. In the future this will be interpreted as an array index, `arr[np.array(seq)]`, which will result either in an error or a different result.\n",
            "  active[targets] = 1\n"
          ],
          "name": "stderr"
        },
        {
          "output_type": "stream",
          "text": [
            "Calling FFC just-in-time (JIT) compiler, this may take some time.\n"
          ],
          "name": "stdout"
        },
        {
          "output_type": "stream",
          "text": [
            "/usr/lib/python3/dist-packages/ffc/uflacs/analysis/dependencies.py:61: FutureWarning: Using a non-tuple sequence for multidimensional indexing is deprecated; use `arr[tuple(seq)]` instead of `arr[seq]`. In the future this will be interpreted as an array index, `arr[np.array(seq)]`, which will result either in an error or a different result.\n",
            "  active[targets] = 1\n"
          ],
          "name": "stderr"
        },
        {
          "output_type": "stream",
          "text": [
            "t: 800.000000  T: 20000.0 dt:400.0 gnorm: 3.872983e-05 Completed 3.92%\n",
            "Calling FFC just-in-time (JIT) compiler, this may take some time.\n"
          ],
          "name": "stdout"
        },
        {
          "output_type": "stream",
          "text": [
            "/usr/lib/python3/dist-packages/ffc/uflacs/analysis/dependencies.py:61: FutureWarning: Using a non-tuple sequence for multidimensional indexing is deprecated; use `arr[tuple(seq)]` instead of `arr[seq]`. In the future this will be interpreted as an array index, `arr[np.array(seq)]`, which will result either in an error or a different result.\n",
            "  active[targets] = 1\n"
          ],
          "name": "stderr"
        },
        {
          "output_type": "stream",
          "text": [
            "Calling FFC just-in-time (JIT) compiler, this may take some time.\n"
          ],
          "name": "stdout"
        },
        {
          "output_type": "stream",
          "text": [
            "/usr/lib/python3/dist-packages/ffc/uflacs/analysis/dependencies.py:61: FutureWarning: Using a non-tuple sequence for multidimensional indexing is deprecated; use `arr[tuple(seq)]` instead of `arr[seq]`. In the future this will be interpreted as an array index, `arr[np.array(seq)]`, which will result either in an error or a different result.\n",
            "  active[targets] = 1\n"
          ],
          "name": "stderr"
        },
        {
          "output_type": "stream",
          "text": [
            "Calling FFC just-in-time (JIT) compiler, this may take some time.\n"
          ],
          "name": "stdout"
        },
        {
          "output_type": "stream",
          "text": [
            "/usr/lib/python3/dist-packages/ffc/uflacs/analysis/dependencies.py:61: FutureWarning: Using a non-tuple sequence for multidimensional indexing is deprecated; use `arr[tuple(seq)]` instead of `arr[seq]`. In the future this will be interpreted as an array index, `arr[np.array(seq)]`, which will result either in an error or a different result.\n",
            "  active[targets] = 1\n"
          ],
          "name": "stderr"
        }
      ]
    }
  ]
}